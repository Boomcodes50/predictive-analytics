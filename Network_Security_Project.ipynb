{
  "cells": [
    {
      "cell_type": "markdown",
      "metadata": {
        "id": "view-in-github",
        "colab_type": "text"
      },
      "source": [
        "<a href=\"https://colab.research.google.com/github/Emekus50/predictive-analytics/blob/main/Network_Security_Project.ipynb\" target=\"_parent\"><img src=\"https://colab.research.google.com/assets/colab-badge.svg\" alt=\"Open In Colab\"/></a>"
      ]
    },
    {
      "cell_type": "code",
      "source": [
        "import pandas as pd\n",
        "import numpy as np"
      ],
      "metadata": {
        "id": "lfhpHKRQMfpM"
      },
      "execution_count": 143,
      "outputs": []
    },
    {
      "cell_type": "code",
      "source": [
        "data = pd.read_csv('merged_dataset.csv')"
      ],
      "metadata": {
        "colab": {
          "base_uri": "https://localhost:8080/"
        },
        "id": "ftR4-kNeMfmZ",
        "outputId": "b65362d6-25c5-406d-bbe0-94675035c647"
      },
      "execution_count": 144,
      "outputs": [
        {
          "output_type": "stream",
          "name": "stderr",
          "text": [
            "<ipython-input-144-53a78f1fa5b1>:1: DtypeWarning: Columns (1) have mixed types. Specify dtype option on import or set low_memory=False.\n",
            "  data = pd.read_csv('merged_dataset.csv')\n"
          ]
        }
      ]
    },
    {
      "cell_type": "code",
      "source": [
        "data"
      ],
      "metadata": {
        "colab": {
          "base_uri": "https://localhost:8080/",
          "height": 461
        },
        "id": "9h4tWFEzMmNp",
        "outputId": "45d25c8c-d0c6-4ec0-8cfe-ee61a2dc06e5"
      },
      "execution_count": 145,
      "outputs": [
        {
          "output_type": "execute_result",
          "data": {
            "text/plain": [
              "            srcip  sport          dstip dsport proto state       dur  sbytes  \\\n",
              "0      59.166.0.0   1390  149.171.126.6     53   udp   CON  0.001055     132   \n",
              "1      59.166.0.0  33661  149.171.126.9   1024   udp   CON  0.036133     528   \n",
              "2      59.166.0.6   1464  149.171.126.7     53   udp   CON  0.001119     146   \n",
              "3      59.166.0.5   3593  149.171.126.5     53   udp   CON  0.001209     132   \n",
              "4      59.166.0.3  49664  149.171.126.0     53   udp   CON  0.001169     146   \n",
              "...           ...    ...            ...    ...   ...   ...       ...     ...   \n",
              "54445  59.166.0.2  16593  149.171.126.4     53   udp   CON  0.001032     146   \n",
              "54446  59.166.0.7   3625  149.171.126.4     53   udp   CON  0.001409     132   \n",
              "54447  59.166.0.9  63636  149.171.126.9  44667   tcp   FIN  0.035885    3598   \n",
              "54448  59.166.0.2  37274  149.171.126.2   5190   tcp   FIN  0.008049    2158   \n",
              "54449  59.166.0.7   5301  149.171.126.2   1363   tcp   FIN  0.037056    3182   \n",
              "\n",
              "       dbytes  sttl  ...  ct_ftp_cmd  ct_srv_src  ct_srv_dst ct_dst_ltm  \\\n",
              "0         164    31  ...         0.0         3.0         7.0        1.0   \n",
              "1         304    31  ...         0.0         2.0         4.0        2.0   \n",
              "2         178    31  ...         0.0        12.0         8.0        1.0   \n",
              "3         164    31  ...         0.0         6.0         9.0        1.0   \n",
              "4         178    31  ...         0.0         7.0         9.0        1.0   \n",
              "...       ...   ...  ...         ...         ...         ...        ...   \n",
              "54445     178    31  ...         0.0         2.0         3.0        4.0   \n",
              "54446     164    31  ...         0.0         3.0         3.0        4.0   \n",
              "54447   48710    31  ...         0.0        10.0         3.0        2.0   \n",
              "54448    2478    31  ...         0.0         6.0        12.0        4.0   \n",
              "54449   39076    31  ...         NaN         NaN         NaN        NaN   \n",
              "\n",
              "       ct_src_ ltm  ct_src_dport_ltm  ct_dst_sport_ltm  ct_dst_src_ltm  \\\n",
              "0              3.0               1.0               1.0             1.0   \n",
              "1              3.0               1.0               1.0             2.0   \n",
              "2              2.0               2.0               1.0             1.0   \n",
              "3              1.0               1.0               1.0             1.0   \n",
              "4              1.0               1.0               1.0             1.0   \n",
              "...            ...               ...               ...             ...   \n",
              "54445          3.0               1.0               1.0             1.0   \n",
              "54446          8.0               1.0               1.0             1.0   \n",
              "54447          3.0               1.0               1.0             1.0   \n",
              "54448          3.0               1.0               1.0             1.0   \n",
              "54449          NaN               NaN               NaN             NaN   \n",
              "\n",
              "       attack_cat  Label  \n",
              "0             NaN    0.0  \n",
              "1             NaN    0.0  \n",
              "2             NaN    0.0  \n",
              "3             NaN    0.0  \n",
              "4             NaN    0.0  \n",
              "...           ...    ...  \n",
              "54445         NaN    0.0  \n",
              "54446         NaN    0.0  \n",
              "54447         NaN    0.0  \n",
              "54448         NaN    0.0  \n",
              "54449         NaN    NaN  \n",
              "\n",
              "[54450 rows x 49 columns]"
            ],
            "text/html": [
              "\n",
              "  <div id=\"df-937c5042-390c-4155-ae12-65f44f517e16\" class=\"colab-df-container\">\n",
              "    <div>\n",
              "<style scoped>\n",
              "    .dataframe tbody tr th:only-of-type {\n",
              "        vertical-align: middle;\n",
              "    }\n",
              "\n",
              "    .dataframe tbody tr th {\n",
              "        vertical-align: top;\n",
              "    }\n",
              "\n",
              "    .dataframe thead th {\n",
              "        text-align: right;\n",
              "    }\n",
              "</style>\n",
              "<table border=\"1\" class=\"dataframe\">\n",
              "  <thead>\n",
              "    <tr style=\"text-align: right;\">\n",
              "      <th></th>\n",
              "      <th>srcip</th>\n",
              "      <th>sport</th>\n",
              "      <th>dstip</th>\n",
              "      <th>dsport</th>\n",
              "      <th>proto</th>\n",
              "      <th>state</th>\n",
              "      <th>dur</th>\n",
              "      <th>sbytes</th>\n",
              "      <th>dbytes</th>\n",
              "      <th>sttl</th>\n",
              "      <th>...</th>\n",
              "      <th>ct_ftp_cmd</th>\n",
              "      <th>ct_srv_src</th>\n",
              "      <th>ct_srv_dst</th>\n",
              "      <th>ct_dst_ltm</th>\n",
              "      <th>ct_src_ ltm</th>\n",
              "      <th>ct_src_dport_ltm</th>\n",
              "      <th>ct_dst_sport_ltm</th>\n",
              "      <th>ct_dst_src_ltm</th>\n",
              "      <th>attack_cat</th>\n",
              "      <th>Label</th>\n",
              "    </tr>\n",
              "  </thead>\n",
              "  <tbody>\n",
              "    <tr>\n",
              "      <th>0</th>\n",
              "      <td>59.166.0.0</td>\n",
              "      <td>1390</td>\n",
              "      <td>149.171.126.6</td>\n",
              "      <td>53</td>\n",
              "      <td>udp</td>\n",
              "      <td>CON</td>\n",
              "      <td>0.001055</td>\n",
              "      <td>132</td>\n",
              "      <td>164</td>\n",
              "      <td>31</td>\n",
              "      <td>...</td>\n",
              "      <td>0.0</td>\n",
              "      <td>3.0</td>\n",
              "      <td>7.0</td>\n",
              "      <td>1.0</td>\n",
              "      <td>3.0</td>\n",
              "      <td>1.0</td>\n",
              "      <td>1.0</td>\n",
              "      <td>1.0</td>\n",
              "      <td>NaN</td>\n",
              "      <td>0.0</td>\n",
              "    </tr>\n",
              "    <tr>\n",
              "      <th>1</th>\n",
              "      <td>59.166.0.0</td>\n",
              "      <td>33661</td>\n",
              "      <td>149.171.126.9</td>\n",
              "      <td>1024</td>\n",
              "      <td>udp</td>\n",
              "      <td>CON</td>\n",
              "      <td>0.036133</td>\n",
              "      <td>528</td>\n",
              "      <td>304</td>\n",
              "      <td>31</td>\n",
              "      <td>...</td>\n",
              "      <td>0.0</td>\n",
              "      <td>2.0</td>\n",
              "      <td>4.0</td>\n",
              "      <td>2.0</td>\n",
              "      <td>3.0</td>\n",
              "      <td>1.0</td>\n",
              "      <td>1.0</td>\n",
              "      <td>2.0</td>\n",
              "      <td>NaN</td>\n",
              "      <td>0.0</td>\n",
              "    </tr>\n",
              "    <tr>\n",
              "      <th>2</th>\n",
              "      <td>59.166.0.6</td>\n",
              "      <td>1464</td>\n",
              "      <td>149.171.126.7</td>\n",
              "      <td>53</td>\n",
              "      <td>udp</td>\n",
              "      <td>CON</td>\n",
              "      <td>0.001119</td>\n",
              "      <td>146</td>\n",
              "      <td>178</td>\n",
              "      <td>31</td>\n",
              "      <td>...</td>\n",
              "      <td>0.0</td>\n",
              "      <td>12.0</td>\n",
              "      <td>8.0</td>\n",
              "      <td>1.0</td>\n",
              "      <td>2.0</td>\n",
              "      <td>2.0</td>\n",
              "      <td>1.0</td>\n",
              "      <td>1.0</td>\n",
              "      <td>NaN</td>\n",
              "      <td>0.0</td>\n",
              "    </tr>\n",
              "    <tr>\n",
              "      <th>3</th>\n",
              "      <td>59.166.0.5</td>\n",
              "      <td>3593</td>\n",
              "      <td>149.171.126.5</td>\n",
              "      <td>53</td>\n",
              "      <td>udp</td>\n",
              "      <td>CON</td>\n",
              "      <td>0.001209</td>\n",
              "      <td>132</td>\n",
              "      <td>164</td>\n",
              "      <td>31</td>\n",
              "      <td>...</td>\n",
              "      <td>0.0</td>\n",
              "      <td>6.0</td>\n",
              "      <td>9.0</td>\n",
              "      <td>1.0</td>\n",
              "      <td>1.0</td>\n",
              "      <td>1.0</td>\n",
              "      <td>1.0</td>\n",
              "      <td>1.0</td>\n",
              "      <td>NaN</td>\n",
              "      <td>0.0</td>\n",
              "    </tr>\n",
              "    <tr>\n",
              "      <th>4</th>\n",
              "      <td>59.166.0.3</td>\n",
              "      <td>49664</td>\n",
              "      <td>149.171.126.0</td>\n",
              "      <td>53</td>\n",
              "      <td>udp</td>\n",
              "      <td>CON</td>\n",
              "      <td>0.001169</td>\n",
              "      <td>146</td>\n",
              "      <td>178</td>\n",
              "      <td>31</td>\n",
              "      <td>...</td>\n",
              "      <td>0.0</td>\n",
              "      <td>7.0</td>\n",
              "      <td>9.0</td>\n",
              "      <td>1.0</td>\n",
              "      <td>1.0</td>\n",
              "      <td>1.0</td>\n",
              "      <td>1.0</td>\n",
              "      <td>1.0</td>\n",
              "      <td>NaN</td>\n",
              "      <td>0.0</td>\n",
              "    </tr>\n",
              "    <tr>\n",
              "      <th>...</th>\n",
              "      <td>...</td>\n",
              "      <td>...</td>\n",
              "      <td>...</td>\n",
              "      <td>...</td>\n",
              "      <td>...</td>\n",
              "      <td>...</td>\n",
              "      <td>...</td>\n",
              "      <td>...</td>\n",
              "      <td>...</td>\n",
              "      <td>...</td>\n",
              "      <td>...</td>\n",
              "      <td>...</td>\n",
              "      <td>...</td>\n",
              "      <td>...</td>\n",
              "      <td>...</td>\n",
              "      <td>...</td>\n",
              "      <td>...</td>\n",
              "      <td>...</td>\n",
              "      <td>...</td>\n",
              "      <td>...</td>\n",
              "      <td>...</td>\n",
              "    </tr>\n",
              "    <tr>\n",
              "      <th>54445</th>\n",
              "      <td>59.166.0.2</td>\n",
              "      <td>16593</td>\n",
              "      <td>149.171.126.4</td>\n",
              "      <td>53</td>\n",
              "      <td>udp</td>\n",
              "      <td>CON</td>\n",
              "      <td>0.001032</td>\n",
              "      <td>146</td>\n",
              "      <td>178</td>\n",
              "      <td>31</td>\n",
              "      <td>...</td>\n",
              "      <td>0.0</td>\n",
              "      <td>2.0</td>\n",
              "      <td>3.0</td>\n",
              "      <td>4.0</td>\n",
              "      <td>3.0</td>\n",
              "      <td>1.0</td>\n",
              "      <td>1.0</td>\n",
              "      <td>1.0</td>\n",
              "      <td>NaN</td>\n",
              "      <td>0.0</td>\n",
              "    </tr>\n",
              "    <tr>\n",
              "      <th>54446</th>\n",
              "      <td>59.166.0.7</td>\n",
              "      <td>3625</td>\n",
              "      <td>149.171.126.4</td>\n",
              "      <td>53</td>\n",
              "      <td>udp</td>\n",
              "      <td>CON</td>\n",
              "      <td>0.001409</td>\n",
              "      <td>132</td>\n",
              "      <td>164</td>\n",
              "      <td>31</td>\n",
              "      <td>...</td>\n",
              "      <td>0.0</td>\n",
              "      <td>3.0</td>\n",
              "      <td>3.0</td>\n",
              "      <td>4.0</td>\n",
              "      <td>8.0</td>\n",
              "      <td>1.0</td>\n",
              "      <td>1.0</td>\n",
              "      <td>1.0</td>\n",
              "      <td>NaN</td>\n",
              "      <td>0.0</td>\n",
              "    </tr>\n",
              "    <tr>\n",
              "      <th>54447</th>\n",
              "      <td>59.166.0.9</td>\n",
              "      <td>63636</td>\n",
              "      <td>149.171.126.9</td>\n",
              "      <td>44667</td>\n",
              "      <td>tcp</td>\n",
              "      <td>FIN</td>\n",
              "      <td>0.035885</td>\n",
              "      <td>3598</td>\n",
              "      <td>48710</td>\n",
              "      <td>31</td>\n",
              "      <td>...</td>\n",
              "      <td>0.0</td>\n",
              "      <td>10.0</td>\n",
              "      <td>3.0</td>\n",
              "      <td>2.0</td>\n",
              "      <td>3.0</td>\n",
              "      <td>1.0</td>\n",
              "      <td>1.0</td>\n",
              "      <td>1.0</td>\n",
              "      <td>NaN</td>\n",
              "      <td>0.0</td>\n",
              "    </tr>\n",
              "    <tr>\n",
              "      <th>54448</th>\n",
              "      <td>59.166.0.2</td>\n",
              "      <td>37274</td>\n",
              "      <td>149.171.126.2</td>\n",
              "      <td>5190</td>\n",
              "      <td>tcp</td>\n",
              "      <td>FIN</td>\n",
              "      <td>0.008049</td>\n",
              "      <td>2158</td>\n",
              "      <td>2478</td>\n",
              "      <td>31</td>\n",
              "      <td>...</td>\n",
              "      <td>0.0</td>\n",
              "      <td>6.0</td>\n",
              "      <td>12.0</td>\n",
              "      <td>4.0</td>\n",
              "      <td>3.0</td>\n",
              "      <td>1.0</td>\n",
              "      <td>1.0</td>\n",
              "      <td>1.0</td>\n",
              "      <td>NaN</td>\n",
              "      <td>0.0</td>\n",
              "    </tr>\n",
              "    <tr>\n",
              "      <th>54449</th>\n",
              "      <td>59.166.0.7</td>\n",
              "      <td>5301</td>\n",
              "      <td>149.171.126.2</td>\n",
              "      <td>1363</td>\n",
              "      <td>tcp</td>\n",
              "      <td>FIN</td>\n",
              "      <td>0.037056</td>\n",
              "      <td>3182</td>\n",
              "      <td>39076</td>\n",
              "      <td>31</td>\n",
              "      <td>...</td>\n",
              "      <td>NaN</td>\n",
              "      <td>NaN</td>\n",
              "      <td>NaN</td>\n",
              "      <td>NaN</td>\n",
              "      <td>NaN</td>\n",
              "      <td>NaN</td>\n",
              "      <td>NaN</td>\n",
              "      <td>NaN</td>\n",
              "      <td>NaN</td>\n",
              "      <td>NaN</td>\n",
              "    </tr>\n",
              "  </tbody>\n",
              "</table>\n",
              "<p>54450 rows × 49 columns</p>\n",
              "</div>\n",
              "    <div class=\"colab-df-buttons\">\n",
              "\n",
              "  <div class=\"colab-df-container\">\n",
              "    <button class=\"colab-df-convert\" onclick=\"convertToInteractive('df-937c5042-390c-4155-ae12-65f44f517e16')\"\n",
              "            title=\"Convert this dataframe to an interactive table.\"\n",
              "            style=\"display:none;\">\n",
              "\n",
              "  <svg xmlns=\"http://www.w3.org/2000/svg\" height=\"24px\" viewBox=\"0 -960 960 960\">\n",
              "    <path d=\"M120-120v-720h720v720H120Zm60-500h600v-160H180v160Zm220 220h160v-160H400v160Zm0 220h160v-160H400v160ZM180-400h160v-160H180v160Zm440 0h160v-160H620v160ZM180-180h160v-160H180v160Zm440 0h160v-160H620v160Z\"/>\n",
              "  </svg>\n",
              "    </button>\n",
              "\n",
              "  <style>\n",
              "    .colab-df-container {\n",
              "      display:flex;\n",
              "      gap: 12px;\n",
              "    }\n",
              "\n",
              "    .colab-df-convert {\n",
              "      background-color: #E8F0FE;\n",
              "      border: none;\n",
              "      border-radius: 50%;\n",
              "      cursor: pointer;\n",
              "      display: none;\n",
              "      fill: #1967D2;\n",
              "      height: 32px;\n",
              "      padding: 0 0 0 0;\n",
              "      width: 32px;\n",
              "    }\n",
              "\n",
              "    .colab-df-convert:hover {\n",
              "      background-color: #E2EBFA;\n",
              "      box-shadow: 0px 1px 2px rgba(60, 64, 67, 0.3), 0px 1px 3px 1px rgba(60, 64, 67, 0.15);\n",
              "      fill: #174EA6;\n",
              "    }\n",
              "\n",
              "    .colab-df-buttons div {\n",
              "      margin-bottom: 4px;\n",
              "    }\n",
              "\n",
              "    [theme=dark] .colab-df-convert {\n",
              "      background-color: #3B4455;\n",
              "      fill: #D2E3FC;\n",
              "    }\n",
              "\n",
              "    [theme=dark] .colab-df-convert:hover {\n",
              "      background-color: #434B5C;\n",
              "      box-shadow: 0px 1px 3px 1px rgba(0, 0, 0, 0.15);\n",
              "      filter: drop-shadow(0px 1px 2px rgba(0, 0, 0, 0.3));\n",
              "      fill: #FFFFFF;\n",
              "    }\n",
              "  </style>\n",
              "\n",
              "    <script>\n",
              "      const buttonEl =\n",
              "        document.querySelector('#df-937c5042-390c-4155-ae12-65f44f517e16 button.colab-df-convert');\n",
              "      buttonEl.style.display =\n",
              "        google.colab.kernel.accessAllowed ? 'block' : 'none';\n",
              "\n",
              "      async function convertToInteractive(key) {\n",
              "        const element = document.querySelector('#df-937c5042-390c-4155-ae12-65f44f517e16');\n",
              "        const dataTable =\n",
              "          await google.colab.kernel.invokeFunction('convertToInteractive',\n",
              "                                                    [key], {});\n",
              "        if (!dataTable) return;\n",
              "\n",
              "        const docLinkHtml = 'Like what you see? Visit the ' +\n",
              "          '<a target=\"_blank\" href=https://colab.research.google.com/notebooks/data_table.ipynb>data table notebook</a>'\n",
              "          + ' to learn more about interactive tables.';\n",
              "        element.innerHTML = '';\n",
              "        dataTable['output_type'] = 'display_data';\n",
              "        await google.colab.output.renderOutput(dataTable, element);\n",
              "        const docLink = document.createElement('div');\n",
              "        docLink.innerHTML = docLinkHtml;\n",
              "        element.appendChild(docLink);\n",
              "      }\n",
              "    </script>\n",
              "  </div>\n",
              "\n",
              "\n",
              "<div id=\"df-5da66d6c-67e6-4382-b59a-1bef8ec9c78d\">\n",
              "  <button class=\"colab-df-quickchart\" onclick=\"quickchart('df-5da66d6c-67e6-4382-b59a-1bef8ec9c78d')\"\n",
              "            title=\"Suggest charts\"\n",
              "            style=\"display:none;\">\n",
              "\n",
              "<svg xmlns=\"http://www.w3.org/2000/svg\" height=\"24px\"viewBox=\"0 0 24 24\"\n",
              "     width=\"24px\">\n",
              "    <g>\n",
              "        <path d=\"M19 3H5c-1.1 0-2 .9-2 2v14c0 1.1.9 2 2 2h14c1.1 0 2-.9 2-2V5c0-1.1-.9-2-2-2zM9 17H7v-7h2v7zm4 0h-2V7h2v10zm4 0h-2v-4h2v4z\"/>\n",
              "    </g>\n",
              "</svg>\n",
              "  </button>\n",
              "\n",
              "<style>\n",
              "  .colab-df-quickchart {\n",
              "      --bg-color: #E8F0FE;\n",
              "      --fill-color: #1967D2;\n",
              "      --hover-bg-color: #E2EBFA;\n",
              "      --hover-fill-color: #174EA6;\n",
              "      --disabled-fill-color: #AAA;\n",
              "      --disabled-bg-color: #DDD;\n",
              "  }\n",
              "\n",
              "  [theme=dark] .colab-df-quickchart {\n",
              "      --bg-color: #3B4455;\n",
              "      --fill-color: #D2E3FC;\n",
              "      --hover-bg-color: #434B5C;\n",
              "      --hover-fill-color: #FFFFFF;\n",
              "      --disabled-bg-color: #3B4455;\n",
              "      --disabled-fill-color: #666;\n",
              "  }\n",
              "\n",
              "  .colab-df-quickchart {\n",
              "    background-color: var(--bg-color);\n",
              "    border: none;\n",
              "    border-radius: 50%;\n",
              "    cursor: pointer;\n",
              "    display: none;\n",
              "    fill: var(--fill-color);\n",
              "    height: 32px;\n",
              "    padding: 0;\n",
              "    width: 32px;\n",
              "  }\n",
              "\n",
              "  .colab-df-quickchart:hover {\n",
              "    background-color: var(--hover-bg-color);\n",
              "    box-shadow: 0 1px 2px rgba(60, 64, 67, 0.3), 0 1px 3px 1px rgba(60, 64, 67, 0.15);\n",
              "    fill: var(--button-hover-fill-color);\n",
              "  }\n",
              "\n",
              "  .colab-df-quickchart-complete:disabled,\n",
              "  .colab-df-quickchart-complete:disabled:hover {\n",
              "    background-color: var(--disabled-bg-color);\n",
              "    fill: var(--disabled-fill-color);\n",
              "    box-shadow: none;\n",
              "  }\n",
              "\n",
              "  .colab-df-spinner {\n",
              "    border: 2px solid var(--fill-color);\n",
              "    border-color: transparent;\n",
              "    border-bottom-color: var(--fill-color);\n",
              "    animation:\n",
              "      spin 1s steps(1) infinite;\n",
              "  }\n",
              "\n",
              "  @keyframes spin {\n",
              "    0% {\n",
              "      border-color: transparent;\n",
              "      border-bottom-color: var(--fill-color);\n",
              "      border-left-color: var(--fill-color);\n",
              "    }\n",
              "    20% {\n",
              "      border-color: transparent;\n",
              "      border-left-color: var(--fill-color);\n",
              "      border-top-color: var(--fill-color);\n",
              "    }\n",
              "    30% {\n",
              "      border-color: transparent;\n",
              "      border-left-color: var(--fill-color);\n",
              "      border-top-color: var(--fill-color);\n",
              "      border-right-color: var(--fill-color);\n",
              "    }\n",
              "    40% {\n",
              "      border-color: transparent;\n",
              "      border-right-color: var(--fill-color);\n",
              "      border-top-color: var(--fill-color);\n",
              "    }\n",
              "    60% {\n",
              "      border-color: transparent;\n",
              "      border-right-color: var(--fill-color);\n",
              "    }\n",
              "    80% {\n",
              "      border-color: transparent;\n",
              "      border-right-color: var(--fill-color);\n",
              "      border-bottom-color: var(--fill-color);\n",
              "    }\n",
              "    90% {\n",
              "      border-color: transparent;\n",
              "      border-bottom-color: var(--fill-color);\n",
              "    }\n",
              "  }\n",
              "</style>\n",
              "\n",
              "  <script>\n",
              "    async function quickchart(key) {\n",
              "      const quickchartButtonEl =\n",
              "        document.querySelector('#' + key + ' button');\n",
              "      quickchartButtonEl.disabled = true;  // To prevent multiple clicks.\n",
              "      quickchartButtonEl.classList.add('colab-df-spinner');\n",
              "      try {\n",
              "        const charts = await google.colab.kernel.invokeFunction(\n",
              "            'suggestCharts', [key], {});\n",
              "      } catch (error) {\n",
              "        console.error('Error during call to suggestCharts:', error);\n",
              "      }\n",
              "      quickchartButtonEl.classList.remove('colab-df-spinner');\n",
              "      quickchartButtonEl.classList.add('colab-df-quickchart-complete');\n",
              "    }\n",
              "    (() => {\n",
              "      let quickchartButtonEl =\n",
              "        document.querySelector('#df-5da66d6c-67e6-4382-b59a-1bef8ec9c78d button');\n",
              "      quickchartButtonEl.style.display =\n",
              "        google.colab.kernel.accessAllowed ? 'block' : 'none';\n",
              "    })();\n",
              "  </script>\n",
              "</div>\n",
              "    </div>\n",
              "  </div>\n"
            ],
            "application/vnd.google.colaboratory.intrinsic+json": {
              "type": "dataframe",
              "variable_name": "data"
            }
          },
          "metadata": {},
          "execution_count": 145
        }
      ]
    },
    {
      "cell_type": "code",
      "source": [
        "data.info()"
      ],
      "metadata": {
        "colab": {
          "base_uri": "https://localhost:8080/"
        },
        "id": "Li-2_wkGM2mv",
        "outputId": "e38f8226-3130-460b-9b7f-f97335a22ffa"
      },
      "execution_count": 146,
      "outputs": [
        {
          "output_type": "stream",
          "name": "stdout",
          "text": [
            "<class 'pandas.core.frame.DataFrame'>\n",
            "RangeIndex: 54450 entries, 0 to 54449\n",
            "Data columns (total 49 columns):\n",
            " #   Column            Non-Null Count  Dtype  \n",
            "---  ------            --------------  -----  \n",
            " 0   srcip             54450 non-null  object \n",
            " 1   sport             54450 non-null  object \n",
            " 2   dstip             54450 non-null  object \n",
            " 3   dsport            54450 non-null  object \n",
            " 4   proto             54450 non-null  object \n",
            " 5   state             54450 non-null  object \n",
            " 6   dur               54450 non-null  float64\n",
            " 7   sbytes            54450 non-null  int64  \n",
            " 8   dbytes            54450 non-null  int64  \n",
            " 9   sttl              54450 non-null  int64  \n",
            " 10  dttl              54450 non-null  int64  \n",
            " 11  sloss             54450 non-null  int64  \n",
            " 12  dloss             54450 non-null  int64  \n",
            " 13  service           54450 non-null  object \n",
            " 14  Sload             54450 non-null  float64\n",
            " 15  Dload             54450 non-null  float64\n",
            " 16  Spkts             54450 non-null  int64  \n",
            " 17  Dpkts             54450 non-null  int64  \n",
            " 18  swin              54449 non-null  float64\n",
            " 19  dwin              54449 non-null  float64\n",
            " 20  stcpb             54449 non-null  float64\n",
            " 21  dtcpb             54449 non-null  float64\n",
            " 22  smeansz           54449 non-null  float64\n",
            " 23  dmeansz           54449 non-null  float64\n",
            " 24  trans_depth       54449 non-null  float64\n",
            " 25  res_bdy_len       54449 non-null  float64\n",
            " 26  Sjit              54449 non-null  float64\n",
            " 27  Djit              54449 non-null  float64\n",
            " 28  Stime             54449 non-null  float64\n",
            " 29  Ltime             54449 non-null  float64\n",
            " 30  Sintpkt           54449 non-null  float64\n",
            " 31  Dintpkt           54449 non-null  float64\n",
            " 32  tcprtt            54449 non-null  float64\n",
            " 33  synack            54449 non-null  float64\n",
            " 34  ackdat            54449 non-null  float64\n",
            " 35  is_sm_ips_ports   54449 non-null  float64\n",
            " 36  ct_state_ttl      54449 non-null  float64\n",
            " 37  ct_flw_http_mthd  54449 non-null  float64\n",
            " 38  is_ftp_login      54449 non-null  float64\n",
            " 39  ct_ftp_cmd        54449 non-null  float64\n",
            " 40  ct_srv_src        54449 non-null  float64\n",
            " 41  ct_srv_dst        54449 non-null  float64\n",
            " 42  ct_dst_ltm        54449 non-null  float64\n",
            " 43  ct_src_ ltm       54449 non-null  float64\n",
            " 44  ct_src_dport_ltm  54449 non-null  float64\n",
            " 45  ct_dst_sport_ltm  54449 non-null  float64\n",
            " 46  ct_dst_src_ltm    54449 non-null  float64\n",
            " 47  attack_cat        4072 non-null   object \n",
            " 48  Label             54449 non-null  float64\n",
            "dtypes: float64(33), int64(8), object(8)\n",
            "memory usage: 20.4+ MB\n"
          ]
        }
      ]
    },
    {
      "cell_type": "code",
      "source": [
        "import pandas as pd\n",
        "\n",
        "# Assuming 'data' is your DataFrame\n",
        "# Create an empty list to store columns with alphanumeric or special characters\n",
        "columns_with_strings = []\n",
        "\n",
        "# Iterate over each column\n",
        "for column in data.columns:\n",
        "    # Check if any element in the column contains alphanumeric or special characters\n",
        "    if data[column].apply(lambda x: isinstance(x, str) and any(char.isalnum() or not char.isspace() for char in x)).any():\n",
        "        columns_with_strings.append(column)\n",
        "\n",
        "# Print columns with alphanumeric or special characters\n",
        "print(\"Columns with alphanumeric or special characters:\")\n",
        "for column in columns_with_strings:\n",
        "    print(column)\n"
      ],
      "metadata": {
        "colab": {
          "base_uri": "https://localhost:8080/"
        },
        "id": "fPPnHlO43U5y",
        "outputId": "3085691b-5134-4ebc-e4dd-c3881b49d95d"
      },
      "execution_count": 147,
      "outputs": [
        {
          "output_type": "stream",
          "name": "stdout",
          "text": [
            "Columns with alphanumeric or special characters:\n",
            "srcip\n",
            "sport\n",
            "dstip\n",
            "dsport\n",
            "proto\n",
            "state\n",
            "service\n",
            "attack_cat\n"
          ]
        }
      ]
    },
    {
      "cell_type": "code",
      "source": [
        "# # To print the Unique values in each of the columns containing strings\n",
        "# # Iterate over each column\n",
        "# for column in ['srcip', 'sport', 'dstip', 'dsport', 'proto', 'state', 'service', 'ct_ftp_cmd', 'attack_cat']:\n",
        "#     # Print the column name\n",
        "#     print(\"Unique values in column '{}':\".format(column))\n",
        "#     # Remove leading and trailing whitespaces and then print the unique values in the column\n",
        "#     print(data[column].str.strip().unique())\n",
        "#     print()  # Add an empty line for better readability\n"
      ],
      "metadata": {
        "id": "gnI4SguD5at5"
      },
      "execution_count": 148,
      "outputs": []
    },
    {
      "cell_type": "code",
      "source": [
        "# Checking for strings in the different columns\n",
        "# non_numeric_dsport = data[~data['srcip'].astype(str).str.isdigit()]['srcip'].unique()\n",
        "# print(non_numeric_dsport)\n"
      ],
      "metadata": {
        "id": "gYbK7dGX79JJ"
      },
      "execution_count": 149,
      "outputs": []
    },
    {
      "cell_type": "code",
      "source": [
        "# Atempting to find empty or whitespace only cells column-by-column\n",
        "# Find unique values in the 'srcip' column that are empty (i.e., contain only whitespace characters)\n",
        "empty_srcip = data[data['dsport'].astype(str).str.strip() == ' ']['dsport'].unique()\n",
        "print(empty_srcip)\n"
      ],
      "metadata": {
        "colab": {
          "base_uri": "https://localhost:8080/"
        },
        "id": "ejvoTxGXB_2V",
        "outputId": "3b022447-d01b-4183-cda6-2dd70cfd1d4b"
      },
      "execution_count": 150,
      "outputs": [
        {
          "output_type": "stream",
          "name": "stdout",
          "text": [
            "[]\n"
          ]
        }
      ]
    },
    {
      "cell_type": "code",
      "source": [
        "# # Serch for columns with an empty cell\n",
        "# # This worked\n",
        "# #Iterate over each cell in the DataFrame\n",
        "# empty_cells = []\n",
        "# for col in data.columns:\n",
        "#     for value in data[col]:\n",
        "#         # Check if the value is a string and contains only whitespace characters\n",
        "#         if isinstance(value, str) and value.strip() == '':\n",
        "#             empty_cells.append((col, value))\n",
        "\n",
        "# # Print the list of empty cells\n",
        "# if empty_cells:\n",
        "#     print(\"Empty cells found:\")\n",
        "#     for cell in empty_cells:\n",
        "#         print(\"Column:\", cell[0], \"- Value:\", cell[1])\n",
        "# else:\n",
        "#     print(\"No empty cells found.\")\n",
        "\n",
        "\n",
        "#     # it found over 2million empties of Column: ct_ftp_cmd - Value.\n",
        "#     # Hence dropped below"
      ],
      "metadata": {
        "id": "vxxPacEVE1JI"
      },
      "execution_count": 151,
      "outputs": []
    },
    {
      "cell_type": "code",
      "source": [
        "data.drop(['ct_ftp_cmd'], axis=1, inplace=True)"
      ],
      "metadata": {
        "id": "gGKovr3_RGe9"
      },
      "execution_count": 152,
      "outputs": []
    },
    {
      "cell_type": "code",
      "source": [
        "# # Count the number of empty cells in the 'ct_ftp_cmd' column\n",
        "# empty_cell_count = sum(data['ct_ftp_cmd'].astype(str).str.strip() == '')\n",
        "\n",
        "# # Print the count of empty cells\n",
        "# print(\"Number of empty cells in the 'ct_ftp_cmd' column:\", empty_cell_count)\n"
      ],
      "metadata": {
        "id": "a3ZRoDxhGvWO"
      },
      "execution_count": 153,
      "outputs": []
    },
    {
      "cell_type": "code",
      "source": [
        "# Checking orreconfirming that there are no other columns with empty spaces\n",
        "\n",
        "# Serch for columns with an empty cell\n",
        "# This worked\n",
        "#Iterate over each cell in the DataFrame\n",
        "empty_cells = []\n",
        "for col in data.columns:\n",
        "    for value in data[col]:\n",
        "        # Check if the value is a string and contains only whitespace characters\n",
        "        if isinstance(value, str) and value.strip() == '':\n",
        "            empty_cells.append((col, value))\n",
        "\n",
        "# Print the list of empty cells\n",
        "if empty_cells:\n",
        "    print(\"Empty cells found:\")\n",
        "    for cell in empty_cells:\n",
        "        print(\"Column:\", cell[0], \"- Value:\", cell[1])\n",
        "else:\n",
        "    print(\"No empty cells found.\")\n",
        "\n",
        "\n",
        "    # Column: ct_ftp_cmd - Value:\n"
      ],
      "metadata": {
        "colab": {
          "base_uri": "https://localhost:8080/"
        },
        "id": "hl9H2fRiPLS3",
        "outputId": "f9ed21d9-3da0-4dbb-bd2a-b6224b914fc3"
      },
      "execution_count": 154,
      "outputs": [
        {
          "output_type": "stream",
          "name": "stdout",
          "text": [
            "No empty cells found.\n"
          ]
        }
      ]
    },
    {
      "cell_type": "code",
      "source": [
        "# Replacing the Empty cells of Attack_cat that match or represent normal traffice as normal\n",
        "data['attack_cat'].fillna('normal', inplace=True)"
      ],
      "metadata": {
        "id": "JOz_VJo6SEyA"
      },
      "execution_count": 155,
      "outputs": []
    },
    {
      "cell_type": "code",
      "source": [
        "# Remove leading and trailing whitespace from the 'attack_cat' column\n",
        "data['attack_cat'] = data['attack_cat'].str.strip()\n",
        "\n"
      ],
      "metadata": {
        "id": "4pv3mUFaBZ8d"
      },
      "execution_count": 156,
      "outputs": []
    },
    {
      "cell_type": "code",
      "source": [
        "data['attack_cat'].value_counts()"
      ],
      "metadata": {
        "colab": {
          "base_uri": "https://localhost:8080/"
        },
        "id": "9YbdKkxDBcaI",
        "outputId": "643ad6bc-71b1-44f5-ddb1-ec1bd0fb60f6"
      },
      "execution_count": 157,
      "outputs": [
        {
          "output_type": "execute_result",
          "data": {
            "text/plain": [
              "attack_cat\n",
              "normal            50378\n",
              "Fuzzers            1571\n",
              "Exploits           1423\n",
              "Reconnaissance      528\n",
              "DoS                 248\n",
              "Generic             205\n",
              "Shellcode            68\n",
              "Backdoors            22\n",
              "Worms                 7\n",
              "Name: count, dtype: int64"
            ]
          },
          "metadata": {},
          "execution_count": 157
        }
      ]
    },
    {
      "cell_type": "code",
      "source": [
        "# Checking for Strings that are not numerical nor non-numerical\n",
        "non_numeric_dsport = data[~data['sport'].astype(str).str.isdigit()]['sport'].unique()\n",
        "print(non_numeric_dsport)\n"
      ],
      "metadata": {
        "colab": {
          "base_uri": "https://localhost:8080/"
        },
        "id": "RWFVDnmu8Fyr",
        "outputId": "9a3e0cd1-dd8c-4711-a237-3c90761aaabd"
      },
      "execution_count": 158,
      "outputs": [
        {
          "output_type": "stream",
          "name": "stdout",
          "text": [
            "['0x000b' '0x000c']\n"
          ]
        }
      ]
    },
    {
      "cell_type": "code",
      "source": [
        "# Checking for Strings that are not numerical nor non-numerical\n",
        "non_numeric_dsport = data[~data['dsport'].astype(str).str.isdigit()]['dsport'].unique()\n",
        "print(non_numeric_dsport)\n"
      ],
      "metadata": {
        "id": "_z8WCn8LNK3f",
        "colab": {
          "base_uri": "https://localhost:8080/"
        },
        "outputId": "84e2b749-8bdd-4261-a42a-d8d28ae7b045"
      },
      "execution_count": 159,
      "outputs": [
        {
          "output_type": "stream",
          "name": "stdout",
          "text": [
            "['0xc0a8' '-']\n"
          ]
        }
      ]
    },
    {
      "cell_type": "code",
      "source": [
        "non_alpha_attack_cat = data[~data['attack_cat'].str.strip().str.isalpha()]['attack_cat'].unique()\n",
        "print(non_alpha_attack_cat)\n"
      ],
      "metadata": {
        "colab": {
          "base_uri": "https://localhost:8080/"
        },
        "id": "n94GpUiE9GLR",
        "outputId": "7fde5520-7a36-46b7-945e-bc8607dfbf88"
      },
      "execution_count": 160,
      "outputs": [
        {
          "output_type": "stream",
          "name": "stdout",
          "text": [
            "[]\n"
          ]
        }
      ]
    },
    {
      "cell_type": "markdown",
      "source": [
        "Replacing the discovered strings with the most frequent unique value of the corresponding feature"
      ],
      "metadata": {
        "id": "JBsNNYswTA0p"
      }
    },
    {
      "cell_type": "code",
      "source": [
        "data['state'].replace('-', 'Fin', inplace=True)"
      ],
      "metadata": {
        "id": "rsp6rLOjgW2D"
      },
      "execution_count": 161,
      "outputs": []
    },
    {
      "cell_type": "code",
      "source": [
        "data['service'].replace('-', 'others', inplace=True)"
      ],
      "metadata": {
        "id": "XTqB6eOCQdXd"
      },
      "execution_count": 162,
      "outputs": []
    },
    {
      "cell_type": "code",
      "source": [
        "data['dsport'].replace('0xc0a8', 53, inplace=True)\n",
        "data['dsport'].replace('0xcc09', 53, inplace=True)\n",
        "data['dsport'].replace('0x20205321', 53, inplace=True)\n",
        "data['dsport'].replace('-', 53, inplace=True)"
      ],
      "metadata": {
        "id": "OeE-VglmQrzA"
      },
      "execution_count": 163,
      "outputs": []
    },
    {
      "cell_type": "code",
      "source": [
        "data['sport'].replace('0x000c', 0, inplace=True)\n",
        "data['sport'].replace('0x20205321', 0, inplace=True)\n",
        "data['sport'].replace('0x000b', 0, inplace=True)\n",
        "data['sport'].replace('-', 0, inplace=True)"
      ],
      "metadata": {
        "id": "tbeinRj_RPL0"
      },
      "execution_count": 164,
      "outputs": []
    },
    {
      "cell_type": "code",
      "source": [
        "data['proto'].replace('-', 'tcp', inplace=True)"
      ],
      "metadata": {
        "id": "y7t-9kTxktNs"
      },
      "execution_count": 165,
      "outputs": []
    },
    {
      "cell_type": "code",
      "source": [
        "data['dstip'].replace('-', '149.171.126.4', inplace=True)"
      ],
      "metadata": {
        "id": "-KM7gbeGqF0d"
      },
      "execution_count": 166,
      "outputs": []
    },
    {
      "cell_type": "code",
      "source": [
        "data['srcip'].replace('-', '59.166.0.2', inplace=True)"
      ],
      "metadata": {
        "id": "1CZhAwoQqJFl"
      },
      "execution_count": 167,
      "outputs": []
    },
    {
      "cell_type": "code",
      "source": [
        "# Replace NaN values with 0 in the 'ct_flw_http_mthd' and 'is_ftp_login' columns\n",
        "data['ct_flw_http_mthd'].fillna(0, inplace=True)\n",
        "data['is_ftp_login'].fillna(0, inplace=True)"
      ],
      "metadata": {
        "id": "9DWfrQ6Kqerd"
      },
      "execution_count": 168,
      "outputs": []
    },
    {
      "cell_type": "code",
      "source": [
        "data['sport']"
      ],
      "metadata": {
        "colab": {
          "base_uri": "https://localhost:8080/"
        },
        "id": "j-ez7HGgSy_W",
        "outputId": "40427473-877d-4bec-fa07-40174a730168"
      },
      "execution_count": 169,
      "outputs": [
        {
          "output_type": "execute_result",
          "data": {
            "text/plain": [
              "0         1390\n",
              "1        33661\n",
              "2         1464\n",
              "3         3593\n",
              "4        49664\n",
              "         ...  \n",
              "54445    16593\n",
              "54446     3625\n",
              "54447    63636\n",
              "54448    37274\n",
              "54449     5301\n",
              "Name: sport, Length: 54450, dtype: object"
            ]
          },
          "metadata": {},
          "execution_count": 169
        }
      ]
    },
    {
      "cell_type": "code",
      "source": [
        "# Confirm that (-) has been replaced\n",
        "has_hyphen = '-' in data['sport'].values\n",
        "print(\"Does the 'sport' column contain a hyphen (-) character?\", has_hyphen)\n"
      ],
      "metadata": {
        "colab": {
          "base_uri": "https://localhost:8080/"
        },
        "id": "2vaiybRfT58l",
        "outputId": "941d026c-a76b-483e-8981-2a5b8cd06c14"
      },
      "execution_count": 170,
      "outputs": [
        {
          "output_type": "stream",
          "name": "stdout",
          "text": [
            "Does the 'sport' column contain a hyphen (-) character? False\n"
          ]
        }
      ]
    },
    {
      "cell_type": "code",
      "source": [
        "from sklearn.preprocessing import OrdinalEncoder\n",
        "encoder = OrdinalEncoder()\n",
        "\n",
        "# Encode the \"proto\" column\n",
        "data.loc[:, 'proto'] = np.array(encoder.fit_transform(data.loc[:, 'proto'].to_numpy().reshape(-1, 1))) # For Proto\n",
        "data.loc[:, 'state'] = np.array(encoder.fit_transform(data.loc[:, 'state'].to_numpy().reshape(-1, 1))) # For State\n",
        "data.loc[:, 'attack_cat'] = np.array(encoder.fit_transform(data.loc[:, 'attack_cat'].to_numpy().reshape(-1, 1))) # For Attack_Cat\n",
        "data.loc[:, 'service'] = np.array(encoder.fit_transform(data.loc[:, 'service'].to_numpy().reshape(-1, 1))) # For Attack_Cat"
      ],
      "metadata": {
        "id": "9KsgykHQgGh6"
      },
      "execution_count": 171,
      "outputs": []
    },
    {
      "cell_type": "code",
      "source": [
        "data['attack_cat'].value_counts()"
      ],
      "metadata": {
        "colab": {
          "base_uri": "https://localhost:8080/"
        },
        "id": "GvgGjDSQgGfX",
        "outputId": "07425db9-1848-4502-d5b4-3f424e340404"
      },
      "execution_count": 172,
      "outputs": [
        {
          "output_type": "execute_result",
          "data": {
            "text/plain": [
              "attack_cat\n",
              "8.0    50378\n",
              "3.0     1571\n",
              "2.0     1423\n",
              "5.0      528\n",
              "1.0      248\n",
              "4.0      205\n",
              "6.0       68\n",
              "0.0       22\n",
              "7.0        7\n",
              "Name: count, dtype: int64"
            ]
          },
          "metadata": {},
          "execution_count": 172
        }
      ]
    },
    {
      "cell_type": "code",
      "source": [
        "data['service'].value_counts()"
      ],
      "metadata": {
        "colab": {
          "base_uri": "https://localhost:8080/"
        },
        "id": "BxOCjCCklE-O",
        "outputId": "39c3a3b6-a585-4c59-e4c0-2d5c0cf9128d"
      },
      "execution_count": 173,
      "outputs": [
        {
          "output_type": "execute_result",
          "data": {
            "text/plain": [
              "service\n",
              "6.0     30551\n",
              "1.0      9328\n",
              "4.0      5883\n",
              "3.0      3302\n",
              "9.0      2239\n",
              "11.0     1705\n",
              "2.0      1319\n",
              "7.0        91\n",
              "12.0       14\n",
              "10.0        7\n",
              "8.0         5\n",
              "5.0         3\n",
              "0.0         3\n",
              "Name: count, dtype: int64"
            ]
          },
          "metadata": {},
          "execution_count": 173
        }
      ]
    },
    {
      "cell_type": "code",
      "source": [
        "data['proto'].value_counts()"
      ],
      "metadata": {
        "colab": {
          "base_uri": "https://localhost:8080/"
        },
        "id": "Agl89JLAlJSu",
        "outputId": "8fe959a7-69ab-4bd2-8d2b-e22dc20c3515"
      },
      "execution_count": 174,
      "outputs": [
        {
          "output_type": "execute_result",
          "data": {
            "text/plain": [
              "proto\n",
              "11.0    39253\n",
              "12.0    14457\n",
              "0.0       328\n",
              "4.0       216\n",
              "1.0        78\n",
              "7.0        32\n",
              "8.0        20\n",
              "5.0        14\n",
              "9.0        14\n",
              "10.0       14\n",
              "3.0        14\n",
              "2.0         8\n",
              "13.0        1\n",
              "6.0         1\n",
              "Name: count, dtype: int64"
            ]
          },
          "metadata": {},
          "execution_count": 174
        }
      ]
    },
    {
      "cell_type": "code",
      "source": [
        "data['state'].value_counts()"
      ],
      "metadata": {
        "colab": {
          "base_uri": "https://localhost:8080/"
        },
        "id": "eicSah77lMsJ",
        "outputId": "5510a619-cb52-4779-b734-d95343535a57"
      },
      "execution_count": 175,
      "outputs": [
        {
          "output_type": "execute_result",
          "data": {
            "text/plain": [
              "state\n",
              "4.0     38618\n",
              "2.0     14054\n",
              "5.0      1449\n",
              "7.0       177\n",
              "8.0        70\n",
              "10.0       64\n",
              "3.0         6\n",
              "1.0         2\n",
              "9.0         2\n",
              "11.0        2\n",
              "12.0        2\n",
              "0.0         2\n",
              "6.0         2\n",
              "Name: count, dtype: int64"
            ]
          },
          "metadata": {},
          "execution_count": 175
        }
      ]
    },
    {
      "cell_type": "code",
      "source": [
        "# data['sport'] = data['sport'].astype('int64')\n"
      ],
      "metadata": {
        "id": "Vk8svIOlUVcX"
      },
      "execution_count": 176,
      "outputs": []
    },
    {
      "cell_type": "code",
      "source": [
        "# Check if '0x20205321' exists in the 'sport' column\n",
        "is_value_present = '0x20205321' in data['sport'].values\n",
        "\n",
        "# Print the result\n",
        "print(\"Is '0x20205321' present in the 'sport' column:\", is_value_present)\n"
      ],
      "metadata": {
        "colab": {
          "base_uri": "https://localhost:8080/"
        },
        "id": "XEsd2rfKTNIu",
        "outputId": "26457801-665b-4eb5-fca9-fdc47df418fb"
      },
      "execution_count": 177,
      "outputs": [
        {
          "output_type": "stream",
          "name": "stdout",
          "text": [
            "Is '0x20205321' present in the 'sport' column: False\n"
          ]
        }
      ]
    },
    {
      "cell_type": "code",
      "source": [
        "# Check for NaN values in the entire DataFrame\n",
        "has_nan = data.isnull().values.any()\n",
        "\n",
        "# Print whether NaN values are present in the DataFrame\n",
        "print(\"Are there NaN values in the DataFrame:\", has_nan)\n",
        "\n",
        "# Check which columns have NaN values\n",
        "columns_with_nan = data.columns[data.isnull().any()]\n",
        "\n",
        "# Print the columns with NaN values\n",
        "print(\"Columns with NaN values:\", columns_with_nan)\n",
        "\n",
        "# Count NaN values in each column\n",
        "nan_counts = data[columns_with_nan].isnull().sum()\n",
        "\n",
        "# Print the count of NaN values in each column\n",
        "print(\"Count of NaN values in each column:\")\n",
        "print(nan_counts)\n"
      ],
      "metadata": {
        "colab": {
          "base_uri": "https://localhost:8080/"
        },
        "id": "sXPXO2-3Ul8E",
        "outputId": "60a4e650-9223-4d02-9914-67ed1812e215"
      },
      "execution_count": 178,
      "outputs": [
        {
          "output_type": "stream",
          "name": "stdout",
          "text": [
            "Are there NaN values in the DataFrame: True\n",
            "Columns with NaN values: Index(['swin', 'dwin', 'stcpb', 'dtcpb', 'smeansz', 'dmeansz', 'trans_depth',\n",
            "       'res_bdy_len', 'Sjit', 'Djit', 'Stime', 'Ltime', 'Sintpkt', 'Dintpkt',\n",
            "       'tcprtt', 'synack', 'ackdat', 'is_sm_ips_ports', 'ct_state_ttl',\n",
            "       'ct_srv_src', 'ct_srv_dst', 'ct_dst_ltm', 'ct_src_ ltm',\n",
            "       'ct_src_dport_ltm', 'ct_dst_sport_ltm', 'ct_dst_src_ltm', 'Label'],\n",
            "      dtype='object')\n",
            "Count of NaN values in each column:\n",
            "swin                1\n",
            "dwin                1\n",
            "stcpb               1\n",
            "dtcpb               1\n",
            "smeansz             1\n",
            "dmeansz             1\n",
            "trans_depth         1\n",
            "res_bdy_len         1\n",
            "Sjit                1\n",
            "Djit                1\n",
            "Stime               1\n",
            "Ltime               1\n",
            "Sintpkt             1\n",
            "Dintpkt             1\n",
            "tcprtt              1\n",
            "synack              1\n",
            "ackdat              1\n",
            "is_sm_ips_ports     1\n",
            "ct_state_ttl        1\n",
            "ct_srv_src          1\n",
            "ct_srv_dst          1\n",
            "ct_dst_ltm          1\n",
            "ct_src_ ltm         1\n",
            "ct_src_dport_ltm    1\n",
            "ct_dst_sport_ltm    1\n",
            "ct_dst_src_ltm      1\n",
            "Label               1\n",
            "dtype: int64\n"
          ]
        }
      ]
    },
    {
      "cell_type": "code",
      "source": [
        "data['Label'].value_counts()"
      ],
      "metadata": {
        "colab": {
          "base_uri": "https://localhost:8080/"
        },
        "id": "-PZI527uWEvd",
        "outputId": "43b06cc4-9b96-4a3e-ac0d-dfcef99064f1"
      },
      "execution_count": 179,
      "outputs": [
        {
          "output_type": "execute_result",
          "data": {
            "text/plain": [
              "Label\n",
              "0.0    50377\n",
              "1.0     4072\n",
              "Name: count, dtype: int64"
            ]
          },
          "metadata": {},
          "execution_count": 179
        }
      ]
    },
    {
      "cell_type": "code",
      "source": [
        "# # Get the value counts of the \"attack_cat\" column\n",
        "# attack_cat_value_counts = data['service'].value_counts()\n",
        "\n",
        "# # Convert the value counts Series to a DataFrame\n",
        "# attack_cat_value_counts_df = pd.DataFrame(attack_cat_value_counts)\n",
        "\n",
        "# # Reset the index to make the \"attack_cat\" values a column\n",
        "# attack_cat_value_counts_df.reset_index(inplace=True)\n",
        "\n",
        "# # Rename the columns for clarity\n",
        "# attack_cat_value_counts_df.columns = ['service', 'Frequency']\n",
        "\n",
        "# # Save the DataFrame to a CSV file\n",
        "# attack_cat_value_counts_df.to_csv('service_value_counts.csv', index=False)"
      ],
      "metadata": {
        "id": "SN2AE3nVp70Q"
      },
      "execution_count": 180,
      "outputs": []
    },
    {
      "cell_type": "code",
      "source": [
        "import pandas as pd\n",
        "\n",
        "# Assuming 'data' is your DataFrame\n",
        "# Create an empty list to store columns with alphanumeric or special characters\n",
        "columns_with_strings = []\n",
        "\n",
        "# Iterate over each column\n",
        "for column in data.columns:\n",
        "    # Check if any element in the column contains alphanumeric or special characters\n",
        "    if data[column].apply(lambda x: isinstance(x, str) and any(char.isalnum() or not char.isspace() for char in x)).any():\n",
        "        columns_with_strings.append(column)\n",
        "\n",
        "# Print columns with alphanumeric or special characters\n",
        "print(\"Columns with alphanumeric or special characters:\")\n",
        "for column in columns_with_strings:\n",
        "    print(column)\n"
      ],
      "metadata": {
        "colab": {
          "base_uri": "https://localhost:8080/"
        },
        "id": "KgEeYqjp3cJJ",
        "outputId": "9c97b73d-60b9-4999-aee4-e1afeec38ba6"
      },
      "execution_count": 181,
      "outputs": [
        {
          "output_type": "stream",
          "name": "stdout",
          "text": [
            "Columns with alphanumeric or special characters:\n",
            "srcip\n",
            "sport\n",
            "dstip\n",
            "dsport\n"
          ]
        }
      ]
    },
    {
      "cell_type": "code",
      "source": [
        "# # Assuming 'data' is your DataFrame\n",
        "\n",
        "# # Iterate over each column\n",
        "# for column in ['srcip', 'sport', 'dstip', 'dsport', 'proto', 'state', 'service', 'ct_ftp_cmd', 'attack_cat']:\n",
        "#     # Print the column name\n",
        "#     print(\"Unique values in column '{}':\".format(column))\n",
        "#     # Print the unique values in the column\n",
        "#     print(data[column].unique())\n",
        "#     print()  # Add an empty line for better readability\n"
      ],
      "metadata": {
        "id": "Cv6vSKgU4vN7"
      },
      "execution_count": 182,
      "outputs": []
    },
    {
      "cell_type": "code",
      "source": [
        "# Checking for non-IP address values in the dstip\n",
        "import re\n",
        "\n",
        "# Define a regular expression pattern to match IP addresses\n",
        "ip_pattern = r'\\b(?:[0-9]{1,3}\\.){3}[0-9]{1,3}\\b'\n",
        "\n",
        "# Compile the regular expression pattern\n",
        "ip_regex = re.compile(ip_pattern)\n",
        "\n",
        "# Function to check if a string is an IP address\n",
        "def is_ip_address(string):\n",
        "    return bool(ip_regex.match(string))\n",
        "\n",
        "# Filter strings in the 'dstip' column that are not IP addresses\n",
        "non_ip_addresses = [s for s in data['dstip'].unique() if not is_ip_address(s)]\n",
        "\n",
        "# Print the strings that do not match the IP address format\n",
        "print(\"Non-IP addresses:\")\n",
        "print(non_ip_addresses)\n"
      ],
      "metadata": {
        "colab": {
          "base_uri": "https://localhost:8080/"
        },
        "id": "dDTfiLRH5_Yt",
        "outputId": "72fc2477-01fe-4b86-d436-117ce15f4ab6"
      },
      "execution_count": 183,
      "outputs": [
        {
          "output_type": "stream",
          "name": "stdout",
          "text": [
            "Non-IP addresses:\n",
            "[]\n"
          ]
        }
      ]
    },
    {
      "cell_type": "code",
      "source": [
        "# Checking for non-numeric values in the dsport column\n",
        "non_numeric_dsport = data[~data['dsport'].astype(str).str.isdigit()]['dsport'].unique()\n",
        "print(non_numeric_dsport)\n"
      ],
      "metadata": {
        "colab": {
          "base_uri": "https://localhost:8080/"
        },
        "id": "GpqIUd5l7IPI",
        "outputId": "f5c67f40-fdda-4e49-f79d-7d6633992e96"
      },
      "execution_count": 184,
      "outputs": [
        {
          "output_type": "stream",
          "name": "stdout",
          "text": [
            "[]\n"
          ]
        }
      ]
    },
    {
      "cell_type": "code",
      "source": [
        "# Checking for non-numeric values in the sport column\n",
        "non_numeric_sport = data[~data['sport'].astype(str).str.isdigit()]['sport'].unique()\n",
        "print(non_numeric_sport)\n"
      ],
      "metadata": {
        "colab": {
          "base_uri": "https://localhost:8080/"
        },
        "id": "VoHTNrMMkJpS",
        "outputId": "f37f0516-ed8d-40ca-f69c-6d164c712892"
      },
      "execution_count": 185,
      "outputs": [
        {
          "output_type": "stream",
          "name": "stdout",
          "text": [
            "[]\n"
          ]
        }
      ]
    },
    {
      "cell_type": "code",
      "source": [
        "# since they are all numeric, Change the type to integer\n",
        "\n",
        "data['dsport'] = data['dsport'].astype('int64')\n",
        "data ['sport'] = data['sport'].astype('int64')"
      ],
      "metadata": {
        "id": "BQIfjixwVuuu"
      },
      "execution_count": 186,
      "outputs": []
    },
    {
      "cell_type": "code",
      "source": [
        "# Check for NaN values in the 'Label' column\n",
        "nan_label = data[data['Label'].isna()]\n",
        "\n",
        "# Print rows with NaN values in the 'Label' column\n",
        "print(nan_label)\n"
      ],
      "metadata": {
        "colab": {
          "base_uri": "https://localhost:8080/"
        },
        "id": "74JCflgUh9L7",
        "outputId": "5d6e7432-85e7-4e50-efa4-fd3a2f7b0534"
      },
      "execution_count": 187,
      "outputs": [
        {
          "output_type": "stream",
          "name": "stdout",
          "text": [
            "            srcip  sport          dstip  dsport proto state       dur  sbytes  \\\n",
            "54449  59.166.0.7   5301  149.171.126.2    1363  11.0   4.0  0.037056    3182   \n",
            "\n",
            "       dbytes  sttl  ...  is_ftp_login  ct_srv_src  ct_srv_dst ct_dst_ltm  \\\n",
            "54449   39076    31  ...           0.0         NaN         NaN        NaN   \n",
            "\n",
            "       ct_src_ ltm  ct_src_dport_ltm  ct_dst_sport_ltm  ct_dst_src_ltm  \\\n",
            "54449          NaN               NaN               NaN             NaN   \n",
            "\n",
            "       attack_cat  Label  \n",
            "54449         8.0    NaN  \n",
            "\n",
            "[1 rows x 48 columns]\n"
          ]
        }
      ]
    },
    {
      "cell_type": "code",
      "source": [
        "# Drop rows where 'Label' column has NaN values\n",
        "data.dropna(subset=['Label'], inplace=True)\n"
      ],
      "metadata": {
        "id": "MDrZly8_jk9E"
      },
      "execution_count": 188,
      "outputs": []
    },
    {
      "cell_type": "code",
      "source": [
        "# # Fill NaN value in the 'Label' column with 0\n",
        "# data['Label'].fillna(0, inplace=True)\n"
      ],
      "metadata": {
        "id": "wIHjOj6givsF"
      },
      "execution_count": 189,
      "outputs": []
    },
    {
      "cell_type": "code",
      "source": [
        "# print(data.head)"
      ],
      "metadata": {
        "id": "wtQcuh9CmFaF"
      },
      "execution_count": 190,
      "outputs": []
    },
    {
      "cell_type": "code",
      "source": [
        "# data.info()"
      ],
      "metadata": {
        "id": "MQ2P7xp0WDHO"
      },
      "execution_count": 191,
      "outputs": []
    },
    {
      "cell_type": "code",
      "source": [
        "# data.to_csv('cleaned_merged.csv')"
      ],
      "metadata": {
        "id": "-k7VDh_hdu8Q"
      },
      "execution_count": 192,
      "outputs": []
    },
    {
      "cell_type": "code",
      "source": [
        "df = data.copy"
      ],
      "metadata": {
        "id": "RaUSiyZQeQP1"
      },
      "execution_count": 193,
      "outputs": []
    },
    {
      "cell_type": "code",
      "source": [
        "# # Drop the \"attack_cat\" column\n",
        "# data.drop(columns=['attack_cat'], inplace=True)\n"
      ],
      "metadata": {
        "id": "kMJSPCprxYAo"
      },
      "execution_count": 194,
      "outputs": []
    },
    {
      "cell_type": "code",
      "source": [
        "data['Label'].unique()"
      ],
      "metadata": {
        "colab": {
          "base_uri": "https://localhost:8080/"
        },
        "id": "zImlWp-xWLTy",
        "outputId": "3031e015-a00b-400b-9d63-ee18cc61daa7"
      },
      "execution_count": 195,
      "outputs": [
        {
          "output_type": "execute_result",
          "data": {
            "text/plain": [
              "array([0., 1.])"
            ]
          },
          "metadata": {},
          "execution_count": 195
        }
      ]
    },
    {
      "cell_type": "code",
      "source": [
        "# data['attack_cat'].unique()"
      ],
      "metadata": {
        "id": "sSOBM7sIWEp1"
      },
      "execution_count": 196,
      "outputs": []
    },
    {
      "cell_type": "code",
      "source": [
        "len(data.columns)"
      ],
      "metadata": {
        "colab": {
          "base_uri": "https://localhost:8080/"
        },
        "id": "tsaJa6S3XRW8",
        "outputId": "f3501451-45ae-41e7-dcbf-b022437746fd"
      },
      "execution_count": 197,
      "outputs": [
        {
          "output_type": "execute_result",
          "data": {
            "text/plain": [
              "48"
            ]
          },
          "metadata": {},
          "execution_count": 197
        }
      ]
    },
    {
      "cell_type": "code",
      "source": [
        "X = data.iloc[:, 0:46].values\n",
        "y = data.iloc[:, -1].values"
      ],
      "metadata": {
        "id": "d6NUB83xWEkj"
      },
      "execution_count": 198,
      "outputs": []
    },
    {
      "cell_type": "code",
      "source": [
        "X.shape"
      ],
      "metadata": {
        "colab": {
          "base_uri": "https://localhost:8080/"
        },
        "id": "ABz90RnlX3mk",
        "outputId": "61288b1d-4bec-442b-90d8-ea523e424b13"
      },
      "execution_count": 199,
      "outputs": [
        {
          "output_type": "execute_result",
          "data": {
            "text/plain": [
              "(54449, 46)"
            ]
          },
          "metadata": {},
          "execution_count": 199
        }
      ]
    },
    {
      "cell_type": "code",
      "source": [
        "y.shape"
      ],
      "metadata": {
        "colab": {
          "base_uri": "https://localhost:8080/"
        },
        "id": "w-WPD5TRX9WJ",
        "outputId": "f60c55da-8e0e-45e6-e329-b068a5293849"
      },
      "execution_count": 200,
      "outputs": [
        {
          "output_type": "execute_result",
          "data": {
            "text/plain": [
              "(54449,)"
            ]
          },
          "metadata": {},
          "execution_count": 200
        }
      ]
    },
    {
      "cell_type": "code",
      "source": [
        "X[:, 4:5]"
      ],
      "metadata": {
        "colab": {
          "base_uri": "https://localhost:8080/"
        },
        "id": "a2saacFrYBZ9",
        "outputId": "8baff32a-4c5f-4bb1-b469-6ed17032c34c"
      },
      "execution_count": 201,
      "outputs": [
        {
          "output_type": "execute_result",
          "data": {
            "text/plain": [
              "array([[12.0],\n",
              "       [12.0],\n",
              "       [12.0],\n",
              "       ...,\n",
              "       [12.0],\n",
              "       [11.0],\n",
              "       [11.0]], dtype=object)"
            ]
          },
          "metadata": {},
          "execution_count": 201
        }
      ]
    },
    {
      "cell_type": "code",
      "source": [
        "X[:, 5:6]"
      ],
      "metadata": {
        "colab": {
          "base_uri": "https://localhost:8080/"
        },
        "id": "kC16mLhzY0iK",
        "outputId": "76791f24-4eb8-49ed-ca28-dfae8925596a"
      },
      "execution_count": 202,
      "outputs": [
        {
          "output_type": "execute_result",
          "data": {
            "text/plain": [
              "array([[2.0],\n",
              "       [2.0],\n",
              "       [2.0],\n",
              "       ...,\n",
              "       [2.0],\n",
              "       [4.0],\n",
              "       [4.0]], dtype=object)"
            ]
          },
          "metadata": {},
          "execution_count": 202
        }
      ]
    },
    {
      "cell_type": "code",
      "source": [
        "X[:, 13:14]"
      ],
      "metadata": {
        "colab": {
          "base_uri": "https://localhost:8080/"
        },
        "id": "tLnmfYAxY47B",
        "outputId": "a5325f26-8813-4f04-a87f-d88375808025"
      },
      "execution_count": 203,
      "outputs": [
        {
          "output_type": "execute_result",
          "data": {
            "text/plain": [
              "array([[1.0],\n",
              "       [6.0],\n",
              "       [1.0],\n",
              "       ...,\n",
              "       [1.0],\n",
              "       [6.0],\n",
              "       [6.0]], dtype=object)"
            ]
          },
          "metadata": {},
          "execution_count": 203
        }
      ]
    },
    {
      "cell_type": "code",
      "source": [
        "X.shape[1]"
      ],
      "metadata": {
        "colab": {
          "base_uri": "https://localhost:8080/"
        },
        "id": "4TgOfNt9bp_S",
        "outputId": "d6e699e6-2d8e-4667-8a3f-f3f87d851524"
      },
      "execution_count": 204,
      "outputs": [
        {
          "output_type": "execute_result",
          "data": {
            "text/plain": [
              "46"
            ]
          },
          "metadata": {},
          "execution_count": 204
        }
      ]
    },
    {
      "cell_type": "code",
      "source": [
        "# from sklearn.preprocessing import OrdinalEncoder\n",
        "# encoder = OrdinalEncoder()\n",
        "\n",
        "# # Encode the \"proto\" column\n",
        "# X[:, 4:5] = np.array(encoder.fit_transform(X[:, 4:5]))\n",
        "# X[:, 5:6] = np.array(encoder.fit_transform(X[:, 5:6]))\n",
        "# X[:, 13:14] = np.array(encoder.fit_transform(X[:, 13:14]))\n",
        "# # X[:, 47] = np.array(encoder.fit_transform(X[:, 47]))\n",
        "# # X[:, -1:] = np.array(encoder.fit_transform(X[:, -1:]))  # For the last column"
      ],
      "metadata": {
        "id": "bkfrKTTbYtiy"
      },
      "execution_count": 205,
      "outputs": []
    },
    {
      "cell_type": "code",
      "source": [
        "X.shape"
      ],
      "metadata": {
        "colab": {
          "base_uri": "https://localhost:8080/"
        },
        "id": "p5BX2ZmEfTAR",
        "outputId": "e08a9d15-94b9-4e2d-f26f-c3aacb3e6ad3"
      },
      "execution_count": 206,
      "outputs": [
        {
          "output_type": "execute_result",
          "data": {
            "text/plain": [
              "(54449, 46)"
            ]
          },
          "metadata": {},
          "execution_count": 206
        }
      ]
    },
    {
      "cell_type": "code",
      "source": [
        "# from sklearn.compose import ColumnTransformer\n",
        "# from sklearn.preprocessing import OneHotEncoder\n",
        "\n",
        "# # Define the ColumnTransformer to apply one-hot encoding to specified columns\n",
        "# ct = ColumnTransformer(transformers=[('encoder', OneHotEncoder(), [0, 2,])], remainder='passthrough')\n",
        "\n",
        "# # Apply the transformation to the data (X)\n",
        "# X_encoded = ct.fit_transform(X)\n"
      ],
      "metadata": {
        "id": "tGOGRZ1AbcHU"
      },
      "execution_count": 207,
      "outputs": []
    },
    {
      "cell_type": "code",
      "source": [
        "from sklearn.compose import ColumnTransformer\n",
        "from sklearn.preprocessing import OneHotEncoder\n",
        "\n",
        "ct = ColumnTransformer(transformers=[('encoder', OneHotEncoder(), [0, 2,])], remainder='passthrough')\n",
        "X = np.array(ct.fit_transform(X))"
      ],
      "metadata": {
        "id": "rsYYQyJghLRW"
      },
      "execution_count": 208,
      "outputs": []
    },
    {
      "cell_type": "code",
      "source": [
        "X.shape"
      ],
      "metadata": {
        "colab": {
          "base_uri": "https://localhost:8080/"
        },
        "id": "fDHb_8oPhLMc",
        "outputId": "d8e1d3ec-606f-4bc4-eae3-3f224f34cc55"
      },
      "execution_count": 209,
      "outputs": [
        {
          "output_type": "execute_result",
          "data": {
            "text/plain": [
              "(54449, 122)"
            ]
          },
          "metadata": {},
          "execution_count": 209
        }
      ]
    },
    {
      "cell_type": "code",
      "source": [
        "X[:, 2:3]"
      ],
      "metadata": {
        "colab": {
          "base_uri": "https://localhost:8080/"
        },
        "id": "Rkh_jmJQoXvR",
        "outputId": "463203a3-376f-4209-f233-2500f5dd53ab"
      },
      "execution_count": 210,
      "outputs": [
        {
          "output_type": "execute_result",
          "data": {
            "text/plain": [
              "array([[0.0],\n",
              "       [0.0],\n",
              "       [0.0],\n",
              "       ...,\n",
              "       [0.0],\n",
              "       [0.0],\n",
              "       [0.0]], dtype=object)"
            ]
          },
          "metadata": {},
          "execution_count": 210
        }
      ]
    },
    {
      "cell_type": "code",
      "source": [
        "from sklearn.model_selection import train_test_split\n",
        "X_train, X_test, y_train, y_test = train_test_split(X, y, test_size=0.2, random_state=1)"
      ],
      "metadata": {
        "id": "FPHOWSSLhLGH"
      },
      "execution_count": 211,
      "outputs": []
    },
    {
      "cell_type": "code",
      "source": [
        "X_train.shape"
      ],
      "metadata": {
        "colab": {
          "base_uri": "https://localhost:8080/"
        },
        "id": "fNb2BOeMiWRs",
        "outputId": "fb9e7d29-0ecd-4933-a3a5-97f2660dc38c"
      },
      "execution_count": 212,
      "outputs": [
        {
          "output_type": "execute_result",
          "data": {
            "text/plain": [
              "(43559, 122)"
            ]
          },
          "metadata": {},
          "execution_count": 212
        }
      ]
    },
    {
      "cell_type": "code",
      "source": [
        "print(\"Shape of X:\", X.shape)\n",
        "print(\"Data type of X:\", X.dtype)\n"
      ],
      "metadata": {
        "colab": {
          "base_uri": "https://localhost:8080/"
        },
        "id": "17hfnLSgjrQX",
        "outputId": "79a88ff8-88e0-4dc2-8ee5-21ec15a3c741"
      },
      "execution_count": 213,
      "outputs": [
        {
          "output_type": "stream",
          "name": "stdout",
          "text": [
            "Shape of X: (54449, 122)\n",
            "Data type of X: object\n"
          ]
        }
      ]
    },
    {
      "cell_type": "code",
      "source": [
        "from sklearn.naive_bayes import GaussianNB\n",
        "\n",
        "nb_classifier = GaussianNB()\n",
        "nb_classifier.fit(X_train, y_train)"
      ],
      "metadata": {
        "colab": {
          "base_uri": "https://localhost:8080/",
          "height": 74
        },
        "id": "CcPfDF9OibMX",
        "outputId": "c288dff4-d68d-4cd4-a3c9-589d61c2e1e0"
      },
      "execution_count": 214,
      "outputs": [
        {
          "output_type": "execute_result",
          "data": {
            "text/plain": [
              "GaussianNB()"
            ],
            "text/html": [
              "<style>#sk-container-id-1 {color: black;background-color: white;}#sk-container-id-1 pre{padding: 0;}#sk-container-id-1 div.sk-toggleable {background-color: white;}#sk-container-id-1 label.sk-toggleable__label {cursor: pointer;display: block;width: 100%;margin-bottom: 0;padding: 0.3em;box-sizing: border-box;text-align: center;}#sk-container-id-1 label.sk-toggleable__label-arrow:before {content: \"▸\";float: left;margin-right: 0.25em;color: #696969;}#sk-container-id-1 label.sk-toggleable__label-arrow:hover:before {color: black;}#sk-container-id-1 div.sk-estimator:hover label.sk-toggleable__label-arrow:before {color: black;}#sk-container-id-1 div.sk-toggleable__content {max-height: 0;max-width: 0;overflow: hidden;text-align: left;background-color: #f0f8ff;}#sk-container-id-1 div.sk-toggleable__content pre {margin: 0.2em;color: black;border-radius: 0.25em;background-color: #f0f8ff;}#sk-container-id-1 input.sk-toggleable__control:checked~div.sk-toggleable__content {max-height: 200px;max-width: 100%;overflow: auto;}#sk-container-id-1 input.sk-toggleable__control:checked~label.sk-toggleable__label-arrow:before {content: \"▾\";}#sk-container-id-1 div.sk-estimator input.sk-toggleable__control:checked~label.sk-toggleable__label {background-color: #d4ebff;}#sk-container-id-1 div.sk-label input.sk-toggleable__control:checked~label.sk-toggleable__label {background-color: #d4ebff;}#sk-container-id-1 input.sk-hidden--visually {border: 0;clip: rect(1px 1px 1px 1px);clip: rect(1px, 1px, 1px, 1px);height: 1px;margin: -1px;overflow: hidden;padding: 0;position: absolute;width: 1px;}#sk-container-id-1 div.sk-estimator {font-family: monospace;background-color: #f0f8ff;border: 1px dotted black;border-radius: 0.25em;box-sizing: border-box;margin-bottom: 0.5em;}#sk-container-id-1 div.sk-estimator:hover {background-color: #d4ebff;}#sk-container-id-1 div.sk-parallel-item::after {content: \"\";width: 100%;border-bottom: 1px solid gray;flex-grow: 1;}#sk-container-id-1 div.sk-label:hover label.sk-toggleable__label {background-color: #d4ebff;}#sk-container-id-1 div.sk-serial::before {content: \"\";position: absolute;border-left: 1px solid gray;box-sizing: border-box;top: 0;bottom: 0;left: 50%;z-index: 0;}#sk-container-id-1 div.sk-serial {display: flex;flex-direction: column;align-items: center;background-color: white;padding-right: 0.2em;padding-left: 0.2em;position: relative;}#sk-container-id-1 div.sk-item {position: relative;z-index: 1;}#sk-container-id-1 div.sk-parallel {display: flex;align-items: stretch;justify-content: center;background-color: white;position: relative;}#sk-container-id-1 div.sk-item::before, #sk-container-id-1 div.sk-parallel-item::before {content: \"\";position: absolute;border-left: 1px solid gray;box-sizing: border-box;top: 0;bottom: 0;left: 50%;z-index: -1;}#sk-container-id-1 div.sk-parallel-item {display: flex;flex-direction: column;z-index: 1;position: relative;background-color: white;}#sk-container-id-1 div.sk-parallel-item:first-child::after {align-self: flex-end;width: 50%;}#sk-container-id-1 div.sk-parallel-item:last-child::after {align-self: flex-start;width: 50%;}#sk-container-id-1 div.sk-parallel-item:only-child::after {width: 0;}#sk-container-id-1 div.sk-dashed-wrapped {border: 1px dashed gray;margin: 0 0.4em 0.5em 0.4em;box-sizing: border-box;padding-bottom: 0.4em;background-color: white;}#sk-container-id-1 div.sk-label label {font-family: monospace;font-weight: bold;display: inline-block;line-height: 1.2em;}#sk-container-id-1 div.sk-label-container {text-align: center;}#sk-container-id-1 div.sk-container {/* jupyter's `normalize.less` sets `[hidden] { display: none; }` but bootstrap.min.css set `[hidden] { display: none !important; }` so we also need the `!important` here to be able to override the default hidden behavior on the sphinx rendered scikit-learn.org. See: https://github.com/scikit-learn/scikit-learn/issues/21755 */display: inline-block !important;position: relative;}#sk-container-id-1 div.sk-text-repr-fallback {display: none;}</style><div id=\"sk-container-id-1\" class=\"sk-top-container\"><div class=\"sk-text-repr-fallback\"><pre>GaussianNB()</pre><b>In a Jupyter environment, please rerun this cell to show the HTML representation or trust the notebook. <br />On GitHub, the HTML representation is unable to render, please try loading this page with nbviewer.org.</b></div><div class=\"sk-container\" hidden><div class=\"sk-item\"><div class=\"sk-estimator sk-toggleable\"><input class=\"sk-toggleable__control sk-hidden--visually\" id=\"sk-estimator-id-1\" type=\"checkbox\" checked><label for=\"sk-estimator-id-1\" class=\"sk-toggleable__label sk-toggleable__label-arrow\">GaussianNB</label><div class=\"sk-toggleable__content\"><pre>GaussianNB()</pre></div></div></div></div></div>"
            ]
          },
          "metadata": {},
          "execution_count": 214
        }
      ]
    },
    {
      "cell_type": "code",
      "source": [
        "y_pred_nb = nb_classifier.predict(X_test)"
      ],
      "metadata": {
        "id": "_lF-rfSKptWm"
      },
      "execution_count": 215,
      "outputs": []
    },
    {
      "cell_type": "code",
      "source": [
        "from sklearn.metrics import accuracy_score, confusion_matrix\n",
        "\n",
        "# Compute accuracy\n",
        "accuracy = accuracy_score(y_test, y_pred_nb)\n",
        "print(\"Accuracy:\", accuracy)\n"
      ],
      "metadata": {
        "colab": {
          "base_uri": "https://localhost:8080/"
        },
        "id": "oHIzrCrfp6k-",
        "outputId": "cd6f0b67-16d5-4be8-cf47-e7302eab68ba"
      },
      "execution_count": 216,
      "outputs": [
        {
          "output_type": "stream",
          "name": "stdout",
          "text": [
            "Accuracy: 0.9275482093663912\n"
          ]
        }
      ]
    },
    {
      "cell_type": "code",
      "source": [
        "# Compute confusion matrix\n",
        "conf_matrix = confusion_matrix(y_test, y_pred_nb)\n",
        "print(\"Confusion Matrix:\")\n",
        "print(conf_matrix)\n"
      ],
      "metadata": {
        "colab": {
          "base_uri": "https://localhost:8080/"
        },
        "id": "l-2iOOxqqCrt",
        "outputId": "adbb2bbd-d86a-482b-878a-afb4fa3dcdbc"
      },
      "execution_count": 217,
      "outputs": [
        {
          "output_type": "stream",
          "name": "stdout",
          "text": [
            "Confusion Matrix:\n",
            "[[9994   98]\n",
            " [ 691  107]]\n"
          ]
        }
      ]
    },
    {
      "cell_type": "code",
      "source": [
        "from sklearn.metrics import classification_report\n",
        "\n",
        "# Generate classification report\n",
        "class_report = classification_report(y_test, y_pred_nb)\n",
        "print(\"Classification Report:\")\n",
        "print(class_report)"
      ],
      "metadata": {
        "colab": {
          "base_uri": "https://localhost:8080/"
        },
        "id": "I62ZPs66qJrQ",
        "outputId": "bc38f017-6ea4-4159-ff44-dff88b46b61a"
      },
      "execution_count": 218,
      "outputs": [
        {
          "output_type": "stream",
          "name": "stdout",
          "text": [
            "Classification Report:\n",
            "              precision    recall  f1-score   support\n",
            "\n",
            "         0.0       0.94      0.99      0.96     10092\n",
            "         1.0       0.52      0.13      0.21       798\n",
            "\n",
            "    accuracy                           0.93     10890\n",
            "   macro avg       0.73      0.56      0.59     10890\n",
            "weighted avg       0.91      0.93      0.91     10890\n",
            "\n"
          ]
        }
      ]
    },
    {
      "cell_type": "code",
      "source": [
        "from sklearn.metrics import f1_score\n",
        "\n",
        "# Compute F1-score\n",
        "f1 = f1_score(y_test, y_pred_nb)\n",
        "print(\"F1-Score:\", f1)"
      ],
      "metadata": {
        "colab": {
          "base_uri": "https://localhost:8080/"
        },
        "id": "hMxOjR2KqQWa",
        "outputId": "6d258d15-e327-48f2-ecbd-2d208bbc7179"
      },
      "execution_count": 219,
      "outputs": [
        {
          "output_type": "stream",
          "name": "stdout",
          "text": [
            "F1-Score: 0.21335992023928213\n"
          ]
        }
      ]
    },
    {
      "cell_type": "code",
      "source": [
        "from sklearn.metrics import roc_curve, auc\n",
        "import matplotlib.pyplot as plt\n",
        "\n",
        "# Compute ROC curve and AUC\n",
        "fpr, tpr, thresholds = roc_curve(y_test, y_pred_nb)\n",
        "roc_auc = auc(fpr, tpr)\n",
        "\n",
        "# Plot ROC curve\n",
        "plt.figure()\n",
        "plt.plot(fpr, tpr, color='darkorange', lw=2, label='ROC curve (area = %0.2f)' % roc_auc)\n",
        "plt.plot([0, 1], [0, 1], color='navy', lw=2, linestyle='--')\n",
        "plt.xlim([0.0, 1.0])\n",
        "plt.ylim([0.0, 1.05])\n",
        "plt.xlabel('False Positive Rate')\n",
        "plt.ylabel('True Positive Rate')\n",
        "plt.title('ROC Curve')\n",
        "plt.legend(loc=\"lower right\")\n",
        "plt.show()\n"
      ],
      "metadata": {
        "colab": {
          "base_uri": "https://localhost:8080/",
          "height": 472
        },
        "id": "3x2yK7WfqXsz",
        "outputId": "dce7114a-59a7-4758-ff74-4fa2e1d4c0cc"
      },
      "execution_count": 220,
      "outputs": [
        {
          "output_type": "display_data",
          "data": {
            "text/plain": [
              "<Figure size 640x480 with 1 Axes>"
            ],
            "image/png": "[encoded data removed]"
          },
          "metadata": {}
        }
      ]
    },
    {
      "cell_type": "code",
      "source": [
        "# from sklearn.metrics import precision_recall_curve\n",
        "\n",
        "# # Compute precision-recall curve\n",
        "# precision, recall, _ = precision_recall_curve(y_test, y_pred_nb)\n",
        "\n",
        "# # Compute Average Precision (AP)\n",
        "# average_precision = average_precision_score(y_test, y_pred_nb)\n",
        "\n",
        "# # Plot Precision-Recall curve with AP\n",
        "# plt.figure()\n",
        "# plt.step(recall, precision, color='b', alpha=0.2, where='post')\n",
        "# plt.fill_between(recall, precision, step='post', alpha=0.2, color='b')\n",
        "# plt.xlabel('Recall')\n",
        "# plt.ylabel('Precision')\n",
        "# plt.ylim([0.0, 1.05])\n",
        "# plt.xlim([0.0, 1.0])\n",
        "# plt.title('Precision-Recall Curve with AP={0:0.2f}'.format(average_precision))\n",
        "# plt.show()\n"
      ],
      "metadata": {
        "id": "0u5r2ia4qcgb"
      },
      "execution_count": 221,
      "outputs": []
    },
    {
      "cell_type": "code",
      "source": [
        "# from google.colab import drive\n",
        "# drive.mount('/content/drive')"
      ],
      "metadata": {
        "id": "8zRUg_VSUw1G"
      },
      "execution_count": 223,
      "outputs": []
    },
    {
      "cell_type": "code",
      "source": [
        "# data.to_csv('part_transforded.csv')"
      ],
      "metadata": {
        "id": "3qab9L8Hrpp_"
      },
      "execution_count": null,
      "outputs": []
    },
    {
      "cell_type": "markdown",
      "source": [
        "**DECISION TREE**"
      ],
      "metadata": {
        "id": "47HQRGKLmFKK"
      }
    },
    {
      "cell_type": "code",
      "source": [
        "from sklearn.tree import DecisionTreeClassifier\n",
        "from sklearn.metrics import accuracy_score, classification_report\n",
        "\n",
        "# Create an instance of DecisionTreeClassifier\n",
        "dt_classifier = DecisionTreeClassifier()\n",
        "\n",
        "# Fit the classifier to the training data\n",
        "dt_classifier.fit(X_train, y_train)\n",
        "\n",
        "# Make predictions on the test data\n",
        "y_pred_dt = dt_classifier.predict(X_test)\n",
        "\n",
        "# Evaluate the performance of the classifier\n",
        "accuracy = accuracy_score(y_test, y_pred_dt)\n",
        "print(\"Accuracy:\", accuracy)\n",
        "\n",
        "# Print classification report\n",
        "print(\"Classification Report:\")\n",
        "print(classification_report(y_test, y_pred_dt))\n"
      ],
      "metadata": {
        "colab": {
          "base_uri": "https://localhost:8080/"
        },
        "id": "fUwMC8MmmJqZ",
        "outputId": "c0fe001c-6d36-4566-b150-f4fb21b827a7"
      },
      "execution_count": 224,
      "outputs": [
        {
          "output_type": "stream",
          "name": "stdout",
          "text": [
            "Accuracy: 0.9934802571166208\n",
            "Classification Report:\n",
            "              precision    recall  f1-score   support\n",
            "\n",
            "         0.0       1.00      1.00      1.00     10092\n",
            "         1.0       0.97      0.94      0.96       798\n",
            "\n",
            "    accuracy                           0.99     10890\n",
            "   macro avg       0.98      0.97      0.98     10890\n",
            "weighted avg       0.99      0.99      0.99     10890\n",
            "\n"
          ]
        }
      ]
    },
    {
      "cell_type": "code",
      "source": [
        "from sklearn.metrics import f1_score\n",
        "\n",
        "# Compute F1-score for Decision Tree\n",
        "f1_dt = f1_score(y_test, y_pred_dt)\n",
        "print(\"F1-Score for Decision Tree:\", f1_dt)\n"
      ],
      "metadata": {
        "colab": {
          "base_uri": "https://localhost:8080/"
        },
        "id": "RxjzGG_4mkH3",
        "outputId": "4f91fc99-15f5-45d6-b7fc-5383031a407b"
      },
      "execution_count": 225,
      "outputs": [
        {
          "output_type": "stream",
          "name": "stdout",
          "text": [
            "F1-Score for Decision Tree: 0.955034832172261\n"
          ]
        }
      ]
    },
    {
      "cell_type": "code",
      "source": [
        "from sklearn.metrics import confusion_matrix\n",
        "\n",
        "# Compute confusion matrix for Decision Tree\n",
        "conf_matrix_dt = confusion_matrix(y_test, y_pred_dt)\n",
        "print(\"Confusion Matrix for Decision Tree:\")\n",
        "print(conf_matrix_dt)\n"
      ],
      "metadata": {
        "colab": {
          "base_uri": "https://localhost:8080/"
        },
        "id": "54O8gwtBml9H",
        "outputId": "8e44a6d5-5219-491e-a119-de1c6c2adb56"
      },
      "execution_count": 228,
      "outputs": [
        {
          "output_type": "stream",
          "name": "stdout",
          "text": [
            "Confusion Matrix for Decision Tree:\n",
            "[[10065    27]\n",
            " [   44   754]]\n"
          ]
        }
      ]
    },
    {
      "cell_type": "code",
      "source": [
        "from sklearn.metrics import roc_curve, auc\n",
        "import matplotlib.pyplot as plt\n",
        "\n",
        "# Compute ROC curve and AUC for Decision Tree\n",
        "fpr_dt, tpr_dt, thresholds_dt = roc_curve(y_test, y_pred_dt)\n",
        "roc_auc_dt = auc(fpr_dt, tpr_dt)\n",
        "\n",
        "# Plot ROC curve for Decision Tree\n",
        "plt.figure()\n",
        "plt.plot(fpr_dt, tpr_dt, color='darkorange', lw=2, label='ROC curve (area = %0.2f)' % roc_auc_dt)\n",
        "plt.plot([0, 1], [0, 1], color='navy', lw=2, linestyle='--')\n",
        "plt.xlim([0.0, 1.0])\n",
        "plt.ylim([0.0, 1.05])\n",
        "plt.xlabel('False Positive Rate')\n",
        "plt.ylabel('True Positive Rate')\n",
        "plt.title('ROC Curve for Decision Tree')\n",
        "plt.legend(loc=\"lower right\")\n",
        "plt.show()\n"
      ],
      "metadata": {
        "colab": {
          "base_uri": "https://localhost:8080/",
          "height": 472
        },
        "id": "zZW3EV-xmwwR",
        "outputId": "e561d299-b374-44b7-a64f-9ed4d58d3b3c"
      },
      "execution_count": 227,
      "outputs": [
        {
          "output_type": "display_data",
          "data": {
            "text/plain": [
              "<Figure size 640x480 with 1 Axes>"
            ],
            "image/png": "[encoded data removed]"
          },
          "metadata": {}
        }
      ]
    },
    {
      "cell_type": "markdown",
      "source": [
        "**RANDOM FOREST**"
      ],
      "metadata": {
        "id": "2xCO8ueLoZWU"
      }
    },
    {
      "cell_type": "code",
      "source": [
        "from sklearn.ensemble import RandomForestClassifier\n",
        "from sklearn.metrics import accuracy_score, classification_report\n",
        "\n",
        "# Create an instance of RandomForestClassifier\n",
        "rf_classifier = RandomForestClassifier()\n",
        "\n",
        "# Fit the classifier to the training data\n",
        "rf_classifier.fit(X_train, y_train)\n",
        "\n",
        "# Make predictions on the test data\n",
        "y_pred_rf = rf_classifier.predict(X_test)\n",
        "\n",
        "# Evaluate the performance of the classifier\n",
        "accuracy_rf = accuracy_score(y_test, y_pred_rf)\n",
        "print(\"Accuracy (Random Forest):\", accuracy_rf)\n",
        "\n",
        "# Print classification report\n",
        "print(\"Classification Report (Random Forest):\")\n",
        "print(classification_report(y_test, y_pred_rf))\n"
      ],
      "metadata": {
        "colab": {
          "base_uri": "https://localhost:8080/"
        },
        "id": "IiwAoTWpowa6",
        "outputId": "4870f2da-b8ab-4059-9a01-18c2810e77d8"
      },
      "execution_count": 230,
      "outputs": [
        {
          "output_type": "stream",
          "name": "stdout",
          "text": [
            "Accuracy (Random Forest): 0.9957759412304867\n",
            "Classification Report (Random Forest):\n",
            "              precision    recall  f1-score   support\n",
            "\n",
            "         0.0       1.00      1.00      1.00     10092\n",
            "         1.0       0.96      0.98      0.97       798\n",
            "\n",
            "    accuracy                           1.00     10890\n",
            "   macro avg       0.98      0.99      0.98     10890\n",
            "weighted avg       1.00      1.00      1.00     10890\n",
            "\n"
          ]
        }
      ]
    },
    {
      "cell_type": "code",
      "source": [
        "from sklearn.ensemble import RandomForestClassifier\n",
        "from sklearn.metrics import f1_score\n",
        "\n",
        "# Assuming rf_classifier is the trained Random Forest classifier and X_test, y_test are the test data\n",
        "y_pred_rf = rf_classifier.predict(X_test)\n",
        "f1_rf = f1_score(y_test, y_pred_rf)\n",
        "print(\"F1-Score (Random Forest):\", f1_rf)\n"
      ],
      "metadata": {
        "colab": {
          "base_uri": "https://localhost:8080/"
        },
        "id": "p403rx-PoduL",
        "outputId": "38daa678-fd0d-432f-bda8-95ef6af641f8"
      },
      "execution_count": 231,
      "outputs": [
        {
          "output_type": "stream",
          "name": "stdout",
          "text": [
            "F1-Score (Random Forest): 0.9715346534653466\n"
          ]
        }
      ]
    },
    {
      "cell_type": "code",
      "source": [
        "from sklearn.metrics import confusion_matrix\n",
        "\n",
        "# Assuming rf_classifier is the trained Random Forest classifier and X_test, y_test are the test data\n",
        "conf_matrix_rf = confusion_matrix(y_test, y_pred_rf)\n",
        "print(\"Confusion Matrix (Random Forest):\")\n",
        "print(conf_matrix_rf)\n"
      ],
      "metadata": {
        "colab": {
          "base_uri": "https://localhost:8080/"
        },
        "id": "xgzD_yfspANe",
        "outputId": "97caf95d-659e-4ea9-fa4d-4f19ae5871d3"
      },
      "execution_count": 233,
      "outputs": [
        {
          "output_type": "stream",
          "name": "stdout",
          "text": [
            "Confusion Matrix (Random Forest):\n",
            "[[10059    33]\n",
            " [   13   785]]\n"
          ]
        }
      ]
    },
    {
      "cell_type": "code",
      "source": [
        "from sklearn.metrics import roc_curve, auc\n",
        "import matplotlib.pyplot as plt\n",
        "\n",
        "# Assuming rf_classifier is the trained Random Forest classifier and X_test, y_test are the test data\n",
        "y_score_rf = rf_classifier.predict_proba(X_test)[:, 1]\n",
        "fpr_rf, tpr_rf, thresholds_rf = roc_curve(y_test, y_score_rf)\n",
        "roc_auc_rf = auc(fpr_rf, tpr_rf)\n",
        "\n",
        "# Plot ROC curve for Random Forest\n",
        "plt.figure()\n",
        "plt.plot(fpr_rf, tpr_rf, color='darkorange', lw=2, label='ROC curve (area = %0.2f)' % roc_auc_rf)\n",
        "plt.plot([0, 1], [0, 1], color='navy', lw=2, linestyle='--')\n",
        "plt.xlim([0.0, 1.0])\n",
        "plt.ylim([0.0, 1.05])\n",
        "plt.xlabel('False Positive Rate')\n",
        "plt.ylabel('True Positive Rate')\n",
        "plt.title('ROC Curve (Random Forest)')\n",
        "plt.legend(loc=\"lower right\")\n",
        "plt.show()\n"
      ],
      "metadata": {
        "colab": {
          "base_uri": "https://localhost:8080/",
          "height": 472
        },
        "id": "eesQ7NTko6Oz",
        "outputId": "d5fec0cb-41fc-4f02-c10b-a4f4c7a7bd90"
      },
      "execution_count": 232,
      "outputs": [
        {
          "output_type": "display_data",
          "data": {
            "text/plain": [
              "<Figure size 640x480 with 1 Axes>"
            ],
            "image/png": "[encoded data removed]"
          },
          "metadata": {}
        }
      ]
    },
    {
      "cell_type": "markdown",
      "source": [
        "**SUPPORT VECTOR MACHINE (SVM)**"
      ],
      "metadata": {
        "id": "QbEtJBu1rNiR"
      }
    },
    {
      "cell_type": "code",
      "source": [
        "from sklearn.preprocessing import StandardScaler\n",
        "from sklearn.svm import SVC\n",
        "from sklearn.metrics import accuracy_score, classification_report\n",
        "\n",
        "# Create a StandardScaler instance\n",
        "scaler = StandardScaler()\n",
        "\n",
        "# Fit the scaler to the training data and transform it\n",
        "X_train_scaled = scaler.fit_transform(X_train)\n",
        "\n",
        "# Transform the test data using the fitted scaler\n",
        "X_test_scaled = scaler.transform(X_test)\n",
        "\n",
        "# Create an instance of SVC (Support Vector Classifier)\n",
        "svm_classifier = SVC(kernel='rbf')  # You can choose other kernels as well\n",
        "\n",
        "# Fit the SVM classifier to the scaled training data\n",
        "svm_classifier.fit(X_train_scaled, y_train)\n",
        "\n",
        "# Make predictions on the scaled test data\n",
        "y_pred_svm = svm_classifier.predict(X_test_scaled)\n",
        "\n",
        "# Evaluate the performance of the classifier\n",
        "accuracy_svm = accuracy_score(y_test, y_pred_svm)\n",
        "print(\"Accuracy (SVM):\", accuracy_svm)\n",
        "\n",
        "# Print classification report\n",
        "print(\"Classification Report (SVM):\")\n",
        "print(classification_report(y_test, y_pred_svm))\n"
      ],
      "metadata": {
        "colab": {
          "base_uri": "https://localhost:8080/"
        },
        "id": "xggoB2AirQOi",
        "outputId": "69f4f6c1-71c7-41f7-ff22-096336170734"
      },
      "execution_count": 234,
      "outputs": [
        {
          "output_type": "stream",
          "name": "stdout",
          "text": [
            "Accuracy (SVM): 0.9889807162534435\n",
            "Classification Report (SVM):\n",
            "              precision    recall  f1-score   support\n",
            "\n",
            "         0.0       0.99      0.99      0.99     10092\n",
            "         1.0       0.93      0.92      0.92       798\n",
            "\n",
            "    accuracy                           0.99     10890\n",
            "   macro avg       0.96      0.96      0.96     10890\n",
            "weighted avg       0.99      0.99      0.99     10890\n",
            "\n"
          ]
        }
      ]
    },
    {
      "cell_type": "code",
      "source": [
        "# Compute confusion matrix\n",
        "conf_matrix = confusion_matrix(y_test, y_pred_svm)\n",
        "print(\"Confusion Matrix:\")\n",
        "print(conf_matrix)"
      ],
      "metadata": {
        "colab": {
          "base_uri": "https://localhost:8080/"
        },
        "id": "o6R-_9zKsEpW",
        "outputId": "520f50f3-0f3a-4985-f59a-a036b18dd462"
      },
      "execution_count": 235,
      "outputs": [
        {
          "output_type": "stream",
          "name": "stdout",
          "text": [
            "Confusion Matrix:\n",
            "[[10038    54]\n",
            " [   66   732]]\n"
          ]
        }
      ]
    },
    {
      "cell_type": "code",
      "source": [
        "# Compute F1-score\n",
        "f1 = f1_score(y_test, y_pred_svm, average='weighted')\n",
        "print(\"F1-Score:\", f1)"
      ],
      "metadata": {
        "colab": {
          "base_uri": "https://localhost:8080/"
        },
        "id": "8eIIZjaWsOYV",
        "outputId": "1d4f374c-cde8-4e0c-fff6-019ed36dd20e"
      },
      "execution_count": 236,
      "outputs": [
        {
          "output_type": "stream",
          "name": "stdout",
          "text": [
            "F1-Score: 0.9889422502451186\n"
          ]
        }
      ]
    },
    {
      "cell_type": "code",
      "source": [
        "# Print classification report\n",
        "print(\"Classification Report:\")\n",
        "print(classification_report(y_test, y_pred_svm))"
      ],
      "metadata": {
        "colab": {
          "base_uri": "https://localhost:8080/"
        },
        "id": "yWadjSrDsUM4",
        "outputId": "f072e4b3-64eb-4856-a67d-489f83def2ee"
      },
      "execution_count": 237,
      "outputs": [
        {
          "output_type": "stream",
          "name": "stdout",
          "text": [
            "Classification Report:\n",
            "              precision    recall  f1-score   support\n",
            "\n",
            "         0.0       0.99      0.99      0.99     10092\n",
            "         1.0       0.93      0.92      0.92       798\n",
            "\n",
            "    accuracy                           0.99     10890\n",
            "   macro avg       0.96      0.96      0.96     10890\n",
            "weighted avg       0.99      0.99      0.99     10890\n",
            "\n"
          ]
        }
      ]
    },
    {
      "cell_type": "code",
      "source": [
        "# Visualize confusion matrix\n",
        "import matplotlib.pyplot as plt\n",
        "import seaborn as sns\n",
        "\n",
        "plt.figure(figsize=(8, 6))\n",
        "sns.heatmap(conf_matrix, annot=True, fmt='d', cmap='Blues', cbar=False)\n",
        "plt.title('Confusion Matrix')\n",
        "plt.xlabel('Predicted Label')\n",
        "plt.ylabel('True Label')\n",
        "plt.show()"
      ],
      "metadata": {
        "colab": {
          "base_uri": "https://localhost:8080/",
          "height": 564
        },
        "id": "YY6fRVd2sWAJ",
        "outputId": "d88cbe53-06e8-4265-f5cf-a5b0cda04668"
      },
      "execution_count": 239,
      "outputs": [
        {
          "output_type": "display_data",
          "data": {
            "text/plain": [
              "<Figure size 800x600 with 1 Axes>"
            ],
            "image/png": "[encoded data removed]"
          },
          "metadata": {}
        }
      ]
    },
    {
      "cell_type": "code",
      "source": [
        "from google.colab import drive\n",
        "drive.mount('/content/drive')"
      ],
      "metadata": {
        "colab": {
          "base_uri": "https://localhost:8080/"
        },
        "id": "5pw-ZSQIsx8b",
        "outputId": "5ba6d183-92aa-42be-e302-be038a3d73e7"
      },
      "execution_count": 241,
      "outputs": [
        {
          "output_type": "stream",
          "name": "stdout",
          "text": [
            "Mounted at /content/drive\n"
          ]
        }
      ]
    },
    {
      "cell_type": "markdown",
      "source": [
        "# **LOGISTIC REGRESSION**"
      ],
      "metadata": {
        "id": "cvPq79Hnt33T"
      }
    },
    {
      "cell_type": "code",
      "source": [
        "from sklearn.linear_model import LogisticRegression\n",
        "from sklearn.metrics import confusion_matrix, f1_score, classification_report\n",
        "import matplotlib.pyplot as plt\n",
        "import seaborn as sns\n",
        "\n",
        "# Create an instance of Logistic Regression\n",
        "lr_classifier = LogisticRegression()\n",
        "\n",
        "# Fit the classifier to the training data\n",
        "lr_classifier.fit(X_train, y_train)\n",
        "\n",
        "# Make predictions on the test data\n",
        "y_pred_lr = lr_classifier.predict(X_test)\n",
        "\n",
        "# Compute confusion matrix\n",
        "conf_matrix = confusion_matrix(y_test, y_pred_lr)\n",
        "print(\"Confusion Matrix:\")\n",
        "print(conf_matrix)\n",
        "\n",
        "# Compute F1-score\n",
        "f1 = f1_score(y_test, y_pred_lr, average='weighted')\n",
        "print(\"F1-Score:\", f1)\n",
        "\n",
        "# Print classification report\n",
        "print(\"Classification Report:\")\n",
        "print(classification_report(y_test, y_pred_lr))"
      ],
      "metadata": {
        "colab": {
          "base_uri": "https://localhost:8080/"
        },
        "id": "84tx6GGLt-Iy",
        "outputId": "75cf7ca4-6b95-4dce-aac6-406039a96cff"
      },
      "execution_count": 243,
      "outputs": [
        {
          "output_type": "stream",
          "name": "stdout",
          "text": [
            "Confusion Matrix:\n",
            "[[10082    10]\n",
            " [  767    31]]\n",
            "F1-Score: 0.8977515297936884\n",
            "Classification Report:\n",
            "              precision    recall  f1-score   support\n",
            "\n",
            "         0.0       0.93      1.00      0.96     10092\n",
            "         1.0       0.76      0.04      0.07       798\n",
            "\n",
            "    accuracy                           0.93     10890\n",
            "   macro avg       0.84      0.52      0.52     10890\n",
            "weighted avg       0.92      0.93      0.90     10890\n",
            "\n"
          ]
        }
      ]
    }
  ],
  "metadata": {
    "accelerator": "GPU",
    "colab": {
      "gpuType": "T4",
      "provenance": [],
      "machine_shape": "hm",
      "include_colab_link": true
    },
    "kernelspec": {
      "display_name": "Python 3",
      "name": "python3"
    },
    "language_info": {
      "name": "python"
    }
  },
  "nbformat": 4,
  "nbformat_minor": 0
}