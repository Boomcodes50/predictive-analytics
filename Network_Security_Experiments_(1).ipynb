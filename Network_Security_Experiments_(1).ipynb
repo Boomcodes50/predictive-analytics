{
  "cells": [
    {
      "cell_type": "markdown",
      "metadata": {
        "id": "view-in-github",
        "colab_type": "text"
      },
      "source": [
        "<a href=\"https://colab.research.google.com/github/Boomcodes50/predictive-analytics/blob/main/Network_Security_Experiments_(1).ipynb\" target=\"_parent\"><img src=\"https://colab.research.google.com/assets/colab-badge.svg\" alt=\"Open In Colab\"/></a>"
      ]
    },
    {
      "cell_type": "code",
      "execution_count": null,
      "metadata": {
        "id": "sySf2CpLH81s"
      },
      "outputs": [],
      "source": [
        "import pandas as pd\n",
        "import numpy as np\n",
        "import keras\n",
        "import tensorflow as tf\n",
        "import sklearn\n",
        "import matplotlib.pyplot as plt\n",
        "import math"
      ]
    },
    {
      "cell_type": "code",
      "execution_count": null,
      "metadata": {
        "id": "XdA4b3sGIPW1",
        "colab": {
          "base_uri": "https://localhost:8080/"
        },
        "outputId": "e1c0ca80-dbfa-4402-d4de-2a989d232049"
      },
      "outputs": [
        {
          "output_type": "stream",
          "name": "stderr",
          "text": [
            "<ipython-input-2-53a78f1fa5b1>:1: DtypeWarning: Columns (1,3,39,47) have mixed types. Specify dtype option on import or set low_memory=False.\n",
            "  data = pd.read_csv('merged_dataset.csv')\n"
          ]
        }
      ],
      "source": [
        "data = pd.read_csv('merged_dataset.csv')"
      ]
    },
    {
      "cell_type": "markdown",
      "source": [
        "Preprocessing"
      ],
      "metadata": {
        "id": "FkMYh26BnkKM"
      }
    },
    {
      "cell_type": "code",
      "source": [
        "data"
      ],
      "metadata": {
        "colab": {
          "base_uri": "https://localhost:8080/",
          "height": 461
        },
        "id": "Osqws9wymXNM",
        "outputId": "52cecea5-140c-40eb-afac-0980cd78aab2"
      },
      "execution_count": null,
      "outputs": [
        {
          "output_type": "execute_result",
          "data": {
            "text/plain": [
              "                srcip  sport           dstip dsport proto state       dur  \\\n",
              "0          59.166.0.0   1390   149.171.126.6     53   udp   CON  0.001055   \n",
              "1          59.166.0.0  33661   149.171.126.9   1024   udp   CON  0.036133   \n",
              "2          59.166.0.6   1464   149.171.126.7     53   udp   CON  0.001119   \n",
              "3          59.166.0.5   3593   149.171.126.5     53   udp   CON  0.001209   \n",
              "4          59.166.0.3  49664   149.171.126.0     53   udp   CON  0.001169   \n",
              "...               ...    ...             ...    ...   ...   ...       ...   \n",
              "1598284    59.166.0.9  24592   149.171.126.7  59452   tcp   FIN  0.032866   \n",
              "1598285    59.166.0.0   7012   149.171.126.3     80   tcp   FIN  1.008843   \n",
              "1598286    59.166.0.2   1437   149.171.126.7     53   udp   CON  0.001054   \n",
              "1598287  175.45.176.2   8966  149.171.126.15    179   tcp   FIN  0.768112   \n",
              "1598288  175.45.176.2   4091  149.171.126.11    111   tcp   FIN  0.685549   \n",
              "\n",
              "         sbytes  dbytes  sttl  ...  ct_ftp_cmd  ct_srv_src  ct_srv_dst  \\\n",
              "0           132     164    31  ...           0         3.0         7.0   \n",
              "1           528     304    31  ...           0         2.0         4.0   \n",
              "2           146     178    31  ...           0        12.0         8.0   \n",
              "3           132     164    31  ...           0         6.0         9.0   \n",
              "4           146     178    31  ...           0         7.0         9.0   \n",
              "...         ...     ...   ...  ...         ...         ...         ...   \n",
              "1598284    3806   52378    31  ...                    10.0         5.0   \n",
              "1598285    1580   10168    31  ...                     1.0         1.0   \n",
              "1598286     146     178    31  ...                     2.0         1.0   \n",
              "1598287   26782     850   254  ...                     8.0         7.0   \n",
              "1598288     564     354   254  ...         NaN         NaN         NaN   \n",
              "\n",
              "        ct_dst_ltm  ct_src_ ltm  ct_src_dport_ltm  ct_dst_sport_ltm  \\\n",
              "0              1.0          3.0               1.0               1.0   \n",
              "1              2.0          3.0               1.0               1.0   \n",
              "2              1.0          2.0               2.0               1.0   \n",
              "3              1.0          1.0               1.0               1.0   \n",
              "4              1.0          1.0               1.0               1.0   \n",
              "...            ...          ...               ...               ...   \n",
              "1598284        6.0          3.0               1.0               1.0   \n",
              "1598285        2.0          1.0               1.0               1.0   \n",
              "1598286        6.0          4.0               1.0               1.0   \n",
              "1598287        1.0          2.0               1.0               1.0   \n",
              "1598288        NaN          NaN               NaN               NaN   \n",
              "\n",
              "         ct_dst_src_ltm  attack_cat  Label  \n",
              "0                   1.0         NaN    0.0  \n",
              "1                   2.0         NaN    0.0  \n",
              "2                   1.0         NaN    0.0  \n",
              "3                   1.0         NaN    0.0  \n",
              "4                   1.0         NaN    0.0  \n",
              "...                 ...         ...    ...  \n",
              "1598284             2.0         NaN    0.0  \n",
              "1598285             1.0         NaN    0.0  \n",
              "1598286             1.0         NaN    0.0  \n",
              "1598287             7.0    Fuzzers     1.0  \n",
              "1598288             NaN         NaN    NaN  \n",
              "\n",
              "[1598289 rows x 49 columns]"
            ],
            "text/html": [
              "\n",
              "  <div id=\"df-f5f81ad9-51cc-44ed-a2e4-f82e61d227e6\" class=\"colab-df-container\">\n",
              "    <div>\n",
              "<style scoped>\n",
              "    .dataframe tbody tr th:only-of-type {\n",
              "        vertical-align: middle;\n",
              "    }\n",
              "\n",
              "    .dataframe tbody tr th {\n",
              "        vertical-align: top;\n",
              "    }\n",
              "\n",
              "    .dataframe thead th {\n",
              "        text-align: right;\n",
              "    }\n",
              "</style>\n",
              "<table border=\"1\" class=\"dataframe\">\n",
              "  <thead>\n",
              "    <tr style=\"text-align: right;\">\n",
              "      <th></th>\n",
              "      <th>srcip</th>\n",
              "      <th>sport</th>\n",
              "      <th>dstip</th>\n",
              "      <th>dsport</th>\n",
              "      <th>proto</th>\n",
              "      <th>state</th>\n",
              "      <th>dur</th>\n",
              "      <th>sbytes</th>\n",
              "      <th>dbytes</th>\n",
              "      <th>sttl</th>\n",
              "      <th>...</th>\n",
              "      <th>ct_ftp_cmd</th>\n",
              "      <th>ct_srv_src</th>\n",
              "      <th>ct_srv_dst</th>\n",
              "      <th>ct_dst_ltm</th>\n",
              "      <th>ct_src_ ltm</th>\n",
              "      <th>ct_src_dport_ltm</th>\n",
              "      <th>ct_dst_sport_ltm</th>\n",
              "      <th>ct_dst_src_ltm</th>\n",
              "      <th>attack_cat</th>\n",
              "      <th>Label</th>\n",
              "    </tr>\n",
              "  </thead>\n",
              "  <tbody>\n",
              "    <tr>\n",
              "      <th>0</th>\n",
              "      <td>59.166.0.0</td>\n",
              "      <td>1390</td>\n",
              "      <td>149.171.126.6</td>\n",
              "      <td>53</td>\n",
              "      <td>udp</td>\n",
              "      <td>CON</td>\n",
              "      <td>0.001055</td>\n",
              "      <td>132</td>\n",
              "      <td>164</td>\n",
              "      <td>31</td>\n",
              "      <td>...</td>\n",
              "      <td>0</td>\n",
              "      <td>3.0</td>\n",
              "      <td>7.0</td>\n",
              "      <td>1.0</td>\n",
              "      <td>3.0</td>\n",
              "      <td>1.0</td>\n",
              "      <td>1.0</td>\n",
              "      <td>1.0</td>\n",
              "      <td>NaN</td>\n",
              "      <td>0.0</td>\n",
              "    </tr>\n",
              "    <tr>\n",
              "      <th>1</th>\n",
              "      <td>59.166.0.0</td>\n",
              "      <td>33661</td>\n",
              "      <td>149.171.126.9</td>\n",
              "      <td>1024</td>\n",
              "      <td>udp</td>\n",
              "      <td>CON</td>\n",
              "      <td>0.036133</td>\n",
              "      <td>528</td>\n",
              "      <td>304</td>\n",
              "      <td>31</td>\n",
              "      <td>...</td>\n",
              "      <td>0</td>\n",
              "      <td>2.0</td>\n",
              "      <td>4.0</td>\n",
              "      <td>2.0</td>\n",
              "      <td>3.0</td>\n",
              "      <td>1.0</td>\n",
              "      <td>1.0</td>\n",
              "      <td>2.0</td>\n",
              "      <td>NaN</td>\n",
              "      <td>0.0</td>\n",
              "    </tr>\n",
              "    <tr>\n",
              "      <th>2</th>\n",
              "      <td>59.166.0.6</td>\n",
              "      <td>1464</td>\n",
              "      <td>149.171.126.7</td>\n",
              "      <td>53</td>\n",
              "      <td>udp</td>\n",
              "      <td>CON</td>\n",
              "      <td>0.001119</td>\n",
              "      <td>146</td>\n",
              "      <td>178</td>\n",
              "      <td>31</td>\n",
              "      <td>...</td>\n",
              "      <td>0</td>\n",
              "      <td>12.0</td>\n",
              "      <td>8.0</td>\n",
              "      <td>1.0</td>\n",
              "      <td>2.0</td>\n",
              "      <td>2.0</td>\n",
              "      <td>1.0</td>\n",
              "      <td>1.0</td>\n",
              "      <td>NaN</td>\n",
              "      <td>0.0</td>\n",
              "    </tr>\n",
              "    <tr>\n",
              "      <th>3</th>\n",
              "      <td>59.166.0.5</td>\n",
              "      <td>3593</td>\n",
              "      <td>149.171.126.5</td>\n",
              "      <td>53</td>\n",
              "      <td>udp</td>\n",
              "      <td>CON</td>\n",
              "      <td>0.001209</td>\n",
              "      <td>132</td>\n",
              "      <td>164</td>\n",
              "      <td>31</td>\n",
              "      <td>...</td>\n",
              "      <td>0</td>\n",
              "      <td>6.0</td>\n",
              "      <td>9.0</td>\n",
              "      <td>1.0</td>\n",
              "      <td>1.0</td>\n",
              "      <td>1.0</td>\n",
              "      <td>1.0</td>\n",
              "      <td>1.0</td>\n",
              "      <td>NaN</td>\n",
              "      <td>0.0</td>\n",
              "    </tr>\n",
              "    <tr>\n",
              "      <th>4</th>\n",
              "      <td>59.166.0.3</td>\n",
              "      <td>49664</td>\n",
              "      <td>149.171.126.0</td>\n",
              "      <td>53</td>\n",
              "      <td>udp</td>\n",
              "      <td>CON</td>\n",
              "      <td>0.001169</td>\n",
              "      <td>146</td>\n",
              "      <td>178</td>\n",
              "      <td>31</td>\n",
              "      <td>...</td>\n",
              "      <td>0</td>\n",
              "      <td>7.0</td>\n",
              "      <td>9.0</td>\n",
              "      <td>1.0</td>\n",
              "      <td>1.0</td>\n",
              "      <td>1.0</td>\n",
              "      <td>1.0</td>\n",
              "      <td>1.0</td>\n",
              "      <td>NaN</td>\n",
              "      <td>0.0</td>\n",
              "    </tr>\n",
              "    <tr>\n",
              "      <th>...</th>\n",
              "      <td>...</td>\n",
              "      <td>...</td>\n",
              "      <td>...</td>\n",
              "      <td>...</td>\n",
              "      <td>...</td>\n",
              "      <td>...</td>\n",
              "      <td>...</td>\n",
              "      <td>...</td>\n",
              "      <td>...</td>\n",
              "      <td>...</td>\n",
              "      <td>...</td>\n",
              "      <td>...</td>\n",
              "      <td>...</td>\n",
              "      <td>...</td>\n",
              "      <td>...</td>\n",
              "      <td>...</td>\n",
              "      <td>...</td>\n",
              "      <td>...</td>\n",
              "      <td>...</td>\n",
              "      <td>...</td>\n",
              "      <td>...</td>\n",
              "    </tr>\n",
              "    <tr>\n",
              "      <th>1598284</th>\n",
              "      <td>59.166.0.9</td>\n",
              "      <td>24592</td>\n",
              "      <td>149.171.126.7</td>\n",
              "      <td>59452</td>\n",
              "      <td>tcp</td>\n",
              "      <td>FIN</td>\n",
              "      <td>0.032866</td>\n",
              "      <td>3806</td>\n",
              "      <td>52378</td>\n",
              "      <td>31</td>\n",
              "      <td>...</td>\n",
              "      <td></td>\n",
              "      <td>10.0</td>\n",
              "      <td>5.0</td>\n",
              "      <td>6.0</td>\n",
              "      <td>3.0</td>\n",
              "      <td>1.0</td>\n",
              "      <td>1.0</td>\n",
              "      <td>2.0</td>\n",
              "      <td>NaN</td>\n",
              "      <td>0.0</td>\n",
              "    </tr>\n",
              "    <tr>\n",
              "      <th>1598285</th>\n",
              "      <td>59.166.0.0</td>\n",
              "      <td>7012</td>\n",
              "      <td>149.171.126.3</td>\n",
              "      <td>80</td>\n",
              "      <td>tcp</td>\n",
              "      <td>FIN</td>\n",
              "      <td>1.008843</td>\n",
              "      <td>1580</td>\n",
              "      <td>10168</td>\n",
              "      <td>31</td>\n",
              "      <td>...</td>\n",
              "      <td></td>\n",
              "      <td>1.0</td>\n",
              "      <td>1.0</td>\n",
              "      <td>2.0</td>\n",
              "      <td>1.0</td>\n",
              "      <td>1.0</td>\n",
              "      <td>1.0</td>\n",
              "      <td>1.0</td>\n",
              "      <td>NaN</td>\n",
              "      <td>0.0</td>\n",
              "    </tr>\n",
              "    <tr>\n",
              "      <th>1598286</th>\n",
              "      <td>59.166.0.2</td>\n",
              "      <td>1437</td>\n",
              "      <td>149.171.126.7</td>\n",
              "      <td>53</td>\n",
              "      <td>udp</td>\n",
              "      <td>CON</td>\n",
              "      <td>0.001054</td>\n",
              "      <td>146</td>\n",
              "      <td>178</td>\n",
              "      <td>31</td>\n",
              "      <td>...</td>\n",
              "      <td></td>\n",
              "      <td>2.0</td>\n",
              "      <td>1.0</td>\n",
              "      <td>6.0</td>\n",
              "      <td>4.0</td>\n",
              "      <td>1.0</td>\n",
              "      <td>1.0</td>\n",
              "      <td>1.0</td>\n",
              "      <td>NaN</td>\n",
              "      <td>0.0</td>\n",
              "    </tr>\n",
              "    <tr>\n",
              "      <th>1598287</th>\n",
              "      <td>175.45.176.2</td>\n",
              "      <td>8966</td>\n",
              "      <td>149.171.126.15</td>\n",
              "      <td>179</td>\n",
              "      <td>tcp</td>\n",
              "      <td>FIN</td>\n",
              "      <td>0.768112</td>\n",
              "      <td>26782</td>\n",
              "      <td>850</td>\n",
              "      <td>254</td>\n",
              "      <td>...</td>\n",
              "      <td></td>\n",
              "      <td>8.0</td>\n",
              "      <td>7.0</td>\n",
              "      <td>1.0</td>\n",
              "      <td>2.0</td>\n",
              "      <td>1.0</td>\n",
              "      <td>1.0</td>\n",
              "      <td>7.0</td>\n",
              "      <td>Fuzzers</td>\n",
              "      <td>1.0</td>\n",
              "    </tr>\n",
              "    <tr>\n",
              "      <th>1598288</th>\n",
              "      <td>175.45.176.2</td>\n",
              "      <td>4091</td>\n",
              "      <td>149.171.126.11</td>\n",
              "      <td>111</td>\n",
              "      <td>tcp</td>\n",
              "      <td>FIN</td>\n",
              "      <td>0.685549</td>\n",
              "      <td>564</td>\n",
              "      <td>354</td>\n",
              "      <td>254</td>\n",
              "      <td>...</td>\n",
              "      <td>NaN</td>\n",
              "      <td>NaN</td>\n",
              "      <td>NaN</td>\n",
              "      <td>NaN</td>\n",
              "      <td>NaN</td>\n",
              "      <td>NaN</td>\n",
              "      <td>NaN</td>\n",
              "      <td>NaN</td>\n",
              "      <td>NaN</td>\n",
              "      <td>NaN</td>\n",
              "    </tr>\n",
              "  </tbody>\n",
              "</table>\n",
              "<p>1598289 rows × 49 columns</p>\n",
              "</div>\n",
              "    <div class=\"colab-df-buttons\">\n",
              "\n",
              "  <div class=\"colab-df-container\">\n",
              "    <button class=\"colab-df-convert\" onclick=\"convertToInteractive('df-f5f81ad9-51cc-44ed-a2e4-f82e61d227e6')\"\n",
              "            title=\"Convert this dataframe to an interactive table.\"\n",
              "            style=\"display:none;\">\n",
              "\n",
              "  <svg xmlns=\"http://www.w3.org/2000/svg\" height=\"24px\" viewBox=\"0 -960 960 960\">\n",
              "    <path d=\"M120-120v-720h720v720H120Zm60-500h600v-160H180v160Zm220 220h160v-160H400v160Zm0 220h160v-160H400v160ZM180-400h160v-160H180v160Zm440 0h160v-160H620v160ZM180-180h160v-160H180v160Zm440 0h160v-160H620v160Z\"/>\n",
              "  </svg>\n",
              "    </button>\n",
              "\n",
              "  <style>\n",
              "    .colab-df-container {\n",
              "      display:flex;\n",
              "      gap: 12px;\n",
              "    }\n",
              "\n",
              "    .colab-df-convert {\n",
              "      background-color: #E8F0FE;\n",
              "      border: none;\n",
              "      border-radius: 50%;\n",
              "      cursor: pointer;\n",
              "      display: none;\n",
              "      fill: #1967D2;\n",
              "      height: 32px;\n",
              "      padding: 0 0 0 0;\n",
              "      width: 32px;\n",
              "    }\n",
              "\n",
              "    .colab-df-convert:hover {\n",
              "      background-color: #E2EBFA;\n",
              "      box-shadow: 0px 1px 2px rgba(60, 64, 67, 0.3), 0px 1px 3px 1px rgba(60, 64, 67, 0.15);\n",
              "      fill: #174EA6;\n",
              "    }\n",
              "\n",
              "    .colab-df-buttons div {\n",
              "      margin-bottom: 4px;\n",
              "    }\n",
              "\n",
              "    [theme=dark] .colab-df-convert {\n",
              "      background-color: #3B4455;\n",
              "      fill: #D2E3FC;\n",
              "    }\n",
              "\n",
              "    [theme=dark] .colab-df-convert:hover {\n",
              "      background-color: #434B5C;\n",
              "      box-shadow: 0px 1px 3px 1px rgba(0, 0, 0, 0.15);\n",
              "      filter: drop-shadow(0px 1px 2px rgba(0, 0, 0, 0.3));\n",
              "      fill: #FFFFFF;\n",
              "    }\n",
              "  </style>\n",
              "\n",
              "    <script>\n",
              "      const buttonEl =\n",
              "        document.querySelector('#df-f5f81ad9-51cc-44ed-a2e4-f82e61d227e6 button.colab-df-convert');\n",
              "      buttonEl.style.display =\n",
              "        google.colab.kernel.accessAllowed ? 'block' : 'none';\n",
              "\n",
              "      async function convertToInteractive(key) {\n",
              "        const element = document.querySelector('#df-f5f81ad9-51cc-44ed-a2e4-f82e61d227e6');\n",
              "        const dataTable =\n",
              "          await google.colab.kernel.invokeFunction('convertToInteractive',\n",
              "                                                    [key], {});\n",
              "        if (!dataTable) return;\n",
              "\n",
              "        const docLinkHtml = 'Like what you see? Visit the ' +\n",
              "          '<a target=\"_blank\" href=https://colab.research.google.com/notebooks/data_table.ipynb>data table notebook</a>'\n",
              "          + ' to learn more about interactive tables.';\n",
              "        element.innerHTML = '';\n",
              "        dataTable['output_type'] = 'display_data';\n",
              "        await google.colab.output.renderOutput(dataTable, element);\n",
              "        const docLink = document.createElement('div');\n",
              "        docLink.innerHTML = docLinkHtml;\n",
              "        element.appendChild(docLink);\n",
              "      }\n",
              "    </script>\n",
              "  </div>\n",
              "\n",
              "\n",
              "<div id=\"df-c8bef1f3-d7ad-4658-858d-ab3e04792004\">\n",
              "  <button class=\"colab-df-quickchart\" onclick=\"quickchart('df-c8bef1f3-d7ad-4658-858d-ab3e04792004')\"\n",
              "            title=\"Suggest charts\"\n",
              "            style=\"display:none;\">\n",
              "\n",
              "<svg xmlns=\"http://www.w3.org/2000/svg\" height=\"24px\"viewBox=\"0 0 24 24\"\n",
              "     width=\"24px\">\n",
              "    <g>\n",
              "        <path d=\"M19 3H5c-1.1 0-2 .9-2 2v14c0 1.1.9 2 2 2h14c1.1 0 2-.9 2-2V5c0-1.1-.9-2-2-2zM9 17H7v-7h2v7zm4 0h-2V7h2v10zm4 0h-2v-4h2v4z\"/>\n",
              "    </g>\n",
              "</svg>\n",
              "  </button>\n",
              "\n",
              "<style>\n",
              "  .colab-df-quickchart {\n",
              "      --bg-color: #E8F0FE;\n",
              "      --fill-color: #1967D2;\n",
              "      --hover-bg-color: #E2EBFA;\n",
              "      --hover-fill-color: #174EA6;\n",
              "      --disabled-fill-color: #AAA;\n",
              "      --disabled-bg-color: #DDD;\n",
              "  }\n",
              "\n",
              "  [theme=dark] .colab-df-quickchart {\n",
              "      --bg-color: #3B4455;\n",
              "      --fill-color: #D2E3FC;\n",
              "      --hover-bg-color: #434B5C;\n",
              "      --hover-fill-color: #FFFFFF;\n",
              "      --disabled-bg-color: #3B4455;\n",
              "      --disabled-fill-color: #666;\n",
              "  }\n",
              "\n",
              "  .colab-df-quickchart {\n",
              "    background-color: var(--bg-color);\n",
              "    border: none;\n",
              "    border-radius: 50%;\n",
              "    cursor: pointer;\n",
              "    display: none;\n",
              "    fill: var(--fill-color);\n",
              "    height: 32px;\n",
              "    padding: 0;\n",
              "    width: 32px;\n",
              "  }\n",
              "\n",
              "  .colab-df-quickchart:hover {\n",
              "    background-color: var(--hover-bg-color);\n",
              "    box-shadow: 0 1px 2px rgba(60, 64, 67, 0.3), 0 1px 3px 1px rgba(60, 64, 67, 0.15);\n",
              "    fill: var(--button-hover-fill-color);\n",
              "  }\n",
              "\n",
              "  .colab-df-quickchart-complete:disabled,\n",
              "  .colab-df-quickchart-complete:disabled:hover {\n",
              "    background-color: var(--disabled-bg-color);\n",
              "    fill: var(--disabled-fill-color);\n",
              "    box-shadow: none;\n",
              "  }\n",
              "\n",
              "  .colab-df-spinner {\n",
              "    border: 2px solid var(--fill-color);\n",
              "    border-color: transparent;\n",
              "    border-bottom-color: var(--fill-color);\n",
              "    animation:\n",
              "      spin 1s steps(1) infinite;\n",
              "  }\n",
              "\n",
              "  @keyframes spin {\n",
              "    0% {\n",
              "      border-color: transparent;\n",
              "      border-bottom-color: var(--fill-color);\n",
              "      border-left-color: var(--fill-color);\n",
              "    }\n",
              "    20% {\n",
              "      border-color: transparent;\n",
              "      border-left-color: var(--fill-color);\n",
              "      border-top-color: var(--fill-color);\n",
              "    }\n",
              "    30% {\n",
              "      border-color: transparent;\n",
              "      border-left-color: var(--fill-color);\n",
              "      border-top-color: var(--fill-color);\n",
              "      border-right-color: var(--fill-color);\n",
              "    }\n",
              "    40% {\n",
              "      border-color: transparent;\n",
              "      border-right-color: var(--fill-color);\n",
              "      border-top-color: var(--fill-color);\n",
              "    }\n",
              "    60% {\n",
              "      border-color: transparent;\n",
              "      border-right-color: var(--fill-color);\n",
              "    }\n",
              "    80% {\n",
              "      border-color: transparent;\n",
              "      border-right-color: var(--fill-color);\n",
              "      border-bottom-color: var(--fill-color);\n",
              "    }\n",
              "    90% {\n",
              "      border-color: transparent;\n",
              "      border-bottom-color: var(--fill-color);\n",
              "    }\n",
              "  }\n",
              "</style>\n",
              "\n",
              "  <script>\n",
              "    async function quickchart(key) {\n",
              "      const quickchartButtonEl =\n",
              "        document.querySelector('#' + key + ' button');\n",
              "      quickchartButtonEl.disabled = true;  // To prevent multiple clicks.\n",
              "      quickchartButtonEl.classList.add('colab-df-spinner');\n",
              "      try {\n",
              "        const charts = await google.colab.kernel.invokeFunction(\n",
              "            'suggestCharts', [key], {});\n",
              "      } catch (error) {\n",
              "        console.error('Error during call to suggestCharts:', error);\n",
              "      }\n",
              "      quickchartButtonEl.classList.remove('colab-df-spinner');\n",
              "      quickchartButtonEl.classList.add('colab-df-quickchart-complete');\n",
              "    }\n",
              "    (() => {\n",
              "      let quickchartButtonEl =\n",
              "        document.querySelector('#df-c8bef1f3-d7ad-4658-858d-ab3e04792004 button');\n",
              "      quickchartButtonEl.style.display =\n",
              "        google.colab.kernel.accessAllowed ? 'block' : 'none';\n",
              "    })();\n",
              "  </script>\n",
              "</div>\n",
              "    </div>\n",
              "  </div>\n"
            ],
            "application/vnd.google.colaboratory.intrinsic+json": {
              "type": "dataframe",
              "variable_name": "data"
            }
          },
          "metadata": {},
          "execution_count": 3
        }
      ]
    },
    {
      "cell_type": "code",
      "source": [
        "data.head()"
      ],
      "metadata": {
        "colab": {
          "base_uri": "https://localhost:8080/",
          "height": 273
        },
        "id": "OiBsvgvwIxMp",
        "outputId": "cc02a09c-25f4-4df6-a846-b0cd2408fcbf"
      },
      "execution_count": null,
      "outputs": [
        {
          "output_type": "execute_result",
          "data": {
            "text/plain": [
              "        srcip  sport          dstip dsport proto state       dur  sbytes  \\\n",
              "0  59.166.0.0  33661  149.171.126.9   1024   udp   CON  0.036133     528   \n",
              "1  59.166.0.6   1464  149.171.126.7     53   udp   CON  0.001119     146   \n",
              "2  59.166.0.5   3593  149.171.126.5     53   udp   CON  0.001209     132   \n",
              "3  59.166.0.3  49664  149.171.126.0     53   udp   CON  0.001169     146   \n",
              "4  59.166.0.0  32119  149.171.126.9    111   udp   CON  0.078339     568   \n",
              "\n",
              "   dbytes  sttl  ...  ct_ftp_cmd  ct_srv_src  ct_srv_dst ct_dst_ltm  \\\n",
              "0     304    31  ...           0           2           4          2   \n",
              "1     178    31  ...           0          12           8          1   \n",
              "2     164    31  ...           0           6           9          1   \n",
              "3     178    31  ...           0           7           9          1   \n",
              "4     312    31  ...           0           2           4          2   \n",
              "\n",
              "   ct_src_ ltm  ct_src_dport_ltm  ct_dst_sport_ltm  ct_dst_src_ltm  \\\n",
              "0            3                 1                 1               2   \n",
              "1            2                 2                 1               1   \n",
              "2            1                 1                 1               1   \n",
              "3            1                 1                 1               1   \n",
              "4            3                 1                 1               2   \n",
              "\n",
              "   attack_cat  Label  \n",
              "0         NaN      0  \n",
              "1         NaN      0  \n",
              "2         NaN      0  \n",
              "3         NaN      0  \n",
              "4         NaN      0  \n",
              "\n",
              "[5 rows x 49 columns]"
            ],
            "text/html": [
              "\n",
              "  <div id=\"df-dee0a644-c3e6-4f6b-a02f-5d95a4f43874\" class=\"colab-df-container\">\n",
              "    <div>\n",
              "<style scoped>\n",
              "    .dataframe tbody tr th:only-of-type {\n",
              "        vertical-align: middle;\n",
              "    }\n",
              "\n",
              "    .dataframe tbody tr th {\n",
              "        vertical-align: top;\n",
              "    }\n",
              "\n",
              "    .dataframe thead th {\n",
              "        text-align: right;\n",
              "    }\n",
              "</style>\n",
              "<table border=\"1\" class=\"dataframe\">\n",
              "  <thead>\n",
              "    <tr style=\"text-align: right;\">\n",
              "      <th></th>\n",
              "      <th>srcip</th>\n",
              "      <th>sport</th>\n",
              "      <th>dstip</th>\n",
              "      <th>dsport</th>\n",
              "      <th>proto</th>\n",
              "      <th>state</th>\n",
              "      <th>dur</th>\n",
              "      <th>sbytes</th>\n",
              "      <th>dbytes</th>\n",
              "      <th>sttl</th>\n",
              "      <th>...</th>\n",
              "      <th>ct_ftp_cmd</th>\n",
              "      <th>ct_srv_src</th>\n",
              "      <th>ct_srv_dst</th>\n",
              "      <th>ct_dst_ltm</th>\n",
              "      <th>ct_src_ ltm</th>\n",
              "      <th>ct_src_dport_ltm</th>\n",
              "      <th>ct_dst_sport_ltm</th>\n",
              "      <th>ct_dst_src_ltm</th>\n",
              "      <th>attack_cat</th>\n",
              "      <th>Label</th>\n",
              "    </tr>\n",
              "  </thead>\n",
              "  <tbody>\n",
              "    <tr>\n",
              "      <th>0</th>\n",
              "      <td>59.166.0.0</td>\n",
              "      <td>33661</td>\n",
              "      <td>149.171.126.9</td>\n",
              "      <td>1024</td>\n",
              "      <td>udp</td>\n",
              "      <td>CON</td>\n",
              "      <td>0.036133</td>\n",
              "      <td>528</td>\n",
              "      <td>304</td>\n",
              "      <td>31</td>\n",
              "      <td>...</td>\n",
              "      <td>0</td>\n",
              "      <td>2</td>\n",
              "      <td>4</td>\n",
              "      <td>2</td>\n",
              "      <td>3</td>\n",
              "      <td>1</td>\n",
              "      <td>1</td>\n",
              "      <td>2</td>\n",
              "      <td>NaN</td>\n",
              "      <td>0</td>\n",
              "    </tr>\n",
              "    <tr>\n",
              "      <th>1</th>\n",
              "      <td>59.166.0.6</td>\n",
              "      <td>1464</td>\n",
              "      <td>149.171.126.7</td>\n",
              "      <td>53</td>\n",
              "      <td>udp</td>\n",
              "      <td>CON</td>\n",
              "      <td>0.001119</td>\n",
              "      <td>146</td>\n",
              "      <td>178</td>\n",
              "      <td>31</td>\n",
              "      <td>...</td>\n",
              "      <td>0</td>\n",
              "      <td>12</td>\n",
              "      <td>8</td>\n",
              "      <td>1</td>\n",
              "      <td>2</td>\n",
              "      <td>2</td>\n",
              "      <td>1</td>\n",
              "      <td>1</td>\n",
              "      <td>NaN</td>\n",
              "      <td>0</td>\n",
              "    </tr>\n",
              "    <tr>\n",
              "      <th>2</th>\n",
              "      <td>59.166.0.5</td>\n",
              "      <td>3593</td>\n",
              "      <td>149.171.126.5</td>\n",
              "      <td>53</td>\n",
              "      <td>udp</td>\n",
              "      <td>CON</td>\n",
              "      <td>0.001209</td>\n",
              "      <td>132</td>\n",
              "      <td>164</td>\n",
              "      <td>31</td>\n",
              "      <td>...</td>\n",
              "      <td>0</td>\n",
              "      <td>6</td>\n",
              "      <td>9</td>\n",
              "      <td>1</td>\n",
              "      <td>1</td>\n",
              "      <td>1</td>\n",
              "      <td>1</td>\n",
              "      <td>1</td>\n",
              "      <td>NaN</td>\n",
              "      <td>0</td>\n",
              "    </tr>\n",
              "    <tr>\n",
              "      <th>3</th>\n",
              "      <td>59.166.0.3</td>\n",
              "      <td>49664</td>\n",
              "      <td>149.171.126.0</td>\n",
              "      <td>53</td>\n",
              "      <td>udp</td>\n",
              "      <td>CON</td>\n",
              "      <td>0.001169</td>\n",
              "      <td>146</td>\n",
              "      <td>178</td>\n",
              "      <td>31</td>\n",
              "      <td>...</td>\n",
              "      <td>0</td>\n",
              "      <td>7</td>\n",
              "      <td>9</td>\n",
              "      <td>1</td>\n",
              "      <td>1</td>\n",
              "      <td>1</td>\n",
              "      <td>1</td>\n",
              "      <td>1</td>\n",
              "      <td>NaN</td>\n",
              "      <td>0</td>\n",
              "    </tr>\n",
              "    <tr>\n",
              "      <th>4</th>\n",
              "      <td>59.166.0.0</td>\n",
              "      <td>32119</td>\n",
              "      <td>149.171.126.9</td>\n",
              "      <td>111</td>\n",
              "      <td>udp</td>\n",
              "      <td>CON</td>\n",
              "      <td>0.078339</td>\n",
              "      <td>568</td>\n",
              "      <td>312</td>\n",
              "      <td>31</td>\n",
              "      <td>...</td>\n",
              "      <td>0</td>\n",
              "      <td>2</td>\n",
              "      <td>4</td>\n",
              "      <td>2</td>\n",
              "      <td>3</td>\n",
              "      <td>1</td>\n",
              "      <td>1</td>\n",
              "      <td>2</td>\n",
              "      <td>NaN</td>\n",
              "      <td>0</td>\n",
              "    </tr>\n",
              "  </tbody>\n",
              "</table>\n",
              "<p>5 rows × 49 columns</p>\n",
              "</div>\n",
              "    <div class=\"colab-df-buttons\">\n",
              "\n",
              "  <div class=\"colab-df-container\">\n",
              "    <button class=\"colab-df-convert\" onclick=\"convertToInteractive('df-dee0a644-c3e6-4f6b-a02f-5d95a4f43874')\"\n",
              "            title=\"Convert this dataframe to an interactive table.\"\n",
              "            style=\"display:none;\">\n",
              "\n",
              "  <svg xmlns=\"http://www.w3.org/2000/svg\" height=\"24px\" viewBox=\"0 -960 960 960\">\n",
              "    <path d=\"M120-120v-720h720v720H120Zm60-500h600v-160H180v160Zm220 220h160v-160H400v160Zm0 220h160v-160H400v160ZM180-400h160v-160H180v160Zm440 0h160v-160H620v160ZM180-180h160v-160H180v160Zm440 0h160v-160H620v160Z\"/>\n",
              "  </svg>\n",
              "    </button>\n",
              "\n",
              "  <style>\n",
              "    .colab-df-container {\n",
              "      display:flex;\n",
              "      gap: 12px;\n",
              "    }\n",
              "\n",
              "    .colab-df-convert {\n",
              "      background-color: #E8F0FE;\n",
              "      border: none;\n",
              "      border-radius: 50%;\n",
              "      cursor: pointer;\n",
              "      display: none;\n",
              "      fill: #1967D2;\n",
              "      height: 32px;\n",
              "      padding: 0 0 0 0;\n",
              "      width: 32px;\n",
              "    }\n",
              "\n",
              "    .colab-df-convert:hover {\n",
              "      background-color: #E2EBFA;\n",
              "      box-shadow: 0px 1px 2px rgba(60, 64, 67, 0.3), 0px 1px 3px 1px rgba(60, 64, 67, 0.15);\n",
              "      fill: #174EA6;\n",
              "    }\n",
              "\n",
              "    .colab-df-buttons div {\n",
              "      margin-bottom: 4px;\n",
              "    }\n",
              "\n",
              "    [theme=dark] .colab-df-convert {\n",
              "      background-color: #3B4455;\n",
              "      fill: #D2E3FC;\n",
              "    }\n",
              "\n",
              "    [theme=dark] .colab-df-convert:hover {\n",
              "      background-color: #434B5C;\n",
              "      box-shadow: 0px 1px 3px 1px rgba(0, 0, 0, 0.15);\n",
              "      filter: drop-shadow(0px 1px 2px rgba(0, 0, 0, 0.3));\n",
              "      fill: #FFFFFF;\n",
              "    }\n",
              "  </style>\n",
              "\n",
              "    <script>\n",
              "      const buttonEl =\n",
              "        document.querySelector('#df-dee0a644-c3e6-4f6b-a02f-5d95a4f43874 button.colab-df-convert');\n",
              "      buttonEl.style.display =\n",
              "        google.colab.kernel.accessAllowed ? 'block' : 'none';\n",
              "\n",
              "      async function convertToInteractive(key) {\n",
              "        const element = document.querySelector('#df-dee0a644-c3e6-4f6b-a02f-5d95a4f43874');\n",
              "        const dataTable =\n",
              "          await google.colab.kernel.invokeFunction('convertToInteractive',\n",
              "                                                    [key], {});\n",
              "        if (!dataTable) return;\n",
              "\n",
              "        const docLinkHtml = 'Like what you see? Visit the ' +\n",
              "          '<a target=\"_blank\" href=https://colab.research.google.com/notebooks/data_table.ipynb>data table notebook</a>'\n",
              "          + ' to learn more about interactive tables.';\n",
              "        element.innerHTML = '';\n",
              "        dataTable['output_type'] = 'display_data';\n",
              "        await google.colab.output.renderOutput(dataTable, element);\n",
              "        const docLink = document.createElement('div');\n",
              "        docLink.innerHTML = docLinkHtml;\n",
              "        element.appendChild(docLink);\n",
              "      }\n",
              "    </script>\n",
              "  </div>\n",
              "\n",
              "\n",
              "<div id=\"df-f550d6f3-b87a-4940-b5b5-333031c65c46\">\n",
              "  <button class=\"colab-df-quickchart\" onclick=\"quickchart('df-f550d6f3-b87a-4940-b5b5-333031c65c46')\"\n",
              "            title=\"Suggest charts\"\n",
              "            style=\"display:none;\">\n",
              "\n",
              "<svg xmlns=\"http://www.w3.org/2000/svg\" height=\"24px\"viewBox=\"0 0 24 24\"\n",
              "     width=\"24px\">\n",
              "    <g>\n",
              "        <path d=\"M19 3H5c-1.1 0-2 .9-2 2v14c0 1.1.9 2 2 2h14c1.1 0 2-.9 2-2V5c0-1.1-.9-2-2-2zM9 17H7v-7h2v7zm4 0h-2V7h2v10zm4 0h-2v-4h2v4z\"/>\n",
              "    </g>\n",
              "</svg>\n",
              "  </button>\n",
              "\n",
              "<style>\n",
              "  .colab-df-quickchart {\n",
              "      --bg-color: #E8F0FE;\n",
              "      --fill-color: #1967D2;\n",
              "      --hover-bg-color: #E2EBFA;\n",
              "      --hover-fill-color: #174EA6;\n",
              "      --disabled-fill-color: #AAA;\n",
              "      --disabled-bg-color: #DDD;\n",
              "  }\n",
              "\n",
              "  [theme=dark] .colab-df-quickchart {\n",
              "      --bg-color: #3B4455;\n",
              "      --fill-color: #D2E3FC;\n",
              "      --hover-bg-color: #434B5C;\n",
              "      --hover-fill-color: #FFFFFF;\n",
              "      --disabled-bg-color: #3B4455;\n",
              "      --disabled-fill-color: #666;\n",
              "  }\n",
              "\n",
              "  .colab-df-quickchart {\n",
              "    background-color: var(--bg-color);\n",
              "    border: none;\n",
              "    border-radius: 50%;\n",
              "    cursor: pointer;\n",
              "    display: none;\n",
              "    fill: var(--fill-color);\n",
              "    height: 32px;\n",
              "    padding: 0;\n",
              "    width: 32px;\n",
              "  }\n",
              "\n",
              "  .colab-df-quickchart:hover {\n",
              "    background-color: var(--hover-bg-color);\n",
              "    box-shadow: 0 1px 2px rgba(60, 64, 67, 0.3), 0 1px 3px 1px rgba(60, 64, 67, 0.15);\n",
              "    fill: var(--button-hover-fill-color);\n",
              "  }\n",
              "\n",
              "  .colab-df-quickchart-complete:disabled,\n",
              "  .colab-df-quickchart-complete:disabled:hover {\n",
              "    background-color: var(--disabled-bg-color);\n",
              "    fill: var(--disabled-fill-color);\n",
              "    box-shadow: none;\n",
              "  }\n",
              "\n",
              "  .colab-df-spinner {\n",
              "    border: 2px solid var(--fill-color);\n",
              "    border-color: transparent;\n",
              "    border-bottom-color: var(--fill-color);\n",
              "    animation:\n",
              "      spin 1s steps(1) infinite;\n",
              "  }\n",
              "\n",
              "  @keyframes spin {\n",
              "    0% {\n",
              "      border-color: transparent;\n",
              "      border-bottom-color: var(--fill-color);\n",
              "      border-left-color: var(--fill-color);\n",
              "    }\n",
              "    20% {\n",
              "      border-color: transparent;\n",
              "      border-left-color: var(--fill-color);\n",
              "      border-top-color: var(--fill-color);\n",
              "    }\n",
              "    30% {\n",
              "      border-color: transparent;\n",
              "      border-left-color: var(--fill-color);\n",
              "      border-top-color: var(--fill-color);\n",
              "      border-right-color: var(--fill-color);\n",
              "    }\n",
              "    40% {\n",
              "      border-color: transparent;\n",
              "      border-right-color: var(--fill-color);\n",
              "      border-top-color: var(--fill-color);\n",
              "    }\n",
              "    60% {\n",
              "      border-color: transparent;\n",
              "      border-right-color: var(--fill-color);\n",
              "    }\n",
              "    80% {\n",
              "      border-color: transparent;\n",
              "      border-right-color: var(--fill-color);\n",
              "      border-bottom-color: var(--fill-color);\n",
              "    }\n",
              "    90% {\n",
              "      border-color: transparent;\n",
              "      border-bottom-color: var(--fill-color);\n",
              "    }\n",
              "  }\n",
              "</style>\n",
              "\n",
              "  <script>\n",
              "    async function quickchart(key) {\n",
              "      const quickchartButtonEl =\n",
              "        document.querySelector('#' + key + ' button');\n",
              "      quickchartButtonEl.disabled = true;  // To prevent multiple clicks.\n",
              "      quickchartButtonEl.classList.add('colab-df-spinner');\n",
              "      try {\n",
              "        const charts = await google.colab.kernel.invokeFunction(\n",
              "            'suggestCharts', [key], {});\n",
              "      } catch (error) {\n",
              "        console.error('Error during call to suggestCharts:', error);\n",
              "      }\n",
              "      quickchartButtonEl.classList.remove('colab-df-spinner');\n",
              "      quickchartButtonEl.classList.add('colab-df-quickchart-complete');\n",
              "    }\n",
              "    (() => {\n",
              "      let quickchartButtonEl =\n",
              "        document.querySelector('#df-f550d6f3-b87a-4940-b5b5-333031c65c46 button');\n",
              "      quickchartButtonEl.style.display =\n",
              "        google.colab.kernel.accessAllowed ? 'block' : 'none';\n",
              "    })();\n",
              "  </script>\n",
              "</div>\n",
              "    </div>\n",
              "  </div>\n"
            ],
            "application/vnd.google.colaboratory.intrinsic+json": {
              "type": "dataframe",
              "variable_name": "data"
            }
          },
          "metadata": {},
          "execution_count": 82
        }
      ]
    },
    {
      "cell_type": "code",
      "source": [
        "data.info()"
      ],
      "metadata": {
        "colab": {
          "base_uri": "https://localhost:8080/"
        },
        "id": "ylzYRqxfQpZ2",
        "outputId": "990fbc8f-f032-4b85-91c7-ff2f017c0e49"
      },
      "execution_count": null,
      "outputs": [
        {
          "output_type": "stream",
          "name": "stdout",
          "text": [
            "<class 'pandas.core.frame.DataFrame'>\n",
            "RangeIndex: 700000 entries, 0 to 699999\n",
            "Data columns (total 49 columns):\n",
            " #   Column            Non-Null Count   Dtype  \n",
            "---  ------            --------------   -----  \n",
            " 0   srcip             700000 non-null  object \n",
            " 1   sport             700000 non-null  object \n",
            " 2   dstip             700000 non-null  object \n",
            " 3   dsport            700000 non-null  object \n",
            " 4   proto             700000 non-null  object \n",
            " 5   state             700000 non-null  object \n",
            " 6   dur               700000 non-null  float64\n",
            " 7   sbytes            700000 non-null  int64  \n",
            " 8   dbytes            700000 non-null  int64  \n",
            " 9   sttl              700000 non-null  int64  \n",
            " 10  dttl              700000 non-null  int64  \n",
            " 11  sloss             700000 non-null  int64  \n",
            " 12  dloss             700000 non-null  int64  \n",
            " 13  service           700000 non-null  object \n",
            " 14  Sload             700000 non-null  float64\n",
            " 15  Dload             700000 non-null  float64\n",
            " 16  Spkts             700000 non-null  int64  \n",
            " 17  Dpkts             700000 non-null  int64  \n",
            " 18  swin              700000 non-null  int64  \n",
            " 19  dwin              700000 non-null  int64  \n",
            " 20  stcpb             700000 non-null  int64  \n",
            " 21  dtcpb             700000 non-null  int64  \n",
            " 22  smeansz           700000 non-null  int64  \n",
            " 23  dmeansz           700000 non-null  int64  \n",
            " 24  trans_depth       700000 non-null  int64  \n",
            " 25  res_bdy_len       700000 non-null  int64  \n",
            " 26  Sjit              700000 non-null  float64\n",
            " 27  Djit              700000 non-null  float64\n",
            " 28  Stime             700000 non-null  int64  \n",
            " 29  Ltime             700000 non-null  int64  \n",
            " 30  Sintpkt           700000 non-null  float64\n",
            " 31  Dintpkt           700000 non-null  float64\n",
            " 32  tcprtt            700000 non-null  float64\n",
            " 33  synack            700000 non-null  float64\n",
            " 34  ackdat            700000 non-null  float64\n",
            " 35  is_sm_ips_ports   700000 non-null  int64  \n",
            " 36  ct_state_ttl      700000 non-null  int64  \n",
            " 37  ct_flw_http_mthd  700000 non-null  int64  \n",
            " 38  is_ftp_login      700000 non-null  int64  \n",
            " 39  ct_ftp_cmd        700000 non-null  int64  \n",
            " 40  ct_srv_src        700000 non-null  int64  \n",
            " 41  ct_srv_dst        700000 non-null  int64  \n",
            " 42  ct_dst_ltm        700000 non-null  int64  \n",
            " 43  ct_src_ ltm       700000 non-null  int64  \n",
            " 44  ct_src_dport_ltm  700000 non-null  int64  \n",
            " 45  ct_dst_sport_ltm  700000 non-null  int64  \n",
            " 46  ct_dst_src_ltm    700000 non-null  int64  \n",
            " 47  attack_cat        22215 non-null   object \n",
            " 48  Label             700000 non-null  int64  \n",
            "dtypes: float64(10), int64(31), object(8)\n",
            "memory usage: 261.7+ MB\n"
          ]
        }
      ]
    },
    {
      "cell_type": "code",
      "source": [
        "data['attack_cat'].unique()"
      ],
      "metadata": {
        "colab": {
          "base_uri": "https://localhost:8080/"
        },
        "id": "Q6sKydS3sq06",
        "outputId": "211f73bc-3aa9-42f2-fdb4-e3ff47d3602a"
      },
      "execution_count": null,
      "outputs": [
        {
          "output_type": "execute_result",
          "data": {
            "text/plain": [
              "array(['normal', 'Exploits', 'Reconnaissance', 'DoS', 'Generic',\n",
              "       'Shellcode', ' Fuzzers', 'Worms', 'Backdoors', 'Analysis'],\n",
              "      dtype=object)"
            ]
          },
          "metadata": {},
          "execution_count": 94
        }
      ]
    },
    {
      "cell_type": "code",
      "source": [
        "data.loc[:, 'srcip']"
      ],
      "metadata": {
        "colab": {
          "base_uri": "https://localhost:8080/"
        },
        "id": "8t9i5T2gk-QT",
        "outputId": "2da169f5-00dc-47c6-f843-b66c19809129"
      },
      "execution_count": null,
      "outputs": [
        {
          "output_type": "execute_result",
          "data": {
            "text/plain": [
              "0         59.166.0.0\n",
              "1         59.166.0.6\n",
              "2         59.166.0.5\n",
              "3         59.166.0.3\n",
              "4         59.166.0.0\n",
              "             ...    \n",
              "699995    59.166.0.8\n",
              "699996    59.166.0.0\n",
              "699997    59.166.0.0\n",
              "699998    59.166.0.6\n",
              "699999    59.166.0.0\n",
              "Name: srcip, Length: 700000, dtype: object"
            ]
          },
          "metadata": {},
          "execution_count": 86
        }
      ]
    },
    {
      "cell_type": "code",
      "source": [
        "data['attack_cat'].fillna('normal', inplace=True)"
      ],
      "metadata": {
        "id": "DbnTyrEiRyRO"
      },
      "execution_count": null,
      "outputs": []
    },
    {
      "cell_type": "code",
      "source": [
        "data.columns"
      ],
      "metadata": {
        "colab": {
          "base_uri": "https://localhost:8080/"
        },
        "id": "Jh-1v-m1TuLP",
        "outputId": "36e17179-c622-4d19-b692-9728a48f05e4"
      },
      "execution_count": null,
      "outputs": [
        {
          "output_type": "execute_result",
          "data": {
            "text/plain": [
              "Index(['srcip', 'sport', 'dstip', 'dsport', 'proto', 'state', 'dur', 'sbytes',\n",
              "       'dbytes', 'sttl', 'dttl', 'sloss', 'dloss', 'service', 'Sload', 'Dload',\n",
              "       'Spkts', 'Dpkts', 'swin', 'dwin', 'stcpb', 'dtcpb', 'smeansz',\n",
              "       'dmeansz', 'trans_depth', 'res_bdy_len', 'Sjit', 'Djit', 'Stime',\n",
              "       'Ltime', 'Sintpkt', 'Dintpkt', 'tcprtt', 'synack', 'ackdat',\n",
              "       'is_sm_ips_ports', 'ct_state_ttl', 'ct_flw_http_mthd', 'is_ftp_login',\n",
              "       'ct_ftp_cmd', 'ct_srv_src', 'ct_srv_dst', 'ct_dst_ltm', 'ct_src_ ltm',\n",
              "       'ct_src_dport_ltm', 'ct_dst_sport_ltm', 'ct_dst_src_ltm', 'attack_cat',\n",
              "       'Label'],\n",
              "      dtype='object')"
            ]
          },
          "metadata": {},
          "execution_count": 88
        }
      ]
    },
    {
      "cell_type": "code",
      "source": [
        "data['service'].isnull().sum()"
      ],
      "metadata": {
        "colab": {
          "base_uri": "https://localhost:8080/"
        },
        "id": "wXCA3jpRaLSP",
        "outputId": "92c7a4f3-58e8-4c43-cd81-9dd78c451eb1"
      },
      "execution_count": null,
      "outputs": [
        {
          "output_type": "execute_result",
          "data": {
            "text/plain": [
              "0"
            ]
          },
          "metadata": {},
          "execution_count": 89
        }
      ]
    },
    {
      "cell_type": "code",
      "source": [
        "data['service']"
      ],
      "metadata": {
        "colab": {
          "base_uri": "https://localhost:8080/"
        },
        "id": "5OOQw7V0aAiA",
        "outputId": "065d0caa-3799-4b4f-ff64-fe8a3aedb106"
      },
      "execution_count": null,
      "outputs": [
        {
          "output_type": "execute_result",
          "data": {
            "text/plain": [
              "0            -\n",
              "1          dns\n",
              "2          dns\n",
              "3          dns\n",
              "4            -\n",
              "          ... \n",
              "699995       -\n",
              "699996    http\n",
              "699997       -\n",
              "699998       -\n",
              "699999       -\n",
              "Name: service, Length: 700000, dtype: object"
            ]
          },
          "metadata": {},
          "execution_count": 90
        }
      ]
    },
    {
      "cell_type": "code",
      "source": [
        "data['service'].replace('-', 'others', inplace=True)"
      ],
      "metadata": {
        "id": "UfemfCsmciMX"
      },
      "execution_count": null,
      "outputs": []
    },
    {
      "cell_type": "code",
      "source": [
        "data['state']"
      ],
      "metadata": {
        "colab": {
          "base_uri": "https://localhost:8080/"
        },
        "id": "gSzjdMuJDylA",
        "outputId": "852880e2-81b1-4b20-922d-5cf2c9a26089"
      },
      "execution_count": null,
      "outputs": [
        {
          "output_type": "execute_result",
          "data": {
            "text/plain": [
              "0         CON\n",
              "1         CON\n",
              "2         CON\n",
              "3         CON\n",
              "4         CON\n",
              "         ... \n",
              "699995    FIN\n",
              "699996    FIN\n",
              "699997    FIN\n",
              "699998    CON\n",
              "699999    FIN\n",
              "Name: state, Length: 700000, dtype: object"
            ]
          },
          "metadata": {},
          "execution_count": 92
        }
      ]
    },
    {
      "cell_type": "code",
      "source": [
        "data['service']"
      ],
      "metadata": {
        "colab": {
          "base_uri": "https://localhost:8080/"
        },
        "id": "4SG4KGytcqy6",
        "outputId": "9f4ebb24-1128-48d5-807f-6551268fca62"
      },
      "execution_count": null,
      "outputs": [
        {
          "output_type": "execute_result",
          "data": {
            "text/plain": [
              "0         others\n",
              "1            dns\n",
              "2            dns\n",
              "3            dns\n",
              "4         others\n",
              "           ...  \n",
              "699995    others\n",
              "699996      http\n",
              "699997    others\n",
              "699998    others\n",
              "699999    others\n",
              "Name: service, Length: 700000, dtype: object"
            ]
          },
          "metadata": {},
          "execution_count": 93
        }
      ]
    },
    {
      "cell_type": "code",
      "source": [
        "data['dsport'].value_counts()"
      ],
      "metadata": {
        "colab": {
          "base_uri": "https://localhost:8080/"
        },
        "id": "-XkMEAP19yS8",
        "outputId": "fc448c53-6eef-4a1e-c25c-ed5a785ea75d"
      },
      "execution_count": null,
      "outputs": [
        {
          "output_type": "execute_result",
          "data": {
            "text/plain": [
              "dsport\n",
              "53       107483\n",
              "80        61279\n",
              "5190      33429\n",
              "53        29813\n",
              "6881      28222\n",
              "          ...  \n",
              "22341         1\n",
              "36420         1\n",
              "35534         1\n",
              "2706          1\n",
              "57317         1\n",
              "Name: count, Length: 87819, dtype: int64"
            ]
          },
          "metadata": {},
          "execution_count": 95
        }
      ]
    },
    {
      "cell_type": "code",
      "source": [
        "data['dsport'].replace('0xc0a8', 53, inplace=True)\n",
        "# data['service'].replace('-', 'others', inplace=True)"
      ],
      "metadata": {
        "id": "QTnpd5YWZ0rg"
      },
      "execution_count": null,
      "outputs": []
    },
    {
      "cell_type": "code",
      "source": [
        "data.columns"
      ],
      "metadata": {
        "colab": {
          "base_uri": "https://localhost:8080/"
        },
        "id": "curFqvP2c3Hq",
        "outputId": "e23f538b-b219-4acb-92d7-ee9b62a76a46"
      },
      "execution_count": null,
      "outputs": [
        {
          "output_type": "execute_result",
          "data": {
            "text/plain": [
              "Index(['srcip', 'sport', 'dstip', 'dsport', 'proto', 'state', 'dur', 'sbytes',\n",
              "       'dbytes', 'sttl', 'dttl', 'sloss', 'dloss', 'service', 'Sload', 'Dload',\n",
              "       'Spkts', 'Dpkts', 'swin', 'dwin', 'stcpb', 'dtcpb', 'smeansz',\n",
              "       'dmeansz', 'trans_depth', 'res_bdy_len', 'Sjit', 'Djit', 'Stime',\n",
              "       'Ltime', 'Sintpkt', 'Dintpkt', 'tcprtt', 'synack', 'ackdat',\n",
              "       'is_sm_ips_ports', 'ct_state_ttl', 'ct_flw_http_mthd', 'is_ftp_login',\n",
              "       'ct_ftp_cmd', 'ct_srv_src', 'ct_srv_dst', 'ct_dst_ltm', 'ct_src_ ltm',\n",
              "       'ct_src_dport_ltm', 'ct_dst_sport_ltm', 'ct_dst_src_ltm', 'attack_cat',\n",
              "       'Label'],\n",
              "      dtype='object')"
            ]
          },
          "metadata": {},
          "execution_count": 97
        }
      ]
    },
    {
      "cell_type": "code",
      "source": [
        "data['dsport'].unique()"
      ],
      "metadata": {
        "colab": {
          "base_uri": "https://localhost:8080/"
        },
        "id": "GZWHJ8GCWYUD",
        "outputId": "dee1d1d2-f35c-4cf8-8e01-d96b21f5503b"
      },
      "execution_count": null,
      "outputs": [
        {
          "output_type": "execute_result",
          "data": {
            "text/plain": [
              "array(['1024', '53', '111', ..., 29112, 30186, 59241], dtype=object)"
            ]
          },
          "metadata": {},
          "execution_count": 98
        }
      ]
    },
    {
      "cell_type": "code",
      "source": [
        "dsport_only = {\n",
        "    'dsport': data['dsport'].unique()\n",
        "}\n",
        "\n",
        "dsport_only_frame = pd.DataFrame(dsport_only)"
      ],
      "metadata": {
        "id": "AZVhmlYnVA8I"
      },
      "execution_count": null,
      "outputs": []
    },
    {
      "cell_type": "code",
      "source": [
        "dsport_only_frame"
      ],
      "metadata": {
        "colab": {
          "base_uri": "https://localhost:8080/",
          "height": 423
        },
        "id": "_sepHw9CVdA1",
        "outputId": "543dc840-8a38-465b-f914-fd70ef860143"
      },
      "execution_count": null,
      "outputs": [
        {
          "output_type": "execute_result",
          "data": {
            "text/plain": [
              "      dsport\n",
              "0       1024\n",
              "1         53\n",
              "2        111\n",
              "3          0\n",
              "4      41049\n",
              "...      ...\n",
              "87813  20416\n",
              "87814  29289\n",
              "87815  29112\n",
              "87816  30186\n",
              "87817  59241\n",
              "\n",
              "[87818 rows x 1 columns]"
            ],
            "text/html": [
              "\n",
              "  <div id=\"df-c9b835ea-c94e-4ccb-af81-b7ee5fa04efa\" class=\"colab-df-container\">\n",
              "    <div>\n",
              "<style scoped>\n",
              "    .dataframe tbody tr th:only-of-type {\n",
              "        vertical-align: middle;\n",
              "    }\n",
              "\n",
              "    .dataframe tbody tr th {\n",
              "        vertical-align: top;\n",
              "    }\n",
              "\n",
              "    .dataframe thead th {\n",
              "        text-align: right;\n",
              "    }\n",
              "</style>\n",
              "<table border=\"1\" class=\"dataframe\">\n",
              "  <thead>\n",
              "    <tr style=\"text-align: right;\">\n",
              "      <th></th>\n",
              "      <th>dsport</th>\n",
              "    </tr>\n",
              "  </thead>\n",
              "  <tbody>\n",
              "    <tr>\n",
              "      <th>0</th>\n",
              "      <td>1024</td>\n",
              "    </tr>\n",
              "    <tr>\n",
              "      <th>1</th>\n",
              "      <td>53</td>\n",
              "    </tr>\n",
              "    <tr>\n",
              "      <th>2</th>\n",
              "      <td>111</td>\n",
              "    </tr>\n",
              "    <tr>\n",
              "      <th>3</th>\n",
              "      <td>0</td>\n",
              "    </tr>\n",
              "    <tr>\n",
              "      <th>4</th>\n",
              "      <td>41049</td>\n",
              "    </tr>\n",
              "    <tr>\n",
              "      <th>...</th>\n",
              "      <td>...</td>\n",
              "    </tr>\n",
              "    <tr>\n",
              "      <th>87813</th>\n",
              "      <td>20416</td>\n",
              "    </tr>\n",
              "    <tr>\n",
              "      <th>87814</th>\n",
              "      <td>29289</td>\n",
              "    </tr>\n",
              "    <tr>\n",
              "      <th>87815</th>\n",
              "      <td>29112</td>\n",
              "    </tr>\n",
              "    <tr>\n",
              "      <th>87816</th>\n",
              "      <td>30186</td>\n",
              "    </tr>\n",
              "    <tr>\n",
              "      <th>87817</th>\n",
              "      <td>59241</td>\n",
              "    </tr>\n",
              "  </tbody>\n",
              "</table>\n",
              "<p>87818 rows × 1 columns</p>\n",
              "</div>\n",
              "    <div class=\"colab-df-buttons\">\n",
              "\n",
              "  <div class=\"colab-df-container\">\n",
              "    <button class=\"colab-df-convert\" onclick=\"convertToInteractive('df-c9b835ea-c94e-4ccb-af81-b7ee5fa04efa')\"\n",
              "            title=\"Convert this dataframe to an interactive table.\"\n",
              "            style=\"display:none;\">\n",
              "\n",
              "  <svg xmlns=\"http://www.w3.org/2000/svg\" height=\"24px\" viewBox=\"0 -960 960 960\">\n",
              "    <path d=\"M120-120v-720h720v720H120Zm60-500h600v-160H180v160Zm220 220h160v-160H400v160Zm0 220h160v-160H400v160ZM180-400h160v-160H180v160Zm440 0h160v-160H620v160ZM180-180h160v-160H180v160Zm440 0h160v-160H620v160Z\"/>\n",
              "  </svg>\n",
              "    </button>\n",
              "\n",
              "  <style>\n",
              "    .colab-df-container {\n",
              "      display:flex;\n",
              "      gap: 12px;\n",
              "    }\n",
              "\n",
              "    .colab-df-convert {\n",
              "      background-color: #E8F0FE;\n",
              "      border: none;\n",
              "      border-radius: 50%;\n",
              "      cursor: pointer;\n",
              "      display: none;\n",
              "      fill: #1967D2;\n",
              "      height: 32px;\n",
              "      padding: 0 0 0 0;\n",
              "      width: 32px;\n",
              "    }\n",
              "\n",
              "    .colab-df-convert:hover {\n",
              "      background-color: #E2EBFA;\n",
              "      box-shadow: 0px 1px 2px rgba(60, 64, 67, 0.3), 0px 1px 3px 1px rgba(60, 64, 67, 0.15);\n",
              "      fill: #174EA6;\n",
              "    }\n",
              "\n",
              "    .colab-df-buttons div {\n",
              "      margin-bottom: 4px;\n",
              "    }\n",
              "\n",
              "    [theme=dark] .colab-df-convert {\n",
              "      background-color: #3B4455;\n",
              "      fill: #D2E3FC;\n",
              "    }\n",
              "\n",
              "    [theme=dark] .colab-df-convert:hover {\n",
              "      background-color: #434B5C;\n",
              "      box-shadow: 0px 1px 3px 1px rgba(0, 0, 0, 0.15);\n",
              "      filter: drop-shadow(0px 1px 2px rgba(0, 0, 0, 0.3));\n",
              "      fill: #FFFFFF;\n",
              "    }\n",
              "  </style>\n",
              "\n",
              "    <script>\n",
              "      const buttonEl =\n",
              "        document.querySelector('#df-c9b835ea-c94e-4ccb-af81-b7ee5fa04efa button.colab-df-convert');\n",
              "      buttonEl.style.display =\n",
              "        google.colab.kernel.accessAllowed ? 'block' : 'none';\n",
              "\n",
              "      async function convertToInteractive(key) {\n",
              "        const element = document.querySelector('#df-c9b835ea-c94e-4ccb-af81-b7ee5fa04efa');\n",
              "        const dataTable =\n",
              "          await google.colab.kernel.invokeFunction('convertToInteractive',\n",
              "                                                    [key], {});\n",
              "        if (!dataTable) return;\n",
              "\n",
              "        const docLinkHtml = 'Like what you see? Visit the ' +\n",
              "          '<a target=\"_blank\" href=https://colab.research.google.com/notebooks/data_table.ipynb>data table notebook</a>'\n",
              "          + ' to learn more about interactive tables.';\n",
              "        element.innerHTML = '';\n",
              "        dataTable['output_type'] = 'display_data';\n",
              "        await google.colab.output.renderOutput(dataTable, element);\n",
              "        const docLink = document.createElement('div');\n",
              "        docLink.innerHTML = docLinkHtml;\n",
              "        element.appendChild(docLink);\n",
              "      }\n",
              "    </script>\n",
              "  </div>\n",
              "\n",
              "\n",
              "<div id=\"df-c689e3f7-64a3-46ec-b61b-6fc9fafc07bf\">\n",
              "  <button class=\"colab-df-quickchart\" onclick=\"quickchart('df-c689e3f7-64a3-46ec-b61b-6fc9fafc07bf')\"\n",
              "            title=\"Suggest charts\"\n",
              "            style=\"display:none;\">\n",
              "\n",
              "<svg xmlns=\"http://www.w3.org/2000/svg\" height=\"24px\"viewBox=\"0 0 24 24\"\n",
              "     width=\"24px\">\n",
              "    <g>\n",
              "        <path d=\"M19 3H5c-1.1 0-2 .9-2 2v14c0 1.1.9 2 2 2h14c1.1 0 2-.9 2-2V5c0-1.1-.9-2-2-2zM9 17H7v-7h2v7zm4 0h-2V7h2v10zm4 0h-2v-4h2v4z\"/>\n",
              "    </g>\n",
              "</svg>\n",
              "  </button>\n",
              "\n",
              "<style>\n",
              "  .colab-df-quickchart {\n",
              "      --bg-color: #E8F0FE;\n",
              "      --fill-color: #1967D2;\n",
              "      --hover-bg-color: #E2EBFA;\n",
              "      --hover-fill-color: #174EA6;\n",
              "      --disabled-fill-color: #AAA;\n",
              "      --disabled-bg-color: #DDD;\n",
              "  }\n",
              "\n",
              "  [theme=dark] .colab-df-quickchart {\n",
              "      --bg-color: #3B4455;\n",
              "      --fill-color: #D2E3FC;\n",
              "      --hover-bg-color: #434B5C;\n",
              "      --hover-fill-color: #FFFFFF;\n",
              "      --disabled-bg-color: #3B4455;\n",
              "      --disabled-fill-color: #666;\n",
              "  }\n",
              "\n",
              "  .colab-df-quickchart {\n",
              "    background-color: var(--bg-color);\n",
              "    border: none;\n",
              "    border-radius: 50%;\n",
              "    cursor: pointer;\n",
              "    display: none;\n",
              "    fill: var(--fill-color);\n",
              "    height: 32px;\n",
              "    padding: 0;\n",
              "    width: 32px;\n",
              "  }\n",
              "\n",
              "  .colab-df-quickchart:hover {\n",
              "    background-color: var(--hover-bg-color);\n",
              "    box-shadow: 0 1px 2px rgba(60, 64, 67, 0.3), 0 1px 3px 1px rgba(60, 64, 67, 0.15);\n",
              "    fill: var(--button-hover-fill-color);\n",
              "  }\n",
              "\n",
              "  .colab-df-quickchart-complete:disabled,\n",
              "  .colab-df-quickchart-complete:disabled:hover {\n",
              "    background-color: var(--disabled-bg-color);\n",
              "    fill: var(--disabled-fill-color);\n",
              "    box-shadow: none;\n",
              "  }\n",
              "\n",
              "  .colab-df-spinner {\n",
              "    border: 2px solid var(--fill-color);\n",
              "    border-color: transparent;\n",
              "    border-bottom-color: var(--fill-color);\n",
              "    animation:\n",
              "      spin 1s steps(1) infinite;\n",
              "  }\n",
              "\n",
              "  @keyframes spin {\n",
              "    0% {\n",
              "      border-color: transparent;\n",
              "      border-bottom-color: var(--fill-color);\n",
              "      border-left-color: var(--fill-color);\n",
              "    }\n",
              "    20% {\n",
              "      border-color: transparent;\n",
              "      border-left-color: var(--fill-color);\n",
              "      border-top-color: var(--fill-color);\n",
              "    }\n",
              "    30% {\n",
              "      border-color: transparent;\n",
              "      border-left-color: var(--fill-color);\n",
              "      border-top-color: var(--fill-color);\n",
              "      border-right-color: var(--fill-color);\n",
              "    }\n",
              "    40% {\n",
              "      border-color: transparent;\n",
              "      border-right-color: var(--fill-color);\n",
              "      border-top-color: var(--fill-color);\n",
              "    }\n",
              "    60% {\n",
              "      border-color: transparent;\n",
              "      border-right-color: var(--fill-color);\n",
              "    }\n",
              "    80% {\n",
              "      border-color: transparent;\n",
              "      border-right-color: var(--fill-color);\n",
              "      border-bottom-color: var(--fill-color);\n",
              "    }\n",
              "    90% {\n",
              "      border-color: transparent;\n",
              "      border-bottom-color: var(--fill-color);\n",
              "    }\n",
              "  }\n",
              "</style>\n",
              "\n",
              "  <script>\n",
              "    async function quickchart(key) {\n",
              "      const quickchartButtonEl =\n",
              "        document.querySelector('#' + key + ' button');\n",
              "      quickchartButtonEl.disabled = true;  // To prevent multiple clicks.\n",
              "      quickchartButtonEl.classList.add('colab-df-spinner');\n",
              "      try {\n",
              "        const charts = await google.colab.kernel.invokeFunction(\n",
              "            'suggestCharts', [key], {});\n",
              "      } catch (error) {\n",
              "        console.error('Error during call to suggestCharts:', error);\n",
              "      }\n",
              "      quickchartButtonEl.classList.remove('colab-df-spinner');\n",
              "      quickchartButtonEl.classList.add('colab-df-quickchart-complete');\n",
              "    }\n",
              "    (() => {\n",
              "      let quickchartButtonEl =\n",
              "        document.querySelector('#df-c689e3f7-64a3-46ec-b61b-6fc9fafc07bf button');\n",
              "      quickchartButtonEl.style.display =\n",
              "        google.colab.kernel.accessAllowed ? 'block' : 'none';\n",
              "    })();\n",
              "  </script>\n",
              "</div>\n",
              "    </div>\n",
              "  </div>\n"
            ],
            "application/vnd.google.colaboratory.intrinsic+json": {
              "type": "dataframe",
              "variable_name": "dsport_only_frame",
              "summary": "{\n  \"name\": \"dsport_only_frame\",\n  \"rows\": 87818,\n  \"fields\": [\n    {\n      \"column\": \"dsport\",\n      \"properties\": {\n        \"dtype\": \"string\",\n        \"num_unique_values\": 87818,\n        \"samples\": [\n          28223,\n          \"5207\",\n          \"23396\"\n        ],\n        \"semantic_type\": \"\",\n        \"description\": \"\"\n      }\n    }\n  ]\n}"
            }
          },
          "metadata": {},
          "execution_count": 100
        }
      ]
    },
    {
      "cell_type": "code",
      "source": [
        "# dsport_csv = dsport_only_frame.to_csv('dsport_only.csv')"
      ],
      "metadata": {
        "id": "f2TQGkYTVf1j"
      },
      "execution_count": null,
      "outputs": []
    },
    {
      "cell_type": "code",
      "source": [
        "sport_only = {\n",
        "    'dsport': data['sport'].unique()\n",
        "}\n",
        "\n",
        "sport_only_frame = pd.DataFrame(sport_only)"
      ],
      "metadata": {
        "id": "f_q32HBsV-OY"
      },
      "execution_count": null,
      "outputs": []
    },
    {
      "cell_type": "code",
      "source": [
        "# sport_csv = sport_only_frame.to_csv('sport_only.csv')"
      ],
      "metadata": {
        "id": "W1GC4up_V-y6"
      },
      "execution_count": null,
      "outputs": []
    },
    {
      "cell_type": "code",
      "source": [
        "cat_columns = ['srcip', 'dstip', 'sport', 'dsport', 'proto', 'state']\n",
        "\n",
        "for i in cat_columns:\n",
        "  if i == 'srcip':\n",
        "    data[i].replace('-', '59.166.0.2', inplace=True)\n",
        "  if i == 'dstip':\n",
        "    data[i].replace('-', '149.171.126.4', inplace=True)\n",
        "  if i == 'sport':\n",
        "    # if isinstance(data[i], str):\n",
        "    data[i].replace('-', 0, inplace=True)\n",
        "    data[i].replace('0x000c', 0, inplace=True)\n",
        "    data[i].replace('0x000b', 0, inplace=True)\n",
        "    data[i].replace('0x20205321', 0, inplace=True)\n",
        "  if i == 'dsport':\n",
        "    # if isinstance(i, str):\n",
        "    data[i].replace('-', 53, inplace=True)\n",
        "    data[i].replace('0x000c', 0, inplace=True)\n",
        "    data[i].replace('0x000b', 0, inplace=True)\n",
        "    data[i].replace('0x20205321', 0, inplace=True)\n",
        "  if i == 'proto':\n",
        "    data[i].replace('-', 'tcp', inplace=True)\n",
        "  if i == 'state':\n",
        "    data[i].replace('-', 'FIN', inplace=True)"
      ],
      "metadata": {
        "id": "V82s7rlxQq9k"
      },
      "execution_count": null,
      "outputs": []
    },
    {
      "cell_type": "code",
      "source": [
        "data['is_sm_ips_ports'].info()"
      ],
      "metadata": {
        "colab": {
          "base_uri": "https://localhost:8080/"
        },
        "id": "XKuYJq54c3P2",
        "outputId": "4d738d25-fbce-4219-9474-87dc3362d392"
      },
      "execution_count": null,
      "outputs": [
        {
          "output_type": "stream",
          "name": "stdout",
          "text": [
            "<class 'pandas.core.series.Series'>\n",
            "RangeIndex: 700000 entries, 0 to 699999\n",
            "Series name: is_sm_ips_ports\n",
            "Non-Null Count   Dtype\n",
            "--------------   -----\n",
            "700000 non-null  int64\n",
            "dtypes: int64(1)\n",
            "memory usage: 5.3 MB\n"
          ]
        }
      ]
    },
    {
      "cell_type": "code",
      "source": [
        "data['is_sm_ips_ports'].unique()"
      ],
      "metadata": {
        "colab": {
          "base_uri": "https://localhost:8080/"
        },
        "id": "uHYVKgC8c3Yq",
        "outputId": "df49fc45-9159-4a79-f691-e3d9a18489a8"
      },
      "execution_count": null,
      "outputs": [
        {
          "output_type": "execute_result",
          "data": {
            "text/plain": [
              "array([0, 1])"
            ]
          },
          "metadata": {},
          "execution_count": 108
        }
      ]
    },
    {
      "cell_type": "code",
      "source": [
        "data['ct_ftp_cmd']"
      ],
      "metadata": {
        "colab": {
          "base_uri": "https://localhost:8080/"
        },
        "id": "Iy_10QXSc3hK",
        "outputId": "0f728d66-7725-47df-a90e-62917233bbf1"
      },
      "execution_count": null,
      "outputs": [
        {
          "output_type": "execute_result",
          "data": {
            "text/plain": [
              "0         0\n",
              "1         0\n",
              "2         0\n",
              "3         0\n",
              "4         0\n",
              "         ..\n",
              "699995    0\n",
              "699996    0\n",
              "699997    0\n",
              "699998    0\n",
              "699999    0\n",
              "Name: ct_ftp_cmd, Length: 700000, dtype: int64"
            ]
          },
          "metadata": {},
          "execution_count": 109
        }
      ]
    },
    {
      "cell_type": "code",
      "source": [
        "data['state'].replace('-', 'others', inplace=True)"
      ],
      "metadata": {
        "id": "Fp6GyPrgc3qW"
      },
      "execution_count": null,
      "outputs": []
    },
    {
      "cell_type": "code",
      "source": [],
      "metadata": {
        "id": "05mkfqMuGHd_"
      },
      "execution_count": null,
      "outputs": []
    },
    {
      "cell_type": "code",
      "source": [
        "data['srcip'].value_counts()"
      ],
      "metadata": {
        "colab": {
          "base_uri": "https://localhost:8080/"
        },
        "id": "jimpcpgnGgKb",
        "outputId": "cf875176-658d-4846-d837-f7aa2af6a894"
      },
      "execution_count": null,
      "outputs": [
        {
          "output_type": "execute_result",
          "data": {
            "text/plain": [
              "srcip\n",
              "59.166.0.2         67209\n",
              "59.166.0.0         67127\n",
              "59.166.0.5         67091\n",
              "59.166.0.4         66722\n",
              "59.166.0.1         66587\n",
              "59.166.0.3         66145\n",
              "59.166.0.6         64689\n",
              "59.166.0.8         64640\n",
              "59.166.0.9         64187\n",
              "59.166.0.7         63725\n",
              "175.45.176.1       14325\n",
              "149.171.126.18      6010\n",
              "175.45.176.3        5128\n",
              "175.45.176.0        4782\n",
              "175.45.176.2        3236\n",
              "10.40.85.1          1680\n",
              "10.40.182.1         1670\n",
              "10.40.85.30          888\n",
              "10.40.170.2          874\n",
              "10.40.182.3          874\n",
              "149.171.126.1        251\n",
              "149.171.126.5        249\n",
              "149.171.126.6        241\n",
              "149.171.126.2        232\n",
              "149.171.126.3        231\n",
              "149.171.126.4        225\n",
              "149.171.126.9        217\n",
              "149.171.126.8        217\n",
              "149.171.126.7        207\n",
              "149.171.126.0        192\n",
              "192.168.241.243      108\n",
              "149.171.126.11        16\n",
              "149.171.126.15         8\n",
              "149.171.126.16         6\n",
              "149.171.126.10         3\n",
              "149.171.126.19         3\n",
              "149.171.126.12         2\n",
              "149.171.126.17         1\n",
              "149.171.126.13         1\n",
              "127.0.0.1              1\n",
              "Name: count, dtype: int64"
            ]
          },
          "metadata": {},
          "execution_count": 111
        }
      ]
    },
    {
      "cell_type": "code",
      "source": [
        "data['dstip'].value_counts()"
      ],
      "metadata": {
        "colab": {
          "base_uri": "https://localhost:8080/"
        },
        "id": "2c36MSYdKUtd",
        "outputId": "9f6953df-1499-4d62-9abb-6249cd0f19af"
      },
      "execution_count": null,
      "outputs": [
        {
          "output_type": "execute_result",
          "data": {
            "text/plain": [
              "dstip\n",
              "149.171.126.4      67331\n",
              "149.171.126.1      66973\n",
              "149.171.126.0      66925\n",
              "149.171.126.5      66723\n",
              "149.171.126.3      66697\n",
              "149.171.126.2      66674\n",
              "149.171.126.9      65187\n",
              "149.171.126.7      64057\n",
              "149.171.126.6      63951\n",
              "149.171.126.8      63604\n",
              "149.171.126.18      8213\n",
              "175.45.176.1        5965\n",
              "149.171.126.12      4815\n",
              "149.171.126.13      2113\n",
              "149.171.126.17      2109\n",
              "149.171.126.10      1975\n",
              "149.171.126.14      1955\n",
              "224.0.0.5           1912\n",
              "149.171.126.11      1796\n",
              "149.171.126.15      1631\n",
              "10.40.182.3         1582\n",
              "149.171.126.19      1449\n",
              "149.171.126.16      1400\n",
              "10.40.85.1           888\n",
              "10.40.170.2          874\n",
              "10.40.85.30          718\n",
              "59.166.0.1           273\n",
              "59.166.0.2           253\n",
              "59.166.0.0           241\n",
              "59.166.0.9           233\n",
              "59.166.0.4           218\n",
              "59.166.0.8           215\n",
              "59.166.0.5           214\n",
              "59.166.0.6           211\n",
              "59.166.0.7           203\n",
              "59.166.0.3           201\n",
              "192.168.241.243      108\n",
              "175.45.176.0          70\n",
              "224.0.0.1             14\n",
              "175.45.176.3          10\n",
              "175.45.176.2          10\n",
              "10.40.198.10           6\n",
              "32.50.32.66            2\n",
              "127.0.0.1              1\n",
              "Name: count, dtype: int64"
            ]
          },
          "metadata": {},
          "execution_count": 112
        }
      ]
    },
    {
      "cell_type": "code",
      "source": [
        "data['sport'].value_counts()"
      ],
      "metadata": {
        "colab": {
          "base_uri": "https://localhost:8080/"
        },
        "id": "tjVNwmvVKc-e",
        "outputId": "dcd1a832-b14c-4b44-baa4-b004230f514d"
      },
      "execution_count": null,
      "outputs": [
        {
          "output_type": "execute_result",
          "data": {
            "text/plain": [
              "sport\n",
              "0        6065\n",
              "47439    4689\n",
              "1043     4033\n",
              "0        3611\n",
              "47439    2243\n",
              "         ... \n",
              "28469       1\n",
              "37391       1\n",
              "24055       1\n",
              "54368       1\n",
              "10142       1\n",
              "Name: count, Length: 100269, dtype: int64"
            ]
          },
          "metadata": {},
          "execution_count": 113
        }
      ]
    },
    {
      "cell_type": "code",
      "source": [
        "data['dsport'].value_counts()"
      ],
      "metadata": {
        "colab": {
          "base_uri": "https://localhost:8080/"
        },
        "id": "xQSq09sYKpye",
        "outputId": "fa7ca29d-9f04-412f-9640-cab439b620ff"
      },
      "execution_count": null,
      "outputs": [
        {
          "output_type": "execute_result",
          "data": {
            "text/plain": [
              "dsport\n",
              "53       107544\n",
              "80        61279\n",
              "5190      33429\n",
              "53        29813\n",
              "6881      28222\n",
              "          ...  \n",
              "35534         1\n",
              "2706          1\n",
              "57317         1\n",
              "5467          1\n",
              "52099         1\n",
              "Name: count, Length: 87816, dtype: int64"
            ]
          },
          "metadata": {},
          "execution_count": 114
        }
      ]
    },
    {
      "cell_type": "code",
      "source": [
        "data['proto'].value_counts()"
      ],
      "metadata": {
        "colab": {
          "base_uri": "https://localhost:8080/"
        },
        "id": "luslQTnfLABN",
        "outputId": "46445cc6-f997-499a-9725-85bc2c5d7f41"
      },
      "execution_count": null,
      "outputs": [
        {
          "output_type": "execute_result",
          "data": {
            "text/plain": [
              "proto\n",
              "tcp     494737\n",
              "udp     195478\n",
              "arp       4062\n",
              "ospf      2116\n",
              "unas      1442\n",
              "         ...  \n",
              "irtp        14\n",
              "sdrp        14\n",
              "udt          4\n",
              "esp          2\n",
              "rtp          1\n",
              "Name: count, Length: 135, dtype: int64"
            ]
          },
          "metadata": {},
          "execution_count": 115
        }
      ]
    },
    {
      "cell_type": "code",
      "source": [
        "data['state'].value_counts()"
      ],
      "metadata": {
        "colab": {
          "base_uri": "https://localhost:8080/"
        },
        "id": "HN92DBOWLX-M",
        "outputId": "fa7275c1-69cd-4e66-e9df-0ec04c98b59c"
      },
      "execution_count": null,
      "outputs": [
        {
          "output_type": "execute_result",
          "data": {
            "text/plain": [
              "state\n",
              "FIN    487911\n",
              "CON    187504\n",
              "INT     21799\n",
              "REQ      2429\n",
              "CLO       111\n",
              "URH       108\n",
              "RST        74\n",
              "ECO        26\n",
              "ACC        22\n",
              "PAR         4\n",
              "URN         2\n",
              "TXD         2\n",
              "no          2\n",
              "MAS         2\n",
              "TST         2\n",
              "ECR         2\n",
              "Name: count, dtype: int64"
            ]
          },
          "metadata": {},
          "execution_count": 116
        }
      ]
    },
    {
      "cell_type": "code",
      "source": [
        "data['service'].value_counts()"
      ],
      "metadata": {
        "colab": {
          "base_uri": "https://localhost:8080/"
        },
        "id": "DG8FDxmcLjmM",
        "outputId": "98e6dd98-264a-4e81-a5e6-bf904eb71d87"
      },
      "execution_count": null,
      "outputs": [
        {
          "output_type": "execute_result",
          "data": {
            "text/plain": [
              "service\n",
              "others      430656\n",
              "dns         121169\n",
              "http         55858\n",
              "ftp-data     37305\n",
              "smtp         23588\n",
              "ftp          16531\n",
              "ssh          14636\n",
              "pop3           206\n",
              "ssl             20\n",
              "snmp            14\n",
              "radius           7\n",
              "dhcp             7\n",
              "irc              3\n",
              "Name: count, dtype: int64"
            ]
          },
          "metadata": {},
          "execution_count": 117
        }
      ]
    },
    {
      "cell_type": "code",
      "source": [
        "hello = '0x000c'\n",
        "\n",
        "# type(hello) == str\n",
        "\n",
        "isinstance(hello, str)"
      ],
      "metadata": {
        "colab": {
          "base_uri": "https://localhost:8080/"
        },
        "id": "NYzkYu0aGW8s",
        "outputId": "84ab9cd0-6bbe-4aea-c3b6-bd787599b897"
      },
      "execution_count": null,
      "outputs": [
        {
          "output_type": "execute_result",
          "data": {
            "text/plain": [
              "True"
            ]
          },
          "metadata": {},
          "execution_count": 118
        }
      ]
    },
    {
      "cell_type": "code",
      "source": [],
      "metadata": {
        "id": "w2ZHqzBNGXEc"
      },
      "execution_count": null,
      "outputs": []
    },
    {
      "cell_type": "code",
      "source": [
        "data['state'].empty"
      ],
      "metadata": {
        "colab": {
          "base_uri": "https://localhost:8080/"
        },
        "id": "TEt1ODA9c3y-",
        "outputId": "6feb52c6-618c-4bc4-8256-c2201ac717c0"
      },
      "execution_count": null,
      "outputs": [
        {
          "output_type": "execute_result",
          "data": {
            "text/plain": [
              "False"
            ]
          },
          "metadata": {},
          "execution_count": 119
        }
      ]
    },
    {
      "cell_type": "code",
      "source": [
        "data.columns"
      ],
      "metadata": {
        "colab": {
          "base_uri": "https://localhost:8080/"
        },
        "id": "mOHrCmG3zaw4",
        "outputId": "e40489d8-f739-42ae-f3c7-7f64b94b770a"
      },
      "execution_count": null,
      "outputs": [
        {
          "output_type": "execute_result",
          "data": {
            "text/plain": [
              "Index(['srcip', 'sport', 'dstip', 'dsport', 'proto', 'state', 'dur', 'sbytes',\n",
              "       'dbytes', 'sttl', 'dttl', 'sloss', 'dloss', 'service', 'Sload', 'Dload',\n",
              "       'Spkts', 'Dpkts', 'swin', 'dwin', 'stcpb', 'dtcpb', 'smeansz',\n",
              "       'dmeansz', 'trans_depth', 'res_bdy_len', 'Sjit', 'Djit', 'Stime',\n",
              "       'Ltime', 'Sintpkt', 'Dintpkt', 'tcprtt', 'synack', 'ackdat',\n",
              "       'is_sm_ips_ports', 'ct_state_ttl', 'ct_flw_http_mthd', 'is_ftp_login',\n",
              "       'ct_ftp_cmd', 'ct_srv_src', 'ct_srv_dst', 'ct_dst_ltm', 'ct_src_ ltm',\n",
              "       'ct_src_dport_ltm', 'ct_dst_sport_ltm', 'ct_dst_src_ltm', 'attack_cat',\n",
              "       'Label'],\n",
              "      dtype='object')"
            ]
          },
          "metadata": {},
          "execution_count": 120
        }
      ]
    },
    {
      "cell_type": "code",
      "source": [
        "data['ct_dst_src_ltm']"
      ],
      "metadata": {
        "colab": {
          "base_uri": "https://localhost:8080/"
        },
        "id": "JfZHqGLX1XkD",
        "outputId": "e0eceba5-7347-4122-da18-8b997eabdff8"
      },
      "execution_count": null,
      "outputs": [
        {
          "output_type": "execute_result",
          "data": {
            "text/plain": [
              "0         2\n",
              "1         1\n",
              "2         1\n",
              "3         1\n",
              "4         2\n",
              "         ..\n",
              "699995    4\n",
              "699996    2\n",
              "699997    2\n",
              "699998    3\n",
              "699999    2\n",
              "Name: ct_dst_src_ltm, Length: 700000, dtype: int64"
            ]
          },
          "metadata": {},
          "execution_count": 121
        }
      ]
    },
    {
      "cell_type": "code",
      "source": [
        "data"
      ],
      "metadata": {
        "colab": {
          "base_uri": "https://localhost:8080/",
          "height": 461
        },
        "id": "f3gwNXQ_L0uE",
        "outputId": "c33a3605-ee77-4b00-a3a0-f3e3f9660d7f"
      },
      "execution_count": null,
      "outputs": [
        {
          "output_type": "execute_result",
          "data": {
            "text/plain": [
              "             srcip  sport          dstip dsport proto state       dur  sbytes  \\\n",
              "0       59.166.0.0  33661  149.171.126.9   1024   udp   CON  0.036133     528   \n",
              "1       59.166.0.6   1464  149.171.126.7     53   udp   CON  0.001119     146   \n",
              "2       59.166.0.5   3593  149.171.126.5     53   udp   CON  0.001209     132   \n",
              "3       59.166.0.3  49664  149.171.126.0     53   udp   CON  0.001169     146   \n",
              "4       59.166.0.0  32119  149.171.126.9    111   udp   CON  0.078339     568   \n",
              "...            ...    ...            ...    ...   ...   ...       ...     ...   \n",
              "699995  59.166.0.8  12520  149.171.126.6  31010   tcp   FIN  0.020383     320   \n",
              "699996  59.166.0.0  18895  149.171.126.9     80   tcp   FIN  1.402957   19410   \n",
              "699997  59.166.0.0  30103  149.171.126.5   5190   tcp   FIN  0.007108    2158   \n",
              "699998  59.166.0.6  30388  149.171.126.5    111   udp   CON  0.004435     568   \n",
              "699999  59.166.0.0   6055  149.171.126.5  54145   tcp   FIN  0.072974    4238   \n",
              "\n",
              "         dbytes  sttl  ...  ct_ftp_cmd  ct_srv_src  ct_srv_dst ct_dst_ltm  \\\n",
              "0           304    31  ...           0           2           4          2   \n",
              "1           178    31  ...           0          12           8          1   \n",
              "2           164    31  ...           0           6           9          1   \n",
              "3           178    31  ...           0           7           9          1   \n",
              "4           312    31  ...           0           2           4          2   \n",
              "...         ...   ...  ...         ...         ...         ...        ...   \n",
              "699995     1874    31  ...           0           8          20          7   \n",
              "699996  1087890    31  ...           0           1           1          2   \n",
              "699997     2464    31  ...           0          13          13          6   \n",
              "699998      304    31  ...           0          10          13          6   \n",
              "699999    60788    31  ...           0          13          13          6   \n",
              "\n",
              "        ct_src_ ltm  ct_src_dport_ltm  ct_dst_sport_ltm  ct_dst_src_ltm  \\\n",
              "0                 3                 1                 1               2   \n",
              "1                 2                 2                 1               1   \n",
              "2                 1                 1                 1               1   \n",
              "3                 1                 1                 1               1   \n",
              "4                 3                 1                 1               2   \n",
              "...             ...               ...               ...             ...   \n",
              "699995            5                 1                 1               4   \n",
              "699996            7                 2                 2               2   \n",
              "699997            7                 2                 1               2   \n",
              "699998            5                 1                 1               3   \n",
              "699999            7                 1                 1               2   \n",
              "\n",
              "        attack_cat  Label  \n",
              "0           normal      0  \n",
              "1           normal      0  \n",
              "2           normal      0  \n",
              "3           normal      0  \n",
              "4           normal      0  \n",
              "...            ...    ...  \n",
              "699995      normal      0  \n",
              "699996      normal      0  \n",
              "699997      normal      0  \n",
              "699998      normal      0  \n",
              "699999      normal      0  \n",
              "\n",
              "[700000 rows x 49 columns]"
            ],
            "text/html": [
              "\n",
              "  <div id=\"df-68fc81a5-eadf-4e50-af04-2cb4e603a594\" class=\"colab-df-container\">\n",
              "    <div>\n",
              "<style scoped>\n",
              "    .dataframe tbody tr th:only-of-type {\n",
              "        vertical-align: middle;\n",
              "    }\n",
              "\n",
              "    .dataframe tbody tr th {\n",
              "        vertical-align: top;\n",
              "    }\n",
              "\n",
              "    .dataframe thead th {\n",
              "        text-align: right;\n",
              "    }\n",
              "</style>\n",
              "<table border=\"1\" class=\"dataframe\">\n",
              "  <thead>\n",
              "    <tr style=\"text-align: right;\">\n",
              "      <th></th>\n",
              "      <th>srcip</th>\n",
              "      <th>sport</th>\n",
              "      <th>dstip</th>\n",
              "      <th>dsport</th>\n",
              "      <th>proto</th>\n",
              "      <th>state</th>\n",
              "      <th>dur</th>\n",
              "      <th>sbytes</th>\n",
              "      <th>dbytes</th>\n",
              "      <th>sttl</th>\n",
              "      <th>...</th>\n",
              "      <th>ct_ftp_cmd</th>\n",
              "      <th>ct_srv_src</th>\n",
              "      <th>ct_srv_dst</th>\n",
              "      <th>ct_dst_ltm</th>\n",
              "      <th>ct_src_ ltm</th>\n",
              "      <th>ct_src_dport_ltm</th>\n",
              "      <th>ct_dst_sport_ltm</th>\n",
              "      <th>ct_dst_src_ltm</th>\n",
              "      <th>attack_cat</th>\n",
              "      <th>Label</th>\n",
              "    </tr>\n",
              "  </thead>\n",
              "  <tbody>\n",
              "    <tr>\n",
              "      <th>0</th>\n",
              "      <td>59.166.0.0</td>\n",
              "      <td>33661</td>\n",
              "      <td>149.171.126.9</td>\n",
              "      <td>1024</td>\n",
              "      <td>udp</td>\n",
              "      <td>CON</td>\n",
              "      <td>0.036133</td>\n",
              "      <td>528</td>\n",
              "      <td>304</td>\n",
              "      <td>31</td>\n",
              "      <td>...</td>\n",
              "      <td>0</td>\n",
              "      <td>2</td>\n",
              "      <td>4</td>\n",
              "      <td>2</td>\n",
              "      <td>3</td>\n",
              "      <td>1</td>\n",
              "      <td>1</td>\n",
              "      <td>2</td>\n",
              "      <td>normal</td>\n",
              "      <td>0</td>\n",
              "    </tr>\n",
              "    <tr>\n",
              "      <th>1</th>\n",
              "      <td>59.166.0.6</td>\n",
              "      <td>1464</td>\n",
              "      <td>149.171.126.7</td>\n",
              "      <td>53</td>\n",
              "      <td>udp</td>\n",
              "      <td>CON</td>\n",
              "      <td>0.001119</td>\n",
              "      <td>146</td>\n",
              "      <td>178</td>\n",
              "      <td>31</td>\n",
              "      <td>...</td>\n",
              "      <td>0</td>\n",
              "      <td>12</td>\n",
              "      <td>8</td>\n",
              "      <td>1</td>\n",
              "      <td>2</td>\n",
              "      <td>2</td>\n",
              "      <td>1</td>\n",
              "      <td>1</td>\n",
              "      <td>normal</td>\n",
              "      <td>0</td>\n",
              "    </tr>\n",
              "    <tr>\n",
              "      <th>2</th>\n",
              "      <td>59.166.0.5</td>\n",
              "      <td>3593</td>\n",
              "      <td>149.171.126.5</td>\n",
              "      <td>53</td>\n",
              "      <td>udp</td>\n",
              "      <td>CON</td>\n",
              "      <td>0.001209</td>\n",
              "      <td>132</td>\n",
              "      <td>164</td>\n",
              "      <td>31</td>\n",
              "      <td>...</td>\n",
              "      <td>0</td>\n",
              "      <td>6</td>\n",
              "      <td>9</td>\n",
              "      <td>1</td>\n",
              "      <td>1</td>\n",
              "      <td>1</td>\n",
              "      <td>1</td>\n",
              "      <td>1</td>\n",
              "      <td>normal</td>\n",
              "      <td>0</td>\n",
              "    </tr>\n",
              "    <tr>\n",
              "      <th>3</th>\n",
              "      <td>59.166.0.3</td>\n",
              "      <td>49664</td>\n",
              "      <td>149.171.126.0</td>\n",
              "      <td>53</td>\n",
              "      <td>udp</td>\n",
              "      <td>CON</td>\n",
              "      <td>0.001169</td>\n",
              "      <td>146</td>\n",
              "      <td>178</td>\n",
              "      <td>31</td>\n",
              "      <td>...</td>\n",
              "      <td>0</td>\n",
              "      <td>7</td>\n",
              "      <td>9</td>\n",
              "      <td>1</td>\n",
              "      <td>1</td>\n",
              "      <td>1</td>\n",
              "      <td>1</td>\n",
              "      <td>1</td>\n",
              "      <td>normal</td>\n",
              "      <td>0</td>\n",
              "    </tr>\n",
              "    <tr>\n",
              "      <th>4</th>\n",
              "      <td>59.166.0.0</td>\n",
              "      <td>32119</td>\n",
              "      <td>149.171.126.9</td>\n",
              "      <td>111</td>\n",
              "      <td>udp</td>\n",
              "      <td>CON</td>\n",
              "      <td>0.078339</td>\n",
              "      <td>568</td>\n",
              "      <td>312</td>\n",
              "      <td>31</td>\n",
              "      <td>...</td>\n",
              "      <td>0</td>\n",
              "      <td>2</td>\n",
              "      <td>4</td>\n",
              "      <td>2</td>\n",
              "      <td>3</td>\n",
              "      <td>1</td>\n",
              "      <td>1</td>\n",
              "      <td>2</td>\n",
              "      <td>normal</td>\n",
              "      <td>0</td>\n",
              "    </tr>\n",
              "    <tr>\n",
              "      <th>...</th>\n",
              "      <td>...</td>\n",
              "      <td>...</td>\n",
              "      <td>...</td>\n",
              "      <td>...</td>\n",
              "      <td>...</td>\n",
              "      <td>...</td>\n",
              "      <td>...</td>\n",
              "      <td>...</td>\n",
              "      <td>...</td>\n",
              "      <td>...</td>\n",
              "      <td>...</td>\n",
              "      <td>...</td>\n",
              "      <td>...</td>\n",
              "      <td>...</td>\n",
              "      <td>...</td>\n",
              "      <td>...</td>\n",
              "      <td>...</td>\n",
              "      <td>...</td>\n",
              "      <td>...</td>\n",
              "      <td>...</td>\n",
              "      <td>...</td>\n",
              "    </tr>\n",
              "    <tr>\n",
              "      <th>699995</th>\n",
              "      <td>59.166.0.8</td>\n",
              "      <td>12520</td>\n",
              "      <td>149.171.126.6</td>\n",
              "      <td>31010</td>\n",
              "      <td>tcp</td>\n",
              "      <td>FIN</td>\n",
              "      <td>0.020383</td>\n",
              "      <td>320</td>\n",
              "      <td>1874</td>\n",
              "      <td>31</td>\n",
              "      <td>...</td>\n",
              "      <td>0</td>\n",
              "      <td>8</td>\n",
              "      <td>20</td>\n",
              "      <td>7</td>\n",
              "      <td>5</td>\n",
              "      <td>1</td>\n",
              "      <td>1</td>\n",
              "      <td>4</td>\n",
              "      <td>normal</td>\n",
              "      <td>0</td>\n",
              "    </tr>\n",
              "    <tr>\n",
              "      <th>699996</th>\n",
              "      <td>59.166.0.0</td>\n",
              "      <td>18895</td>\n",
              "      <td>149.171.126.9</td>\n",
              "      <td>80</td>\n",
              "      <td>tcp</td>\n",
              "      <td>FIN</td>\n",
              "      <td>1.402957</td>\n",
              "      <td>19410</td>\n",
              "      <td>1087890</td>\n",
              "      <td>31</td>\n",
              "      <td>...</td>\n",
              "      <td>0</td>\n",
              "      <td>1</td>\n",
              "      <td>1</td>\n",
              "      <td>2</td>\n",
              "      <td>7</td>\n",
              "      <td>2</td>\n",
              "      <td>2</td>\n",
              "      <td>2</td>\n",
              "      <td>normal</td>\n",
              "      <td>0</td>\n",
              "    </tr>\n",
              "    <tr>\n",
              "      <th>699997</th>\n",
              "      <td>59.166.0.0</td>\n",
              "      <td>30103</td>\n",
              "      <td>149.171.126.5</td>\n",
              "      <td>5190</td>\n",
              "      <td>tcp</td>\n",
              "      <td>FIN</td>\n",
              "      <td>0.007108</td>\n",
              "      <td>2158</td>\n",
              "      <td>2464</td>\n",
              "      <td>31</td>\n",
              "      <td>...</td>\n",
              "      <td>0</td>\n",
              "      <td>13</td>\n",
              "      <td>13</td>\n",
              "      <td>6</td>\n",
              "      <td>7</td>\n",
              "      <td>2</td>\n",
              "      <td>1</td>\n",
              "      <td>2</td>\n",
              "      <td>normal</td>\n",
              "      <td>0</td>\n",
              "    </tr>\n",
              "    <tr>\n",
              "      <th>699998</th>\n",
              "      <td>59.166.0.6</td>\n",
              "      <td>30388</td>\n",
              "      <td>149.171.126.5</td>\n",
              "      <td>111</td>\n",
              "      <td>udp</td>\n",
              "      <td>CON</td>\n",
              "      <td>0.004435</td>\n",
              "      <td>568</td>\n",
              "      <td>304</td>\n",
              "      <td>31</td>\n",
              "      <td>...</td>\n",
              "      <td>0</td>\n",
              "      <td>10</td>\n",
              "      <td>13</td>\n",
              "      <td>6</td>\n",
              "      <td>5</td>\n",
              "      <td>1</td>\n",
              "      <td>1</td>\n",
              "      <td>3</td>\n",
              "      <td>normal</td>\n",
              "      <td>0</td>\n",
              "    </tr>\n",
              "    <tr>\n",
              "      <th>699999</th>\n",
              "      <td>59.166.0.0</td>\n",
              "      <td>6055</td>\n",
              "      <td>149.171.126.5</td>\n",
              "      <td>54145</td>\n",
              "      <td>tcp</td>\n",
              "      <td>FIN</td>\n",
              "      <td>0.072974</td>\n",
              "      <td>4238</td>\n",
              "      <td>60788</td>\n",
              "      <td>31</td>\n",
              "      <td>...</td>\n",
              "      <td>0</td>\n",
              "      <td>13</td>\n",
              "      <td>13</td>\n",
              "      <td>6</td>\n",
              "      <td>7</td>\n",
              "      <td>1</td>\n",
              "      <td>1</td>\n",
              "      <td>2</td>\n",
              "      <td>normal</td>\n",
              "      <td>0</td>\n",
              "    </tr>\n",
              "  </tbody>\n",
              "</table>\n",
              "<p>700000 rows × 49 columns</p>\n",
              "</div>\n",
              "    <div class=\"colab-df-buttons\">\n",
              "\n",
              "  <div class=\"colab-df-container\">\n",
              "    <button class=\"colab-df-convert\" onclick=\"convertToInteractive('df-68fc81a5-eadf-4e50-af04-2cb4e603a594')\"\n",
              "            title=\"Convert this dataframe to an interactive table.\"\n",
              "            style=\"display:none;\">\n",
              "\n",
              "  <svg xmlns=\"http://www.w3.org/2000/svg\" height=\"24px\" viewBox=\"0 -960 960 960\">\n",
              "    <path d=\"M120-120v-720h720v720H120Zm60-500h600v-160H180v160Zm220 220h160v-160H400v160Zm0 220h160v-160H400v160ZM180-400h160v-160H180v160Zm440 0h160v-160H620v160ZM180-180h160v-160H180v160Zm440 0h160v-160H620v160Z\"/>\n",
              "  </svg>\n",
              "    </button>\n",
              "\n",
              "  <style>\n",
              "    .colab-df-container {\n",
              "      display:flex;\n",
              "      gap: 12px;\n",
              "    }\n",
              "\n",
              "    .colab-df-convert {\n",
              "      background-color: #E8F0FE;\n",
              "      border: none;\n",
              "      border-radius: 50%;\n",
              "      cursor: pointer;\n",
              "      display: none;\n",
              "      fill: #1967D2;\n",
              "      height: 32px;\n",
              "      padding: 0 0 0 0;\n",
              "      width: 32px;\n",
              "    }\n",
              "\n",
              "    .colab-df-convert:hover {\n",
              "      background-color: #E2EBFA;\n",
              "      box-shadow: 0px 1px 2px rgba(60, 64, 67, 0.3), 0px 1px 3px 1px rgba(60, 64, 67, 0.15);\n",
              "      fill: #174EA6;\n",
              "    }\n",
              "\n",
              "    .colab-df-buttons div {\n",
              "      margin-bottom: 4px;\n",
              "    }\n",
              "\n",
              "    [theme=dark] .colab-df-convert {\n",
              "      background-color: #3B4455;\n",
              "      fill: #D2E3FC;\n",
              "    }\n",
              "\n",
              "    [theme=dark] .colab-df-convert:hover {\n",
              "      background-color: #434B5C;\n",
              "      box-shadow: 0px 1px 3px 1px rgba(0, 0, 0, 0.15);\n",
              "      filter: drop-shadow(0px 1px 2px rgba(0, 0, 0, 0.3));\n",
              "      fill: #FFFFFF;\n",
              "    }\n",
              "  </style>\n",
              "\n",
              "    <script>\n",
              "      const buttonEl =\n",
              "        document.querySelector('#df-68fc81a5-eadf-4e50-af04-2cb4e603a594 button.colab-df-convert');\n",
              "      buttonEl.style.display =\n",
              "        google.colab.kernel.accessAllowed ? 'block' : 'none';\n",
              "\n",
              "      async function convertToInteractive(key) {\n",
              "        const element = document.querySelector('#df-68fc81a5-eadf-4e50-af04-2cb4e603a594');\n",
              "        const dataTable =\n",
              "          await google.colab.kernel.invokeFunction('convertToInteractive',\n",
              "                                                    [key], {});\n",
              "        if (!dataTable) return;\n",
              "\n",
              "        const docLinkHtml = 'Like what you see? Visit the ' +\n",
              "          '<a target=\"_blank\" href=https://colab.research.google.com/notebooks/data_table.ipynb>data table notebook</a>'\n",
              "          + ' to learn more about interactive tables.';\n",
              "        element.innerHTML = '';\n",
              "        dataTable['output_type'] = 'display_data';\n",
              "        await google.colab.output.renderOutput(dataTable, element);\n",
              "        const docLink = document.createElement('div');\n",
              "        docLink.innerHTML = docLinkHtml;\n",
              "        element.appendChild(docLink);\n",
              "      }\n",
              "    </script>\n",
              "  </div>\n",
              "\n",
              "\n",
              "<div id=\"df-fc0d643b-3ba6-411f-9028-9959567db521\">\n",
              "  <button class=\"colab-df-quickchart\" onclick=\"quickchart('df-fc0d643b-3ba6-411f-9028-9959567db521')\"\n",
              "            title=\"Suggest charts\"\n",
              "            style=\"display:none;\">\n",
              "\n",
              "<svg xmlns=\"http://www.w3.org/2000/svg\" height=\"24px\"viewBox=\"0 0 24 24\"\n",
              "     width=\"24px\">\n",
              "    <g>\n",
              "        <path d=\"M19 3H5c-1.1 0-2 .9-2 2v14c0 1.1.9 2 2 2h14c1.1 0 2-.9 2-2V5c0-1.1-.9-2-2-2zM9 17H7v-7h2v7zm4 0h-2V7h2v10zm4 0h-2v-4h2v4z\"/>\n",
              "    </g>\n",
              "</svg>\n",
              "  </button>\n",
              "\n",
              "<style>\n",
              "  .colab-df-quickchart {\n",
              "      --bg-color: #E8F0FE;\n",
              "      --fill-color: #1967D2;\n",
              "      --hover-bg-color: #E2EBFA;\n",
              "      --hover-fill-color: #174EA6;\n",
              "      --disabled-fill-color: #AAA;\n",
              "      --disabled-bg-color: #DDD;\n",
              "  }\n",
              "\n",
              "  [theme=dark] .colab-df-quickchart {\n",
              "      --bg-color: #3B4455;\n",
              "      --fill-color: #D2E3FC;\n",
              "      --hover-bg-color: #434B5C;\n",
              "      --hover-fill-color: #FFFFFF;\n",
              "      --disabled-bg-color: #3B4455;\n",
              "      --disabled-fill-color: #666;\n",
              "  }\n",
              "\n",
              "  .colab-df-quickchart {\n",
              "    background-color: var(--bg-color);\n",
              "    border: none;\n",
              "    border-radius: 50%;\n",
              "    cursor: pointer;\n",
              "    display: none;\n",
              "    fill: var(--fill-color);\n",
              "    height: 32px;\n",
              "    padding: 0;\n",
              "    width: 32px;\n",
              "  }\n",
              "\n",
              "  .colab-df-quickchart:hover {\n",
              "    background-color: var(--hover-bg-color);\n",
              "    box-shadow: 0 1px 2px rgba(60, 64, 67, 0.3), 0 1px 3px 1px rgba(60, 64, 67, 0.15);\n",
              "    fill: var(--button-hover-fill-color);\n",
              "  }\n",
              "\n",
              "  .colab-df-quickchart-complete:disabled,\n",
              "  .colab-df-quickchart-complete:disabled:hover {\n",
              "    background-color: var(--disabled-bg-color);\n",
              "    fill: var(--disabled-fill-color);\n",
              "    box-shadow: none;\n",
              "  }\n",
              "\n",
              "  .colab-df-spinner {\n",
              "    border: 2px solid var(--fill-color);\n",
              "    border-color: transparent;\n",
              "    border-bottom-color: var(--fill-color);\n",
              "    animation:\n",
              "      spin 1s steps(1) infinite;\n",
              "  }\n",
              "\n",
              "  @keyframes spin {\n",
              "    0% {\n",
              "      border-color: transparent;\n",
              "      border-bottom-color: var(--fill-color);\n",
              "      border-left-color: var(--fill-color);\n",
              "    }\n",
              "    20% {\n",
              "      border-color: transparent;\n",
              "      border-left-color: var(--fill-color);\n",
              "      border-top-color: var(--fill-color);\n",
              "    }\n",
              "    30% {\n",
              "      border-color: transparent;\n",
              "      border-left-color: var(--fill-color);\n",
              "      border-top-color: var(--fill-color);\n",
              "      border-right-color: var(--fill-color);\n",
              "    }\n",
              "    40% {\n",
              "      border-color: transparent;\n",
              "      border-right-color: var(--fill-color);\n",
              "      border-top-color: var(--fill-color);\n",
              "    }\n",
              "    60% {\n",
              "      border-color: transparent;\n",
              "      border-right-color: var(--fill-color);\n",
              "    }\n",
              "    80% {\n",
              "      border-color: transparent;\n",
              "      border-right-color: var(--fill-color);\n",
              "      border-bottom-color: var(--fill-color);\n",
              "    }\n",
              "    90% {\n",
              "      border-color: transparent;\n",
              "      border-bottom-color: var(--fill-color);\n",
              "    }\n",
              "  }\n",
              "</style>\n",
              "\n",
              "  <script>\n",
              "    async function quickchart(key) {\n",
              "      const quickchartButtonEl =\n",
              "        document.querySelector('#' + key + ' button');\n",
              "      quickchartButtonEl.disabled = true;  // To prevent multiple clicks.\n",
              "      quickchartButtonEl.classList.add('colab-df-spinner');\n",
              "      try {\n",
              "        const charts = await google.colab.kernel.invokeFunction(\n",
              "            'suggestCharts', [key], {});\n",
              "      } catch (error) {\n",
              "        console.error('Error during call to suggestCharts:', error);\n",
              "      }\n",
              "      quickchartButtonEl.classList.remove('colab-df-spinner');\n",
              "      quickchartButtonEl.classList.add('colab-df-quickchart-complete');\n",
              "    }\n",
              "    (() => {\n",
              "      let quickchartButtonEl =\n",
              "        document.querySelector('#df-fc0d643b-3ba6-411f-9028-9959567db521 button');\n",
              "      quickchartButtonEl.style.display =\n",
              "        google.colab.kernel.accessAllowed ? 'block' : 'none';\n",
              "    })();\n",
              "  </script>\n",
              "</div>\n",
              "    </div>\n",
              "  </div>\n"
            ],
            "application/vnd.google.colaboratory.intrinsic+json": {
              "type": "dataframe",
              "variable_name": "data"
            }
          },
          "metadata": {},
          "execution_count": 122
        }
      ]
    },
    {
      "cell_type": "code",
      "source": [
        "data.loc[:, 'Label'].value_counts()"
      ],
      "metadata": {
        "colab": {
          "base_uri": "https://localhost:8080/"
        },
        "id": "_42_292i4sh_",
        "outputId": "12a48ec2-79b5-4907-e4bb-74c49869f80e"
      },
      "execution_count": null,
      "outputs": [
        {
          "output_type": "execute_result",
          "data": {
            "text/plain": [
              "Label\n",
              "0    677785\n",
              "1     22215\n",
              "Name: count, dtype: int64"
            ]
          },
          "metadata": {},
          "execution_count": 123
        }
      ]
    },
    {
      "cell_type": "code",
      "source": [
        "data.drop(['attack_cat'], axis=1, inplace=True)"
      ],
      "metadata": {
        "id": "DVwGn_Ob7Sqp"
      },
      "execution_count": null,
      "outputs": []
    },
    {
      "cell_type": "code",
      "source": [
        "# data"
      ],
      "metadata": {
        "id": "HomYGGPE7lt3"
      },
      "execution_count": null,
      "outputs": []
    },
    {
      "cell_type": "code",
      "source": [
        "len(data.columns)"
      ],
      "metadata": {
        "colab": {
          "base_uri": "https://localhost:8080/"
        },
        "id": "I4wCDaGV7s-H",
        "outputId": "27e40028-732e-406e-e014-c3a1ef9d528f"
      },
      "execution_count": null,
      "outputs": [
        {
          "output_type": "execute_result",
          "data": {
            "text/plain": [
              "49"
            ]
          },
          "metadata": {},
          "execution_count": 126
        }
      ]
    },
    {
      "cell_type": "code",
      "source": [
        "len(data.columns)"
      ],
      "metadata": {
        "colab": {
          "base_uri": "https://localhost:8080/"
        },
        "id": "xiMUjDwo67q5",
        "outputId": "10e2794c-1836-43c6-f697-e829f38103f6"
      },
      "execution_count": null,
      "outputs": [
        {
          "output_type": "execute_result",
          "data": {
            "text/plain": [
              "48"
            ]
          },
          "metadata": {},
          "execution_count": 52
        }
      ]
    },
    {
      "cell_type": "code",
      "source": [
        "data['Label']"
      ],
      "metadata": {
        "colab": {
          "base_uri": "https://localhost:8080/"
        },
        "id": "GAtQyXU3_SoR",
        "outputId": "8c677cf4-c154-4981-aaf8-d035c8fd027a"
      },
      "execution_count": null,
      "outputs": [
        {
          "output_type": "execute_result",
          "data": {
            "text/plain": [
              "0         0\n",
              "1         0\n",
              "2         0\n",
              "3         0\n",
              "4         0\n",
              "         ..\n",
              "699995    0\n",
              "699996    0\n",
              "699997    0\n",
              "699998    0\n",
              "699999    0\n",
              "Name: Label, Length: 700000, dtype: int64"
            ]
          },
          "metadata": {},
          "execution_count": 127
        }
      ]
    },
    {
      "cell_type": "code",
      "source": [
        "len(data.columns)"
      ],
      "metadata": {
        "colab": {
          "base_uri": "https://localhost:8080/"
        },
        "id": "orhS-eZT_eUH",
        "outputId": "8ef6d462-c4f2-4d71-9a8d-1c804b1c7809"
      },
      "execution_count": null,
      "outputs": [
        {
          "output_type": "execute_result",
          "data": {
            "text/plain": [
              "49"
            ]
          },
          "metadata": {},
          "execution_count": 128
        }
      ]
    },
    {
      "cell_type": "code",
      "source": [
        "attack_cat_index = data.columns.get_loc(\"attack_cat\")\n",
        "print(\"Index number of 'attack_cat' column:\", attack_cat_index)\n"
      ],
      "metadata": {
        "colab": {
          "base_uri": "https://localhost:8080/"
        },
        "id": "l6IK3lJnvJRt",
        "outputId": "3db918ba-8224-4b0b-e252-a63addd6208a"
      },
      "execution_count": null,
      "outputs": [
        {
          "output_type": "stream",
          "name": "stdout",
          "text": [
            "Index number of 'attack_cat' column: 47\n"
          ]
        }
      ]
    },
    {
      "cell_type": "code",
      "source": [
        "X = data.iloc[:, 0:47].values\n",
        "y = data.iloc[:, -1].values"
      ],
      "metadata": {
        "id": "8WQcCiTEsSVh"
      },
      "execution_count": null,
      "outputs": []
    },
    {
      "cell_type": "code",
      "source": [
        "X.shape"
      ],
      "metadata": {
        "colab": {
          "base_uri": "https://localhost:8080/"
        },
        "id": "hp6CHWLw8QmL",
        "outputId": "e2fb8167-0f38-4df7-edde-870e211ae058"
      },
      "execution_count": null,
      "outputs": [
        {
          "output_type": "execute_result",
          "data": {
            "text/plain": [
              "(700000, 47)"
            ]
          },
          "metadata": {},
          "execution_count": 159
        }
      ]
    },
    {
      "cell_type": "code",
      "source": [
        "y.shape"
      ],
      "metadata": {
        "colab": {
          "base_uri": "https://localhost:8080/"
        },
        "id": "rppVFDep_ur-",
        "outputId": "45255511-826c-44d8-95f7-8c4e100108f8"
      },
      "execution_count": null,
      "outputs": [
        {
          "output_type": "execute_result",
          "data": {
            "text/plain": [
              "(700000,)"
            ]
          },
          "metadata": {},
          "execution_count": 160
        }
      ]
    },
    {
      "cell_type": "code",
      "source": [
        "X[:, 4:5]"
      ],
      "metadata": {
        "colab": {
          "base_uri": "https://localhost:8080/"
        },
        "id": "KsT8GAQh0ard",
        "outputId": "14fda954-7459-42cd-c4e7-d145ae0a576d"
      },
      "execution_count": null,
      "outputs": [
        {
          "output_type": "execute_result",
          "data": {
            "text/plain": [
              "array([['udp'],\n",
              "       ['udp'],\n",
              "       ['udp'],\n",
              "       ...,\n",
              "       ['tcp'],\n",
              "       ['udp'],\n",
              "       ['tcp']], dtype=object)"
            ]
          },
          "metadata": {},
          "execution_count": 161
        }
      ]
    },
    {
      "cell_type": "code",
      "source": [
        "X[:, 5:6]"
      ],
      "metadata": {
        "colab": {
          "base_uri": "https://localhost:8080/"
        },
        "id": "4YCYgvPt0m47",
        "outputId": "d9de4c83-c40a-4111-9482-e6d78b0c626e"
      },
      "execution_count": null,
      "outputs": [
        {
          "output_type": "execute_result",
          "data": {
            "text/plain": [
              "array([['CON'],\n",
              "       ['CON'],\n",
              "       ['CON'],\n",
              "       ...,\n",
              "       ['FIN'],\n",
              "       ['CON'],\n",
              "       ['FIN']], dtype=object)"
            ]
          },
          "metadata": {},
          "execution_count": 162
        }
      ]
    },
    {
      "cell_type": "code",
      "source": [
        "unique_values = data.iloc[:, 47.unique()\n",
        "print(\"Unique values of column at index 47:\", unique_values)\n"
      ],
      "metadata": {
        "colab": {
          "base_uri": "https://localhost:8080/"
        },
        "id": "ZUWF_GrFw65Q",
        "outputId": "add639ae-bec0-4b9f-eb49-536a77296ef2"
      },
      "execution_count": null,
      "outputs": [
        {
          "output_type": "stream",
          "name": "stdout",
          "text": [
            "Unique values of column at index 48: [0 1]\n"
          ]
        }
      ]
    },
    {
      "cell_type": "code",
      "source": [
        "from sklearn.preprocessing import OrdinalEncoder\n",
        "encoder = OrdinalEncoder()\n",
        "\n",
        "# Encode the \"proto\" column\n",
        "X[:, 4:5] = np.array(encoder.fit_transform(X[:, 4:5]))\n",
        "X[:, 5:6] = np.array(encoder.fit_transform(X[:, 5:6]))\n",
        "X[:, 13:14] = np.array(encoder.fit_transform(X[:, 13:14]))\n",
        "# X[:, 47] = np.array(encoder.fit_transform(X[:, 47]))\n",
        "X[:, -1:] = np.array(encoder.fit_transform(X[:, -1:]))  # For the last column"
      ],
      "metadata": {
        "id": "rGX4bVbazMAL"
      },
      "execution_count": null,
      "outputs": []
    },
    {
      "cell_type": "code",
      "source": [
        "# Assuming X is your encoded array and index 47 corresponds to the last column\n",
        "new_values_index_47 = X[:, -1]  # Selecting the last column of X\n",
        "print(\"New values of column at index 47:\", new_values_index_47)\n"
      ],
      "metadata": {
        "colab": {
          "base_uri": "https://localhost:8080/"
        },
        "id": "ssLvha29x757",
        "outputId": "46b7faa1-9d16-4d6a-fe3f-cdb34dc42e8f"
      },
      "execution_count": null,
      "outputs": [
        {
          "output_type": "stream",
          "name": "stdout",
          "text": [
            "New values of column at index 47: [1.0 0.0 0.0 ... 1.0 2.0 1.0]\n"
          ]
        }
      ]
    },
    {
      "cell_type": "code",
      "source": [
        "import numpy as np\n",
        "\n",
        "# Assuming X is your encoded array and index -1 corresponds to the last column\n",
        "unique_values_index_minus_1 = np.unique(X[:, -1])\n",
        "print(\"Unique values of column at index -1:\", unique_values_index_minus_1)\n"
      ],
      "metadata": {
        "colab": {
          "base_uri": "https://localhost:8080/"
        },
        "id": "m2BmZQK8yiqv",
        "outputId": "2ddd5652-18e0-421e-bda8-386448f4a7c1"
      },
      "execution_count": null,
      "outputs": [
        {
          "output_type": "stream",
          "name": "stdout",
          "text": [
            "Unique values of column at index -1: [0.0 1.0 2.0 3.0 4.0 5.0 6.0 7.0 8.0 9.0 10.0 11.0 12.0 13.0 14.0 15.0\n",
            " 16.0 17.0 18.0 19.0 20.0 21.0 22.0 23.0 24.0 25.0 26.0 27.0 28.0 29.0\n",
            " 30.0 31.0 32.0]\n"
          ]
        }
      ]
    },
    {
      "cell_type": "code",
      "source": [
        "len(X[:, 4:5])"
      ],
      "metadata": {
        "colab": {
          "base_uri": "https://localhost:8080/"
        },
        "id": "BqbkfuPazV17",
        "outputId": "d3a329c3-6d66-45f8-b98d-b329e10d12af"
      },
      "execution_count": null,
      "outputs": [
        {
          "output_type": "execute_result",
          "data": {
            "text/plain": [
              "700000"
            ]
          },
          "metadata": {},
          "execution_count": 172
        }
      ]
    },
    {
      "cell_type": "code",
      "source": [
        "X[:, 13:14]"
      ],
      "metadata": {
        "colab": {
          "base_uri": "https://localhost:8080/"
        },
        "id": "n8nCl2ejpeZf",
        "outputId": "169aeca1-cf95-48c7-9a66-2cb65926fe38"
      },
      "execution_count": null,
      "outputs": [
        {
          "output_type": "execute_result",
          "data": {
            "text/plain": [
              "array([[6.0],\n",
              "       [1.0],\n",
              "       [1.0],\n",
              "       ...,\n",
              "       [6.0],\n",
              "       [6.0],\n",
              "       [6.0]], dtype=object)"
            ]
          },
          "metadata": {},
          "execution_count": 173
        }
      ]
    },
    {
      "cell_type": "code",
      "source": [],
      "metadata": {
        "id": "fs3kC8UwfrG9"
      },
      "execution_count": null,
      "outputs": []
    },
    {
      "cell_type": "code",
      "source": [
        "X[:, -1]"
      ],
      "metadata": {
        "colab": {
          "base_uri": "https://localhost:8080/"
        },
        "id": "MB4v_k62wk4n",
        "outputId": "4a7fa688-fcee-4ddb-a4c7-f74be86bd775"
      },
      "execution_count": null,
      "outputs": [
        {
          "output_type": "execute_result",
          "data": {
            "text/plain": [
              "array([1.0, 0.0, 0.0, ..., 1.0, 2.0, 1.0], dtype=object)"
            ]
          },
          "metadata": {},
          "execution_count": 175
        }
      ]
    },
    {
      "cell_type": "code",
      "source": [
        "X.shape"
      ],
      "metadata": {
        "colab": {
          "base_uri": "https://localhost:8080/"
        },
        "id": "gGoRqbM08MG8",
        "outputId": "c685a748-0e00-4162-cca6-b0026611ac16"
      },
      "execution_count": null,
      "outputs": [
        {
          "output_type": "execute_result",
          "data": {
            "text/plain": [
              "(700000, 47)"
            ]
          },
          "metadata": {},
          "execution_count": 176
        }
      ]
    },
    {
      "cell_type": "code",
      "source": [
        "from sklearn.compose import ColumnTransformer\n",
        "from sklearn.preprocessing import OneHotEncoder\n",
        "\n",
        "ct = ColumnTransformer(transformers=[('encoder', OneHotEncoder(), [0, 2])], remainder='passthrough')\n",
        "X = np.array(ct.fit_transform(X))"
      ],
      "metadata": {
        "id": "2LRKFKp-0vsH"
      },
      "execution_count": null,
      "outputs": []
    },
    {
      "cell_type": "code",
      "source": [
        "X.shape"
      ],
      "metadata": {
        "colab": {
          "base_uri": "https://localhost:8080/"
        },
        "id": "293MftaHv7mB",
        "outputId": "d80f8f81-4eb3-4cd7-94b0-8caea2adb6d8"
      },
      "execution_count": null,
      "outputs": [
        {
          "output_type": "execute_result",
          "data": {
            "text/plain": [
              "(700000, 129)"
            ]
          },
          "metadata": {},
          "execution_count": 178
        }
      ]
    },
    {
      "cell_type": "code",
      "source": [
        "len(X[:,0])"
      ],
      "metadata": {
        "colab": {
          "base_uri": "https://localhost:8080/"
        },
        "id": "_4Me5cbrDTTk",
        "outputId": "ad3ea5fc-320f-49d9-a37c-c5212e1d2c8b"
      },
      "execution_count": null,
      "outputs": [
        {
          "output_type": "execute_result",
          "data": {
            "text/plain": [
              "700000"
            ]
          },
          "metadata": {},
          "execution_count": 179
        }
      ]
    },
    {
      "cell_type": "code",
      "source": [
        "from sklearn.model_selection import train_test_split\n",
        "X_train, X_test, y_train, y_test = train_test_split(X, y, test_size=0.2, random_state=1)"
      ],
      "metadata": {
        "id": "3ZnefoHtwT2P"
      },
      "execution_count": null,
      "outputs": []
    },
    {
      "cell_type": "code",
      "source": [
        "X_train.shape"
      ],
      "metadata": {
        "colab": {
          "base_uri": "https://localhost:8080/"
        },
        "id": "5gZuT192AROJ",
        "outputId": "dc9e48b8-6752-4905-fda3-e2f4bad9e437"
      },
      "execution_count": null,
      "outputs": [
        {
          "output_type": "execute_result",
          "data": {
            "text/plain": [
              "(560000, 129)"
            ]
          },
          "metadata": {},
          "execution_count": 181
        }
      ]
    },
    {
      "cell_type": "code",
      "source": [
        "X.shape"
      ],
      "metadata": {
        "colab": {
          "base_uri": "https://localhost:8080/"
        },
        "id": "wc_y8850B10d",
        "outputId": "c753da1d-2005-4b2a-da08-1b72678ccbd3"
      },
      "execution_count": null,
      "outputs": [
        {
          "output_type": "execute_result",
          "data": {
            "text/plain": [
              "(700000, 129)"
            ]
          },
          "metadata": {},
          "execution_count": 182
        }
      ]
    },
    {
      "cell_type": "code",
      "source": [
        "# X_train_scaled = X_train\n",
        "# X_test_scaled = X_test\n",
        "\n",
        "# from sklearn.preprocessing import StandardScaler\n",
        "# scaler = StandardScaler()\n",
        "# X_train_scaled[:, :-6] = scaler.fit_transform(X_train_scaled[:, :-6])\n",
        "# X_test_scaled[:, :-6] = scaler.transform(X_test_scaled[:, :-6])"
      ],
      "metadata": {
        "id": "VJ_iBR0-Mkb-"
      },
      "execution_count": null,
      "outputs": []
    },
    {
      "cell_type": "code",
      "source": [
        "# np.isnan(X)"
      ],
      "metadata": {
        "id": "OQlkR5cWNEUH"
      },
      "execution_count": null,
      "outputs": []
    },
    {
      "cell_type": "code",
      "source": [
        "# len(null_count)"
      ],
      "metadata": {
        "id": "rbv7z9jgORW0"
      },
      "execution_count": null,
      "outputs": []
    },
    {
      "cell_type": "code",
      "source": [
        "# for i in y_train:\n",
        "#   if np.isnan(i):\n",
        "#     i = 0.0"
      ],
      "metadata": {
        "id": "jNuT-NvgOYoU"
      },
      "execution_count": null,
      "outputs": []
    },
    {
      "cell_type": "code",
      "source": [
        "# null_count = []\n",
        "\n",
        "# for i in y_train:\n",
        "#   if np.isnan(i):\n",
        "#     null_count.append(i)"
      ],
      "metadata": {
        "id": "vK0VEXlkO98c"
      },
      "execution_count": null,
      "outputs": []
    },
    {
      "cell_type": "code",
      "source": [
        "# len(null_count)"
      ],
      "metadata": {
        "id": "seUJ2SzoO_L9"
      },
      "execution_count": null,
      "outputs": []
    },
    {
      "cell_type": "code",
      "source": [
        "from sklearn.naive_bayes import GaussianNB\n",
        "\n",
        "nb_classifier = GaussianNB()\n",
        "nb_classifier.fit(X_train, y_train)"
      ],
      "metadata": {
        "colab": {
          "base_uri": "https://localhost:8080/",
          "height": 74
        },
        "id": "Ee-hKYWcM2DI",
        "outputId": "d3ea5425-d7fc-4f38-a46f-b6d43282a70c"
      },
      "execution_count": null,
      "outputs": [
        {
          "output_type": "execute_result",
          "data": {
            "text/plain": [
              "GaussianNB()"
            ],
            "text/html": [
              "<style>#sk-container-id-2 {color: black;background-color: white;}#sk-container-id-2 pre{padding: 0;}#sk-container-id-2 div.sk-toggleable {background-color: white;}#sk-container-id-2 label.sk-toggleable__label {cursor: pointer;display: block;width: 100%;margin-bottom: 0;padding: 0.3em;box-sizing: border-box;text-align: center;}#sk-container-id-2 label.sk-toggleable__label-arrow:before {content: \"▸\";float: left;margin-right: 0.25em;color: #696969;}#sk-container-id-2 label.sk-toggleable__label-arrow:hover:before {color: black;}#sk-container-id-2 div.sk-estimator:hover label.sk-toggleable__label-arrow:before {color: black;}#sk-container-id-2 div.sk-toggleable__content {max-height: 0;max-width: 0;overflow: hidden;text-align: left;background-color: #f0f8ff;}#sk-container-id-2 div.sk-toggleable__content pre {margin: 0.2em;color: black;border-radius: 0.25em;background-color: #f0f8ff;}#sk-container-id-2 input.sk-toggleable__control:checked~div.sk-toggleable__content {max-height: 200px;max-width: 100%;overflow: auto;}#sk-container-id-2 input.sk-toggleable__control:checked~label.sk-toggleable__label-arrow:before {content: \"▾\";}#sk-container-id-2 div.sk-estimator input.sk-toggleable__control:checked~label.sk-toggleable__label {background-color: #d4ebff;}#sk-container-id-2 div.sk-label input.sk-toggleable__control:checked~label.sk-toggleable__label {background-color: #d4ebff;}#sk-container-id-2 input.sk-hidden--visually {border: 0;clip: rect(1px 1px 1px 1px);clip: rect(1px, 1px, 1px, 1px);height: 1px;margin: -1px;overflow: hidden;padding: 0;position: absolute;width: 1px;}#sk-container-id-2 div.sk-estimator {font-family: monospace;background-color: #f0f8ff;border: 1px dotted black;border-radius: 0.25em;box-sizing: border-box;margin-bottom: 0.5em;}#sk-container-id-2 div.sk-estimator:hover {background-color: #d4ebff;}#sk-container-id-2 div.sk-parallel-item::after {content: \"\";width: 100%;border-bottom: 1px solid gray;flex-grow: 1;}#sk-container-id-2 div.sk-label:hover label.sk-toggleable__label {background-color: #d4ebff;}#sk-container-id-2 div.sk-serial::before {content: \"\";position: absolute;border-left: 1px solid gray;box-sizing: border-box;top: 0;bottom: 0;left: 50%;z-index: 0;}#sk-container-id-2 div.sk-serial {display: flex;flex-direction: column;align-items: center;background-color: white;padding-right: 0.2em;padding-left: 0.2em;position: relative;}#sk-container-id-2 div.sk-item {position: relative;z-index: 1;}#sk-container-id-2 div.sk-parallel {display: flex;align-items: stretch;justify-content: center;background-color: white;position: relative;}#sk-container-id-2 div.sk-item::before, #sk-container-id-2 div.sk-parallel-item::before {content: \"\";position: absolute;border-left: 1px solid gray;box-sizing: border-box;top: 0;bottom: 0;left: 50%;z-index: -1;}#sk-container-id-2 div.sk-parallel-item {display: flex;flex-direction: column;z-index: 1;position: relative;background-color: white;}#sk-container-id-2 div.sk-parallel-item:first-child::after {align-self: flex-end;width: 50%;}#sk-container-id-2 div.sk-parallel-item:last-child::after {align-self: flex-start;width: 50%;}#sk-container-id-2 div.sk-parallel-item:only-child::after {width: 0;}#sk-container-id-2 div.sk-dashed-wrapped {border: 1px dashed gray;margin: 0 0.4em 0.5em 0.4em;box-sizing: border-box;padding-bottom: 0.4em;background-color: white;}#sk-container-id-2 div.sk-label label {font-family: monospace;font-weight: bold;display: inline-block;line-height: 1.2em;}#sk-container-id-2 div.sk-label-container {text-align: center;}#sk-container-id-2 div.sk-container {/* jupyter's `normalize.less` sets `[hidden] { display: none; }` but bootstrap.min.css set `[hidden] { display: none !important; }` so we also need the `!important` here to be able to override the default hidden behavior on the sphinx rendered scikit-learn.org. See: https://github.com/scikit-learn/scikit-learn/issues/21755 */display: inline-block !important;position: relative;}#sk-container-id-2 div.sk-text-repr-fallback {display: none;}</style><div id=\"sk-container-id-2\" class=\"sk-top-container\"><div class=\"sk-text-repr-fallback\"><pre>GaussianNB()</pre><b>In a Jupyter environment, please rerun this cell to show the HTML representation or trust the notebook. <br />On GitHub, the HTML representation is unable to render, please try loading this page with nbviewer.org.</b></div><div class=\"sk-container\" hidden><div class=\"sk-item\"><div class=\"sk-estimator sk-toggleable\"><input class=\"sk-toggleable__control sk-hidden--visually\" id=\"sk-estimator-id-2\" type=\"checkbox\" checked><label for=\"sk-estimator-id-2\" class=\"sk-toggleable__label sk-toggleable__label-arrow\">GaussianNB</label><div class=\"sk-toggleable__content\"><pre>GaussianNB()</pre></div></div></div></div></div>"
            ]
          },
          "metadata": {},
          "execution_count": 189
        }
      ]
    },
    {
      "cell_type": "code",
      "source": [
        "y_pred_nb = nb_classifier.predict(X_test)"
      ],
      "metadata": {
        "id": "27frOnpW59yb"
      },
      "execution_count": null,
      "outputs": []
    },
    {
      "cell_type": "code",
      "source": [
        "from sklearn.metrics import accuracy_score, confusion_matrix\n",
        "\n",
        "# Compute accuracy\n",
        "accuracy = accuracy_score(y_test, y_pred_nb)\n",
        "print(\"Accuracy:\", accuracy)\n",
        "\n"
      ],
      "metadata": {
        "colab": {
          "base_uri": "https://localhost:8080/"
        },
        "id": "Nz6oAVGRzUBV",
        "outputId": "273ee045-92cc-4674-92f9-88a667825aef"
      },
      "execution_count": null,
      "outputs": [
        {
          "output_type": "stream",
          "name": "stdout",
          "text": [
            "Accuracy: 0.9669857142857143\n"
          ]
        }
      ]
    },
    {
      "cell_type": "code",
      "source": [
        "# Compute confusion matrix\n",
        "conf_matrix = confusion_matrix(y_test, y_pred_nb)\n",
        "print(\"Confusion Matrix:\")\n",
        "print(conf_matrix)\n"
      ],
      "metadata": {
        "colab": {
          "base_uri": "https://localhost:8080/"
        },
        "id": "iyWvVijZzT-K",
        "outputId": "88d21259-4541-4413-8fc4-4fd0b15cf003"
      },
      "execution_count": null,
      "outputs": [
        {
          "output_type": "stream",
          "name": "stdout",
          "text": [
            "Confusion Matrix:\n",
            "[[134225   1419]\n",
            " [  3203   1153]]\n"
          ]
        }
      ]
    },
    {
      "cell_type": "code",
      "source": [
        "from sklearn.metrics import classification_report\n",
        "\n",
        "# Generate classification report\n",
        "class_report = classification_report(y_test, y_pred_nb)\n",
        "print(\"Classification Report:\")\n",
        "print(class_report)\n"
      ],
      "metadata": {
        "colab": {
          "base_uri": "https://localhost:8080/"
        },
        "id": "GljtMjISzT7I",
        "outputId": "e1f8b4b5-6c90-4d3c-9bd7-58bd89d46e98"
      },
      "execution_count": null,
      "outputs": [
        {
          "output_type": "stream",
          "name": "stdout",
          "text": [
            "Classification Report:\n",
            "              precision    recall  f1-score   support\n",
            "\n",
            "           0       0.98      0.99      0.98    135644\n",
            "           1       0.45      0.26      0.33      4356\n",
            "\n",
            "    accuracy                           0.97    140000\n",
            "   macro avg       0.71      0.63      0.66    140000\n",
            "weighted avg       0.96      0.97      0.96    140000\n",
            "\n"
          ]
        }
      ]
    },
    {
      "cell_type": "code",
      "source": [
        "from sklearn.metrics import f1_score\n",
        "\n",
        "# Compute F1-score\n",
        "f1 = f1_score(y_test, y_pred_nb)\n",
        "print(\"F1-Score:\", f1)\n"
      ],
      "metadata": {
        "colab": {
          "base_uri": "https://localhost:8080/"
        },
        "id": "NDuiep1u00-I",
        "outputId": "225e1bbd-7370-4f94-ef02-ddb92677805a"
      },
      "execution_count": null,
      "outputs": [
        {
          "output_type": "stream",
          "name": "stdout",
          "text": [
            "F1-Score: 0.3328521939953811\n"
          ]
        }
      ]
    },
    {
      "cell_type": "code",
      "source": [
        "from sklearn.metrics import roc_curve, auc\n",
        "import matplotlib.pyplot as plt\n",
        "\n",
        "# Compute ROC curve and AUC\n",
        "fpr, tpr, thresholds = roc_curve(y_test, y_pred_nb)\n",
        "roc_auc = auc(fpr, tpr)\n",
        "\n",
        "# Plot ROC curve\n",
        "plt.figure()\n",
        "plt.plot(fpr, tpr, color='darkorange', lw=2, label='ROC curve (area = %0.2f)' % roc_auc)\n",
        "plt.plot([0, 1], [0, 1], color='navy', lw=2, linestyle='--')\n",
        "plt.xlim([0.0, 1.0])\n",
        "plt.ylim([0.0, 1.05])\n",
        "plt.xlabel('False Positive Rate')\n",
        "plt.ylabel('True Positive Rate')\n",
        "plt.title('ROC Curve')\n",
        "plt.legend(loc=\"lower right\")\n",
        "plt.show()\n"
      ],
      "metadata": {
        "colab": {
          "base_uri": "https://localhost:8080/",
          "height": 472
        },
        "id": "Kmg50T7u0flQ",
        "outputId": "0acf99ba-0345-4fd5-cd50-fa021a423b5d"
      },
      "execution_count": null,
      "outputs": [
        {
          "output_type": "display_data",
          "data": {
            "text/plain": [
              "<Figure size 640x480 with 1 Axes>"
            ],
            "image/png": "[encoded data removed]"
          },
          "metadata": {}
        }
      ]
    },
    {
      "cell_type": "code",
      "source": [
        "from sklearn.metrics import precision_recall_curve\n",
        "\n",
        "# Compute precision-recall curve\n",
        "precision, recall, _ = precision_recall_curve(y_test, y_pred_nb)\n",
        "\n",
        "# Compute Average Precision (AP)\n",
        "average_precision = average_precision_score(y_test, y_pred_nb)\n",
        "\n",
        "# Plot Precision-Recall curve with AP\n",
        "plt.figure()\n",
        "plt.step(recall, precision, color='b', alpha=0.2, where='post')\n",
        "plt.fill_between(recall, precision, step='post', alpha=0.2, color='b')\n",
        "plt.xlabel('Recall')\n",
        "plt.ylabel('Precision')\n",
        "plt.ylim([0.0, 1.05])\n",
        "plt.xlim([0.0, 1.0])\n",
        "plt.title('Precision-Recall Curve with AP={0:0.2f}'.format(average_precision))\n",
        "plt.show()\n"
      ],
      "metadata": {
        "colab": {
          "base_uri": "https://localhost:8080/",
          "height": 472
        },
        "id": "5GMmrjub0fhT",
        "outputId": "ad7ee420-f3f4-454d-b512-4da870e05d78"
      },
      "execution_count": null,
      "outputs": [
        {
          "output_type": "display_data",
          "data": {
            "text/plain": [
              "<Figure size 640x480 with 1 Axes>"
            ],
            "image/png": "[encoded data removed]"
          },
          "metadata": {}
        }
      ]
    },
    {
      "cell_type": "code",
      "source": [],
      "metadata": {
        "id": "V_KFS40i0-X0"
      },
      "execution_count": null,
      "outputs": []
    },
    {
      "cell_type": "code",
      "source": [],
      "metadata": {
        "id": "huqaOgD_0fT3"
      },
      "execution_count": null,
      "outputs": []
    },
    {
      "cell_type": "code",
      "source": [
        "len(data.columns)"
      ],
      "metadata": {
        "colab": {
          "base_uri": "https://localhost:8080/"
        },
        "id": "Onv7y74xsZTw",
        "outputId": "d75cd1ec-254d-44b6-e21a-3b1acdbc3a75"
      },
      "execution_count": null,
      "outputs": [
        {
          "output_type": "execute_result",
          "data": {
            "text/plain": [
              "48"
            ]
          },
          "metadata": {},
          "execution_count": 78
        }
      ]
    },
    {
      "cell_type": "code",
      "source": [],
      "metadata": {
        "id": "TGAnhnwtrtdD"
      },
      "execution_count": null,
      "outputs": []
    },
    {
      "cell_type": "code",
      "source": [],
      "metadata": {
        "id": "ceS05JtNqqBU"
      },
      "execution_count": null,
      "outputs": []
    },
    {
      "cell_type": "code",
      "source": [],
      "metadata": {
        "id": "khBcrrBAqp6L"
      },
      "execution_count": null,
      "outputs": []
    },
    {
      "cell_type": "code",
      "source": [],
      "metadata": {
        "id": "iXg8m_Rjqp3p"
      },
      "execution_count": null,
      "outputs": []
    },
    {
      "cell_type": "code",
      "source": [],
      "metadata": {
        "id": "VSN_MIozqpzP"
      },
      "execution_count": null,
      "outputs": []
    },
    {
      "cell_type": "code",
      "source": [],
      "metadata": {
        "id": "3fK9H0soMfsA"
      },
      "execution_count": null,
      "outputs": []
    },
    {
      "cell_type": "code",
      "source": [
        "import pandas as pd\n",
        "import numpy as np"
      ],
      "metadata": {
        "id": "lfhpHKRQMfpM"
      },
      "execution_count": null,
      "outputs": []
    },
    {
      "cell_type": "code",
      "source": [
        "data = pd.read_csv('merged_dataset.csv')"
      ],
      "metadata": {
        "colab": {
          "base_uri": "https://localhost:8080/"
        },
        "id": "ftR4-kNeMfmZ",
        "outputId": "71ff5b3b-2120-4b83-c61b-4412eb641ab8"
      },
      "execution_count": null,
      "outputs": [
        {
          "output_type": "stream",
          "name": "stderr",
          "text": [
            "<ipython-input-158-53a78f1fa5b1>:1: DtypeWarning: Columns (1,3,39,47) have mixed types. Specify dtype option on import or set low_memory=False.\n",
            "  data = pd.read_csv('merged_dataset.csv')\n"
          ]
        }
      ]
    },
    {
      "cell_type": "code",
      "source": [
        "data"
      ],
      "metadata": {
        "colab": {
          "base_uri": "https://localhost:8080/",
          "height": 461
        },
        "id": "9h4tWFEzMmNp",
        "outputId": "62a5de7a-6143-402e-8103-30ac32b7dcb8"
      },
      "execution_count": null,
      "outputs": [
        {
          "output_type": "execute_result",
          "data": {
            "text/plain": [
              "                srcip  sport           dstip dsport proto state       dur  \\\n",
              "0          59.166.0.0   1390   149.171.126.6     53   udp   CON  0.001055   \n",
              "1          59.166.0.0  33661   149.171.126.9   1024   udp   CON  0.036133   \n",
              "2          59.166.0.6   1464   149.171.126.7     53   udp   CON  0.001119   \n",
              "3          59.166.0.5   3593   149.171.126.5     53   udp   CON  0.001209   \n",
              "4          59.166.0.3  49664   149.171.126.0     53   udp   CON  0.001169   \n",
              "...               ...    ...             ...    ...   ...   ...       ...   \n",
              "2540042    59.166.0.5  33094   149.171.126.7  43433   tcp   FIN  0.087306   \n",
              "2540043    59.166.0.7  20848   149.171.126.4     21   tcp   CON  0.365058   \n",
              "2540044    59.166.0.3  21511   149.171.126.9     21   tcp   CON  6.335154   \n",
              "2540045    59.166.0.9  35433   149.171.126.0     80   tcp   CON  2.200934   \n",
              "2540046  175.45.176.0  17293  149.171.126.17    110   tcp   CON  0.942984   \n",
              "\n",
              "         sbytes  dbytes  sttl  ...  ct_ftp_cmd  ct_srv_src  ct_srv_dst  \\\n",
              "0           132     164    31  ...           0           3           7   \n",
              "1           528     304    31  ...           0           2           4   \n",
              "2           146     178    31  ...           0          12           8   \n",
              "3           132     164    31  ...           0           6           9   \n",
              "4           146     178    31  ...           0           7           9   \n",
              "...         ...     ...   ...  ...         ...         ...         ...   \n",
              "2540042     320    1828    31  ...                       1           2   \n",
              "2540043     456     346    31  ...           2           2           2   \n",
              "2540044    1802    2088    31  ...           2           2           2   \n",
              "2540045    3498  166054    31  ...                       1           1   \n",
              "2540046     574     676    62  ...                       1           1   \n",
              "\n",
              "        ct_dst_ltm  ct_src_ ltm  ct_src_dport_ltm  ct_dst_sport_ltm  \\\n",
              "0                1            3                 1                 1   \n",
              "1                2            3                 1                 1   \n",
              "2                1            2                 2                 1   \n",
              "3                1            1                 1                 1   \n",
              "4                1            1                 1                 1   \n",
              "...            ...          ...               ...               ...   \n",
              "2540042          3            3                 1                 1   \n",
              "2540043          2            2                 2                 2   \n",
              "2540044          4            2                 2                 2   \n",
              "2540045          2            4                 2                 2   \n",
              "2540046          2            4                 2                 2   \n",
              "\n",
              "         ct_dst_src_ltm  attack_cat  Label  \n",
              "0                     1         NaN      0  \n",
              "1                     2         NaN      0  \n",
              "2                     1         NaN      0  \n",
              "3                     1         NaN      0  \n",
              "4                     1         NaN      0  \n",
              "...                 ...         ...    ...  \n",
              "2540042               3         NaN      0  \n",
              "2540043               2         NaN      0  \n",
              "2540044               2         NaN      0  \n",
              "2540045               2         NaN      0  \n",
              "2540046               2    Exploits      1  \n",
              "\n",
              "[2540047 rows x 49 columns]"
            ],
            "text/html": [
              "\n",
              "  <div id=\"df-e4656ca4-54c5-4d0e-81b4-e39baeb92f21\" class=\"colab-df-container\">\n",
              "    <div>\n",
              "<style scoped>\n",
              "    .dataframe tbody tr th:only-of-type {\n",
              "        vertical-align: middle;\n",
              "    }\n",
              "\n",
              "    .dataframe tbody tr th {\n",
              "        vertical-align: top;\n",
              "    }\n",
              "\n",
              "    .dataframe thead th {\n",
              "        text-align: right;\n",
              "    }\n",
              "</style>\n",
              "<table border=\"1\" class=\"dataframe\">\n",
              "  <thead>\n",
              "    <tr style=\"text-align: right;\">\n",
              "      <th></th>\n",
              "      <th>srcip</th>\n",
              "      <th>sport</th>\n",
              "      <th>dstip</th>\n",
              "      <th>dsport</th>\n",
              "      <th>proto</th>\n",
              "      <th>state</th>\n",
              "      <th>dur</th>\n",
              "      <th>sbytes</th>\n",
              "      <th>dbytes</th>\n",
              "      <th>sttl</th>\n",
              "      <th>...</th>\n",
              "      <th>ct_ftp_cmd</th>\n",
              "      <th>ct_srv_src</th>\n",
              "      <th>ct_srv_dst</th>\n",
              "      <th>ct_dst_ltm</th>\n",
              "      <th>ct_src_ ltm</th>\n",
              "      <th>ct_src_dport_ltm</th>\n",
              "      <th>ct_dst_sport_ltm</th>\n",
              "      <th>ct_dst_src_ltm</th>\n",
              "      <th>attack_cat</th>\n",
              "      <th>Label</th>\n",
              "    </tr>\n",
              "  </thead>\n",
              "  <tbody>\n",
              "    <tr>\n",
              "      <th>0</th>\n",
              "      <td>59.166.0.0</td>\n",
              "      <td>1390</td>\n",
              "      <td>149.171.126.6</td>\n",
              "      <td>53</td>\n",
              "      <td>udp</td>\n",
              "      <td>CON</td>\n",
              "      <td>0.001055</td>\n",
              "      <td>132</td>\n",
              "      <td>164</td>\n",
              "      <td>31</td>\n",
              "      <td>...</td>\n",
              "      <td>0</td>\n",
              "      <td>3</td>\n",
              "      <td>7</td>\n",
              "      <td>1</td>\n",
              "      <td>3</td>\n",
              "      <td>1</td>\n",
              "      <td>1</td>\n",
              "      <td>1</td>\n",
              "      <td>NaN</td>\n",
              "      <td>0</td>\n",
              "    </tr>\n",
              "    <tr>\n",
              "      <th>1</th>\n",
              "      <td>59.166.0.0</td>\n",
              "      <td>33661</td>\n",
              "      <td>149.171.126.9</td>\n",
              "      <td>1024</td>\n",
              "      <td>udp</td>\n",
              "      <td>CON</td>\n",
              "      <td>0.036133</td>\n",
              "      <td>528</td>\n",
              "      <td>304</td>\n",
              "      <td>31</td>\n",
              "      <td>...</td>\n",
              "      <td>0</td>\n",
              "      <td>2</td>\n",
              "      <td>4</td>\n",
              "      <td>2</td>\n",
              "      <td>3</td>\n",
              "      <td>1</td>\n",
              "      <td>1</td>\n",
              "      <td>2</td>\n",
              "      <td>NaN</td>\n",
              "      <td>0</td>\n",
              "    </tr>\n",
              "    <tr>\n",
              "      <th>2</th>\n",
              "      <td>59.166.0.6</td>\n",
              "      <td>1464</td>\n",
              "      <td>149.171.126.7</td>\n",
              "      <td>53</td>\n",
              "      <td>udp</td>\n",
              "      <td>CON</td>\n",
              "      <td>0.001119</td>\n",
              "      <td>146</td>\n",
              "      <td>178</td>\n",
              "      <td>31</td>\n",
              "      <td>...</td>\n",
              "      <td>0</td>\n",
              "      <td>12</td>\n",
              "      <td>8</td>\n",
              "      <td>1</td>\n",
              "      <td>2</td>\n",
              "      <td>2</td>\n",
              "      <td>1</td>\n",
              "      <td>1</td>\n",
              "      <td>NaN</td>\n",
              "      <td>0</td>\n",
              "    </tr>\n",
              "    <tr>\n",
              "      <th>3</th>\n",
              "      <td>59.166.0.5</td>\n",
              "      <td>3593</td>\n",
              "      <td>149.171.126.5</td>\n",
              "      <td>53</td>\n",
              "      <td>udp</td>\n",
              "      <td>CON</td>\n",
              "      <td>0.001209</td>\n",
              "      <td>132</td>\n",
              "      <td>164</td>\n",
              "      <td>31</td>\n",
              "      <td>...</td>\n",
              "      <td>0</td>\n",
              "      <td>6</td>\n",
              "      <td>9</td>\n",
              "      <td>1</td>\n",
              "      <td>1</td>\n",
              "      <td>1</td>\n",
              "      <td>1</td>\n",
              "      <td>1</td>\n",
              "      <td>NaN</td>\n",
              "      <td>0</td>\n",
              "    </tr>\n",
              "    <tr>\n",
              "      <th>4</th>\n",
              "      <td>59.166.0.3</td>\n",
              "      <td>49664</td>\n",
              "      <td>149.171.126.0</td>\n",
              "      <td>53</td>\n",
              "      <td>udp</td>\n",
              "      <td>CON</td>\n",
              "      <td>0.001169</td>\n",
              "      <td>146</td>\n",
              "      <td>178</td>\n",
              "      <td>31</td>\n",
              "      <td>...</td>\n",
              "      <td>0</td>\n",
              "      <td>7</td>\n",
              "      <td>9</td>\n",
              "      <td>1</td>\n",
              "      <td>1</td>\n",
              "      <td>1</td>\n",
              "      <td>1</td>\n",
              "      <td>1</td>\n",
              "      <td>NaN</td>\n",
              "      <td>0</td>\n",
              "    </tr>\n",
              "    <tr>\n",
              "      <th>...</th>\n",
              "      <td>...</td>\n",
              "      <td>...</td>\n",
              "      <td>...</td>\n",
              "      <td>...</td>\n",
              "      <td>...</td>\n",
              "      <td>...</td>\n",
              "      <td>...</td>\n",
              "      <td>...</td>\n",
              "      <td>...</td>\n",
              "      <td>...</td>\n",
              "      <td>...</td>\n",
              "      <td>...</td>\n",
              "      <td>...</td>\n",
              "      <td>...</td>\n",
              "      <td>...</td>\n",
              "      <td>...</td>\n",
              "      <td>...</td>\n",
              "      <td>...</td>\n",
              "      <td>...</td>\n",
              "      <td>...</td>\n",
              "      <td>...</td>\n",
              "    </tr>\n",
              "    <tr>\n",
              "      <th>2540042</th>\n",
              "      <td>59.166.0.5</td>\n",
              "      <td>33094</td>\n",
              "      <td>149.171.126.7</td>\n",
              "      <td>43433</td>\n",
              "      <td>tcp</td>\n",
              "      <td>FIN</td>\n",
              "      <td>0.087306</td>\n",
              "      <td>320</td>\n",
              "      <td>1828</td>\n",
              "      <td>31</td>\n",
              "      <td>...</td>\n",
              "      <td></td>\n",
              "      <td>1</td>\n",
              "      <td>2</td>\n",
              "      <td>3</td>\n",
              "      <td>3</td>\n",
              "      <td>1</td>\n",
              "      <td>1</td>\n",
              "      <td>3</td>\n",
              "      <td>NaN</td>\n",
              "      <td>0</td>\n",
              "    </tr>\n",
              "    <tr>\n",
              "      <th>2540043</th>\n",
              "      <td>59.166.0.7</td>\n",
              "      <td>20848</td>\n",
              "      <td>149.171.126.4</td>\n",
              "      <td>21</td>\n",
              "      <td>tcp</td>\n",
              "      <td>CON</td>\n",
              "      <td>0.365058</td>\n",
              "      <td>456</td>\n",
              "      <td>346</td>\n",
              "      <td>31</td>\n",
              "      <td>...</td>\n",
              "      <td>2</td>\n",
              "      <td>2</td>\n",
              "      <td>2</td>\n",
              "      <td>2</td>\n",
              "      <td>2</td>\n",
              "      <td>2</td>\n",
              "      <td>2</td>\n",
              "      <td>2</td>\n",
              "      <td>NaN</td>\n",
              "      <td>0</td>\n",
              "    </tr>\n",
              "    <tr>\n",
              "      <th>2540044</th>\n",
              "      <td>59.166.0.3</td>\n",
              "      <td>21511</td>\n",
              "      <td>149.171.126.9</td>\n",
              "      <td>21</td>\n",
              "      <td>tcp</td>\n",
              "      <td>CON</td>\n",
              "      <td>6.335154</td>\n",
              "      <td>1802</td>\n",
              "      <td>2088</td>\n",
              "      <td>31</td>\n",
              "      <td>...</td>\n",
              "      <td>2</td>\n",
              "      <td>2</td>\n",
              "      <td>2</td>\n",
              "      <td>4</td>\n",
              "      <td>2</td>\n",
              "      <td>2</td>\n",
              "      <td>2</td>\n",
              "      <td>2</td>\n",
              "      <td>NaN</td>\n",
              "      <td>0</td>\n",
              "    </tr>\n",
              "    <tr>\n",
              "      <th>2540045</th>\n",
              "      <td>59.166.0.9</td>\n",
              "      <td>35433</td>\n",
              "      <td>149.171.126.0</td>\n",
              "      <td>80</td>\n",
              "      <td>tcp</td>\n",
              "      <td>CON</td>\n",
              "      <td>2.200934</td>\n",
              "      <td>3498</td>\n",
              "      <td>166054</td>\n",
              "      <td>31</td>\n",
              "      <td>...</td>\n",
              "      <td></td>\n",
              "      <td>1</td>\n",
              "      <td>1</td>\n",
              "      <td>2</td>\n",
              "      <td>4</td>\n",
              "      <td>2</td>\n",
              "      <td>2</td>\n",
              "      <td>2</td>\n",
              "      <td>NaN</td>\n",
              "      <td>0</td>\n",
              "    </tr>\n",
              "    <tr>\n",
              "      <th>2540046</th>\n",
              "      <td>175.45.176.0</td>\n",
              "      <td>17293</td>\n",
              "      <td>149.171.126.17</td>\n",
              "      <td>110</td>\n",
              "      <td>tcp</td>\n",
              "      <td>CON</td>\n",
              "      <td>0.942984</td>\n",
              "      <td>574</td>\n",
              "      <td>676</td>\n",
              "      <td>62</td>\n",
              "      <td>...</td>\n",
              "      <td></td>\n",
              "      <td>1</td>\n",
              "      <td>1</td>\n",
              "      <td>2</td>\n",
              "      <td>4</td>\n",
              "      <td>2</td>\n",
              "      <td>2</td>\n",
              "      <td>2</td>\n",
              "      <td>Exploits</td>\n",
              "      <td>1</td>\n",
              "    </tr>\n",
              "  </tbody>\n",
              "</table>\n",
              "<p>2540047 rows × 49 columns</p>\n",
              "</div>\n",
              "    <div class=\"colab-df-buttons\">\n",
              "\n",
              "  <div class=\"colab-df-container\">\n",
              "    <button class=\"colab-df-convert\" onclick=\"convertToInteractive('df-e4656ca4-54c5-4d0e-81b4-e39baeb92f21')\"\n",
              "            title=\"Convert this dataframe to an interactive table.\"\n",
              "            style=\"display:none;\">\n",
              "\n",
              "  <svg xmlns=\"http://www.w3.org/2000/svg\" height=\"24px\" viewBox=\"0 -960 960 960\">\n",
              "    <path d=\"M120-120v-720h720v720H120Zm60-500h600v-160H180v160Zm220 220h160v-160H400v160Zm0 220h160v-160H400v160ZM180-400h160v-160H180v160Zm440 0h160v-160H620v160ZM180-180h160v-160H180v160Zm440 0h160v-160H620v160Z\"/>\n",
              "  </svg>\n",
              "    </button>\n",
              "\n",
              "  <style>\n",
              "    .colab-df-container {\n",
              "      display:flex;\n",
              "      gap: 12px;\n",
              "    }\n",
              "\n",
              "    .colab-df-convert {\n",
              "      background-color: #E8F0FE;\n",
              "      border: none;\n",
              "      border-radius: 50%;\n",
              "      cursor: pointer;\n",
              "      display: none;\n",
              "      fill: #1967D2;\n",
              "      height: 32px;\n",
              "      padding: 0 0 0 0;\n",
              "      width: 32px;\n",
              "    }\n",
              "\n",
              "    .colab-df-convert:hover {\n",
              "      background-color: #E2EBFA;\n",
              "      box-shadow: 0px 1px 2px rgba(60, 64, 67, 0.3), 0px 1px 3px 1px rgba(60, 64, 67, 0.15);\n",
              "      fill: #174EA6;\n",
              "    }\n",
              "\n",
              "    .colab-df-buttons div {\n",
              "      margin-bottom: 4px;\n",
              "    }\n",
              "\n",
              "    [theme=dark] .colab-df-convert {\n",
              "      background-color: #3B4455;\n",
              "      fill: #D2E3FC;\n",
              "    }\n",
              "\n",
              "    [theme=dark] .colab-df-convert:hover {\n",
              "      background-color: #434B5C;\n",
              "      box-shadow: 0px 1px 3px 1px rgba(0, 0, 0, 0.15);\n",
              "      filter: drop-shadow(0px 1px 2px rgba(0, 0, 0, 0.3));\n",
              "      fill: #FFFFFF;\n",
              "    }\n",
              "  </style>\n",
              "\n",
              "    <script>\n",
              "      const buttonEl =\n",
              "        document.querySelector('#df-e4656ca4-54c5-4d0e-81b4-e39baeb92f21 button.colab-df-convert');\n",
              "      buttonEl.style.display =\n",
              "        google.colab.kernel.accessAllowed ? 'block' : 'none';\n",
              "\n",
              "      async function convertToInteractive(key) {\n",
              "        const element = document.querySelector('#df-e4656ca4-54c5-4d0e-81b4-e39baeb92f21');\n",
              "        const dataTable =\n",
              "          await google.colab.kernel.invokeFunction('convertToInteractive',\n",
              "                                                    [key], {});\n",
              "        if (!dataTable) return;\n",
              "\n",
              "        const docLinkHtml = 'Like what you see? Visit the ' +\n",
              "          '<a target=\"_blank\" href=https://colab.research.google.com/notebooks/data_table.ipynb>data table notebook</a>'\n",
              "          + ' to learn more about interactive tables.';\n",
              "        element.innerHTML = '';\n",
              "        dataTable['output_type'] = 'display_data';\n",
              "        await google.colab.output.renderOutput(dataTable, element);\n",
              "        const docLink = document.createElement('div');\n",
              "        docLink.innerHTML = docLinkHtml;\n",
              "        element.appendChild(docLink);\n",
              "      }\n",
              "    </script>\n",
              "  </div>\n",
              "\n",
              "\n",
              "<div id=\"df-3345d457-caa2-43df-9312-de4ee0302c57\">\n",
              "  <button class=\"colab-df-quickchart\" onclick=\"quickchart('df-3345d457-caa2-43df-9312-de4ee0302c57')\"\n",
              "            title=\"Suggest charts\"\n",
              "            style=\"display:none;\">\n",
              "\n",
              "<svg xmlns=\"http://www.w3.org/2000/svg\" height=\"24px\"viewBox=\"0 0 24 24\"\n",
              "     width=\"24px\">\n",
              "    <g>\n",
              "        <path d=\"M19 3H5c-1.1 0-2 .9-2 2v14c0 1.1.9 2 2 2h14c1.1 0 2-.9 2-2V5c0-1.1-.9-2-2-2zM9 17H7v-7h2v7zm4 0h-2V7h2v10zm4 0h-2v-4h2v4z\"/>\n",
              "    </g>\n",
              "</svg>\n",
              "  </button>\n",
              "\n",
              "<style>\n",
              "  .colab-df-quickchart {\n",
              "      --bg-color: #E8F0FE;\n",
              "      --fill-color: #1967D2;\n",
              "      --hover-bg-color: #E2EBFA;\n",
              "      --hover-fill-color: #174EA6;\n",
              "      --disabled-fill-color: #AAA;\n",
              "      --disabled-bg-color: #DDD;\n",
              "  }\n",
              "\n",
              "  [theme=dark] .colab-df-quickchart {\n",
              "      --bg-color: #3B4455;\n",
              "      --fill-color: #D2E3FC;\n",
              "      --hover-bg-color: #434B5C;\n",
              "      --hover-fill-color: #FFFFFF;\n",
              "      --disabled-bg-color: #3B4455;\n",
              "      --disabled-fill-color: #666;\n",
              "  }\n",
              "\n",
              "  .colab-df-quickchart {\n",
              "    background-color: var(--bg-color);\n",
              "    border: none;\n",
              "    border-radius: 50%;\n",
              "    cursor: pointer;\n",
              "    display: none;\n",
              "    fill: var(--fill-color);\n",
              "    height: 32px;\n",
              "    padding: 0;\n",
              "    width: 32px;\n",
              "  }\n",
              "\n",
              "  .colab-df-quickchart:hover {\n",
              "    background-color: var(--hover-bg-color);\n",
              "    box-shadow: 0 1px 2px rgba(60, 64, 67, 0.3), 0 1px 3px 1px rgba(60, 64, 67, 0.15);\n",
              "    fill: var(--button-hover-fill-color);\n",
              "  }\n",
              "\n",
              "  .colab-df-quickchart-complete:disabled,\n",
              "  .colab-df-quickchart-complete:disabled:hover {\n",
              "    background-color: var(--disabled-bg-color);\n",
              "    fill: var(--disabled-fill-color);\n",
              "    box-shadow: none;\n",
              "  }\n",
              "\n",
              "  .colab-df-spinner {\n",
              "    border: 2px solid var(--fill-color);\n",
              "    border-color: transparent;\n",
              "    border-bottom-color: var(--fill-color);\n",
              "    animation:\n",
              "      spin 1s steps(1) infinite;\n",
              "  }\n",
              "\n",
              "  @keyframes spin {\n",
              "    0% {\n",
              "      border-color: transparent;\n",
              "      border-bottom-color: var(--fill-color);\n",
              "      border-left-color: var(--fill-color);\n",
              "    }\n",
              "    20% {\n",
              "      border-color: transparent;\n",
              "      border-left-color: var(--fill-color);\n",
              "      border-top-color: var(--fill-color);\n",
              "    }\n",
              "    30% {\n",
              "      border-color: transparent;\n",
              "      border-left-color: var(--fill-color);\n",
              "      border-top-color: var(--fill-color);\n",
              "      border-right-color: var(--fill-color);\n",
              "    }\n",
              "    40% {\n",
              "      border-color: transparent;\n",
              "      border-right-color: var(--fill-color);\n",
              "      border-top-color: var(--fill-color);\n",
              "    }\n",
              "    60% {\n",
              "      border-color: transparent;\n",
              "      border-right-color: var(--fill-color);\n",
              "    }\n",
              "    80% {\n",
              "      border-color: transparent;\n",
              "      border-right-color: var(--fill-color);\n",
              "      border-bottom-color: var(--fill-color);\n",
              "    }\n",
              "    90% {\n",
              "      border-color: transparent;\n",
              "      border-bottom-color: var(--fill-color);\n",
              "    }\n",
              "  }\n",
              "</style>\n",
              "\n",
              "  <script>\n",
              "    async function quickchart(key) {\n",
              "      const quickchartButtonEl =\n",
              "        document.querySelector('#' + key + ' button');\n",
              "      quickchartButtonEl.disabled = true;  // To prevent multiple clicks.\n",
              "      quickchartButtonEl.classList.add('colab-df-spinner');\n",
              "      try {\n",
              "        const charts = await google.colab.kernel.invokeFunction(\n",
              "            'suggestCharts', [key], {});\n",
              "      } catch (error) {\n",
              "        console.error('Error during call to suggestCharts:', error);\n",
              "      }\n",
              "      quickchartButtonEl.classList.remove('colab-df-spinner');\n",
              "      quickchartButtonEl.classList.add('colab-df-quickchart-complete');\n",
              "    }\n",
              "    (() => {\n",
              "      let quickchartButtonEl =\n",
              "        document.querySelector('#df-3345d457-caa2-43df-9312-de4ee0302c57 button');\n",
              "      quickchartButtonEl.style.display =\n",
              "        google.colab.kernel.accessAllowed ? 'block' : 'none';\n",
              "    })();\n",
              "  </script>\n",
              "</div>\n",
              "    </div>\n",
              "  </div>\n"
            ],
            "application/vnd.google.colaboratory.intrinsic+json": {
              "type": "dataframe",
              "variable_name": "data"
            }
          },
          "metadata": {},
          "execution_count": 159
        }
      ]
    },
    {
      "cell_type": "code",
      "source": [
        "data.info()"
      ],
      "metadata": {
        "colab": {
          "base_uri": "https://localhost:8080/"
        },
        "id": "Li-2_wkGM2mv",
        "outputId": "92657743-1d53-40dd-f70d-42788131ebb4"
      },
      "execution_count": null,
      "outputs": [
        {
          "output_type": "stream",
          "name": "stdout",
          "text": [
            "<class 'pandas.core.frame.DataFrame'>\n",
            "RangeIndex: 2540047 entries, 0 to 2540046\n",
            "Data columns (total 49 columns):\n",
            " #   Column            Dtype  \n",
            "---  ------            -----  \n",
            " 0   srcip             object \n",
            " 1   sport             object \n",
            " 2   dstip             object \n",
            " 3   dsport            object \n",
            " 4   proto             object \n",
            " 5   state             object \n",
            " 6   dur               float64\n",
            " 7   sbytes            int64  \n",
            " 8   dbytes            int64  \n",
            " 9   sttl              int64  \n",
            " 10  dttl              int64  \n",
            " 11  sloss             int64  \n",
            " 12  dloss             int64  \n",
            " 13  service           object \n",
            " 14  Sload             float64\n",
            " 15  Dload             float64\n",
            " 16  Spkts             int64  \n",
            " 17  Dpkts             int64  \n",
            " 18  swin              int64  \n",
            " 19  dwin              int64  \n",
            " 20  stcpb             int64  \n",
            " 21  dtcpb             int64  \n",
            " 22  smeansz           int64  \n",
            " 23  dmeansz           int64  \n",
            " 24  trans_depth       int64  \n",
            " 25  res_bdy_len       int64  \n",
            " 26  Sjit              float64\n",
            " 27  Djit              float64\n",
            " 28  Stime             int64  \n",
            " 29  Ltime             int64  \n",
            " 30  Sintpkt           float64\n",
            " 31  Dintpkt           float64\n",
            " 32  tcprtt            float64\n",
            " 33  synack            float64\n",
            " 34  ackdat            float64\n",
            " 35  is_sm_ips_ports   int64  \n",
            " 36  ct_state_ttl      int64  \n",
            " 37  ct_flw_http_mthd  float64\n",
            " 38  is_ftp_login      float64\n",
            " 39  ct_ftp_cmd        object \n",
            " 40  ct_srv_src        int64  \n",
            " 41  ct_srv_dst        int64  \n",
            " 42  ct_dst_ltm        int64  \n",
            " 43  ct_src_ ltm       int64  \n",
            " 44  ct_src_dport_ltm  int64  \n",
            " 45  ct_dst_sport_ltm  int64  \n",
            " 46  ct_dst_src_ltm    int64  \n",
            " 47  attack_cat        object \n",
            " 48  Label             int64  \n",
            "dtypes: float64(12), int64(28), object(9)\n",
            "memory usage: 949.6+ MB\n"
          ]
        }
      ]
    },
    {
      "cell_type": "code",
      "source": [
        "import pandas as pd\n",
        "\n",
        "# Assuming 'data' is your DataFrame\n",
        "# Create an empty list to store columns with alphanumeric or special characters\n",
        "columns_with_strings = []\n",
        "\n",
        "# Iterate over each column\n",
        "for column in data.columns:\n",
        "    # Check if any element in the column contains alphanumeric or special characters\n",
        "    if data[column].apply(lambda x: isinstance(x, str) and any(char.isalnum() or not char.isspace() for char in x)).any():\n",
        "        columns_with_strings.append(column)\n",
        "\n",
        "# Print columns with alphanumeric or special characters\n",
        "print(\"Columns with alphanumeric or special characters:\")\n",
        "for column in columns_with_strings:\n",
        "    print(column)\n"
      ],
      "metadata": {
        "colab": {
          "base_uri": "https://localhost:8080/"
        },
        "id": "fPPnHlO43U5y",
        "outputId": "71dc612c-f238-4e9d-aeab-f902aeed26dd"
      },
      "execution_count": null,
      "outputs": [
        {
          "output_type": "stream",
          "name": "stdout",
          "text": [
            "Columns with alphanumeric or special characters:\n",
            "srcip\n",
            "sport\n",
            "dstip\n",
            "dsport\n",
            "proto\n",
            "state\n",
            "service\n",
            "ct_ftp_cmd\n",
            "attack_cat\n"
          ]
        }
      ]
    },
    {
      "cell_type": "code",
      "source": [
        "# Assuming 'data' is your DataFrame\n",
        "\n",
        "# Iterate over each column\n",
        "for column in ['srcip', 'sport', 'dstip', 'dsport', 'proto', 'state', 'service', 'ct_ftp_cmd', 'attack_cat']:\n",
        "    # Print the column name\n",
        "    print(\"Unique values in column '{}':\".format(column))\n",
        "    # Remove leading and trailing whitespaces and then print the unique values in the column\n",
        "    print(data[column].str.strip().unique())\n",
        "    print()  # Add an empty line for better readability\n"
      ],
      "metadata": {
        "colab": {
          "base_uri": "https://localhost:8080/"
        },
        "id": "gnI4SguD5at5",
        "outputId": "9505d18d-8474-4d6c-e384-b9af6b394a2e"
      },
      "execution_count": null,
      "outputs": [
        {
          "output_type": "stream",
          "name": "stdout",
          "text": [
            "Unique values in column 'srcip':\n",
            "['59.166.0.0' '59.166.0.6' '59.166.0.5' '59.166.0.3' '10.40.182.3'\n",
            " '59.166.0.7' '10.40.170.2' '59.166.0.1' '59.166.0.2' '59.166.0.4'\n",
            " '175.45.176.3' '175.45.176.2' '175.45.176.0' '59.166.0.8' '59.166.0.9'\n",
            " '175.45.176.1' '10.40.182.1' '10.40.85.1' '192.168.241.243' '10.40.85.30'\n",
            " '149.171.126.16' '149.171.126.2' '149.171.126.11' '149.171.126.4'\n",
            " '149.171.126.5' '149.171.126.17' '149.171.126.19' '149.171.126.9'\n",
            " '149.171.126.8' '149.171.126.7' '149.171.126.15' '149.171.126.6'\n",
            " '149.171.126.0' '149.171.126.1' '149.171.126.3' '149.171.126.13'\n",
            " '149.171.126.12' '149.171.126.10' '149.171.126.18' '127.0.0.1'\n",
            " '149.171.126.14' '10.40.85.10' '10.40.182.6']\n",
            "\n",
            "Unique values in column 'sport':\n",
            "[nan '30597' '56866' ... '47629' '13366' '27282']\n",
            "\n",
            "Unique values in column 'dstip':\n",
            "['149.171.126.6' '149.171.126.9' '149.171.126.7' '149.171.126.5'\n",
            " '149.171.126.0' '149.171.126.4' '10.40.182.3' '10.40.170.2'\n",
            " '149.171.126.18' '149.171.126.16' '149.171.126.8' '149.171.126.2'\n",
            " '149.171.126.1' '149.171.126.10' '149.171.126.3' '149.171.126.15'\n",
            " '149.171.126.14' '149.171.126.12' '149.171.126.13' '149.171.126.11'\n",
            " '224.0.0.5' '149.171.126.17' '149.171.126.19' '192.168.241.243'\n",
            " '10.40.85.1' '10.40.85.30' '175.45.176.3' '224.0.0.1' '59.166.0.4'\n",
            " '175.45.176.0' '59.166.0.9' '59.166.0.6' '175.45.176.2' '59.166.0.2'\n",
            " '59.166.0.5' '59.166.0.7' '59.166.0.1' '59.166.0.8' '59.166.0.0'\n",
            " '175.45.176.1' '59.166.0.3' '32.50.32.66' '10.40.198.10' '127.0.0.1'\n",
            " '192.168.241.50' '10.40.182.255' '10.40.182.6']\n",
            "\n",
            "Unique values in column 'dsport':\n",
            "['53' '1024' '111' ... '41921' '24470' '30870']\n",
            "\n",
            "Unique values in column 'proto':\n",
            "['udp' 'arp' 'tcp' 'ospf' 'icmp' 'igmp' 'sctp' 'udt' 'sep' 'sun-nd'\n",
            " 'swipe' 'mobile' 'pim' 'rtp' 'ipnip' 'ip' 'ggp' 'st2' 'egp' 'cbt' 'emcon'\n",
            " 'nvp' 'igp' 'xnet' 'argus' 'bbn-rcc' 'chaos' 'pup' 'hmp' 'mux' 'dcn'\n",
            " 'prm' 'trunk-1' 'xns-idp' 'trunk-2' 'leaf-1' 'leaf-2' 'irtp' 'rdp'\n",
            " 'iso-tp4' 'netblt' 'mfe-nsp' 'merit-inp' '3pc' 'xtp' 'idpr' 'tp++' 'ddp'\n",
            " 'idpr-cmtp' 'ipv6' 'il' 'idrp' 'ipv6-frag' 'sdrp' 'ipv6-route' 'gre'\n",
            " 'rsvp' 'mhrp' 'bna' 'esp' 'i-nlsp' 'narp' 'ipv6-no' 'tlsp' 'skip'\n",
            " 'ipv6-opts' 'any' 'cftp' 'sat-expak' 'kryptolan' 'rvd' 'ippc' 'sat-mon'\n",
            " 'ipcv' 'visa' 'cpnx' 'cphb' 'wsn' 'pvp' 'br-sat-mon' 'wb-mon' 'wb-expak'\n",
            " 'iso-ip' 'secure-vmtp' 'vmtp' 'vines' 'ttp' 'nsfnet-igp' 'dgp' 'tcf'\n",
            " 'eigrp' 'sprite-rpc' 'larp' 'mtp' 'ax.25' 'ipip' 'micp' 'aes-sp3-d'\n",
            " 'encap' 'etherip' 'pri-enc' 'gmtp' 'pnni' 'ifmp' 'aris' 'qnx' 'a/n'\n",
            " 'scps' 'snp' 'ipcomp' 'compaq-peer' 'ipx-n-ip' 'vrrp' 'zero' 'pgm' 'iatp'\n",
            " 'ddx' 'l2tp' 'srp' 'stp' 'smp' 'uti' 'sm' 'ptp' 'fire' 'crtp' 'isis'\n",
            " 'crudp' 'sccopmce' 'sps' 'pipe' 'iplt' 'unas' 'fc' 'ib']\n",
            "\n",
            "Unique values in column 'state':\n",
            "['CON' 'INT' 'FIN' 'URH' 'REQ' 'ECO' 'RST' 'CLO' 'TXD' 'URN' 'no' 'ACC'\n",
            " 'PAR' 'MAS' 'TST' 'ECR']\n",
            "\n",
            "Unique values in column 'service':\n",
            "['dns' '-' 'http' 'smtp' 'ftp-data' 'ftp' 'ssh' 'pop3' 'snmp' 'ssl' 'irc'\n",
            " 'radius' 'dhcp']\n",
            "\n",
            "Unique values in column 'ct_ftp_cmd':\n",
            "[nan '0' '1' '' '2' '4']\n",
            "\n",
            "Unique values in column 'attack_cat':\n",
            "[nan 'Exploits' 'Reconnaissance' 'DoS' 'Generic' 'Shellcode' 'Fuzzers'\n",
            " 'Worms' 'Backdoors' 'Analysis' 'Backdoor']\n",
            "\n"
          ]
        }
      ]
    },
    {
      "cell_type": "code",
      "source": [
        "non_numeric_dsport = data[~data['dsport'].astype(str).str.isdigit()]['dsport'].unique()\n",
        "print(non_numeric_dsport)\n"
      ],
      "metadata": {
        "colab": {
          "base_uri": "https://localhost:8080/"
        },
        "id": "gYbK7dGX79JJ",
        "outputId": "6197b294-7f0b-4ced-ba65-4d1c0bec45fb"
      },
      "execution_count": null,
      "outputs": [
        {
          "output_type": "stream",
          "name": "stdout",
          "text": [
            "['0xc0a8' '-' '0x20205321' '0xcc09']\n"
          ]
        }
      ]
    },
    {
      "cell_type": "code",
      "source": [
        "non_numeric_dsport = data[~data['sport'].astype(str).str.isdigit()]['sport'].unique()\n",
        "print(non_numeric_dsport)\n"
      ],
      "metadata": {
        "colab": {
          "base_uri": "https://localhost:8080/"
        },
        "id": "RWFVDnmu8Fyr",
        "outputId": "80a0223f-3af7-49dc-d61b-8791ada3415d"
      },
      "execution_count": null,
      "outputs": [
        {
          "output_type": "stream",
          "name": "stdout",
          "text": [
            "['0x000b' '0x000c' '-']\n"
          ]
        }
      ]
    },
    {
      "cell_type": "code",
      "source": [
        "data['attack_cat'].fillna('normal', inplace=True)\n"
      ],
      "metadata": {
        "id": "_z8WCn8LNK3f"
      },
      "execution_count": null,
      "outputs": []
    },
    {
      "cell_type": "code",
      "source": [
        "non_alpha_attack_cat = data[~data['attack_cat'].str.strip().str.isalpha()]['attack_cat'].unique()\n",
        "print(non_alpha_attack_cat)\n"
      ],
      "metadata": {
        "colab": {
          "base_uri": "https://localhost:8080/"
        },
        "id": "n94GpUiE9GLR",
        "outputId": "bb71b427-ad81-481d-e219-84feab4b22fe"
      },
      "execution_count": null,
      "outputs": [
        {
          "output_type": "stream",
          "name": "stdout",
          "text": [
            "[]\n"
          ]
        }
      ]
    },
    {
      "cell_type": "code",
      "source": [
        "data['attack_cat'].value_counts()"
      ],
      "metadata": {
        "colab": {
          "base_uri": "https://localhost:8080/"
        },
        "id": "FMKY6yHe9VJ_",
        "outputId": "d3019f5d-efc9-4f84-b735-2f8643daa757"
      },
      "execution_count": null,
      "outputs": [
        {
          "output_type": "execute_result",
          "data": {
            "text/plain": [
              "attack_cat\n",
              "normal              2218764\n",
              "Generic              215481\n",
              "Exploits              44525\n",
              " Fuzzers              19195\n",
              "DoS                   16353\n",
              " Reconnaissance       12228\n",
              " Fuzzers               5051\n",
              "Analysis               2677\n",
              "Backdoor               1795\n",
              "Reconnaissance         1759\n",
              " Shellcode             1288\n",
              "Backdoors               534\n",
              "Shellcode               223\n",
              "Worms                   174\n",
              "Name: count, dtype: int64"
            ]
          },
          "metadata": {},
          "execution_count": 171
        }
      ]
    },
    {
      "cell_type": "code",
      "source": [
        "data['state'].replace('-', 'Fin', inplace=True)"
      ],
      "metadata": {
        "id": "rsp6rLOjgW2D"
      },
      "execution_count": null,
      "outputs": []
    },
    {
      "cell_type": "code",
      "source": [
        "data['service'].replace('-', 'others', inplace=True)"
      ],
      "metadata": {
        "id": "XTqB6eOCQdXd"
      },
      "execution_count": null,
      "outputs": []
    },
    {
      "cell_type": "code",
      "source": [
        "data['dsport'].replace('0xc0a8', 53, inplace=True)\n",
        "data['dsport'].replace('0xcc09', 53, inplace=True)\n",
        "data['dsport'].replace('0x20205321', 53, inplace=True)\n",
        "data['dsport'].replace('-', 53, inplace=True)"
      ],
      "metadata": {
        "id": "OeE-VglmQrzA"
      },
      "execution_count": null,
      "outputs": []
    },
    {
      "cell_type": "code",
      "source": [
        "data['sport'].replace('0x000c', 0, inplace=True)\n",
        "data['sport'].replace('0x20205321', 0, inplace=True)\n",
        "data['sport'].replace('0x000b', 0, inplace=True)\n",
        "data['sport'].replace('-', 0, inplace=True)"
      ],
      "metadata": {
        "id": "tbeinRj_RPL0"
      },
      "execution_count": null,
      "outputs": []
    },
    {
      "cell_type": "code",
      "source": [
        "data['proto'].replace('-', 'tcp', inplace=True)"
      ],
      "metadata": {
        "id": "y7t-9kTxktNs"
      },
      "execution_count": null,
      "outputs": []
    },
    {
      "cell_type": "code",
      "source": [
        "data['dstip'].replace('-', '149.171.126.4', inplace=True)"
      ],
      "metadata": {
        "id": "-KM7gbeGqF0d"
      },
      "execution_count": null,
      "outputs": []
    },
    {
      "cell_type": "code",
      "source": [
        "data['srcip'].replace('-', '59.166.0.2', inplace=True)"
      ],
      "metadata": {
        "id": "1CZhAwoQqJFl"
      },
      "execution_count": null,
      "outputs": []
    },
    {
      "cell_type": "code",
      "source": [
        "# Replace NaN values with 0 in the 'ct_flw_http_mthd' and 'is_ftp_login' columns\n",
        "data['ct_flw_http_mthd'].fillna(0, inplace=True)\n",
        "data['is_ftp_login'].fillna(0, inplace=True)"
      ],
      "metadata": {
        "id": "9DWfrQ6Kqerd"
      },
      "execution_count": null,
      "outputs": []
    },
    {
      "cell_type": "code",
      "source": [
        "# Check for NaN values in the \"attack_cat\" column\n",
        "data['attack_cat'].isnull()"
      ],
      "metadata": {
        "colab": {
          "base_uri": "https://localhost:8080/"
        },
        "id": "sPLEuW2_kr0j",
        "outputId": "abc8203d-5988-471d-8459-64bd000593e6"
      },
      "execution_count": null,
      "outputs": [
        {
          "output_type": "execute_result",
          "data": {
            "text/plain": [
              "0          False\n",
              "1          False\n",
              "2          False\n",
              "3          False\n",
              "4          False\n",
              "           ...  \n",
              "2540042    False\n",
              "2540043    False\n",
              "2540044    False\n",
              "2540045    False\n",
              "2540046    False\n",
              "Name: attack_cat, Length: 2540047, dtype: bool"
            ]
          },
          "metadata": {},
          "execution_count": 142
        }
      ]
    },
    {
      "cell_type": "code",
      "source": [
        "data['attack_cat'].value_counts()"
      ],
      "metadata": {
        "colab": {
          "base_uri": "https://localhost:8080/"
        },
        "id": "irdh1SfOo3z7",
        "outputId": "96e77164-04e3-460d-95cd-6015968328af"
      },
      "execution_count": null,
      "outputs": [
        {
          "output_type": "execute_result",
          "data": {
            "text/plain": [
              "attack_cat\n",
              "normal              2218764\n",
              "Generic              215481\n",
              "Exploits              44525\n",
              " Fuzzers              19195\n",
              "DoS                   16353\n",
              " Reconnaissance       12228\n",
              " Fuzzers               5051\n",
              "Analysis               2677\n",
              "Backdoor               1795\n",
              "Reconnaissance         1759\n",
              " Shellcode             1288\n",
              "Backdoors               534\n",
              "Shellcode               223\n",
              "Worms                   174\n",
              "Name: count, dtype: int64"
            ]
          },
          "metadata": {},
          "execution_count": 143
        }
      ]
    },
    {
      "cell_type": "code",
      "source": [
        "data['sport']"
      ],
      "metadata": {
        "colab": {
          "base_uri": "https://localhost:8080/"
        },
        "id": "j-ez7HGgSy_W",
        "outputId": "8f34f052-3d86-47c3-dea9-4a71566354a1"
      },
      "execution_count": null,
      "outputs": [
        {
          "output_type": "execute_result",
          "data": {
            "text/plain": [
              "0           1390\n",
              "1          33661\n",
              "2           1464\n",
              "3           3593\n",
              "4          49664\n",
              "           ...  \n",
              "2540042    33094\n",
              "2540043    20848\n",
              "2540044    21511\n",
              "2540045    35433\n",
              "2540046    17293\n",
              "Name: sport, Length: 2540047, dtype: object"
            ]
          },
          "metadata": {},
          "execution_count": 148
        }
      ]
    },
    {
      "cell_type": "code",
      "source": [
        "# Check if '0x20205321' exists in the 'sport' column\n",
        "is_value_present = '0x20205321' in data['sport'].values\n",
        "\n",
        "# Print the result\n",
        "print(\"Is '0x20205321' present in the 'sport' column:\", is_value_present)\n"
      ],
      "metadata": {
        "colab": {
          "base_uri": "https://localhost:8080/"
        },
        "id": "XEsd2rfKTNIu",
        "outputId": "11745dc0-ec0f-4365-8ca7-26fac05483bc"
      },
      "execution_count": null,
      "outputs": [
        {
          "output_type": "stream",
          "name": "stdout",
          "text": [
            "Is '0x20205321' present in the 'sport' column: False\n"
          ]
        }
      ]
    },
    {
      "cell_type": "code",
      "source": [
        "# Check for NaN values in the entire DataFrame\n",
        "has_nan = data.isnull().values.any()\n",
        "\n",
        "# Print whether NaN values are present in the DataFrame\n",
        "print(\"Are there NaN values in the DataFrame:\", has_nan)\n",
        "\n",
        "# Check which columns have NaN values\n",
        "columns_with_nan = data.columns[data.isnull().any()]\n",
        "\n",
        "# Print the columns with NaN values\n",
        "print(\"Columns with NaN values:\", columns_with_nan)\n",
        "\n",
        "# Count NaN values in each column\n",
        "nan_counts = data[columns_with_nan].isnull().sum()\n",
        "\n",
        "# Print the count of NaN values in each column\n",
        "print(\"Count of NaN values in each column:\")\n",
        "print(nan_counts)\n"
      ],
      "metadata": {
        "colab": {
          "base_uri": "https://localhost:8080/"
        },
        "id": "sXPXO2-3Ul8E",
        "outputId": "ac967ee2-a7a2-4d07-d485-cdb68569ba1b"
      },
      "execution_count": null,
      "outputs": [
        {
          "output_type": "stream",
          "name": "stdout",
          "text": [
            "Are there NaN values in the DataFrame: False\n",
            "Columns with NaN values: Index([], dtype='object')\n",
            "Count of NaN values in each column:\n",
            "Series([], dtype: float64)\n"
          ]
        }
      ]
    },
    {
      "cell_type": "code",
      "source": [
        "data['Label'].value_counts()"
      ],
      "metadata": {
        "colab": {
          "base_uri": "https://localhost:8080/"
        },
        "id": "-PZI527uWEvd",
        "outputId": "71cfa105-f2af-4d14-92d2-71cc8d5cc080"
      },
      "execution_count": null,
      "outputs": [
        {
          "output_type": "execute_result",
          "data": {
            "text/plain": [
              "Label\n",
              "0    2218764\n",
              "1     321283\n",
              "Name: count, dtype: int64"
            ]
          },
          "metadata": {},
          "execution_count": 151
        }
      ]
    },
    {
      "cell_type": "code",
      "source": [
        "# # Get the value counts of the \"attack_cat\" column\n",
        "# attack_cat_value_counts = data['service'].value_counts()\n",
        "\n",
        "# # Convert the value counts Series to a DataFrame\n",
        "# attack_cat_value_counts_df = pd.DataFrame(attack_cat_value_counts)\n",
        "\n",
        "# # Reset the index to make the \"attack_cat\" values a column\n",
        "# attack_cat_value_counts_df.reset_index(inplace=True)\n",
        "\n",
        "# # Rename the columns for clarity\n",
        "# attack_cat_value_counts_df.columns = ['service', 'Frequency']\n",
        "\n",
        "# # Save the DataFrame to a CSV file\n",
        "# attack_cat_value_counts_df.to_csv('service_value_counts.csv', index=False)"
      ],
      "metadata": {
        "id": "SN2AE3nVp70Q"
      },
      "execution_count": null,
      "outputs": []
    },
    {
      "cell_type": "code",
      "source": [
        "import pandas as pd\n",
        "\n",
        "# Assuming 'data' is your DataFrame\n",
        "# Create an empty list to store columns with alphanumeric or special characters\n",
        "columns_with_strings = []\n",
        "\n",
        "# Iterate over each column\n",
        "for column in data.columns:\n",
        "    # Check if any element in the column contains alphanumeric or special characters\n",
        "    if data[column].apply(lambda x: isinstance(x, str) and any(char.isalnum() or not char.isspace() for char in x)).any():\n",
        "        columns_with_strings.append(column)\n",
        "\n",
        "# Print columns with alphanumeric or special characters\n",
        "print(\"Columns with alphanumeric or special characters:\")\n",
        "for column in columns_with_strings:\n",
        "    print(column)\n"
      ],
      "metadata": {
        "colab": {
          "base_uri": "https://localhost:8080/"
        },
        "id": "KgEeYqjp3cJJ",
        "outputId": "05227bb0-7e8a-435f-8ad8-c4538a060515"
      },
      "execution_count": null,
      "outputs": [
        {
          "output_type": "stream",
          "name": "stdout",
          "text": [
            "Columns with alphanumeric or special characters:\n",
            "srcip\n",
            "sport\n",
            "dstip\n",
            "dsport\n",
            "proto\n",
            "state\n",
            "service\n",
            "ct_ftp_cmd\n",
            "attack_cat\n"
          ]
        }
      ]
    },
    {
      "cell_type": "code",
      "source": [
        "# Assuming 'data' is your DataFrame\n",
        "\n",
        "# Iterate over each column\n",
        "for column in ['srcip', 'sport', 'dstip', 'dsport', 'proto', 'state', 'service', 'ct_ftp_cmd', 'attack_cat']:\n",
        "    # Print the column name\n",
        "    print(\"Unique values in column '{}':\".format(column))\n",
        "    # Print the unique values in the column\n",
        "    print(data[column].unique())\n",
        "    print()  # Add an empty line for better readability\n"
      ],
      "metadata": {
        "colab": {
          "base_uri": "https://localhost:8080/"
        },
        "id": "Cv6vSKgU4vN7",
        "outputId": "63d20d88-159a-484e-cc59-ae4a0293cd3c"
      },
      "execution_count": null,
      "outputs": [
        {
          "output_type": "stream",
          "name": "stdout",
          "text": [
            "Unique values in column 'srcip':\n",
            "['59.166.0.0' '59.166.0.6' '59.166.0.5' '59.166.0.3' '10.40.182.3'\n",
            " '59.166.0.7' '10.40.170.2' '59.166.0.1' '59.166.0.2' '59.166.0.4'\n",
            " '175.45.176.3' '175.45.176.2' '175.45.176.0' '59.166.0.8' '59.166.0.9'\n",
            " '175.45.176.1' '10.40.182.1' '10.40.85.1' '192.168.241.243' '10.40.85.30'\n",
            " '149.171.126.16' '149.171.126.2' '149.171.126.11' '149.171.126.4'\n",
            " '149.171.126.5' '149.171.126.17' '149.171.126.19' '149.171.126.9'\n",
            " '149.171.126.8' '149.171.126.7' '149.171.126.15' '149.171.126.6'\n",
            " '149.171.126.0' '149.171.126.1' '149.171.126.3' '149.171.126.13'\n",
            " '149.171.126.12' '149.171.126.10' '149.171.126.18' '127.0.0.1'\n",
            " '149.171.126.14' '10.40.85.10' '10.40.182.6']\n",
            "\n",
            "Unique values in column 'sport':\n",
            "[1390 33661 1464 ... 533 933 706]\n",
            "\n",
            "Unique values in column 'dstip':\n",
            "['149.171.126.6' '149.171.126.9' '149.171.126.7' '149.171.126.5'\n",
            " '149.171.126.0' '149.171.126.4' '10.40.182.3' '10.40.170.2'\n",
            " '149.171.126.18' '149.171.126.16' '149.171.126.8' '149.171.126.2'\n",
            " '149.171.126.1' '149.171.126.10' '149.171.126.3' '149.171.126.15'\n",
            " '149.171.126.14' '149.171.126.12' '149.171.126.13' '149.171.126.11'\n",
            " '224.0.0.5' '149.171.126.17' '149.171.126.19' '192.168.241.243'\n",
            " '10.40.85.1' '10.40.85.30' '175.45.176.3' '224.0.0.1' '59.166.0.4'\n",
            " '175.45.176.0' '59.166.0.9' '59.166.0.6' '175.45.176.2' '59.166.0.2'\n",
            " '59.166.0.5' '59.166.0.7' '59.166.0.1' '59.166.0.8' '59.166.0.0'\n",
            " '175.45.176.1' '59.166.0.3' '32.50.32.66' '10.40.198.10' '127.0.0.1'\n",
            " '192.168.241.50' '10.40.182.255' '10.40.182.6']\n",
            "\n",
            "Unique values in column 'dsport':\n",
            "['53' '1024' '111' ... 30544 34913 11764]\n",
            "\n",
            "Unique values in column 'proto':\n",
            "['udp' 'arp' 'tcp' 'ospf' 'icmp' 'igmp' 'sctp' 'udt' 'sep' 'sun-nd'\n",
            " 'swipe' 'mobile' 'pim' 'rtp' 'ipnip' 'ip' 'ggp' 'st2' 'egp' 'cbt' 'emcon'\n",
            " 'nvp' 'igp' 'xnet' 'argus' 'bbn-rcc' 'chaos' 'pup' 'hmp' 'mux' 'dcn'\n",
            " 'prm' 'trunk-1' 'xns-idp' 'trunk-2' 'leaf-1' 'leaf-2' 'irtp' 'rdp'\n",
            " 'iso-tp4' 'netblt' 'mfe-nsp' 'merit-inp' '3pc' 'xtp' 'idpr' 'tp++' 'ddp'\n",
            " 'idpr-cmtp' 'ipv6' 'il' 'idrp' 'ipv6-frag' 'sdrp' 'ipv6-route' 'gre'\n",
            " 'rsvp' 'mhrp' 'bna' 'esp' 'i-nlsp' 'narp' 'ipv6-no' 'tlsp' 'skip'\n",
            " 'ipv6-opts' 'any' 'cftp' 'sat-expak' 'kryptolan' 'rvd' 'ippc' 'sat-mon'\n",
            " 'ipcv' 'visa' 'cpnx' 'cphb' 'wsn' 'pvp' 'br-sat-mon' 'wb-mon' 'wb-expak'\n",
            " 'iso-ip' 'secure-vmtp' 'vmtp' 'vines' 'ttp' 'nsfnet-igp' 'dgp' 'tcf'\n",
            " 'eigrp' 'sprite-rpc' 'larp' 'mtp' 'ax.25' 'ipip' 'micp' 'aes-sp3-d'\n",
            " 'encap' 'etherip' 'pri-enc' 'gmtp' 'pnni' 'ifmp' 'aris' 'qnx' 'a/n'\n",
            " 'scps' 'snp' 'ipcomp' 'compaq-peer' 'ipx-n-ip' 'vrrp' 'zero' 'pgm' 'iatp'\n",
            " 'ddx' 'l2tp' 'srp' 'stp' 'smp' 'uti' 'sm' 'ptp' 'fire' 'crtp' 'isis'\n",
            " 'crudp' 'sccopmce' 'sps' 'pipe' 'iplt' 'unas' 'fc' 'ib']\n",
            "\n",
            "Unique values in column 'state':\n",
            "['CON' 'INT' 'FIN' 'URH' 'REQ' 'ECO' 'RST' 'CLO' 'TXD' 'URN' 'no' 'ACC'\n",
            " 'PAR' 'MAS' 'TST' 'ECR']\n",
            "\n",
            "Unique values in column 'service':\n",
            "['dns' 'others' 'http' 'smtp' 'ftp-data' 'ftp' 'ssh' 'pop3' 'snmp' 'ssl'\n",
            " 'irc' 'radius' 'dhcp']\n",
            "\n",
            "Unique values in column 'ct_ftp_cmd':\n",
            "[0 1 6 2 4 8 5 3 '0' '1' ' ' '2' '4']\n",
            "\n",
            "Unique values in column 'attack_cat':\n",
            "['normal' 'Exploits' 'Reconnaissance' 'DoS' 'Generic' 'Shellcode'\n",
            " ' Fuzzers' 'Worms' 'Backdoors' 'Analysis' ' Reconnaissance ' 'Backdoor'\n",
            " ' Fuzzers ' ' Shellcode ']\n",
            "\n"
          ]
        }
      ]
    },
    {
      "cell_type": "code",
      "source": [
        "import re\n",
        "\n",
        "# Define a regular expression pattern to match IP addresses\n",
        "ip_pattern = r'\\b(?:[0-9]{1,3}\\.){3}[0-9]{1,3}\\b'\n",
        "\n",
        "# Compile the regular expression pattern\n",
        "ip_regex = re.compile(ip_pattern)\n",
        "\n",
        "# Function to check if a string is an IP address\n",
        "def is_ip_address(string):\n",
        "    return bool(ip_regex.match(string))\n",
        "\n",
        "# Filter strings in the 'dstip' column that are not IP addresses\n",
        "non_ip_addresses = [s for s in data['dstip'].unique() if not is_ip_address(s)]\n",
        "\n",
        "# Print the strings that do not match the IP address format\n",
        "print(\"Non-IP addresses:\")\n",
        "print(non_ip_addresses)\n"
      ],
      "metadata": {
        "colab": {
          "base_uri": "https://localhost:8080/"
        },
        "id": "dDTfiLRH5_Yt",
        "outputId": "63da1ddc-1349-4912-b88d-991e8734a9eb"
      },
      "execution_count": null,
      "outputs": [
        {
          "output_type": "stream",
          "name": "stdout",
          "text": [
            "Non-IP addresses:\n",
            "[]\n"
          ]
        }
      ]
    },
    {
      "cell_type": "code",
      "source": [
        "non_numeric_dsport = data[~data['dsport'].astype(str).str.isdigit()]['dsport'].unique()\n",
        "print(non_numeric_dsport)\n"
      ],
      "metadata": {
        "colab": {
          "base_uri": "https://localhost:8080/"
        },
        "id": "GpqIUd5l7IPI",
        "outputId": "f7168b88-ab2a-476a-f1be-9579e9bd1749"
      },
      "execution_count": null,
      "outputs": [
        {
          "output_type": "stream",
          "name": "stdout",
          "text": [
            "[]\n"
          ]
        }
      ]
    },
    {
      "cell_type": "code",
      "source": [
        "data.to_csv('cleaned_merged.csv')"
      ],
      "metadata": {
        "id": "-k7VDh_hdu8Q"
      },
      "execution_count": null,
      "outputs": []
    },
    {
      "cell_type": "code",
      "source": [
        "df = data.copy"
      ],
      "metadata": {
        "id": "RaUSiyZQeQP1"
      },
      "execution_count": null,
      "outputs": []
    },
    {
      "cell_type": "code",
      "source": [
        "# Drop the \"attack_cat\" column\n",
        "data.drop(columns=['attack_cat'], inplace=True)\n"
      ],
      "metadata": {
        "id": "kMJSPCprxYAo"
      },
      "execution_count": null,
      "outputs": []
    },
    {
      "cell_type": "code",
      "source": [
        "data['Label'].unique()"
      ],
      "metadata": {
        "colab": {
          "base_uri": "https://localhost:8080/"
        },
        "id": "zImlWp-xWLTy",
        "outputId": "8d3de07c-24bf-4bcc-8e9e-4eed80e0639d"
      },
      "execution_count": null,
      "outputs": [
        {
          "output_type": "execute_result",
          "data": {
            "text/plain": [
              "array([0, 1])"
            ]
          },
          "metadata": {},
          "execution_count": 75
        }
      ]
    },
    {
      "cell_type": "code",
      "source": [
        "# data['attack_cat'].unique()"
      ],
      "metadata": {
        "id": "sSOBM7sIWEp1"
      },
      "execution_count": null,
      "outputs": []
    },
    {
      "cell_type": "code",
      "source": [
        "len(data.columns)"
      ],
      "metadata": {
        "colab": {
          "base_uri": "https://localhost:8080/"
        },
        "id": "tsaJa6S3XRW8",
        "outputId": "58878653-d672-412d-bce5-939f04cafcfc"
      },
      "execution_count": null,
      "outputs": [
        {
          "output_type": "execute_result",
          "data": {
            "text/plain": [
              "48"
            ]
          },
          "metadata": {},
          "execution_count": 78
        }
      ]
    },
    {
      "cell_type": "code",
      "source": [
        "X = data.iloc[:, 0:47].values\n",
        "y = data.iloc[:, -1].values"
      ],
      "metadata": {
        "id": "d6NUB83xWEkj"
      },
      "execution_count": null,
      "outputs": []
    },
    {
      "cell_type": "code",
      "source": [
        "X.shape"
      ],
      "metadata": {
        "colab": {
          "base_uri": "https://localhost:8080/"
        },
        "id": "ABz90RnlX3mk",
        "outputId": "711ae67f-7a90-4f82-aabd-559dee6e146c"
      },
      "execution_count": null,
      "outputs": [
        {
          "output_type": "execute_result",
          "data": {
            "text/plain": [
              "(2540047, 47)"
            ]
          },
          "metadata": {},
          "execution_count": 97
        }
      ]
    },
    {
      "cell_type": "code",
      "source": [
        "y.shape"
      ],
      "metadata": {
        "colab": {
          "base_uri": "https://localhost:8080/"
        },
        "id": "w-WPD5TRX9WJ",
        "outputId": "7c9427ac-884e-4c8c-d7bc-8a9af380c12e"
      },
      "execution_count": null,
      "outputs": [
        {
          "output_type": "execute_result",
          "data": {
            "text/plain": [
              "(2540047,)"
            ]
          },
          "metadata": {},
          "execution_count": 98
        }
      ]
    },
    {
      "cell_type": "code",
      "source": [
        "X[:, 4:5]"
      ],
      "metadata": {
        "colab": {
          "base_uri": "https://localhost:8080/"
        },
        "id": "a2saacFrYBZ9",
        "outputId": "6254b9b3-ed60-493f-ce59-450e476632e9"
      },
      "execution_count": null,
      "outputs": [
        {
          "output_type": "execute_result",
          "data": {
            "text/plain": [
              "array([['udp'],\n",
              "       ['udp'],\n",
              "       ['udp'],\n",
              "       ...,\n",
              "       ['tcp'],\n",
              "       ['tcp'],\n",
              "       ['tcp']], dtype=object)"
            ]
          },
          "metadata": {},
          "execution_count": 99
        }
      ]
    },
    {
      "cell_type": "code",
      "source": [
        "X[:, 5:6]"
      ],
      "metadata": {
        "colab": {
          "base_uri": "https://localhost:8080/"
        },
        "id": "kC16mLhzY0iK",
        "outputId": "1c05c499-7aac-458d-ab20-5398b80c176b"
      },
      "execution_count": null,
      "outputs": [
        {
          "output_type": "execute_result",
          "data": {
            "text/plain": [
              "array([['CON'],\n",
              "       ['CON'],\n",
              "       ['CON'],\n",
              "       ...,\n",
              "       ['CON'],\n",
              "       ['CON'],\n",
              "       ['CON']], dtype=object)"
            ]
          },
          "metadata": {},
          "execution_count": 100
        }
      ]
    },
    {
      "cell_type": "code",
      "source": [
        "X[:, 13:14]"
      ],
      "metadata": {
        "colab": {
          "base_uri": "https://localhost:8080/"
        },
        "id": "tLnmfYAxY47B",
        "outputId": "87c45931-3ef5-4030-a721-e3ce1220ca1f"
      },
      "execution_count": null,
      "outputs": [
        {
          "output_type": "execute_result",
          "data": {
            "text/plain": [
              "array([['dns'],\n",
              "       ['others'],\n",
              "       ['dns'],\n",
              "       ...,\n",
              "       ['ftp'],\n",
              "       ['http'],\n",
              "       ['pop3']], dtype=object)"
            ]
          },
          "metadata": {},
          "execution_count": 101
        }
      ]
    },
    {
      "cell_type": "code",
      "source": [
        "# data['attack_cat']"
      ],
      "metadata": {
        "id": "HQUszklmY9gc"
      },
      "execution_count": null,
      "outputs": []
    },
    {
      "cell_type": "code",
      "source": [
        "# X[:, 44:45]"
      ],
      "metadata": {
        "id": "7pv96PmWbLRo"
      },
      "execution_count": null,
      "outputs": []
    },
    {
      "cell_type": "code",
      "source": [
        "X.shape[1]"
      ],
      "metadata": {
        "colab": {
          "base_uri": "https://localhost:8080/"
        },
        "id": "4TgOfNt9bp_S",
        "outputId": "c4a5931d-f1a8-4d47-ab92-a4c9e2db361e"
      },
      "execution_count": null,
      "outputs": [
        {
          "output_type": "execute_result",
          "data": {
            "text/plain": [
              "47"
            ]
          },
          "metadata": {},
          "execution_count": 104
        }
      ]
    },
    {
      "cell_type": "code",
      "source": [
        "# # Get the number of columns in array X\n",
        "# num_columns_X = X.shape[1]\n",
        "\n",
        "# # Print the column names of X\n",
        "# print(\"Columns of X:\")\n",
        "# for i in range(num_columns_X):\n",
        "#     print(f\"Column {i+1}\")\n"
      ],
      "metadata": {
        "id": "XVwZYdbxcb64"
      },
      "execution_count": null,
      "outputs": []
    },
    {
      "cell_type": "code",
      "source": [
        "X[:, 46]"
      ],
      "metadata": {
        "colab": {
          "base_uri": "https://localhost:8080/"
        },
        "id": "Pa3G6Hyhc_6-",
        "outputId": "65001983-645e-45ca-9400-a8f498f39572"
      },
      "execution_count": null,
      "outputs": [
        {
          "output_type": "execute_result",
          "data": {
            "text/plain": [
              "array([1, 2, 1, ..., 2, 2, 2], dtype=object)"
            ]
          },
          "metadata": {},
          "execution_count": 106
        }
      ]
    },
    {
      "cell_type": "code",
      "source": [
        "from sklearn.preprocessing import OrdinalEncoder\n",
        "encoder = OrdinalEncoder()\n",
        "\n",
        "# Encode the \"proto\" column\n",
        "X[:, 4:5] = np.array(encoder.fit_transform(X[:, 4:5]))\n",
        "X[:, 5:6] = np.array(encoder.fit_transform(X[:, 5:6]))\n",
        "X[:, 13:14] = np.array(encoder.fit_transform(X[:, 13:14]))\n",
        "# X[:, 47] = np.array(encoder.fit_transform(X[:, 47]))\n",
        "# X[:, -1:] = np.array(encoder.fit_transform(X[:, -1:]))  # For the last column"
      ],
      "metadata": {
        "id": "bkfrKTTbYtiy"
      },
      "execution_count": null,
      "outputs": []
    },
    {
      "cell_type": "code",
      "source": [
        "X[:, 46]"
      ],
      "metadata": {
        "colab": {
          "base_uri": "https://localhost:8080/"
        },
        "id": "Qz_6U348fOTe",
        "outputId": "53e0e06f-8a8e-448a-9908-eee32c4213aa"
      },
      "execution_count": null,
      "outputs": [
        {
          "output_type": "execute_result",
          "data": {
            "text/plain": [
              "array([1, 2, 1, ..., 2, 2, 2], dtype=object)"
            ]
          },
          "metadata": {},
          "execution_count": 108
        }
      ]
    },
    {
      "cell_type": "code",
      "source": [
        "X.shape"
      ],
      "metadata": {
        "colab": {
          "base_uri": "https://localhost:8080/"
        },
        "id": "p5BX2ZmEfTAR",
        "outputId": "4755b574-aa49-4d32-b88f-3ea74699a014"
      },
      "execution_count": null,
      "outputs": [
        {
          "output_type": "execute_result",
          "data": {
            "text/plain": [
              "(2540047, 47)"
            ]
          },
          "metadata": {},
          "execution_count": 109
        }
      ]
    },
    {
      "cell_type": "code",
      "source": [
        "X[:, 13:14]"
      ],
      "metadata": {
        "colab": {
          "base_uri": "https://localhost:8080/"
        },
        "id": "KOliimwuft2D",
        "outputId": "5f7e0346-b63b-4de7-d9fc-4bf869d793ab"
      },
      "execution_count": null,
      "outputs": [
        {
          "output_type": "execute_result",
          "data": {
            "text/plain": [
              "array([[1.0],\n",
              "       [6.0],\n",
              "       [1.0],\n",
              "       ...,\n",
              "       [2.0],\n",
              "       [4.0],\n",
              "       [7.0]], dtype=object)"
            ]
          },
          "metadata": {},
          "execution_count": 110
        }
      ]
    },
    {
      "cell_type": "code",
      "source": [
        "X[:, 4:5]"
      ],
      "metadata": {
        "colab": {
          "base_uri": "https://localhost:8080/"
        },
        "id": "ka6xEKIHfwBK",
        "outputId": "5e00e4a2-8fca-4838-a43c-49b56a3b2ad4"
      },
      "execution_count": null,
      "outputs": [
        {
          "output_type": "execute_result",
          "data": {
            "text/plain": [
              "array([[120.0],\n",
              "       [120.0],\n",
              "       [120.0],\n",
              "       ...,\n",
              "       [114.0],\n",
              "       [114.0],\n",
              "       [114.0]], dtype=object)"
            ]
          },
          "metadata": {},
          "execution_count": 111
        }
      ]
    },
    {
      "cell_type": "code",
      "source": [
        "X[:, 5:6]"
      ],
      "metadata": {
        "colab": {
          "base_uri": "https://localhost:8080/"
        },
        "id": "bD3JdJN_fzZV",
        "outputId": "6af79e9a-0e2d-4746-a0d4-4608a1f124ae"
      },
      "execution_count": null,
      "outputs": [
        {
          "output_type": "execute_result",
          "data": {
            "text/plain": [
              "array([[2.0],\n",
              "       [2.0],\n",
              "       [2.0],\n",
              "       ...,\n",
              "       [2.0],\n",
              "       [2.0],\n",
              "       [2.0]], dtype=object)"
            ]
          },
          "metadata": {},
          "execution_count": 112
        }
      ]
    },
    {
      "cell_type": "code",
      "source": [
        "from sklearn.compose import ColumnTransformer\n",
        "from sklearn.preprocessing import OneHotEncoder\n",
        "\n",
        "ct = ColumnTransformer(transformers=[('encoder', OneHotEncoder(), [0, 2])], remainder='passthrough')\n",
        "X = np.array(ct.fit_transform(X))"
      ],
      "metadata": {
        "id": "rsYYQyJghLRW"
      },
      "execution_count": null,
      "outputs": []
    },
    {
      "cell_type": "code",
      "source": [
        "X.shape"
      ],
      "metadata": {
        "colab": {
          "base_uri": "https://localhost:8080/"
        },
        "id": "fDHb_8oPhLMc",
        "outputId": "d52b8ae8-e75c-406f-9981-ded6248e1fc9"
      },
      "execution_count": null,
      "outputs": [
        {
          "output_type": "execute_result",
          "data": {
            "text/plain": [
              "(2540047, 135)"
            ]
          },
          "metadata": {},
          "execution_count": 114
        }
      ]
    },
    {
      "cell_type": "code",
      "source": [
        "from sklearn.model_selection import train_test_split\n",
        "X_train, X_test, y_train, y_test = train_test_split(X, y, test_size=0.2, random_state=1)"
      ],
      "metadata": {
        "id": "FPHOWSSLhLGH"
      },
      "execution_count": null,
      "outputs": []
    },
    {
      "cell_type": "code",
      "source": [
        "X_train.shape"
      ],
      "metadata": {
        "colab": {
          "base_uri": "https://localhost:8080/"
        },
        "id": "fNb2BOeMiWRs",
        "outputId": "a9fd61e4-cad3-48f4-93a9-f3491affa56a"
      },
      "execution_count": null,
      "outputs": [
        {
          "output_type": "execute_result",
          "data": {
            "text/plain": [
              "(2032037, 135)"
            ]
          },
          "metadata": {},
          "execution_count": 116
        }
      ]
    },
    {
      "cell_type": "code",
      "source": [
        "print(\"Shape of X:\", X.shape)\n",
        "print(\"Data type of X:\", X.dtype)\n"
      ],
      "metadata": {
        "colab": {
          "base_uri": "https://localhost:8080/"
        },
        "id": "17hfnLSgjrQX",
        "outputId": "82884fd2-9bb7-4619-ab6f-2f82a7b938fa"
      },
      "execution_count": null,
      "outputs": [
        {
          "output_type": "stream",
          "name": "stdout",
          "text": [
            "Shape of X: (2540047, 135)\n",
            "Data type of X: object\n"
          ]
        }
      ]
    },
    {
      "cell_type": "code",
      "source": [
        "from sklearn.naive_bayes import GaussianNB\n",
        "\n",
        "nb_classifier = GaussianNB()\n",
        "nb_classifier.fit(X_train, y_train)"
      ],
      "metadata": {
        "colab": {
          "base_uri": "https://localhost:8080/",
          "height": 339
        },
        "id": "CcPfDF9OibMX",
        "outputId": "97569cc5-c232-477d-ed45-73dd7ba29ba2"
      },
      "execution_count": null,
      "outputs": [
        {
          "output_type": "error",
          "ename": "ValueError",
          "evalue": "could not convert string to float: ' '",
          "traceback": [
            "\u001b[0;31m---------------------------------------------------------------------------\u001b[0m",
            "\u001b[0;31mValueError\u001b[0m                                Traceback (most recent call last)",
            "\u001b[0;32m<ipython-input-118-d1955b3fe86e>\u001b[0m in \u001b[0;36m<cell line: 4>\u001b[0;34m()\u001b[0m\n\u001b[1;32m      2\u001b[0m \u001b[0;34m\u001b[0m\u001b[0m\n\u001b[1;32m      3\u001b[0m \u001b[0mnb_classifier\u001b[0m \u001b[0;34m=\u001b[0m \u001b[0mGaussianNB\u001b[0m\u001b[0;34m(\u001b[0m\u001b[0;34m)\u001b[0m\u001b[0;34m\u001b[0m\u001b[0;34m\u001b[0m\u001b[0m\n\u001b[0;32m----> 4\u001b[0;31m \u001b[0mnb_classifier\u001b[0m\u001b[0;34m.\u001b[0m\u001b[0mfit\u001b[0m\u001b[0;34m(\u001b[0m\u001b[0mX_train\u001b[0m\u001b[0;34m,\u001b[0m \u001b[0my_train\u001b[0m\u001b[0;34m)\u001b[0m\u001b[0;34m\u001b[0m\u001b[0;34m\u001b[0m\u001b[0m\n\u001b[0m",
            "\u001b[0;32m/usr/local/lib/python3.10/dist-packages/sklearn/naive_bayes.py\u001b[0m in \u001b[0;36mfit\u001b[0;34m(self, X, y, sample_weight)\u001b[0m\n\u001b[1;32m    265\u001b[0m         \u001b[0mself\u001b[0m\u001b[0;34m.\u001b[0m\u001b[0m_validate_params\u001b[0m\u001b[0;34m(\u001b[0m\u001b[0;34m)\u001b[0m\u001b[0;34m\u001b[0m\u001b[0;34m\u001b[0m\u001b[0m\n\u001b[1;32m    266\u001b[0m         \u001b[0my\u001b[0m \u001b[0;34m=\u001b[0m \u001b[0mself\u001b[0m\u001b[0;34m.\u001b[0m\u001b[0m_validate_data\u001b[0m\u001b[0;34m(\u001b[0m\u001b[0my\u001b[0m\u001b[0;34m=\u001b[0m\u001b[0my\u001b[0m\u001b[0;34m)\u001b[0m\u001b[0;34m\u001b[0m\u001b[0;34m\u001b[0m\u001b[0m\n\u001b[0;32m--> 267\u001b[0;31m         return self._partial_fit(\n\u001b[0m\u001b[1;32m    268\u001b[0m             \u001b[0mX\u001b[0m\u001b[0;34m,\u001b[0m \u001b[0my\u001b[0m\u001b[0;34m,\u001b[0m \u001b[0mnp\u001b[0m\u001b[0;34m.\u001b[0m\u001b[0munique\u001b[0m\u001b[0;34m(\u001b[0m\u001b[0my\u001b[0m\u001b[0;34m)\u001b[0m\u001b[0;34m,\u001b[0m \u001b[0m_refit\u001b[0m\u001b[0;34m=\u001b[0m\u001b[0;32mTrue\u001b[0m\u001b[0;34m,\u001b[0m \u001b[0msample_weight\u001b[0m\u001b[0;34m=\u001b[0m\u001b[0msample_weight\u001b[0m\u001b[0;34m\u001b[0m\u001b[0;34m\u001b[0m\u001b[0m\n\u001b[1;32m    269\u001b[0m         )\n",
            "\u001b[0;32m/usr/local/lib/python3.10/dist-packages/sklearn/naive_bayes.py\u001b[0m in \u001b[0;36m_partial_fit\u001b[0;34m(self, X, y, classes, _refit, sample_weight)\u001b[0m\n\u001b[1;32m    426\u001b[0m \u001b[0;34m\u001b[0m\u001b[0m\n\u001b[1;32m    427\u001b[0m         \u001b[0mfirst_call\u001b[0m \u001b[0;34m=\u001b[0m \u001b[0m_check_partial_fit_first_call\u001b[0m\u001b[0;34m(\u001b[0m\u001b[0mself\u001b[0m\u001b[0;34m,\u001b[0m \u001b[0mclasses\u001b[0m\u001b[0;34m)\u001b[0m\u001b[0;34m\u001b[0m\u001b[0;34m\u001b[0m\u001b[0m\n\u001b[0;32m--> 428\u001b[0;31m         \u001b[0mX\u001b[0m\u001b[0;34m,\u001b[0m \u001b[0my\u001b[0m \u001b[0;34m=\u001b[0m \u001b[0mself\u001b[0m\u001b[0;34m.\u001b[0m\u001b[0m_validate_data\u001b[0m\u001b[0;34m(\u001b[0m\u001b[0mX\u001b[0m\u001b[0;34m,\u001b[0m \u001b[0my\u001b[0m\u001b[0;34m,\u001b[0m \u001b[0mreset\u001b[0m\u001b[0;34m=\u001b[0m\u001b[0mfirst_call\u001b[0m\u001b[0;34m)\u001b[0m\u001b[0;34m\u001b[0m\u001b[0;34m\u001b[0m\u001b[0m\n\u001b[0m\u001b[1;32m    429\u001b[0m         \u001b[0;32mif\u001b[0m \u001b[0msample_weight\u001b[0m \u001b[0;32mis\u001b[0m \u001b[0;32mnot\u001b[0m \u001b[0;32mNone\u001b[0m\u001b[0;34m:\u001b[0m\u001b[0;34m\u001b[0m\u001b[0;34m\u001b[0m\u001b[0m\n\u001b[1;32m    430\u001b[0m             \u001b[0msample_weight\u001b[0m \u001b[0;34m=\u001b[0m \u001b[0m_check_sample_weight\u001b[0m\u001b[0;34m(\u001b[0m\u001b[0msample_weight\u001b[0m\u001b[0;34m,\u001b[0m \u001b[0mX\u001b[0m\u001b[0;34m)\u001b[0m\u001b[0;34m\u001b[0m\u001b[0;34m\u001b[0m\u001b[0m\n",
            "\u001b[0;32m/usr/local/lib/python3.10/dist-packages/sklearn/base.py\u001b[0m in \u001b[0;36m_validate_data\u001b[0;34m(self, X, y, reset, validate_separately, **check_params)\u001b[0m\n\u001b[1;32m    582\u001b[0m                 \u001b[0my\u001b[0m \u001b[0;34m=\u001b[0m \u001b[0mcheck_array\u001b[0m\u001b[0;34m(\u001b[0m\u001b[0my\u001b[0m\u001b[0;34m,\u001b[0m \u001b[0minput_name\u001b[0m\u001b[0;34m=\u001b[0m\u001b[0;34m\"y\"\u001b[0m\u001b[0;34m,\u001b[0m \u001b[0;34m**\u001b[0m\u001b[0mcheck_y_params\u001b[0m\u001b[0;34m)\u001b[0m\u001b[0;34m\u001b[0m\u001b[0;34m\u001b[0m\u001b[0m\n\u001b[1;32m    583\u001b[0m             \u001b[0;32melse\u001b[0m\u001b[0;34m:\u001b[0m\u001b[0;34m\u001b[0m\u001b[0;34m\u001b[0m\u001b[0m\n\u001b[0;32m--> 584\u001b[0;31m                 \u001b[0mX\u001b[0m\u001b[0;34m,\u001b[0m \u001b[0my\u001b[0m \u001b[0;34m=\u001b[0m \u001b[0mcheck_X_y\u001b[0m\u001b[0;34m(\u001b[0m\u001b[0mX\u001b[0m\u001b[0;34m,\u001b[0m \u001b[0my\u001b[0m\u001b[0;34m,\u001b[0m \u001b[0;34m**\u001b[0m\u001b[0mcheck_params\u001b[0m\u001b[0;34m)\u001b[0m\u001b[0;34m\u001b[0m\u001b[0;34m\u001b[0m\u001b[0m\n\u001b[0m\u001b[1;32m    585\u001b[0m             \u001b[0mout\u001b[0m \u001b[0;34m=\u001b[0m \u001b[0mX\u001b[0m\u001b[0;34m,\u001b[0m \u001b[0my\u001b[0m\u001b[0;34m\u001b[0m\u001b[0;34m\u001b[0m\u001b[0m\n\u001b[1;32m    586\u001b[0m \u001b[0;34m\u001b[0m\u001b[0m\n",
            "\u001b[0;32m/usr/local/lib/python3.10/dist-packages/sklearn/utils/validation.py\u001b[0m in \u001b[0;36mcheck_X_y\u001b[0;34m(X, y, accept_sparse, accept_large_sparse, dtype, order, copy, force_all_finite, ensure_2d, allow_nd, multi_output, ensure_min_samples, ensure_min_features, y_numeric, estimator)\u001b[0m\n\u001b[1;32m   1104\u001b[0m         )\n\u001b[1;32m   1105\u001b[0m \u001b[0;34m\u001b[0m\u001b[0m\n\u001b[0;32m-> 1106\u001b[0;31m     X = check_array(\n\u001b[0m\u001b[1;32m   1107\u001b[0m         \u001b[0mX\u001b[0m\u001b[0;34m,\u001b[0m\u001b[0;34m\u001b[0m\u001b[0;34m\u001b[0m\u001b[0m\n\u001b[1;32m   1108\u001b[0m         \u001b[0maccept_sparse\u001b[0m\u001b[0;34m=\u001b[0m\u001b[0maccept_sparse\u001b[0m\u001b[0;34m,\u001b[0m\u001b[0;34m\u001b[0m\u001b[0;34m\u001b[0m\u001b[0m\n",
            "\u001b[0;32m/usr/local/lib/python3.10/dist-packages/sklearn/utils/validation.py\u001b[0m in \u001b[0;36mcheck_array\u001b[0;34m(array, accept_sparse, accept_large_sparse, dtype, order, copy, force_all_finite, ensure_2d, allow_nd, ensure_min_samples, ensure_min_features, estimator, input_name)\u001b[0m\n\u001b[1;32m    877\u001b[0m                     \u001b[0marray\u001b[0m \u001b[0;34m=\u001b[0m \u001b[0mxp\u001b[0m\u001b[0;34m.\u001b[0m\u001b[0mastype\u001b[0m\u001b[0;34m(\u001b[0m\u001b[0marray\u001b[0m\u001b[0;34m,\u001b[0m \u001b[0mdtype\u001b[0m\u001b[0;34m,\u001b[0m \u001b[0mcopy\u001b[0m\u001b[0;34m=\u001b[0m\u001b[0;32mFalse\u001b[0m\u001b[0;34m)\u001b[0m\u001b[0;34m\u001b[0m\u001b[0;34m\u001b[0m\u001b[0m\n\u001b[1;32m    878\u001b[0m                 \u001b[0;32melse\u001b[0m\u001b[0;34m:\u001b[0m\u001b[0;34m\u001b[0m\u001b[0;34m\u001b[0m\u001b[0m\n\u001b[0;32m--> 879\u001b[0;31m                     \u001b[0marray\u001b[0m \u001b[0;34m=\u001b[0m \u001b[0m_asarray_with_order\u001b[0m\u001b[0;34m(\u001b[0m\u001b[0marray\u001b[0m\u001b[0;34m,\u001b[0m \u001b[0morder\u001b[0m\u001b[0;34m=\u001b[0m\u001b[0morder\u001b[0m\u001b[0;34m,\u001b[0m \u001b[0mdtype\u001b[0m\u001b[0;34m=\u001b[0m\u001b[0mdtype\u001b[0m\u001b[0;34m,\u001b[0m \u001b[0mxp\u001b[0m\u001b[0;34m=\u001b[0m\u001b[0mxp\u001b[0m\u001b[0;34m)\u001b[0m\u001b[0;34m\u001b[0m\u001b[0;34m\u001b[0m\u001b[0m\n\u001b[0m\u001b[1;32m    880\u001b[0m             \u001b[0;32mexcept\u001b[0m \u001b[0mComplexWarning\u001b[0m \u001b[0;32mas\u001b[0m \u001b[0mcomplex_warning\u001b[0m\u001b[0;34m:\u001b[0m\u001b[0;34m\u001b[0m\u001b[0;34m\u001b[0m\u001b[0m\n\u001b[1;32m    881\u001b[0m                 raise ValueError(\n",
            "\u001b[0;32m/usr/local/lib/python3.10/dist-packages/sklearn/utils/_array_api.py\u001b[0m in \u001b[0;36m_asarray_with_order\u001b[0;34m(array, dtype, order, copy, xp)\u001b[0m\n\u001b[1;32m    183\u001b[0m     \u001b[0;32mif\u001b[0m \u001b[0mxp\u001b[0m\u001b[0;34m.\u001b[0m\u001b[0m__name__\u001b[0m \u001b[0;32min\u001b[0m \u001b[0;34m{\u001b[0m\u001b[0;34m\"numpy\"\u001b[0m\u001b[0;34m,\u001b[0m \u001b[0;34m\"numpy.array_api\"\u001b[0m\u001b[0;34m}\u001b[0m\u001b[0;34m:\u001b[0m\u001b[0;34m\u001b[0m\u001b[0;34m\u001b[0m\u001b[0m\n\u001b[1;32m    184\u001b[0m         \u001b[0;31m# Use NumPy API to support order\u001b[0m\u001b[0;34m\u001b[0m\u001b[0;34m\u001b[0m\u001b[0m\n\u001b[0;32m--> 185\u001b[0;31m         \u001b[0marray\u001b[0m \u001b[0;34m=\u001b[0m \u001b[0mnumpy\u001b[0m\u001b[0;34m.\u001b[0m\u001b[0masarray\u001b[0m\u001b[0;34m(\u001b[0m\u001b[0marray\u001b[0m\u001b[0;34m,\u001b[0m \u001b[0morder\u001b[0m\u001b[0;34m=\u001b[0m\u001b[0morder\u001b[0m\u001b[0;34m,\u001b[0m \u001b[0mdtype\u001b[0m\u001b[0;34m=\u001b[0m\u001b[0mdtype\u001b[0m\u001b[0;34m)\u001b[0m\u001b[0;34m\u001b[0m\u001b[0;34m\u001b[0m\u001b[0m\n\u001b[0m\u001b[1;32m    186\u001b[0m         \u001b[0;32mreturn\u001b[0m \u001b[0mxp\u001b[0m\u001b[0;34m.\u001b[0m\u001b[0masarray\u001b[0m\u001b[0;34m(\u001b[0m\u001b[0marray\u001b[0m\u001b[0;34m,\u001b[0m \u001b[0mcopy\u001b[0m\u001b[0;34m=\u001b[0m\u001b[0mcopy\u001b[0m\u001b[0;34m)\u001b[0m\u001b[0;34m\u001b[0m\u001b[0;34m\u001b[0m\u001b[0m\n\u001b[1;32m    187\u001b[0m     \u001b[0;32melse\u001b[0m\u001b[0;34m:\u001b[0m\u001b[0;34m\u001b[0m\u001b[0;34m\u001b[0m\u001b[0m\n",
            "\u001b[0;31mValueError\u001b[0m: could not convert string to float: ' '"
          ]
        }
      ]
    }
  ],
  "metadata": {
    "accelerator": "GPU",
    "colab": {
      "gpuType": "T4",
      "provenance": [],
      "machine_shape": "hm",
      "include_colab_link": true
    },
    "kernelspec": {
      "display_name": "Python 3",
      "name": "python3"
    },
    "language_info": {
      "name": "python"
    }
  },
  "nbformat": 4,
  "nbformat_minor": 0
}