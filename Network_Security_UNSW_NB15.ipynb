{
  "cells": [
    {
      "cell_type": "markdown",
      "metadata": {
        "id": "view-in-github",
        "colab_type": "text"
      },
      "source": [
        "<a href=\"https://colab.research.google.com/github/Boomcodes50/predictive-analytics/blob/main/Network_Security_UNSW_NB15.ipynb\" target=\"_parent\"><img src=\"https://colab.research.google.com/assets/colab-badge.svg\" alt=\"Open In Colab\"/></a>"
      ]
    },
    {
      "cell_type": "code",
      "execution_count": null,
      "metadata": {
        "id": "sySf2CpLH81s"
      },
      "outputs": [],
      "source": [
        "import pandas as pd\n",
        "import numpy as np\n",
        "import keras\n",
        "import tensorflow as tf\n",
        "import sklearn\n",
        "import matplotlib.pyplot as plt\n",
        "import math"
      ]
    },
    {
      "cell_type": "code",
      "execution_count": null,
      "metadata": {
        "id": "XdA4b3sGIPW1",
        "colab": {
          "base_uri": "https://localhost:8080/"
        },
        "outputId": "130b2d5b-e469-4f2a-9ca7-a7c5f77fb719"
      },
      "outputs": [
        {
          "output_type": "stream",
          "name": "stderr",
          "text": [
            "<ipython-input-104-876e6c085b57>:2: DtypeWarning: Columns (2,4) have mixed types. Specify dtype option on import or set low_memory=False.\n",
            "  merged_df = pd.read_csv('merged_cleaned.csv')\n"
          ]
        }
      ],
      "source": [
        "# Load data\n",
        "merged_df = pd.read_csv('merged_cleaned.csv')\n"
      ]
    },
    {
      "cell_type": "markdown",
      "source": [
        "Preprocessing"
      ],
      "metadata": {
        "id": "FkMYh26BnkKM"
      }
    },
    {
      "cell_type": "code",
      "source": [
        "print(merged_df.head)"
      ],
      "metadata": {
        "colab": {
          "base_uri": "https://localhost:8080/"
        },
        "id": "JSntBNs25cFm",
        "outputId": "56492461-7d2d-41b6-eabe-6a6a34847ab3"
      },
      "execution_count": null,
      "outputs": [
        {
          "output_type": "stream",
          "name": "stdout",
          "text": [
            "<bound method NDFrame.head of         Unnamed: 0       srcip  sport          dstip dsport proto state  \\\n",
            "0                0  59.166.0.0   1390  149.171.126.6     53   udp   CON   \n",
            "1                1  59.166.0.0  33661  149.171.126.9   1024   udp   CON   \n",
            "2                2  59.166.0.6   1464  149.171.126.7     53   udp   CON   \n",
            "3                3  59.166.0.5   3593  149.171.126.5     53   udp   CON   \n",
            "4                4  59.166.0.3  49664  149.171.126.0     53   udp   CON   \n",
            "...            ...         ...    ...            ...    ...   ...   ...   \n",
            "139525      139525  59.166.0.0  52708  149.171.126.2  50651   tcp   FIN   \n",
            "139526      139526  59.166.0.8  40084  149.171.126.4     22   tcp   FIN   \n",
            "139527      139527  59.166.0.9   7663  149.171.126.8     22   tcp   FIN   \n",
            "139528      139528  59.166.0.3  33662  149.171.126.0  31721   tcp   FIN   \n",
            "139529      139529  59.166.0.4  62577  149.171.126.8     80   tcp   FIN   \n",
            "\n",
            "             dur   sbytes   dbytes  ...  ct_ftp_cmd  ct_srv_src  ct_srv_dst  \\\n",
            "0       0.001055    132.0    164.0  ...         0.0         3.0         7.0   \n",
            "1       0.036133    528.0    304.0  ...         0.0         2.0         4.0   \n",
            "2       0.001119    146.0    178.0  ...         0.0        12.0         8.0   \n",
            "3       0.001209    132.0    164.0  ...         0.0         6.0         9.0   \n",
            "4       0.001169    146.0    178.0  ...         0.0         7.0         9.0   \n",
            "...          ...      ...      ...  ...         ...         ...         ...   \n",
            "139525  0.020871   3390.0  41676.0  ...         0.0         7.0        10.0   \n",
            "139526  0.126838   3728.0   5474.0  ...         0.0        10.0        11.0   \n",
            "139527  0.094723  14512.0  17134.0  ...         0.0        10.0         7.0   \n",
            "139528  0.020988   3390.0  41676.0  ...         0.0        10.0         9.0   \n",
            "139529  1.008934   1580.0  10168.0  ...         NaN         NaN         NaN   \n",
            "\n",
            "        ct_dst_ltm ct_src_ ltm  ct_src_dport_ltm  ct_dst_sport_ltm  \\\n",
            "0              1.0         3.0               1.0               1.0   \n",
            "1              2.0         3.0               1.0               1.0   \n",
            "2              1.0         2.0               2.0               1.0   \n",
            "3              1.0         1.0               1.0               1.0   \n",
            "4              1.0         1.0               1.0               1.0   \n",
            "...            ...         ...               ...               ...   \n",
            "139525         2.0         2.0               1.0               1.0   \n",
            "139526         5.0         3.0               1.0               1.0   \n",
            "139527         4.0         2.0               1.0               1.0   \n",
            "139528         1.0         6.0               1.0               1.0   \n",
            "139529         NaN         NaN               NaN               NaN   \n",
            "\n",
            "        ct_dst_src_ltm  attack_cat  Label  \n",
            "0                  1.0      normal    0.0  \n",
            "1                  2.0      normal    0.0  \n",
            "2                  1.0      normal    0.0  \n",
            "3                  1.0      normal    0.0  \n",
            "4                  1.0      normal    0.0  \n",
            "...                ...         ...    ...  \n",
            "139525             2.0      normal    0.0  \n",
            "139526             3.0      normal    0.0  \n",
            "139527             1.0      normal    0.0  \n",
            "139528             1.0      normal    0.0  \n",
            "139529             NaN         NaN    NaN  \n",
            "\n",
            "[139530 rows x 50 columns]>\n"
          ]
        }
      ]
    },
    {
      "cell_type": "code",
      "source": [
        "merged_df.shape"
      ],
      "metadata": {
        "colab": {
          "base_uri": "https://localhost:8080/"
        },
        "id": "VAmcTJPn5juw",
        "outputId": "281cf3a9-407b-463f-b3d0-97b891a9abf7"
      },
      "execution_count": null,
      "outputs": [
        {
          "output_type": "execute_result",
          "data": {
            "text/plain": [
              "(139530, 50)"
            ]
          },
          "metadata": {},
          "execution_count": 107
        }
      ]
    },
    {
      "cell_type": "code",
      "source": [
        "# Check for NaN values in each column\n",
        "columns_with_nans = merged_df.columns[merged_df.isnull().any()]\n",
        "\n",
        "# Print the columns with NaN values\n",
        "print(\"Columns with NaN values:\", columns_with_nans)\n"
      ],
      "metadata": {
        "colab": {
          "base_uri": "https://localhost:8080/"
        },
        "id": "cxCafG7n7idx",
        "outputId": "b7f70fd0-041c-45e9-c072-7857ebf23a1b"
      },
      "execution_count": null,
      "outputs": [
        {
          "output_type": "stream",
          "name": "stdout",
          "text": [
            "Columns with NaN values: Index(['ct_ftp_cmd', 'ct_srv_src', 'ct_srv_dst', 'ct_dst_ltm', 'ct_src_ ltm',\n",
            "       'ct_src_dport_ltm', 'ct_dst_sport_ltm', 'ct_dst_src_ltm', 'attack_cat',\n",
            "       'Label'],\n",
            "      dtype='object')\n"
          ]
        }
      ]
    },
    {
      "cell_type": "code",
      "source": [
        "# Count the number of NaN values in each column\n",
        "nan_counts = merged_df.isnull().sum()\n",
        "\n",
        "# Print the counts of NaN values in each column\n",
        "print(\"Counts of NaN values in each column:\")\n",
        "print(nan_counts)\n"
      ],
      "metadata": {
        "colab": {
          "base_uri": "https://localhost:8080/"
        },
        "id": "KggzKU9-7-O6",
        "outputId": "6b7bb60e-d9db-4cf7-ff03-35c2c5156d95"
      },
      "execution_count": null,
      "outputs": [
        {
          "output_type": "stream",
          "name": "stdout",
          "text": [
            "Counts of NaN values in each column:\n",
            "Unnamed: 0          0\n",
            "srcip               0\n",
            "sport               0\n",
            "dstip               0\n",
            "dsport              0\n",
            "proto               0\n",
            "state               0\n",
            "dur                 0\n",
            "sbytes              0\n",
            "dbytes              0\n",
            "sttl                0\n",
            "dttl                0\n",
            "sloss               0\n",
            "dloss               0\n",
            "service             0\n",
            "Sload               0\n",
            "Dload               0\n",
            "Spkts               0\n",
            "Dpkts               0\n",
            "swin                0\n",
            "dwin                0\n",
            "stcpb               0\n",
            "dtcpb               0\n",
            "smeansz             0\n",
            "dmeansz             0\n",
            "trans_depth         0\n",
            "res_bdy_len         0\n",
            "Sjit                0\n",
            "Djit                0\n",
            "Stime               0\n",
            "Ltime               0\n",
            "Sintpkt             0\n",
            "Dintpkt             0\n",
            "tcprtt              0\n",
            "synack              0\n",
            "ackdat              0\n",
            "is_sm_ips_ports     0\n",
            "ct_state_ttl        0\n",
            "ct_flw_http_mthd    0\n",
            "is_ftp_login        0\n",
            "ct_ftp_cmd          1\n",
            "ct_srv_src          1\n",
            "ct_srv_dst          1\n",
            "ct_dst_ltm          1\n",
            "ct_src_ ltm         1\n",
            "ct_src_dport_ltm    1\n",
            "ct_dst_sport_ltm    1\n",
            "ct_dst_src_ltm      1\n",
            "attack_cat          1\n",
            "Label               1\n",
            "dtype: int64\n"
          ]
        }
      ]
    },
    {
      "cell_type": "code",
      "source": [
        "# Count the total number of NaN values in the entire DataFrame\n",
        "total_nan_count = merged_df.isnull().sum().sum()\n",
        "\n",
        "# Print the total number of NaN values\n",
        "print(\"Total number of NaN values in the entire DataFrame:\", total_nan_count)\n"
      ],
      "metadata": {
        "colab": {
          "base_uri": "https://localhost:8080/"
        },
        "id": "-ZRMXXbS8RGk",
        "outputId": "546964a0-0f01-4f55-ba0f-e41a7a7ab666"
      },
      "execution_count": null,
      "outputs": [
        {
          "output_type": "stream",
          "name": "stdout",
          "text": [
            "Total number of NaN values in the entire DataFrame: 10\n"
          ]
        }
      ]
    },
    {
      "cell_type": "code",
      "source": [
        "# Number of columns with NaN values\n",
        "columns_with_nan = merged_df.columns[merged_df.isnull().any()]\n",
        "num_columns_with_nan = len(columns_with_nan)\n",
        "\n",
        "# Number of rows with NaN values\n",
        "rows_with_nan = merged_df[merged_df.isnull().any(axis=1)]\n",
        "num_rows_with_nan = len(rows_with_nan)\n",
        "\n",
        "# Print the results\n",
        "print(\"Number of columns with NaN values:\", num_columns_with_nan)\n",
        "print(\"Number of rows with NaN values:\", num_rows_with_nan)\n"
      ],
      "metadata": {
        "colab": {
          "base_uri": "https://localhost:8080/"
        },
        "id": "a0jZKRsE8yTD",
        "outputId": "7daf6244-b5ee-446b-ea78-a699b10b9901"
      },
      "execution_count": null,
      "outputs": [
        {
          "output_type": "stream",
          "name": "stdout",
          "text": [
            "Number of columns with NaN values: 10\n",
            "Number of rows with NaN values: 1\n"
          ]
        }
      ]
    },
    {
      "cell_type": "code",
      "source": [
        "# Replace NaNs in 'attack_cat' column with 'normal'\n",
        "merged_df['attack_cat'].fillna('normal', inplace=True)\n",
        "\n",
        "# Replace NaNs in 'ct_flw_http_mthd' and 'is_ftp_login' columns with '0'\n",
        "merged_df['ct_flw_http_mthd'].fillna(0, inplace=True)\n",
        "merged_df['is_ftp_login'].fillna(0, inplace=True)\n",
        "\n",
        "# Verifying the changes\n",
        "print(\"Counts of NaN values after replacement:\")\n",
        "print(merged_df.isna().sum())\n"
      ],
      "metadata": {
        "colab": {
          "base_uri": "https://localhost:8080/"
        },
        "id": "f37AkCWB9Isj",
        "outputId": "b8b9110b-1609-4802-ccb6-aa40f2981e9d"
      },
      "execution_count": null,
      "outputs": [
        {
          "output_type": "stream",
          "name": "stdout",
          "text": [
            "Counts of NaN values after replacement:\n",
            "Unnamed: 0          0\n",
            "srcip               0\n",
            "sport               0\n",
            "dstip               0\n",
            "dsport              0\n",
            "proto               0\n",
            "state               0\n",
            "dur                 0\n",
            "sbytes              0\n",
            "dbytes              0\n",
            "sttl                0\n",
            "dttl                0\n",
            "sloss               0\n",
            "dloss               0\n",
            "service             0\n",
            "Sload               0\n",
            "Dload               0\n",
            "Spkts               0\n",
            "Dpkts               0\n",
            "swin                0\n",
            "dwin                0\n",
            "stcpb               0\n",
            "dtcpb               0\n",
            "smeansz             0\n",
            "dmeansz             0\n",
            "trans_depth         0\n",
            "res_bdy_len         0\n",
            "Sjit                0\n",
            "Djit                0\n",
            "Stime               0\n",
            "Ltime               0\n",
            "Sintpkt             0\n",
            "Dintpkt             0\n",
            "tcprtt              0\n",
            "synack              0\n",
            "ackdat              0\n",
            "is_sm_ips_ports     0\n",
            "ct_state_ttl        0\n",
            "ct_flw_http_mthd    0\n",
            "is_ftp_login        0\n",
            "ct_ftp_cmd          1\n",
            "ct_srv_src          1\n",
            "ct_srv_dst          1\n",
            "ct_dst_ltm          1\n",
            "ct_src_ ltm         1\n",
            "ct_src_dport_ltm    1\n",
            "ct_dst_sport_ltm    1\n",
            "ct_dst_src_ltm      1\n",
            "attack_cat          0\n",
            "Label               1\n",
            "dtype: int64\n"
          ]
        }
      ]
    },
    {
      "cell_type": "code",
      "source": [
        "# Number of columns with NaN values\n",
        "columns_with_nan = merged_df.columns[merged_df.isnull().any()]\n",
        "num_columns_with_nan = len(columns_with_nan)\n",
        "\n",
        "# Number of rows with NaN values\n",
        "rows_with_nan = merged_df[merged_df.isnull().any(axis=1)]\n",
        "num_rows_with_nan = len(rows_with_nan)\n",
        "\n",
        "# Print the results\n",
        "print(\"Number of columns with NaN values:\", num_columns_with_nan)\n",
        "print(\"Number of rows with NaN values:\", num_rows_with_nan)\n"
      ],
      "metadata": {
        "colab": {
          "base_uri": "https://localhost:8080/"
        },
        "id": "J3yidRXS9cdL",
        "outputId": "7ba29ab4-46be-4bb4-8fa2-8765b23c24d3"
      },
      "execution_count": null,
      "outputs": [
        {
          "output_type": "stream",
          "name": "stdout",
          "text": [
            "Number of columns with NaN values: 36\n",
            "Number of rows with NaN values: 1\n"
          ]
        }
      ]
    },
    {
      "cell_type": "code",
      "source": [
        "# Remove rows with NaN values\n",
        "merged_df.dropna(inplace=True)\n",
        "\n",
        "# Reset index after dropping rows\n",
        "merged_df.reset_index(drop=True, inplace=True)\n"
      ],
      "metadata": {
        "id": "BsAdu-5h9jWW"
      },
      "execution_count": null,
      "outputs": []
    },
    {
      "cell_type": "code",
      "source": [
        "# Number of columns with NaN values\n",
        "columns_with_nan = merged_df.columns[merged_df.isnull().any()]\n",
        "num_columns_with_nan = len(columns_with_nan)\n",
        "\n",
        "# Number of rows with NaN values\n",
        "rows_with_nan = merged_df[merged_df.isnull().any(axis=1)]\n",
        "num_rows_with_nan = len(rows_with_nan)\n",
        "\n",
        "# Print the results\n",
        "print(\"Number of columns with NaN values:\", num_columns_with_nan)\n",
        "print(\"Number of rows with NaN values:\", num_rows_with_nan)"
      ],
      "metadata": {
        "colab": {
          "base_uri": "https://localhost:8080/"
        },
        "id": "4g4sRcR--HX9",
        "outputId": "d3c9375e-7f33-44da-caa0-ea527d64aac4"
      },
      "execution_count": null,
      "outputs": [
        {
          "output_type": "stream",
          "name": "stdout",
          "text": [
            "Number of columns with NaN values: 0\n",
            "Number of rows with NaN values: 0\n"
          ]
        }
      ]
    },
    {
      "cell_type": "code",
      "source": [
        "merged_df['state'].unique()"
      ],
      "metadata": {
        "colab": {
          "base_uri": "https://localhost:8080/"
        },
        "id": "u75AwhoB-VyI",
        "outputId": "5d0a38ec-2ec5-47f1-8fe7-1d824531005c"
      },
      "execution_count": null,
      "outputs": [
        {
          "output_type": "execute_result",
          "data": {
            "text/plain": [
              "array(['CON', 'INT', 'FIN', 'URH', 'REQ', 'ECO', 'RST', 'CLO', 'TXD',\n",
              "       'URN', 'no', 'ACC', 'PAR', 'MAS'], dtype=object)"
            ]
          },
          "metadata": {},
          "execution_count": 65
        }
      ]
    },
    {
      "cell_type": "code",
      "source": [
        "# Replace '-' entries in the 'state' column with 'othrs'\n",
        "merged_df['state'].replace('-', 'othrs', inplace=True)\n"
      ],
      "metadata": {
        "id": "q1Rlryz__D_W"
      },
      "execution_count": null,
      "outputs": []
    },
    {
      "cell_type": "code",
      "source": [
        "merged_df['proto'].unique()"
      ],
      "metadata": {
        "colab": {
          "base_uri": "https://localhost:8080/"
        },
        "id": "GaorAg3jAVss",
        "outputId": "ce7fb6bf-93e2-4e0d-d1c1-a4a0dfe3f486"
      },
      "execution_count": null,
      "outputs": [
        {
          "output_type": "execute_result",
          "data": {
            "text/plain": [
              "array(['udp', 'arp', 'tcp', 'ospf', 'icmp', 'igmp', 'sctp', 'udt', 'sep',\n",
              "       'sun-nd', 'swipe', 'mobile', 'pim', 'rtp', 'ipnip', 'ip', 'ggp',\n",
              "       'st2', 'egp', 'cbt', 'emcon', 'nvp', 'igp', 'xnet', 'argus',\n",
              "       'bbn-rcc', 'chaos', 'pup', 'hmp', 'mux', 'dcn', 'prm', 'trunk-1',\n",
              "       'xns-idp', 'trunk-2', 'leaf-1', 'leaf-2', 'irtp', 'rdp', 'iso-tp4',\n",
              "       'netblt', 'mfe-nsp', 'merit-inp', '3pc', 'xtp', 'idpr', 'tp++',\n",
              "       'ddp', 'idpr-cmtp', 'ipv6', 'il', 'idrp', 'ipv6-frag', 'sdrp',\n",
              "       'ipv6-route', 'gre', 'rsvp', 'mhrp', 'bna', 'esp', 'i-nlsp',\n",
              "       'narp', 'ipv6-no', 'tlsp', 'skip', 'ipv6-opts', 'any', 'cftp',\n",
              "       'sat-expak', 'kryptolan', 'rvd', 'ippc', 'sat-mon', 'ipcv', 'visa',\n",
              "       'cpnx', 'cphb', 'wsn', 'pvp', 'br-sat-mon', 'wb-mon', 'wb-expak',\n",
              "       'iso-ip', 'secure-vmtp', 'vmtp', 'vines', 'ttp', 'nsfnet-igp',\n",
              "       'dgp', 'tcf', 'eigrp', 'sprite-rpc', 'larp', 'mtp', 'ax.25',\n",
              "       'ipip', 'micp', 'aes-sp3-d', 'encap', 'etherip', 'pri-enc', 'gmtp',\n",
              "       'pnni', 'ifmp', 'aris', 'qnx', 'a/n', 'scps', 'snp', 'ipcomp',\n",
              "       'compaq-peer', 'ipx-n-ip', 'vrrp', 'zero', 'pgm', 'iatp', 'ddx',\n",
              "       'l2tp', 'srp', 'stp', 'smp', 'uti', 'sm', 'ptp', 'fire', 'crtp',\n",
              "       'isis', 'crudp', 'sccopmce', 'sps', 'pipe', 'iplt', 'unas', 'fc',\n",
              "       'ib'], dtype=object)"
            ]
          },
          "metadata": {},
          "execution_count": 126
        }
      ]
    },
    {
      "cell_type": "code",
      "source": [
        "merged_df['state'].unique()"
      ],
      "metadata": {
        "colab": {
          "base_uri": "https://localhost:8080/"
        },
        "id": "fUIgmpxL_Ix0",
        "outputId": "2c898bb4-81a5-44c8-92a8-364b15583540"
      },
      "execution_count": null,
      "outputs": [
        {
          "output_type": "execute_result",
          "data": {
            "text/plain": [
              "array(['CON', 'INT', 'FIN', 'URH', 'REQ', 'ECO', 'RST', 'CLO', 'TXD',\n",
              "       'URN', 'no', 'ACC', 'PAR', 'MAS'], dtype=object)"
            ]
          },
          "metadata": {},
          "execution_count": 68
        }
      ]
    },
    {
      "cell_type": "code",
      "source": [
        "merged_df['service'].unique()"
      ],
      "metadata": {
        "colab": {
          "base_uri": "https://localhost:8080/"
        },
        "id": "sJQph9hx_4ho",
        "outputId": "7f4acde7-923f-42bc-b1b0-50b21b689fcc"
      },
      "execution_count": null,
      "outputs": [
        {
          "output_type": "execute_result",
          "data": {
            "text/plain": [
              "array(['dns', 'othrs', 'http', 'smtp', 'ftp-data', 'ftp', 'ssh', 'pop3',\n",
              "       'snmp', 'ssl', 'irc', 'radius', 'dhcp'], dtype=object)"
            ]
          },
          "metadata": {},
          "execution_count": 69
        }
      ]
    },
    {
      "cell_type": "code",
      "source": [
        "# Replace '-' entries in the 'state' column with 'othrs'\n",
        "merged_df['service'].replace('-', 'othrs', inplace=True)"
      ],
      "metadata": {
        "id": "d_iLzGYP_0a9"
      },
      "execution_count": null,
      "outputs": []
    },
    {
      "cell_type": "code",
      "source": [
        "merged_df.shape"
      ],
      "metadata": {
        "colab": {
          "base_uri": "https://localhost:8080/"
        },
        "id": "Od8vV3BEAy5D",
        "outputId": "e719f398-5dcb-4473-8d52-df5fba680c5c"
      },
      "execution_count": null,
      "outputs": [
        {
          "output_type": "execute_result",
          "data": {
            "text/plain": [
              "(92342, 50)"
            ]
          },
          "metadata": {},
          "execution_count": 71
        }
      ]
    },
    {
      "cell_type": "code",
      "source": [
        "# data.head()"
      ],
      "metadata": {
        "id": "OiBsvgvwIxMp"
      },
      "execution_count": null,
      "outputs": []
    },
    {
      "cell_type": "code",
      "source": [
        "# data.info()"
      ],
      "metadata": {
        "id": "ylzYRqxfQpZ2"
      },
      "execution_count": null,
      "outputs": []
    },
    {
      "cell_type": "code",
      "source": [
        "# Checking the Unique value counts of categorical columns: srcip, dstip, dsport, state, proto, and service\n",
        "\n",
        "# List of columns\n",
        "columns_to_check = ['srcip', 'dstip', 'dsport', 'state', 'proto', 'service', 'attack_cat']\n",
        "\n",
        "# Print count of unique variables for each column\n",
        "for column in columns_to_check:\n",
        "    unique_count = merged_df[column].nunique()\n",
        "    print(f\"Unique count of variables in '{column}': {unique_count}\")\n"
      ],
      "metadata": {
        "colab": {
          "base_uri": "https://localhost:8080/"
        },
        "id": "w2MaLpEcXwS-",
        "outputId": "d07b8e82-6638-4c64-be0b-e8fa37e9746f"
      },
      "execution_count": null,
      "outputs": [
        {
          "output_type": "stream",
          "name": "stdout",
          "text": [
            "Unique count of variables in 'srcip': 39\n",
            "Unique count of variables in 'dstip': 42\n",
            "Unique count of variables in 'dsport': 20913\n",
            "Unique count of variables in 'state': 14\n",
            "Unique count of variables in 'proto': 135\n",
            "Unique count of variables in 'service': 13\n",
            "Unique count of variables in 'attack_cat': 10\n"
          ]
        }
      ]
    },
    {
      "cell_type": "code",
      "source": [
        "# Get the list of categorical columns\n",
        "categorical_columns = merged_df_copy.select_dtypes(include=['object', 'category']).columns.tolist()\n",
        "\n",
        "# Print the list of categorical columns\n",
        "print(\"Categorical columns:\", categorical_columns)\n"
      ],
      "metadata": {
        "colab": {
          "base_uri": "https://localhost:8080/"
        },
        "id": "JbH2zanLGU3m",
        "outputId": "3dae7a45-44f7-4d61-b164-33881ecfc15c"
      },
      "execution_count": null,
      "outputs": [
        {
          "output_type": "stream",
          "name": "stdout",
          "text": [
            "Categorical columns: ['srcip', 'sport', 'dstip', 'dsport', 'proto', 'state', 'service', 'attack_cat']\n"
          ]
        }
      ]
    },
    {
      "cell_type": "code",
      "source": [
        "merged_df_copy['state'].unique()"
      ],
      "metadata": {
        "colab": {
          "base_uri": "https://localhost:8080/"
        },
        "id": "_S8WOLfXGEZl",
        "outputId": "59c0afc0-d6e4-486e-a720-ca6c112974f8"
      },
      "execution_count": null,
      "outputs": [
        {
          "output_type": "execute_result",
          "data": {
            "text/plain": [
              "array(['CON', 'INT', 'FIN', 'URH', 'REQ', 'ECO', 'RST', 'CLO', 'TXD',\n",
              "       'URN', 'no', 'ACC', 'PAR', 'MAS', 'TST'], dtype=object)"
            ]
          },
          "metadata": {},
          "execution_count": 242
        }
      ]
    },
    {
      "cell_type": "code",
      "source": [
        "# print(data['service'].unique())"
      ],
      "metadata": {
        "id": "laI61pG0fXoY"
      },
      "execution_count": null,
      "outputs": []
    },
    {
      "cell_type": "code",
      "source": [
        "# Count the occurrences of each unique value in the 'attack_cat' column\n",
        "attack_cat_counts = merged_df['attack_cat'].value_counts(dropna=False)\n",
        "\n",
        "# Print the counts of each unique value\n",
        "print(\"Counts of each unique value in the 'attack_cat' column:\")\n",
        "print(attack_cat_counts)"
      ],
      "metadata": {
        "colab": {
          "base_uri": "https://localhost:8080/"
        },
        "id": "wXCA3jpRaLSP",
        "outputId": "1a391572-b18f-4873-c758-b26ff9c06ea1"
      },
      "execution_count": null,
      "outputs": [
        {
          "output_type": "stream",
          "name": "stdout",
          "text": [
            "Counts of each unique value in the 'attack_cat' column:\n",
            "attack_cat\n",
            "normal            82277\n",
            "Exploits           3207\n",
            " Fuzzers           3102\n",
            "Generic             972\n",
            "Reconnaissance      875\n",
            "DoS                 821\n",
            "Backdoors           492\n",
            "Analysis            464\n",
            "Shellcode           117\n",
            "Worms                15\n",
            "Name: count, dtype: int64\n"
          ]
        }
      ]
    },
    {
      "cell_type": "code",
      "source": [
        "# Filter columns with values starting with '0xc0a8'\n",
        "columns_with_values = merged_df.columns[merged_df.astype(str).apply(lambda x: x.str.contains('^0xc0a8')).any()]\n",
        "\n",
        "# Print the columns\n",
        "print(\"Columns with values starting with '0xc0a8':\")\n",
        "print(columns_with_values)\n"
      ],
      "metadata": {
        "id": "TEt1ODA9c3y-",
        "colab": {
          "base_uri": "https://localhost:8080/"
        },
        "outputId": "ddcdb362-2d72-4c02-93d0-d9f0fddfa67c"
      },
      "execution_count": null,
      "outputs": [
        {
          "output_type": "stream",
          "name": "stdout",
          "text": [
            "Columns with values starting with '0xc0a8':\n",
            "Index(['dsport'], dtype='object')\n"
          ]
        }
      ]
    },
    {
      "cell_type": "code",
      "source": [
        "# Count occurrences of '0xc0a8' in the 'dsport' column\n",
        "count_0xc0a8 = (merged_df['dsport'] == '0xc0a8').sum()\n",
        "\n",
        "# Find the rows where '0xc0a8' appears in the 'dsport' column\n",
        "rows_with_0xc0a8 = merged_df[merged_df['dsport'] == '0xc0a8']\n",
        "\n",
        "# Count the number of rows where '0xc0a8' appears\n",
        "num_rows_with_0xc0a8 = len(rows_with_0xc0a8)\n",
        "\n",
        "# Print the count of occurrences and the number of rows\n",
        "print(\"Count of '0xc0a8' in the 'dsport' column:\", count_0xc0a8)\n",
        "print(\"Number of rows where '0xc0a8' appears in the 'dsport' column:\", num_rows_with_0xc0a8)\n"
      ],
      "metadata": {
        "colab": {
          "base_uri": "https://localhost:8080/"
        },
        "id": "8tPCs8vrbPoP",
        "outputId": "f59fb24d-4e54-43e2-b869-b94279d552f7"
      },
      "execution_count": null,
      "outputs": [
        {
          "output_type": "stream",
          "name": "stdout",
          "text": [
            "Count of '0xc0a8' in the 'dsport' column: 54\n",
            "Number of rows where '0xc0a8' appears in the 'dsport' column: 54\n"
          ]
        }
      ]
    },
    {
      "cell_type": "code",
      "source": [
        "# Remove rows where '0xc0a8' appears in the 'dsport' column\n",
        "merged_df = merged_df[merged_df['dsport'] != '0xc0a8']\n"
      ],
      "metadata": {
        "id": "AH70GS6GbjAL"
      },
      "execution_count": null,
      "outputs": []
    },
    {
      "cell_type": "code",
      "source": [
        "# Create a copy of the DataFrame\n",
        "merged_df_copy = merged_df.copy()\n"
      ],
      "metadata": {
        "id": "ExlnBNfZbtio"
      },
      "execution_count": null,
      "outputs": []
    },
    {
      "cell_type": "code",
      "source": [
        "# Drop the column named \"Unnamed: 0\"\n",
        "merged_df_copy.drop(columns=['Unnamed: 0'], inplace=True)\n"
      ],
      "metadata": {
        "id": "4s0e86NGd-ci"
      },
      "execution_count": null,
      "outputs": []
    },
    {
      "cell_type": "code",
      "source": [],
      "metadata": {
        "id": "82pioqeBebLj"
      },
      "execution_count": null,
      "outputs": []
    },
    {
      "cell_type": "code",
      "source": [
        "merged_df_copy"
      ],
      "metadata": {
        "colab": {
          "base_uri": "https://localhost:8080/",
          "height": 461
        },
        "id": "Z91dfGe6diqw",
        "outputId": "55304a06-2364-4706-fc26-f1649337be4a"
      },
      "execution_count": null,
      "outputs": [
        {
          "output_type": "execute_result",
          "data": {
            "text/plain": [
              "             srcip  sport          dstip dsport proto state       dur  \\\n",
              "0       59.166.0.0   1390  149.171.126.6     53   udp   CON  0.001055   \n",
              "1       59.166.0.0  33661  149.171.126.9   1024   udp   CON  0.036133   \n",
              "2       59.166.0.6   1464  149.171.126.7     53   udp   CON  0.001119   \n",
              "3       59.166.0.5   3593  149.171.126.5     53   udp   CON  0.001209   \n",
              "4       59.166.0.3  49664  149.171.126.0     53   udp   CON  0.001169   \n",
              "...            ...    ...            ...    ...   ...   ...       ...   \n",
              "139525  59.166.0.0  52708  149.171.126.2  50651   tcp   FIN  0.020871   \n",
              "139526  59.166.0.8  40084  149.171.126.4     22   tcp   FIN  0.126838   \n",
              "139527  59.166.0.9   7663  149.171.126.8     22   tcp   FIN  0.094723   \n",
              "139528  59.166.0.3  33662  149.171.126.0  31721   tcp   FIN  0.020988   \n",
              "139529  59.166.0.4  62577  149.171.126.8     80   tcp   FIN  1.008934   \n",
              "\n",
              "         sbytes   dbytes  sttl  ...  ct_ftp_cmd  ct_srv_src  ct_srv_dst  \\\n",
              "0         132.0    164.0  31.0  ...         0.0         3.0         7.0   \n",
              "1         528.0    304.0  31.0  ...         0.0         2.0         4.0   \n",
              "2         146.0    178.0  31.0  ...         0.0        12.0         8.0   \n",
              "3         132.0    164.0  31.0  ...         0.0         6.0         9.0   \n",
              "4         146.0    178.0  31.0  ...         0.0         7.0         9.0   \n",
              "...         ...      ...   ...  ...         ...         ...         ...   \n",
              "139525   3390.0  41676.0  31.0  ...         0.0         7.0        10.0   \n",
              "139526   3728.0   5474.0  31.0  ...         0.0        10.0        11.0   \n",
              "139527  14512.0  17134.0  31.0  ...         0.0        10.0         7.0   \n",
              "139528   3390.0  41676.0  31.0  ...         0.0        10.0         9.0   \n",
              "139529   1580.0  10168.0  31.0  ...         NaN         NaN         NaN   \n",
              "\n",
              "       ct_dst_ltm  ct_src_ ltm  ct_src_dport_ltm  ct_dst_sport_ltm  \\\n",
              "0             1.0          3.0               1.0               1.0   \n",
              "1             2.0          3.0               1.0               1.0   \n",
              "2             1.0          2.0               2.0               1.0   \n",
              "3             1.0          1.0               1.0               1.0   \n",
              "4             1.0          1.0               1.0               1.0   \n",
              "...           ...          ...               ...               ...   \n",
              "139525        2.0          2.0               1.0               1.0   \n",
              "139526        5.0          3.0               1.0               1.0   \n",
              "139527        4.0          2.0               1.0               1.0   \n",
              "139528        1.0          6.0               1.0               1.0   \n",
              "139529        NaN          NaN               NaN               NaN   \n",
              "\n",
              "        ct_dst_src_ltm  attack_cat  Label  \n",
              "0                  1.0      normal    0.0  \n",
              "1                  2.0      normal    0.0  \n",
              "2                  1.0      normal    0.0  \n",
              "3                  1.0      normal    0.0  \n",
              "4                  1.0      normal    0.0  \n",
              "...                ...         ...    ...  \n",
              "139525             2.0      normal    0.0  \n",
              "139526             3.0      normal    0.0  \n",
              "139527             1.0      normal    0.0  \n",
              "139528             1.0      normal    0.0  \n",
              "139529             NaN      normal    NaN  \n",
              "\n",
              "[139476 rows x 49 columns]"
            ],
            "text/html": [
              "\n",
              "  <div id=\"df-34fa14aa-46df-4187-a8ba-1766ba25aff9\" class=\"colab-df-container\">\n",
              "    <div>\n",
              "<style scoped>\n",
              "    .dataframe tbody tr th:only-of-type {\n",
              "        vertical-align: middle;\n",
              "    }\n",
              "\n",
              "    .dataframe tbody tr th {\n",
              "        vertical-align: top;\n",
              "    }\n",
              "\n",
              "    .dataframe thead th {\n",
              "        text-align: right;\n",
              "    }\n",
              "</style>\n",
              "<table border=\"1\" class=\"dataframe\">\n",
              "  <thead>\n",
              "    <tr style=\"text-align: right;\">\n",
              "      <th></th>\n",
              "      <th>srcip</th>\n",
              "      <th>sport</th>\n",
              "      <th>dstip</th>\n",
              "      <th>dsport</th>\n",
              "      <th>proto</th>\n",
              "      <th>state</th>\n",
              "      <th>dur</th>\n",
              "      <th>sbytes</th>\n",
              "      <th>dbytes</th>\n",
              "      <th>sttl</th>\n",
              "      <th>...</th>\n",
              "      <th>ct_ftp_cmd</th>\n",
              "      <th>ct_srv_src</th>\n",
              "      <th>ct_srv_dst</th>\n",
              "      <th>ct_dst_ltm</th>\n",
              "      <th>ct_src_ ltm</th>\n",
              "      <th>ct_src_dport_ltm</th>\n",
              "      <th>ct_dst_sport_ltm</th>\n",
              "      <th>ct_dst_src_ltm</th>\n",
              "      <th>attack_cat</th>\n",
              "      <th>Label</th>\n",
              "    </tr>\n",
              "  </thead>\n",
              "  <tbody>\n",
              "    <tr>\n",
              "      <th>0</th>\n",
              "      <td>59.166.0.0</td>\n",
              "      <td>1390</td>\n",
              "      <td>149.171.126.6</td>\n",
              "      <td>53</td>\n",
              "      <td>udp</td>\n",
              "      <td>CON</td>\n",
              "      <td>0.001055</td>\n",
              "      <td>132.0</td>\n",
              "      <td>164.0</td>\n",
              "      <td>31.0</td>\n",
              "      <td>...</td>\n",
              "      <td>0.0</td>\n",
              "      <td>3.0</td>\n",
              "      <td>7.0</td>\n",
              "      <td>1.0</td>\n",
              "      <td>3.0</td>\n",
              "      <td>1.0</td>\n",
              "      <td>1.0</td>\n",
              "      <td>1.0</td>\n",
              "      <td>normal</td>\n",
              "      <td>0.0</td>\n",
              "    </tr>\n",
              "    <tr>\n",
              "      <th>1</th>\n",
              "      <td>59.166.0.0</td>\n",
              "      <td>33661</td>\n",
              "      <td>149.171.126.9</td>\n",
              "      <td>1024</td>\n",
              "      <td>udp</td>\n",
              "      <td>CON</td>\n",
              "      <td>0.036133</td>\n",
              "      <td>528.0</td>\n",
              "      <td>304.0</td>\n",
              "      <td>31.0</td>\n",
              "      <td>...</td>\n",
              "      <td>0.0</td>\n",
              "      <td>2.0</td>\n",
              "      <td>4.0</td>\n",
              "      <td>2.0</td>\n",
              "      <td>3.0</td>\n",
              "      <td>1.0</td>\n",
              "      <td>1.0</td>\n",
              "      <td>2.0</td>\n",
              "      <td>normal</td>\n",
              "      <td>0.0</td>\n",
              "    </tr>\n",
              "    <tr>\n",
              "      <th>2</th>\n",
              "      <td>59.166.0.6</td>\n",
              "      <td>1464</td>\n",
              "      <td>149.171.126.7</td>\n",
              "      <td>53</td>\n",
              "      <td>udp</td>\n",
              "      <td>CON</td>\n",
              "      <td>0.001119</td>\n",
              "      <td>146.0</td>\n",
              "      <td>178.0</td>\n",
              "      <td>31.0</td>\n",
              "      <td>...</td>\n",
              "      <td>0.0</td>\n",
              "      <td>12.0</td>\n",
              "      <td>8.0</td>\n",
              "      <td>1.0</td>\n",
              "      <td>2.0</td>\n",
              "      <td>2.0</td>\n",
              "      <td>1.0</td>\n",
              "      <td>1.0</td>\n",
              "      <td>normal</td>\n",
              "      <td>0.0</td>\n",
              "    </tr>\n",
              "    <tr>\n",
              "      <th>3</th>\n",
              "      <td>59.166.0.5</td>\n",
              "      <td>3593</td>\n",
              "      <td>149.171.126.5</td>\n",
              "      <td>53</td>\n",
              "      <td>udp</td>\n",
              "      <td>CON</td>\n",
              "      <td>0.001209</td>\n",
              "      <td>132.0</td>\n",
              "      <td>164.0</td>\n",
              "      <td>31.0</td>\n",
              "      <td>...</td>\n",
              "      <td>0.0</td>\n",
              "      <td>6.0</td>\n",
              "      <td>9.0</td>\n",
              "      <td>1.0</td>\n",
              "      <td>1.0</td>\n",
              "      <td>1.0</td>\n",
              "      <td>1.0</td>\n",
              "      <td>1.0</td>\n",
              "      <td>normal</td>\n",
              "      <td>0.0</td>\n",
              "    </tr>\n",
              "    <tr>\n",
              "      <th>4</th>\n",
              "      <td>59.166.0.3</td>\n",
              "      <td>49664</td>\n",
              "      <td>149.171.126.0</td>\n",
              "      <td>53</td>\n",
              "      <td>udp</td>\n",
              "      <td>CON</td>\n",
              "      <td>0.001169</td>\n",
              "      <td>146.0</td>\n",
              "      <td>178.0</td>\n",
              "      <td>31.0</td>\n",
              "      <td>...</td>\n",
              "      <td>0.0</td>\n",
              "      <td>7.0</td>\n",
              "      <td>9.0</td>\n",
              "      <td>1.0</td>\n",
              "      <td>1.0</td>\n",
              "      <td>1.0</td>\n",
              "      <td>1.0</td>\n",
              "      <td>1.0</td>\n",
              "      <td>normal</td>\n",
              "      <td>0.0</td>\n",
              "    </tr>\n",
              "    <tr>\n",
              "      <th>...</th>\n",
              "      <td>...</td>\n",
              "      <td>...</td>\n",
              "      <td>...</td>\n",
              "      <td>...</td>\n",
              "      <td>...</td>\n",
              "      <td>...</td>\n",
              "      <td>...</td>\n",
              "      <td>...</td>\n",
              "      <td>...</td>\n",
              "      <td>...</td>\n",
              "      <td>...</td>\n",
              "      <td>...</td>\n",
              "      <td>...</td>\n",
              "      <td>...</td>\n",
              "      <td>...</td>\n",
              "      <td>...</td>\n",
              "      <td>...</td>\n",
              "      <td>...</td>\n",
              "      <td>...</td>\n",
              "      <td>...</td>\n",
              "      <td>...</td>\n",
              "    </tr>\n",
              "    <tr>\n",
              "      <th>139525</th>\n",
              "      <td>59.166.0.0</td>\n",
              "      <td>52708</td>\n",
              "      <td>149.171.126.2</td>\n",
              "      <td>50651</td>\n",
              "      <td>tcp</td>\n",
              "      <td>FIN</td>\n",
              "      <td>0.020871</td>\n",
              "      <td>3390.0</td>\n",
              "      <td>41676.0</td>\n",
              "      <td>31.0</td>\n",
              "      <td>...</td>\n",
              "      <td>0.0</td>\n",
              "      <td>7.0</td>\n",
              "      <td>10.0</td>\n",
              "      <td>2.0</td>\n",
              "      <td>2.0</td>\n",
              "      <td>1.0</td>\n",
              "      <td>1.0</td>\n",
              "      <td>2.0</td>\n",
              "      <td>normal</td>\n",
              "      <td>0.0</td>\n",
              "    </tr>\n",
              "    <tr>\n",
              "      <th>139526</th>\n",
              "      <td>59.166.0.8</td>\n",
              "      <td>40084</td>\n",
              "      <td>149.171.126.4</td>\n",
              "      <td>22</td>\n",
              "      <td>tcp</td>\n",
              "      <td>FIN</td>\n",
              "      <td>0.126838</td>\n",
              "      <td>3728.0</td>\n",
              "      <td>5474.0</td>\n",
              "      <td>31.0</td>\n",
              "      <td>...</td>\n",
              "      <td>0.0</td>\n",
              "      <td>10.0</td>\n",
              "      <td>11.0</td>\n",
              "      <td>5.0</td>\n",
              "      <td>3.0</td>\n",
              "      <td>1.0</td>\n",
              "      <td>1.0</td>\n",
              "      <td>3.0</td>\n",
              "      <td>normal</td>\n",
              "      <td>0.0</td>\n",
              "    </tr>\n",
              "    <tr>\n",
              "      <th>139527</th>\n",
              "      <td>59.166.0.9</td>\n",
              "      <td>7663</td>\n",
              "      <td>149.171.126.8</td>\n",
              "      <td>22</td>\n",
              "      <td>tcp</td>\n",
              "      <td>FIN</td>\n",
              "      <td>0.094723</td>\n",
              "      <td>14512.0</td>\n",
              "      <td>17134.0</td>\n",
              "      <td>31.0</td>\n",
              "      <td>...</td>\n",
              "      <td>0.0</td>\n",
              "      <td>10.0</td>\n",
              "      <td>7.0</td>\n",
              "      <td>4.0</td>\n",
              "      <td>2.0</td>\n",
              "      <td>1.0</td>\n",
              "      <td>1.0</td>\n",
              "      <td>1.0</td>\n",
              "      <td>normal</td>\n",
              "      <td>0.0</td>\n",
              "    </tr>\n",
              "    <tr>\n",
              "      <th>139528</th>\n",
              "      <td>59.166.0.3</td>\n",
              "      <td>33662</td>\n",
              "      <td>149.171.126.0</td>\n",
              "      <td>31721</td>\n",
              "      <td>tcp</td>\n",
              "      <td>FIN</td>\n",
              "      <td>0.020988</td>\n",
              "      <td>3390.0</td>\n",
              "      <td>41676.0</td>\n",
              "      <td>31.0</td>\n",
              "      <td>...</td>\n",
              "      <td>0.0</td>\n",
              "      <td>10.0</td>\n",
              "      <td>9.0</td>\n",
              "      <td>1.0</td>\n",
              "      <td>6.0</td>\n",
              "      <td>1.0</td>\n",
              "      <td>1.0</td>\n",
              "      <td>1.0</td>\n",
              "      <td>normal</td>\n",
              "      <td>0.0</td>\n",
              "    </tr>\n",
              "    <tr>\n",
              "      <th>139529</th>\n",
              "      <td>59.166.0.4</td>\n",
              "      <td>62577</td>\n",
              "      <td>149.171.126.8</td>\n",
              "      <td>80</td>\n",
              "      <td>tcp</td>\n",
              "      <td>FIN</td>\n",
              "      <td>1.008934</td>\n",
              "      <td>1580.0</td>\n",
              "      <td>10168.0</td>\n",
              "      <td>31.0</td>\n",
              "      <td>...</td>\n",
              "      <td>NaN</td>\n",
              "      <td>NaN</td>\n",
              "      <td>NaN</td>\n",
              "      <td>NaN</td>\n",
              "      <td>NaN</td>\n",
              "      <td>NaN</td>\n",
              "      <td>NaN</td>\n",
              "      <td>NaN</td>\n",
              "      <td>normal</td>\n",
              "      <td>NaN</td>\n",
              "    </tr>\n",
              "  </tbody>\n",
              "</table>\n",
              "<p>139476 rows × 49 columns</p>\n",
              "</div>\n",
              "    <div class=\"colab-df-buttons\">\n",
              "\n",
              "  <div class=\"colab-df-container\">\n",
              "    <button class=\"colab-df-convert\" onclick=\"convertToInteractive('df-34fa14aa-46df-4187-a8ba-1766ba25aff9')\"\n",
              "            title=\"Convert this dataframe to an interactive table.\"\n",
              "            style=\"display:none;\">\n",
              "\n",
              "  <svg xmlns=\"http://www.w3.org/2000/svg\" height=\"24px\" viewBox=\"0 -960 960 960\">\n",
              "    <path d=\"M120-120v-720h720v720H120Zm60-500h600v-160H180v160Zm220 220h160v-160H400v160Zm0 220h160v-160H400v160ZM180-400h160v-160H180v160Zm440 0h160v-160H620v160ZM180-180h160v-160H180v160Zm440 0h160v-160H620v160Z\"/>\n",
              "  </svg>\n",
              "    </button>\n",
              "\n",
              "  <style>\n",
              "    .colab-df-container {\n",
              "      display:flex;\n",
              "      gap: 12px;\n",
              "    }\n",
              "\n",
              "    .colab-df-convert {\n",
              "      background-color: #E8F0FE;\n",
              "      border: none;\n",
              "      border-radius: 50%;\n",
              "      cursor: pointer;\n",
              "      display: none;\n",
              "      fill: #1967D2;\n",
              "      height: 32px;\n",
              "      padding: 0 0 0 0;\n",
              "      width: 32px;\n",
              "    }\n",
              "\n",
              "    .colab-df-convert:hover {\n",
              "      background-color: #E2EBFA;\n",
              "      box-shadow: 0px 1px 2px rgba(60, 64, 67, 0.3), 0px 1px 3px 1px rgba(60, 64, 67, 0.15);\n",
              "      fill: #174EA6;\n",
              "    }\n",
              "\n",
              "    .colab-df-buttons div {\n",
              "      margin-bottom: 4px;\n",
              "    }\n",
              "\n",
              "    [theme=dark] .colab-df-convert {\n",
              "      background-color: #3B4455;\n",
              "      fill: #D2E3FC;\n",
              "    }\n",
              "\n",
              "    [theme=dark] .colab-df-convert:hover {\n",
              "      background-color: #434B5C;\n",
              "      box-shadow: 0px 1px 3px 1px rgba(0, 0, 0, 0.15);\n",
              "      filter: drop-shadow(0px 1px 2px rgba(0, 0, 0, 0.3));\n",
              "      fill: #FFFFFF;\n",
              "    }\n",
              "  </style>\n",
              "\n",
              "    <script>\n",
              "      const buttonEl =\n",
              "        document.querySelector('#df-34fa14aa-46df-4187-a8ba-1766ba25aff9 button.colab-df-convert');\n",
              "      buttonEl.style.display =\n",
              "        google.colab.kernel.accessAllowed ? 'block' : 'none';\n",
              "\n",
              "      async function convertToInteractive(key) {\n",
              "        const element = document.querySelector('#df-34fa14aa-46df-4187-a8ba-1766ba25aff9');\n",
              "        const dataTable =\n",
              "          await google.colab.kernel.invokeFunction('convertToInteractive',\n",
              "                                                    [key], {});\n",
              "        if (!dataTable) return;\n",
              "\n",
              "        const docLinkHtml = 'Like what you see? Visit the ' +\n",
              "          '<a target=\"_blank\" href=https://colab.research.google.com/notebooks/data_table.ipynb>data table notebook</a>'\n",
              "          + ' to learn more about interactive tables.';\n",
              "        element.innerHTML = '';\n",
              "        dataTable['output_type'] = 'display_data';\n",
              "        await google.colab.output.renderOutput(dataTable, element);\n",
              "        const docLink = document.createElement('div');\n",
              "        docLink.innerHTML = docLinkHtml;\n",
              "        element.appendChild(docLink);\n",
              "      }\n",
              "    </script>\n",
              "  </div>\n",
              "\n",
              "\n",
              "<div id=\"df-0d0dcca2-3f7f-473c-b013-6b201a18e833\">\n",
              "  <button class=\"colab-df-quickchart\" onclick=\"quickchart('df-0d0dcca2-3f7f-473c-b013-6b201a18e833')\"\n",
              "            title=\"Suggest charts\"\n",
              "            style=\"display:none;\">\n",
              "\n",
              "<svg xmlns=\"http://www.w3.org/2000/svg\" height=\"24px\"viewBox=\"0 0 24 24\"\n",
              "     width=\"24px\">\n",
              "    <g>\n",
              "        <path d=\"M19 3H5c-1.1 0-2 .9-2 2v14c0 1.1.9 2 2 2h14c1.1 0 2-.9 2-2V5c0-1.1-.9-2-2-2zM9 17H7v-7h2v7zm4 0h-2V7h2v10zm4 0h-2v-4h2v4z\"/>\n",
              "    </g>\n",
              "</svg>\n",
              "  </button>\n",
              "\n",
              "<style>\n",
              "  .colab-df-quickchart {\n",
              "      --bg-color: #E8F0FE;\n",
              "      --fill-color: #1967D2;\n",
              "      --hover-bg-color: #E2EBFA;\n",
              "      --hover-fill-color: #174EA6;\n",
              "      --disabled-fill-color: #AAA;\n",
              "      --disabled-bg-color: #DDD;\n",
              "  }\n",
              "\n",
              "  [theme=dark] .colab-df-quickchart {\n",
              "      --bg-color: #3B4455;\n",
              "      --fill-color: #D2E3FC;\n",
              "      --hover-bg-color: #434B5C;\n",
              "      --hover-fill-color: #FFFFFF;\n",
              "      --disabled-bg-color: #3B4455;\n",
              "      --disabled-fill-color: #666;\n",
              "  }\n",
              "\n",
              "  .colab-df-quickchart {\n",
              "    background-color: var(--bg-color);\n",
              "    border: none;\n",
              "    border-radius: 50%;\n",
              "    cursor: pointer;\n",
              "    display: none;\n",
              "    fill: var(--fill-color);\n",
              "    height: 32px;\n",
              "    padding: 0;\n",
              "    width: 32px;\n",
              "  }\n",
              "\n",
              "  .colab-df-quickchart:hover {\n",
              "    background-color: var(--hover-bg-color);\n",
              "    box-shadow: 0 1px 2px rgba(60, 64, 67, 0.3), 0 1px 3px 1px rgba(60, 64, 67, 0.15);\n",
              "    fill: var(--button-hover-fill-color);\n",
              "  }\n",
              "\n",
              "  .colab-df-quickchart-complete:disabled,\n",
              "  .colab-df-quickchart-complete:disabled:hover {\n",
              "    background-color: var(--disabled-bg-color);\n",
              "    fill: var(--disabled-fill-color);\n",
              "    box-shadow: none;\n",
              "  }\n",
              "\n",
              "  .colab-df-spinner {\n",
              "    border: 2px solid var(--fill-color);\n",
              "    border-color: transparent;\n",
              "    border-bottom-color: var(--fill-color);\n",
              "    animation:\n",
              "      spin 1s steps(1) infinite;\n",
              "  }\n",
              "\n",
              "  @keyframes spin {\n",
              "    0% {\n",
              "      border-color: transparent;\n",
              "      border-bottom-color: var(--fill-color);\n",
              "      border-left-color: var(--fill-color);\n",
              "    }\n",
              "    20% {\n",
              "      border-color: transparent;\n",
              "      border-left-color: var(--fill-color);\n",
              "      border-top-color: var(--fill-color);\n",
              "    }\n",
              "    30% {\n",
              "      border-color: transparent;\n",
              "      border-left-color: var(--fill-color);\n",
              "      border-top-color: var(--fill-color);\n",
              "      border-right-color: var(--fill-color);\n",
              "    }\n",
              "    40% {\n",
              "      border-color: transparent;\n",
              "      border-right-color: var(--fill-color);\n",
              "      border-top-color: var(--fill-color);\n",
              "    }\n",
              "    60% {\n",
              "      border-color: transparent;\n",
              "      border-right-color: var(--fill-color);\n",
              "    }\n",
              "    80% {\n",
              "      border-color: transparent;\n",
              "      border-right-color: var(--fill-color);\n",
              "      border-bottom-color: var(--fill-color);\n",
              "    }\n",
              "    90% {\n",
              "      border-color: transparent;\n",
              "      border-bottom-color: var(--fill-color);\n",
              "    }\n",
              "  }\n",
              "</style>\n",
              "\n",
              "  <script>\n",
              "    async function quickchart(key) {\n",
              "      const quickchartButtonEl =\n",
              "        document.querySelector('#' + key + ' button');\n",
              "      quickchartButtonEl.disabled = true;  // To prevent multiple clicks.\n",
              "      quickchartButtonEl.classList.add('colab-df-spinner');\n",
              "      try {\n",
              "        const charts = await google.colab.kernel.invokeFunction(\n",
              "            'suggestCharts', [key], {});\n",
              "      } catch (error) {\n",
              "        console.error('Error during call to suggestCharts:', error);\n",
              "      }\n",
              "      quickchartButtonEl.classList.remove('colab-df-spinner');\n",
              "      quickchartButtonEl.classList.add('colab-df-quickchart-complete');\n",
              "    }\n",
              "    (() => {\n",
              "      let quickchartButtonEl =\n",
              "        document.querySelector('#df-0d0dcca2-3f7f-473c-b013-6b201a18e833 button');\n",
              "      quickchartButtonEl.style.display =\n",
              "        google.colab.kernel.accessAllowed ? 'block' : 'none';\n",
              "    })();\n",
              "  </script>\n",
              "</div>\n",
              "    </div>\n",
              "  </div>\n"
            ],
            "application/vnd.google.colaboratory.intrinsic+json": {
              "type": "dataframe",
              "variable_name": "merged_df_copy"
            }
          },
          "metadata": {},
          "execution_count": 235
        }
      ]
    },
    {
      "cell_type": "code",
      "source": [
        "X = merged_df_copy.iloc[:, 0:49].values\n",
        "y = merged_df_copy.iloc[:, -1].values"
      ],
      "metadata": {
        "id": "8WQcCiTEsSVh"
      },
      "execution_count": null,
      "outputs": []
    },
    {
      "cell_type": "code",
      "source": [
        "y[0:10]"
      ],
      "metadata": {
        "colab": {
          "base_uri": "https://localhost:8080/"
        },
        "id": "EwWXpSpU3oer",
        "outputId": "ef3742ac-f143-47af-b876-695ea823dee0"
      },
      "execution_count": null,
      "outputs": [
        {
          "output_type": "execute_result",
          "data": {
            "text/plain": [
              "array([0., 0., 0., 0., 0., 0., 0., 0., 0., 0.])"
            ]
          },
          "metadata": {},
          "execution_count": 134
        }
      ]
    },
    {
      "cell_type": "code",
      "source": [
        "X[:, 4:5]"
      ],
      "metadata": {
        "colab": {
          "base_uri": "https://localhost:8080/"
        },
        "id": "KsT8GAQh0ard",
        "outputId": "03e6be4a-5329-45cf-fd75-f0390fe782d8"
      },
      "execution_count": null,
      "outputs": [
        {
          "output_type": "execute_result",
          "data": {
            "text/plain": [
              "array([['udp'],\n",
              "       ['udp'],\n",
              "       ['udp'],\n",
              "       ...,\n",
              "       ['tcp'],\n",
              "       ['tcp'],\n",
              "       ['tcp']], dtype=object)"
            ]
          },
          "metadata": {},
          "execution_count": 135
        }
      ]
    },
    {
      "cell_type": "code",
      "source": [
        "X[:, 5:6]"
      ],
      "metadata": {
        "colab": {
          "base_uri": "https://localhost:8080/"
        },
        "id": "4YCYgvPt0m47",
        "outputId": "0f034663-6fed-46c5-9a96-8fabc48e10ab"
      },
      "execution_count": null,
      "outputs": [
        {
          "output_type": "execute_result",
          "data": {
            "text/plain": [
              "array([['CON'],\n",
              "       ['CON'],\n",
              "       ['CON'],\n",
              "       ...,\n",
              "       ['FIN'],\n",
              "       ['FIN'],\n",
              "       ['FIN']], dtype=object)"
            ]
          },
          "metadata": {},
          "execution_count": 136
        }
      ]
    },
    {
      "cell_type": "code",
      "source": [
        "X[:, 47:48]"
      ],
      "metadata": {
        "colab": {
          "base_uri": "https://localhost:8080/"
        },
        "id": "rXHHczq6Cvlc",
        "outputId": "5d0cb6c7-62da-4bd1-9864-b199edb133c9"
      },
      "execution_count": null,
      "outputs": [
        {
          "output_type": "execute_result",
          "data": {
            "text/plain": [
              "array([['normal'],\n",
              "       ['normal'],\n",
              "       ['normal'],\n",
              "       ...,\n",
              "       ['normal'],\n",
              "       ['normal'],\n",
              "       ['normal']], dtype=object)"
            ]
          },
          "metadata": {},
          "execution_count": 137
        }
      ]
    },
    {
      "cell_type": "code",
      "source": [
        "merged_df_copy.to_csv('merged_cleaned1.csv')"
      ],
      "metadata": {
        "id": "azCwSgkGfOR-"
      },
      "execution_count": null,
      "outputs": []
    },
    {
      "cell_type": "code",
      "source": [
        "merged_df_copy.info()"
      ],
      "metadata": {
        "colab": {
          "base_uri": "https://localhost:8080/"
        },
        "id": "ieoT2rB5DCw-",
        "outputId": "79a44c38-e1c0-49f9-f0f2-2ac6655d2df4"
      },
      "execution_count": null,
      "outputs": [
        {
          "output_type": "stream",
          "name": "stdout",
          "text": [
            "<class 'pandas.core.frame.DataFrame'>\n",
            "Index: 139476 entries, 0 to 139529\n",
            "Data columns (total 49 columns):\n",
            " #   Column            Non-Null Count   Dtype  \n",
            "---  ------            --------------   -----  \n",
            " 0   srcip             139476 non-null  object \n",
            " 1   sport             139476 non-null  object \n",
            " 2   dstip             139476 non-null  object \n",
            " 3   dsport            139476 non-null  object \n",
            " 4   proto             139476 non-null  object \n",
            " 5   state             139476 non-null  object \n",
            " 6   dur               139476 non-null  float64\n",
            " 7   sbytes            139476 non-null  float64\n",
            " 8   dbytes            139476 non-null  float64\n",
            " 9   sttl              139476 non-null  float64\n",
            " 10  dttl              139476 non-null  float64\n",
            " 11  sloss             139476 non-null  float64\n",
            " 12  dloss             139476 non-null  float64\n",
            " 13  service           139476 non-null  object \n",
            " 14  Sload             139476 non-null  float64\n",
            " 15  Dload             139476 non-null  float64\n",
            " 16  Spkts             139476 non-null  float64\n",
            " 17  Dpkts             139476 non-null  float64\n",
            " 18  swin              139476 non-null  float64\n",
            " 19  dwin              139476 non-null  float64\n",
            " 20  stcpb             139476 non-null  float64\n",
            " 21  dtcpb             139476 non-null  float64\n",
            " 22  smeansz           139476 non-null  float64\n",
            " 23  dmeansz           139476 non-null  float64\n",
            " 24  trans_depth       139476 non-null  float64\n",
            " 25  res_bdy_len       139476 non-null  float64\n",
            " 26  Sjit              139476 non-null  float64\n",
            " 27  Djit              139476 non-null  float64\n",
            " 28  Stime             139476 non-null  float64\n",
            " 29  Ltime             139476 non-null  float64\n",
            " 30  Sintpkt           139476 non-null  float64\n",
            " 31  Dintpkt           139476 non-null  float64\n",
            " 32  tcprtt            139476 non-null  float64\n",
            " 33  synack            139476 non-null  float64\n",
            " 34  ackdat            139476 non-null  float64\n",
            " 35  is_sm_ips_ports   139476 non-null  float64\n",
            " 36  ct_state_ttl      139476 non-null  float64\n",
            " 37  ct_flw_http_mthd  139476 non-null  float64\n",
            " 38  is_ftp_login      139476 non-null  float64\n",
            " 39  ct_ftp_cmd        139475 non-null  float64\n",
            " 40  ct_srv_src        139475 non-null  float64\n",
            " 41  ct_srv_dst        139475 non-null  float64\n",
            " 42  ct_dst_ltm        139475 non-null  float64\n",
            " 43  ct_src_ ltm       139475 non-null  float64\n",
            " 44  ct_src_dport_ltm  139475 non-null  float64\n",
            " 45  ct_dst_sport_ltm  139475 non-null  float64\n",
            " 46  ct_dst_src_ltm    139475 non-null  float64\n",
            " 47  attack_cat        139476 non-null  object \n",
            " 48  Label             139475 non-null  float64\n",
            "dtypes: float64(41), object(8)\n",
            "memory usage: 53.2+ MB\n"
          ]
        }
      ]
    },
    {
      "cell_type": "code",
      "source": [
        "# from sklearn.preprocessing import OrdinalEncoder\n",
        "\n",
        "# # Convert all values in the columns to strings\n",
        "# X[:, 4:6] = X[:, 4:6].astype(str)\n",
        "\n",
        "# # Initialize the OrdinalEncoder\n",
        "# encoder = OrdinalEncoder()\n",
        "\n",
        "# # Encode the \"proto\" column\n",
        "# X[:, 4:5] = encoder.fit_transform(X[:, 4:5])\n",
        "\n",
        "# # Encode the \"state\" column\n",
        "# X[:, 5:6] = encoder.fit_transform(X[:, 5:6])\n"
      ],
      "metadata": {
        "id": "bTcVAsm3uxzI"
      },
      "execution_count": null,
      "outputs": []
    },
    {
      "cell_type": "code",
      "source": [
        "merged_df_copy"
      ],
      "metadata": {
        "colab": {
          "base_uri": "https://localhost:8080/",
          "height": 461
        },
        "id": "xUFVnPEvc4PO",
        "outputId": "a2ba8e82-ce3b-4acb-f767-f7673c9c89b8"
      },
      "execution_count": null,
      "outputs": [
        {
          "output_type": "execute_result",
          "data": {
            "text/plain": [
              "             srcip  sport          dstip dsport proto state       dur  \\\n",
              "0       59.166.0.0   1390  149.171.126.6     53   udp   CON  0.001055   \n",
              "1       59.166.0.0  33661  149.171.126.9   1024   udp   CON  0.036133   \n",
              "2       59.166.0.6   1464  149.171.126.7     53   udp   CON  0.001119   \n",
              "3       59.166.0.5   3593  149.171.126.5     53   udp   CON  0.001209   \n",
              "4       59.166.0.3  49664  149.171.126.0     53   udp   CON  0.001169   \n",
              "...            ...    ...            ...    ...   ...   ...       ...   \n",
              "139525  59.166.0.0  52708  149.171.126.2  50651   tcp   FIN  0.020871   \n",
              "139526  59.166.0.8  40084  149.171.126.4     22   tcp   FIN  0.126838   \n",
              "139527  59.166.0.9   7663  149.171.126.8     22   tcp   FIN  0.094723   \n",
              "139528  59.166.0.3  33662  149.171.126.0  31721   tcp   FIN  0.020988   \n",
              "139529  59.166.0.4  62577  149.171.126.8     80   tcp   FIN  1.008934   \n",
              "\n",
              "         sbytes   dbytes  sttl  ...  ct_ftp_cmd  ct_srv_src  ct_srv_dst  \\\n",
              "0         132.0    164.0  31.0  ...         0.0         3.0         7.0   \n",
              "1         528.0    304.0  31.0  ...         0.0         2.0         4.0   \n",
              "2         146.0    178.0  31.0  ...         0.0        12.0         8.0   \n",
              "3         132.0    164.0  31.0  ...         0.0         6.0         9.0   \n",
              "4         146.0    178.0  31.0  ...         0.0         7.0         9.0   \n",
              "...         ...      ...   ...  ...         ...         ...         ...   \n",
              "139525   3390.0  41676.0  31.0  ...         0.0         7.0        10.0   \n",
              "139526   3728.0   5474.0  31.0  ...         0.0        10.0        11.0   \n",
              "139527  14512.0  17134.0  31.0  ...         0.0        10.0         7.0   \n",
              "139528   3390.0  41676.0  31.0  ...         0.0        10.0         9.0   \n",
              "139529   1580.0  10168.0  31.0  ...         NaN         NaN         NaN   \n",
              "\n",
              "       ct_dst_ltm  ct_src_ ltm  ct_src_dport_ltm  ct_dst_sport_ltm  \\\n",
              "0             1.0          3.0               1.0               1.0   \n",
              "1             2.0          3.0               1.0               1.0   \n",
              "2             1.0          2.0               2.0               1.0   \n",
              "3             1.0          1.0               1.0               1.0   \n",
              "4             1.0          1.0               1.0               1.0   \n",
              "...           ...          ...               ...               ...   \n",
              "139525        2.0          2.0               1.0               1.0   \n",
              "139526        5.0          3.0               1.0               1.0   \n",
              "139527        4.0          2.0               1.0               1.0   \n",
              "139528        1.0          6.0               1.0               1.0   \n",
              "139529        NaN          NaN               NaN               NaN   \n",
              "\n",
              "        ct_dst_src_ltm  attack_cat  Label  \n",
              "0                  1.0      normal    0.0  \n",
              "1                  2.0      normal    0.0  \n",
              "2                  1.0      normal    0.0  \n",
              "3                  1.0      normal    0.0  \n",
              "4                  1.0      normal    0.0  \n",
              "...                ...         ...    ...  \n",
              "139525             2.0      normal    0.0  \n",
              "139526             3.0      normal    0.0  \n",
              "139527             1.0      normal    0.0  \n",
              "139528             1.0      normal    0.0  \n",
              "139529             NaN      normal    NaN  \n",
              "\n",
              "[139476 rows x 49 columns]"
            ],
            "text/html": [
              "\n",
              "  <div id=\"df-989a039f-52dd-4df3-a502-59f583e06c76\" class=\"colab-df-container\">\n",
              "    <div>\n",
              "<style scoped>\n",
              "    .dataframe tbody tr th:only-of-type {\n",
              "        vertical-align: middle;\n",
              "    }\n",
              "\n",
              "    .dataframe tbody tr th {\n",
              "        vertical-align: top;\n",
              "    }\n",
              "\n",
              "    .dataframe thead th {\n",
              "        text-align: right;\n",
              "    }\n",
              "</style>\n",
              "<table border=\"1\" class=\"dataframe\">\n",
              "  <thead>\n",
              "    <tr style=\"text-align: right;\">\n",
              "      <th></th>\n",
              "      <th>srcip</th>\n",
              "      <th>sport</th>\n",
              "      <th>dstip</th>\n",
              "      <th>dsport</th>\n",
              "      <th>proto</th>\n",
              "      <th>state</th>\n",
              "      <th>dur</th>\n",
              "      <th>sbytes</th>\n",
              "      <th>dbytes</th>\n",
              "      <th>sttl</th>\n",
              "      <th>...</th>\n",
              "      <th>ct_ftp_cmd</th>\n",
              "      <th>ct_srv_src</th>\n",
              "      <th>ct_srv_dst</th>\n",
              "      <th>ct_dst_ltm</th>\n",
              "      <th>ct_src_ ltm</th>\n",
              "      <th>ct_src_dport_ltm</th>\n",
              "      <th>ct_dst_sport_ltm</th>\n",
              "      <th>ct_dst_src_ltm</th>\n",
              "      <th>attack_cat</th>\n",
              "      <th>Label</th>\n",
              "    </tr>\n",
              "  </thead>\n",
              "  <tbody>\n",
              "    <tr>\n",
              "      <th>0</th>\n",
              "      <td>59.166.0.0</td>\n",
              "      <td>1390</td>\n",
              "      <td>149.171.126.6</td>\n",
              "      <td>53</td>\n",
              "      <td>udp</td>\n",
              "      <td>CON</td>\n",
              "      <td>0.001055</td>\n",
              "      <td>132.0</td>\n",
              "      <td>164.0</td>\n",
              "      <td>31.0</td>\n",
              "      <td>...</td>\n",
              "      <td>0.0</td>\n",
              "      <td>3.0</td>\n",
              "      <td>7.0</td>\n",
              "      <td>1.0</td>\n",
              "      <td>3.0</td>\n",
              "      <td>1.0</td>\n",
              "      <td>1.0</td>\n",
              "      <td>1.0</td>\n",
              "      <td>normal</td>\n",
              "      <td>0.0</td>\n",
              "    </tr>\n",
              "    <tr>\n",
              "      <th>1</th>\n",
              "      <td>59.166.0.0</td>\n",
              "      <td>33661</td>\n",
              "      <td>149.171.126.9</td>\n",
              "      <td>1024</td>\n",
              "      <td>udp</td>\n",
              "      <td>CON</td>\n",
              "      <td>0.036133</td>\n",
              "      <td>528.0</td>\n",
              "      <td>304.0</td>\n",
              "      <td>31.0</td>\n",
              "      <td>...</td>\n",
              "      <td>0.0</td>\n",
              "      <td>2.0</td>\n",
              "      <td>4.0</td>\n",
              "      <td>2.0</td>\n",
              "      <td>3.0</td>\n",
              "      <td>1.0</td>\n",
              "      <td>1.0</td>\n",
              "      <td>2.0</td>\n",
              "      <td>normal</td>\n",
              "      <td>0.0</td>\n",
              "    </tr>\n",
              "    <tr>\n",
              "      <th>2</th>\n",
              "      <td>59.166.0.6</td>\n",
              "      <td>1464</td>\n",
              "      <td>149.171.126.7</td>\n",
              "      <td>53</td>\n",
              "      <td>udp</td>\n",
              "      <td>CON</td>\n",
              "      <td>0.001119</td>\n",
              "      <td>146.0</td>\n",
              "      <td>178.0</td>\n",
              "      <td>31.0</td>\n",
              "      <td>...</td>\n",
              "      <td>0.0</td>\n",
              "      <td>12.0</td>\n",
              "      <td>8.0</td>\n",
              "      <td>1.0</td>\n",
              "      <td>2.0</td>\n",
              "      <td>2.0</td>\n",
              "      <td>1.0</td>\n",
              "      <td>1.0</td>\n",
              "      <td>normal</td>\n",
              "      <td>0.0</td>\n",
              "    </tr>\n",
              "    <tr>\n",
              "      <th>3</th>\n",
              "      <td>59.166.0.5</td>\n",
              "      <td>3593</td>\n",
              "      <td>149.171.126.5</td>\n",
              "      <td>53</td>\n",
              "      <td>udp</td>\n",
              "      <td>CON</td>\n",
              "      <td>0.001209</td>\n",
              "      <td>132.0</td>\n",
              "      <td>164.0</td>\n",
              "      <td>31.0</td>\n",
              "      <td>...</td>\n",
              "      <td>0.0</td>\n",
              "      <td>6.0</td>\n",
              "      <td>9.0</td>\n",
              "      <td>1.0</td>\n",
              "      <td>1.0</td>\n",
              "      <td>1.0</td>\n",
              "      <td>1.0</td>\n",
              "      <td>1.0</td>\n",
              "      <td>normal</td>\n",
              "      <td>0.0</td>\n",
              "    </tr>\n",
              "    <tr>\n",
              "      <th>4</th>\n",
              "      <td>59.166.0.3</td>\n",
              "      <td>49664</td>\n",
              "      <td>149.171.126.0</td>\n",
              "      <td>53</td>\n",
              "      <td>udp</td>\n",
              "      <td>CON</td>\n",
              "      <td>0.001169</td>\n",
              "      <td>146.0</td>\n",
              "      <td>178.0</td>\n",
              "      <td>31.0</td>\n",
              "      <td>...</td>\n",
              "      <td>0.0</td>\n",
              "      <td>7.0</td>\n",
              "      <td>9.0</td>\n",
              "      <td>1.0</td>\n",
              "      <td>1.0</td>\n",
              "      <td>1.0</td>\n",
              "      <td>1.0</td>\n",
              "      <td>1.0</td>\n",
              "      <td>normal</td>\n",
              "      <td>0.0</td>\n",
              "    </tr>\n",
              "    <tr>\n",
              "      <th>...</th>\n",
              "      <td>...</td>\n",
              "      <td>...</td>\n",
              "      <td>...</td>\n",
              "      <td>...</td>\n",
              "      <td>...</td>\n",
              "      <td>...</td>\n",
              "      <td>...</td>\n",
              "      <td>...</td>\n",
              "      <td>...</td>\n",
              "      <td>...</td>\n",
              "      <td>...</td>\n",
              "      <td>...</td>\n",
              "      <td>...</td>\n",
              "      <td>...</td>\n",
              "      <td>...</td>\n",
              "      <td>...</td>\n",
              "      <td>...</td>\n",
              "      <td>...</td>\n",
              "      <td>...</td>\n",
              "      <td>...</td>\n",
              "      <td>...</td>\n",
              "    </tr>\n",
              "    <tr>\n",
              "      <th>139525</th>\n",
              "      <td>59.166.0.0</td>\n",
              "      <td>52708</td>\n",
              "      <td>149.171.126.2</td>\n",
              "      <td>50651</td>\n",
              "      <td>tcp</td>\n",
              "      <td>FIN</td>\n",
              "      <td>0.020871</td>\n",
              "      <td>3390.0</td>\n",
              "      <td>41676.0</td>\n",
              "      <td>31.0</td>\n",
              "      <td>...</td>\n",
              "      <td>0.0</td>\n",
              "      <td>7.0</td>\n",
              "      <td>10.0</td>\n",
              "      <td>2.0</td>\n",
              "      <td>2.0</td>\n",
              "      <td>1.0</td>\n",
              "      <td>1.0</td>\n",
              "      <td>2.0</td>\n",
              "      <td>normal</td>\n",
              "      <td>0.0</td>\n",
              "    </tr>\n",
              "    <tr>\n",
              "      <th>139526</th>\n",
              "      <td>59.166.0.8</td>\n",
              "      <td>40084</td>\n",
              "      <td>149.171.126.4</td>\n",
              "      <td>22</td>\n",
              "      <td>tcp</td>\n",
              "      <td>FIN</td>\n",
              "      <td>0.126838</td>\n",
              "      <td>3728.0</td>\n",
              "      <td>5474.0</td>\n",
              "      <td>31.0</td>\n",
              "      <td>...</td>\n",
              "      <td>0.0</td>\n",
              "      <td>10.0</td>\n",
              "      <td>11.0</td>\n",
              "      <td>5.0</td>\n",
              "      <td>3.0</td>\n",
              "      <td>1.0</td>\n",
              "      <td>1.0</td>\n",
              "      <td>3.0</td>\n",
              "      <td>normal</td>\n",
              "      <td>0.0</td>\n",
              "    </tr>\n",
              "    <tr>\n",
              "      <th>139527</th>\n",
              "      <td>59.166.0.9</td>\n",
              "      <td>7663</td>\n",
              "      <td>149.171.126.8</td>\n",
              "      <td>22</td>\n",
              "      <td>tcp</td>\n",
              "      <td>FIN</td>\n",
              "      <td>0.094723</td>\n",
              "      <td>14512.0</td>\n",
              "      <td>17134.0</td>\n",
              "      <td>31.0</td>\n",
              "      <td>...</td>\n",
              "      <td>0.0</td>\n",
              "      <td>10.0</td>\n",
              "      <td>7.0</td>\n",
              "      <td>4.0</td>\n",
              "      <td>2.0</td>\n",
              "      <td>1.0</td>\n",
              "      <td>1.0</td>\n",
              "      <td>1.0</td>\n",
              "      <td>normal</td>\n",
              "      <td>0.0</td>\n",
              "    </tr>\n",
              "    <tr>\n",
              "      <th>139528</th>\n",
              "      <td>59.166.0.3</td>\n",
              "      <td>33662</td>\n",
              "      <td>149.171.126.0</td>\n",
              "      <td>31721</td>\n",
              "      <td>tcp</td>\n",
              "      <td>FIN</td>\n",
              "      <td>0.020988</td>\n",
              "      <td>3390.0</td>\n",
              "      <td>41676.0</td>\n",
              "      <td>31.0</td>\n",
              "      <td>...</td>\n",
              "      <td>0.0</td>\n",
              "      <td>10.0</td>\n",
              "      <td>9.0</td>\n",
              "      <td>1.0</td>\n",
              "      <td>6.0</td>\n",
              "      <td>1.0</td>\n",
              "      <td>1.0</td>\n",
              "      <td>1.0</td>\n",
              "      <td>normal</td>\n",
              "      <td>0.0</td>\n",
              "    </tr>\n",
              "    <tr>\n",
              "      <th>139529</th>\n",
              "      <td>59.166.0.4</td>\n",
              "      <td>62577</td>\n",
              "      <td>149.171.126.8</td>\n",
              "      <td>80</td>\n",
              "      <td>tcp</td>\n",
              "      <td>FIN</td>\n",
              "      <td>1.008934</td>\n",
              "      <td>1580.0</td>\n",
              "      <td>10168.0</td>\n",
              "      <td>31.0</td>\n",
              "      <td>...</td>\n",
              "      <td>NaN</td>\n",
              "      <td>NaN</td>\n",
              "      <td>NaN</td>\n",
              "      <td>NaN</td>\n",
              "      <td>NaN</td>\n",
              "      <td>NaN</td>\n",
              "      <td>NaN</td>\n",
              "      <td>NaN</td>\n",
              "      <td>normal</td>\n",
              "      <td>NaN</td>\n",
              "    </tr>\n",
              "  </tbody>\n",
              "</table>\n",
              "<p>139476 rows × 49 columns</p>\n",
              "</div>\n",
              "    <div class=\"colab-df-buttons\">\n",
              "\n",
              "  <div class=\"colab-df-container\">\n",
              "    <button class=\"colab-df-convert\" onclick=\"convertToInteractive('df-989a039f-52dd-4df3-a502-59f583e06c76')\"\n",
              "            title=\"Convert this dataframe to an interactive table.\"\n",
              "            style=\"display:none;\">\n",
              "\n",
              "  <svg xmlns=\"http://www.w3.org/2000/svg\" height=\"24px\" viewBox=\"0 -960 960 960\">\n",
              "    <path d=\"M120-120v-720h720v720H120Zm60-500h600v-160H180v160Zm220 220h160v-160H400v160Zm0 220h160v-160H400v160ZM180-400h160v-160H180v160Zm440 0h160v-160H620v160ZM180-180h160v-160H180v160Zm440 0h160v-160H620v160Z\"/>\n",
              "  </svg>\n",
              "    </button>\n",
              "\n",
              "  <style>\n",
              "    .colab-df-container {\n",
              "      display:flex;\n",
              "      gap: 12px;\n",
              "    }\n",
              "\n",
              "    .colab-df-convert {\n",
              "      background-color: #E8F0FE;\n",
              "      border: none;\n",
              "      border-radius: 50%;\n",
              "      cursor: pointer;\n",
              "      display: none;\n",
              "      fill: #1967D2;\n",
              "      height: 32px;\n",
              "      padding: 0 0 0 0;\n",
              "      width: 32px;\n",
              "    }\n",
              "\n",
              "    .colab-df-convert:hover {\n",
              "      background-color: #E2EBFA;\n",
              "      box-shadow: 0px 1px 2px rgba(60, 64, 67, 0.3), 0px 1px 3px 1px rgba(60, 64, 67, 0.15);\n",
              "      fill: #174EA6;\n",
              "    }\n",
              "\n",
              "    .colab-df-buttons div {\n",
              "      margin-bottom: 4px;\n",
              "    }\n",
              "\n",
              "    [theme=dark] .colab-df-convert {\n",
              "      background-color: #3B4455;\n",
              "      fill: #D2E3FC;\n",
              "    }\n",
              "\n",
              "    [theme=dark] .colab-df-convert:hover {\n",
              "      background-color: #434B5C;\n",
              "      box-shadow: 0px 1px 3px 1px rgba(0, 0, 0, 0.15);\n",
              "      filter: drop-shadow(0px 1px 2px rgba(0, 0, 0, 0.3));\n",
              "      fill: #FFFFFF;\n",
              "    }\n",
              "  </style>\n",
              "\n",
              "    <script>\n",
              "      const buttonEl =\n",
              "        document.querySelector('#df-989a039f-52dd-4df3-a502-59f583e06c76 button.colab-df-convert');\n",
              "      buttonEl.style.display =\n",
              "        google.colab.kernel.accessAllowed ? 'block' : 'none';\n",
              "\n",
              "      async function convertToInteractive(key) {\n",
              "        const element = document.querySelector('#df-989a039f-52dd-4df3-a502-59f583e06c76');\n",
              "        const dataTable =\n",
              "          await google.colab.kernel.invokeFunction('convertToInteractive',\n",
              "                                                    [key], {});\n",
              "        if (!dataTable) return;\n",
              "\n",
              "        const docLinkHtml = 'Like what you see? Visit the ' +\n",
              "          '<a target=\"_blank\" href=https://colab.research.google.com/notebooks/data_table.ipynb>data table notebook</a>'\n",
              "          + ' to learn more about interactive tables.';\n",
              "        element.innerHTML = '';\n",
              "        dataTable['output_type'] = 'display_data';\n",
              "        await google.colab.output.renderOutput(dataTable, element);\n",
              "        const docLink = document.createElement('div');\n",
              "        docLink.innerHTML = docLinkHtml;\n",
              "        element.appendChild(docLink);\n",
              "      }\n",
              "    </script>\n",
              "  </div>\n",
              "\n",
              "\n",
              "<div id=\"df-95d2ab33-9b88-4291-949c-e727333b8e22\">\n",
              "  <button class=\"colab-df-quickchart\" onclick=\"quickchart('df-95d2ab33-9b88-4291-949c-e727333b8e22')\"\n",
              "            title=\"Suggest charts\"\n",
              "            style=\"display:none;\">\n",
              "\n",
              "<svg xmlns=\"http://www.w3.org/2000/svg\" height=\"24px\"viewBox=\"0 0 24 24\"\n",
              "     width=\"24px\">\n",
              "    <g>\n",
              "        <path d=\"M19 3H5c-1.1 0-2 .9-2 2v14c0 1.1.9 2 2 2h14c1.1 0 2-.9 2-2V5c0-1.1-.9-2-2-2zM9 17H7v-7h2v7zm4 0h-2V7h2v10zm4 0h-2v-4h2v4z\"/>\n",
              "    </g>\n",
              "</svg>\n",
              "  </button>\n",
              "\n",
              "<style>\n",
              "  .colab-df-quickchart {\n",
              "      --bg-color: #E8F0FE;\n",
              "      --fill-color: #1967D2;\n",
              "      --hover-bg-color: #E2EBFA;\n",
              "      --hover-fill-color: #174EA6;\n",
              "      --disabled-fill-color: #AAA;\n",
              "      --disabled-bg-color: #DDD;\n",
              "  }\n",
              "\n",
              "  [theme=dark] .colab-df-quickchart {\n",
              "      --bg-color: #3B4455;\n",
              "      --fill-color: #D2E3FC;\n",
              "      --hover-bg-color: #434B5C;\n",
              "      --hover-fill-color: #FFFFFF;\n",
              "      --disabled-bg-color: #3B4455;\n",
              "      --disabled-fill-color: #666;\n",
              "  }\n",
              "\n",
              "  .colab-df-quickchart {\n",
              "    background-color: var(--bg-color);\n",
              "    border: none;\n",
              "    border-radius: 50%;\n",
              "    cursor: pointer;\n",
              "    display: none;\n",
              "    fill: var(--fill-color);\n",
              "    height: 32px;\n",
              "    padding: 0;\n",
              "    width: 32px;\n",
              "  }\n",
              "\n",
              "  .colab-df-quickchart:hover {\n",
              "    background-color: var(--hover-bg-color);\n",
              "    box-shadow: 0 1px 2px rgba(60, 64, 67, 0.3), 0 1px 3px 1px rgba(60, 64, 67, 0.15);\n",
              "    fill: var(--button-hover-fill-color);\n",
              "  }\n",
              "\n",
              "  .colab-df-quickchart-complete:disabled,\n",
              "  .colab-df-quickchart-complete:disabled:hover {\n",
              "    background-color: var(--disabled-bg-color);\n",
              "    fill: var(--disabled-fill-color);\n",
              "    box-shadow: none;\n",
              "  }\n",
              "\n",
              "  .colab-df-spinner {\n",
              "    border: 2px solid var(--fill-color);\n",
              "    border-color: transparent;\n",
              "    border-bottom-color: var(--fill-color);\n",
              "    animation:\n",
              "      spin 1s steps(1) infinite;\n",
              "  }\n",
              "\n",
              "  @keyframes spin {\n",
              "    0% {\n",
              "      border-color: transparent;\n",
              "      border-bottom-color: var(--fill-color);\n",
              "      border-left-color: var(--fill-color);\n",
              "    }\n",
              "    20% {\n",
              "      border-color: transparent;\n",
              "      border-left-color: var(--fill-color);\n",
              "      border-top-color: var(--fill-color);\n",
              "    }\n",
              "    30% {\n",
              "      border-color: transparent;\n",
              "      border-left-color: var(--fill-color);\n",
              "      border-top-color: var(--fill-color);\n",
              "      border-right-color: var(--fill-color);\n",
              "    }\n",
              "    40% {\n",
              "      border-color: transparent;\n",
              "      border-right-color: var(--fill-color);\n",
              "      border-top-color: var(--fill-color);\n",
              "    }\n",
              "    60% {\n",
              "      border-color: transparent;\n",
              "      border-right-color: var(--fill-color);\n",
              "    }\n",
              "    80% {\n",
              "      border-color: transparent;\n",
              "      border-right-color: var(--fill-color);\n",
              "      border-bottom-color: var(--fill-color);\n",
              "    }\n",
              "    90% {\n",
              "      border-color: transparent;\n",
              "      border-bottom-color: var(--fill-color);\n",
              "    }\n",
              "  }\n",
              "</style>\n",
              "\n",
              "  <script>\n",
              "    async function quickchart(key) {\n",
              "      const quickchartButtonEl =\n",
              "        document.querySelector('#' + key + ' button');\n",
              "      quickchartButtonEl.disabled = true;  // To prevent multiple clicks.\n",
              "      quickchartButtonEl.classList.add('colab-df-spinner');\n",
              "      try {\n",
              "        const charts = await google.colab.kernel.invokeFunction(\n",
              "            'suggestCharts', [key], {});\n",
              "      } catch (error) {\n",
              "        console.error('Error during call to suggestCharts:', error);\n",
              "      }\n",
              "      quickchartButtonEl.classList.remove('colab-df-spinner');\n",
              "      quickchartButtonEl.classList.add('colab-df-quickchart-complete');\n",
              "    }\n",
              "    (() => {\n",
              "      let quickchartButtonEl =\n",
              "        document.querySelector('#df-95d2ab33-9b88-4291-949c-e727333b8e22 button');\n",
              "      quickchartButtonEl.style.display =\n",
              "        google.colab.kernel.accessAllowed ? 'block' : 'none';\n",
              "    })();\n",
              "  </script>\n",
              "</div>\n",
              "    </div>\n",
              "  </div>\n"
            ],
            "application/vnd.google.colaboratory.intrinsic+json": {
              "type": "dataframe",
              "variable_name": "merged_df_copy"
            }
          },
          "metadata": {},
          "execution_count": 147
        }
      ]
    },
    {
      "cell_type": "code",
      "source": [
        "# Get the list of categorical columns\n",
        "categorical_columns = merged_df_copy.select_dtypes(include=['object', 'category']).columns.tolist()\n",
        "\n",
        "# Print the list of categorical columns\n",
        "print(\"Categorical columns:\", categorical_columns)\n"
      ],
      "metadata": {
        "colab": {
          "base_uri": "https://localhost:8080/"
        },
        "id": "Ljvcc0UOFtH1",
        "outputId": "6eb495f0-6ccd-4049-e45a-5dec8d43eac6"
      },
      "execution_count": null,
      "outputs": [
        {
          "output_type": "stream",
          "name": "stdout",
          "text": [
            "Categorical columns: ['srcip', 'sport', 'dstip', 'dsport', 'proto', 'state', 'service', 'attack_cat']\n"
          ]
        }
      ]
    },
    {
      "cell_type": "code",
      "source": [
        "from sklearn.preprocessing import OrdinalEncoder\n",
        "encoder = OrdinalEncoder()\n",
        "\n",
        "# Encode the \"proto\" column\n",
        "merged_df_copy.loc[:, 'proto'] = np.array(encoder.fit_transform(merged_df_copy.loc[:, 'proto'].to_numpy().reshape(-1, 1))) # For Proto\n",
        "merged_df_copy.loc[:, 'state'] = np.array(encoder.fit_transform(merged_df_copy.loc[:, 'state'].to_numpy().reshape(-1, 1))) # For State\n",
        "merged_df_copy.loc[:, 'attack_cat'] = np.array(encoder.fit_transform(merged_df_copy.loc[:, 'attack_cat'].to_numpy().reshape(-1, 1))) # For Attack_Cat\n",
        "merged_df_copy.loc[:, 'service'] = np.array(encoder.fit_transform(merged_df_copy.loc[:, 'service'].to_numpy().reshape(-1, 1))) # For service"
      ],
      "metadata": {
        "id": "rGX4bVbazMAL"
      },
      "execution_count": null,
      "outputs": []
    },
    {
      "cell_type": "code",
      "source": [
        "len(merged_df_copy)"
      ],
      "metadata": {
        "colab": {
          "base_uri": "https://localhost:8080/"
        },
        "id": "adE_35e7ulmt",
        "outputId": "bfa962a1-f741-48e1-96c7-9ae2b864c306"
      },
      "execution_count": null,
      "outputs": [
        {
          "output_type": "execute_result",
          "data": {
            "text/plain": [
              "139476"
            ]
          },
          "metadata": {},
          "execution_count": 192
        }
      ]
    },
    {
      "cell_type": "code",
      "source": [
        "X[:, 4:5]"
      ],
      "metadata": {
        "colab": {
          "base_uri": "https://localhost:8080/"
        },
        "id": "BqbkfuPazV17",
        "outputId": "3a9a3a18-1095-4f88-b46e-73f3db2f4618"
      },
      "execution_count": null,
      "outputs": [
        {
          "output_type": "execute_result",
          "data": {
            "text/plain": [
              "array([[120.0],\n",
              "       [120.0],\n",
              "       [120.0],\n",
              "       ...,\n",
              "       [114.0],\n",
              "       [114.0],\n",
              "       [114.0]], dtype=object)"
            ]
          },
          "metadata": {},
          "execution_count": 141
        }
      ]
    },
    {
      "cell_type": "code",
      "source": [
        "X[:, 5:6]"
      ],
      "metadata": {
        "colab": {
          "base_uri": "https://localhost:8080/"
        },
        "id": "n8nCl2ejpeZf",
        "outputId": "646b7db3-55e0-422c-ffc5-76e7c5b81403"
      },
      "execution_count": null,
      "outputs": [
        {
          "output_type": "execute_result",
          "data": {
            "text/plain": [
              "array([[2.0],\n",
              "       [2.0],\n",
              "       [2.0],\n",
              "       ...,\n",
              "       [4.0],\n",
              "       [4.0],\n",
              "       [4.0]], dtype=object)"
            ]
          },
          "metadata": {},
          "execution_count": 142
        }
      ]
    },
    {
      "cell_type": "code",
      "source": [
        "X[:, 14:15]"
      ],
      "metadata": {
        "colab": {
          "base_uri": "https://localhost:8080/"
        },
        "id": "rlTWxHp4J1fq",
        "outputId": "72e167bb-f4f3-4996-c490-f2172146caee"
      },
      "execution_count": null,
      "outputs": [
        {
          "output_type": "execute_result",
          "data": {
            "text/plain": [
              "array([[54040.0],\n",
              "       [34189.0],\n",
              "       [54726.0],\n",
              "       ...,\n",
              "       [74073.0],\n",
              "       [74844.0],\n",
              "       [14112.0]], dtype=object)"
            ]
          },
          "metadata": {},
          "execution_count": 143
        }
      ]
    },
    {
      "cell_type": "code",
      "source": [
        "X[:, 47]"
      ],
      "metadata": {
        "colab": {
          "base_uri": "https://localhost:8080/"
        },
        "id": "MB4v_k62wk4n",
        "outputId": "fd183504-4a2c-4a33-ef9f-0b2091bc7a4b"
      },
      "execution_count": null,
      "outputs": [
        {
          "output_type": "execute_result",
          "data": {
            "text/plain": [
              "array([9.0, 9.0, 9.0, ..., 9.0, 9.0, 9.0], dtype=object)"
            ]
          },
          "metadata": {},
          "execution_count": 144
        }
      ]
    },
    {
      "cell_type": "code",
      "source": [
        "# Find the index of the 'attack_cat' column\n",
        "attack_cat_index = merged_df.columns.get_loc('service')\n",
        "print(attack_cat_index)"
      ],
      "metadata": {
        "colab": {
          "base_uri": "https://localhost:8080/"
        },
        "id": "8YZhYnQUGjHo",
        "outputId": "2ceccd7d-3243-4244-d784-142d1dba9caf"
      },
      "execution_count": null,
      "outputs": [
        {
          "output_type": "stream",
          "name": "stdout",
          "text": [
            "14\n"
          ]
        }
      ]
    },
    {
      "cell_type": "code",
      "source": [
        "# Encode the \"attack_cat\" column\n",
        "X[:, 47:48] = np.array(encoder.fit_transform(X[:, 47:48]))\n"
      ],
      "metadata": {
        "id": "IDjaG1UHGzWy"
      },
      "execution_count": null,
      "outputs": []
    },
    {
      "cell_type": "code",
      "source": [
        "X[:, 47]"
      ],
      "metadata": {
        "colab": {
          "base_uri": "https://localhost:8080/"
        },
        "id": "ddj2qrGRHNhQ",
        "outputId": "1acb081c-5ae5-4a79-98af-1703e95187f5"
      },
      "execution_count": null,
      "outputs": [
        {
          "output_type": "execute_result",
          "data": {
            "text/plain": [
              "array([9.0, 9.0, 9.0, ..., 9.0, 9.0, 9.0], dtype=object)"
            ]
          },
          "metadata": {},
          "execution_count": 150
        }
      ]
    },
    {
      "cell_type": "code",
      "source": [
        "# # Count the number of NaN values in the 'attack_cat' column\n",
        "# nan_count = np.sum(pd.isnull(X[:, 47]))\n",
        "\n",
        "# # Print the count of NaN values\n",
        "# print(\"Number of NaN values in the 'attack_cat' column:\", nan_count)\n"
      ],
      "metadata": {
        "id": "3ZnefoHtwT2P"
      },
      "execution_count": null,
      "outputs": []
    },
    {
      "cell_type": "code",
      "source": [
        "\n"
      ],
      "metadata": {
        "id": "3G9ukB7IxvRT"
      },
      "execution_count": null,
      "outputs": []
    },
    {
      "cell_type": "code",
      "source": [],
      "metadata": {
        "id": "gUj-5WKlyBK8"
      },
      "execution_count": null,
      "outputs": []
    },
    {
      "cell_type": "code",
      "source": [
        "# from sklearn.preprocessing import OrdinalEncoder\n",
        "\n",
        "# # List of columns to encode\n",
        "# columns_to_encode = ['srcip', 'sport', 'dstip', 'proto', 'state', 'service', 'attack_cat']\n",
        "\n",
        "# # Convert the columns to strings\n",
        "# data[columns_to_encode] = data[columns_to_encode].astype(str)\n",
        "\n",
        "# # Initialize the OrdinalEncoder\n",
        "# encoder = OrdinalEncoder()\n",
        "\n",
        "# # Fit-transform the encoder on the specified columns in 'data' DataFrame\n",
        "# data[columns_to_encode] = encoder.fit_transform(data[columns_to_encode])\n",
        "\n",
        "# # Display the encoded DataFrame\n",
        "# print(data)\n"
      ],
      "metadata": {
        "id": "jw9aePwrHdJy"
      },
      "execution_count": null,
      "outputs": []
    },
    {
      "cell_type": "code",
      "source": [
        "# # Checking the Unique value counts of categorical columns: srcip, dstip, dsport, state, proto, and service\n",
        "\n",
        "# # List of columns\n",
        "# columns_to_check = ['srcip', 'dstip', 'dsport', 'state', 'proto', 'service']\n",
        "\n",
        "# # Print count of unique variables for each column\n",
        "# for column in columns_to_check:\n",
        "#     unique_count = data[column].nunique()\n",
        "#     print(f\"Unique count of variables in '{column}': {unique_count}\")"
      ],
      "metadata": {
        "id": "DA0VJTGVHdGw"
      },
      "execution_count": null,
      "outputs": []
    },
    {
      "cell_type": "code",
      "source": [
        "# print(data['state'].unique())"
      ],
      "metadata": {
        "id": "cdnNfWDoNj1r"
      },
      "execution_count": null,
      "outputs": []
    },
    {
      "cell_type": "code",
      "source": [
        "# print(data['proto'].unique())"
      ],
      "metadata": {
        "id": "p5YSHqmDNvr1"
      },
      "execution_count": null,
      "outputs": []
    },
    {
      "cell_type": "code",
      "source": [
        "# print(data['attack_cat'].unique())"
      ],
      "metadata": {
        "id": "C4X0-Uf3NvoI"
      },
      "execution_count": null,
      "outputs": []
    },
    {
      "cell_type": "code",
      "source": [],
      "metadata": {
        "id": "vOikcipDz0W_"
      },
      "execution_count": null,
      "outputs": []
    },
    {
      "cell_type": "code",
      "source": [
        "# from sklearn.compose import ColumnTransformer\n",
        "# from sklearn.preprocessing import OneHotEncoder\n",
        "\n",
        "# # Define the ColumnTransformer\n",
        "# ct = ColumnTransformer(transformers=[('encoder', OneHotEncoder(), [0, 1])], remainder='passthrough')\n",
        "\n",
        "# # Apply the transformation to X\n",
        "# # X = np.array(ct.fit_transform(X))\n",
        "# merged_df_copy.loc[:, ('srcip', 'dstip')] = np.array(ct.fit_transform(merged_df_copy.loc[:, ('srcip', 'dstip')]))"
      ],
      "metadata": {
        "id": "3C7aUQ8cRdH5"
      },
      "execution_count": null,
      "outputs": []
    },
    {
      "cell_type": "code",
      "source": [
        "# from sklearn.compose import ColumnTransformer\n",
        "# from sklearn.preprocessing import OneHotEncoder\n",
        "\n",
        "# # Define the ColumnTransformer\n",
        "# ct = ColumnTransformer(transformers=[('encoder', OneHotEncoder(), ['srcip', 'dstip'])], remainder='passthrough')\n",
        "\n",
        "# # Apply the transformation to the specified columns\n",
        "# merged_df_copy_encoded = pd.DataFrame(ct.fit_transform(merged_df_copy), columns=ct.get_feature_names_out(['srcip', 'dstip']) + list(merged_df_copy.columns[2:]))\n",
        "\n",
        "# # Display the encoded DataFrame\n",
        "# print(merged_df_copy_encoded)\n"
      ],
      "metadata": {
        "id": "5QzJvKOf1BvV"
      },
      "execution_count": null,
      "outputs": []
    },
    {
      "cell_type": "code",
      "source": [
        "# from sklearn.preprocessing import OneHotEncoder\n",
        "\n",
        "# # Initialize OneHotEncoder\n",
        "# encoder = OneHotEncoder()\n",
        "\n",
        "# # Encode the specified columns\n",
        "# encoded_columns = encoder.fit_transform(merged_df_copy[['srcip', 'dstip']])"
      ],
      "metadata": {
        "id": "FPSOJRQu2YoV"
      },
      "execution_count": null,
      "outputs": []
    },
    {
      "cell_type": "code",
      "source": [
        "# encoded_columns[0]"
      ],
      "metadata": {
        "colab": {
          "base_uri": "https://localhost:8080/"
        },
        "id": "j3ND6qZb2nc4",
        "outputId": "ad5a9a3f-cdcb-479c-f54d-87f36e95699a"
      },
      "execution_count": null,
      "outputs": [
        {
          "output_type": "execute_result",
          "data": {
            "text/plain": [
              "<1x81 sparse matrix of type '<class 'numpy.float64'>'\n",
              "\twith 2 stored elements in Compressed Sparse Row format>"
            ]
          },
          "metadata": {},
          "execution_count": 225
        }
      ]
    },
    {
      "cell_type": "code",
      "source": [
        "# # Replace the original columns with the encoded values\n",
        "# merged_df_copy[['srcip', 'dstip']] = encoded_columns.toarray()\n",
        "\n",
        "# # Display the updated DataFrame\n",
        "# print(merged_df_copy)"
      ],
      "metadata": {
        "id": "cUgzbRYs2nmD"
      },
      "execution_count": null,
      "outputs": []
    },
    {
      "cell_type": "code",
      "source": [
        "# from sklearn.preprocessing import OneHotEncoder\n",
        "\n",
        "# # Initialize OneHotEncoder\n",
        "# encoder = OneHotEncoder()\n",
        "\n",
        "# # Encode the specified columns\n",
        "# encoded_columns = encoder.fit_transform(merged_df_copy[['srcip', 'dstip']])\n",
        "\n",
        "# # Convert the encoded values to a DataFrame\n",
        "# encoded_df = pd.DataFrame(encoded_columns.toarray(), columns=encoder.get_feature_names_out(['srcip', 'dstip']))\n",
        "\n",
        "# # Replace the original columns with the encoded values\n",
        "# merged_df_copy.drop(columns=['srcip', 'dstip'], inplace=True)\n",
        "# merged_df_copy = pd.concat([merged_df_copy, encoded_df], axis=1)\n",
        "\n",
        "# # Display the updated DataFrame\n",
        "# print(merged_df_copy)"
      ],
      "metadata": {
        "id": "I_MHNrX43nNc"
      },
      "execution_count": null,
      "outputs": []
    },
    {
      "cell_type": "code",
      "source": [
        "from sklearn.preprocessing import OneHotEncoder\n",
        "\n",
        "# Initialize OneHotEncoder\n",
        "encoder = OneHotEncoder()\n",
        "\n",
        "# Encode the specified columns\n",
        "encoded_columns = encoder.fit_transform(merged_df_copy[['srcip', 'dstip']])\n",
        "\n",
        "# Get the encoded column names\n",
        "encoded_column_names = encoder.get_feature_names_out(['srcip', 'dstip'])\n",
        "\n",
        "# Convert the encoded values to a DataFrame\n",
        "encoded_df = pd.DataFrame(encoded_columns.toarray(), columns=encoded_column_names)\n",
        "\n",
        "# Replace the original 'srcip' column with the corresponding encoded values\n",
        "merged_df_copy['srcip'] = encoded_df.iloc[:, :len(encoder.categories_[0])]\n",
        "\n",
        "# Replace the original 'dstip' column with the corresponding encoded values\n",
        "merged_df_copy['dstip'] = encoded_df.iloc[:, len(encoder.categories_[0]):]\n",
        "\n",
        "# Display the updated DataFrame\n",
        "print(merged_df_copy)\n"
      ],
      "metadata": {
        "colab": {
          "base_uri": "https://localhost:8080/",
          "height": 356
        },
        "id": "BG7ldNm96h3k",
        "outputId": "1654d5cd-3e78-4612-88f0-8d56adcfe136"
      },
      "execution_count": null,
      "outputs": [
        {
          "output_type": "error",
          "ename": "ValueError",
          "evalue": "Columns must be same length as key",
          "traceback": [
            "\u001b[0;31m---------------------------------------------------------------------------\u001b[0m",
            "\u001b[0;31mValueError\u001b[0m                                Traceback (most recent call last)",
            "\u001b[0;32m<ipython-input-239-e5004e58c6c5>\u001b[0m in \u001b[0;36m<cell line: 16>\u001b[0;34m()\u001b[0m\n\u001b[1;32m     14\u001b[0m \u001b[0;34m\u001b[0m\u001b[0m\n\u001b[1;32m     15\u001b[0m \u001b[0;31m# Replace the original 'srcip' column with the corresponding encoded values\u001b[0m\u001b[0;34m\u001b[0m\u001b[0;34m\u001b[0m\u001b[0m\n\u001b[0;32m---> 16\u001b[0;31m \u001b[0mmerged_df_copy\u001b[0m\u001b[0;34m[\u001b[0m\u001b[0;34m'srcip'\u001b[0m\u001b[0;34m]\u001b[0m \u001b[0;34m=\u001b[0m \u001b[0mencoded_df\u001b[0m\u001b[0;34m.\u001b[0m\u001b[0miloc\u001b[0m\u001b[0;34m[\u001b[0m\u001b[0;34m:\u001b[0m\u001b[0;34m,\u001b[0m \u001b[0;34m:\u001b[0m\u001b[0mlen\u001b[0m\u001b[0;34m(\u001b[0m\u001b[0mencoder\u001b[0m\u001b[0;34m.\u001b[0m\u001b[0mcategories_\u001b[0m\u001b[0;34m[\u001b[0m\u001b[0;36m0\u001b[0m\u001b[0;34m]\u001b[0m\u001b[0;34m)\u001b[0m\u001b[0;34m]\u001b[0m\u001b[0;34m\u001b[0m\u001b[0;34m\u001b[0m\u001b[0m\n\u001b[0m\u001b[1;32m     17\u001b[0m \u001b[0;34m\u001b[0m\u001b[0m\n\u001b[1;32m     18\u001b[0m \u001b[0;31m# Replace the original 'dstip' column with the corresponding encoded values\u001b[0m\u001b[0;34m\u001b[0m\u001b[0;34m\u001b[0m\u001b[0m\n",
            "\u001b[0;32m/usr/local/lib/python3.10/dist-packages/pandas/core/frame.py\u001b[0m in \u001b[0;36m__setitem__\u001b[0;34m(self, key, value)\u001b[0m\n\u001b[1;32m   3938\u001b[0m             \u001b[0mself\u001b[0m\u001b[0;34m.\u001b[0m\u001b[0m_setitem_array\u001b[0m\u001b[0;34m(\u001b[0m\u001b[0mkey\u001b[0m\u001b[0;34m,\u001b[0m \u001b[0mvalue\u001b[0m\u001b[0;34m)\u001b[0m\u001b[0;34m\u001b[0m\u001b[0;34m\u001b[0m\u001b[0m\n\u001b[1;32m   3939\u001b[0m         \u001b[0;32melif\u001b[0m \u001b[0misinstance\u001b[0m\u001b[0;34m(\u001b[0m\u001b[0mvalue\u001b[0m\u001b[0;34m,\u001b[0m \u001b[0mDataFrame\u001b[0m\u001b[0;34m)\u001b[0m\u001b[0;34m:\u001b[0m\u001b[0;34m\u001b[0m\u001b[0;34m\u001b[0m\u001b[0m\n\u001b[0;32m-> 3940\u001b[0;31m             \u001b[0mself\u001b[0m\u001b[0;34m.\u001b[0m\u001b[0m_set_item_frame_value\u001b[0m\u001b[0;34m(\u001b[0m\u001b[0mkey\u001b[0m\u001b[0;34m,\u001b[0m \u001b[0mvalue\u001b[0m\u001b[0;34m)\u001b[0m\u001b[0;34m\u001b[0m\u001b[0;34m\u001b[0m\u001b[0m\n\u001b[0m\u001b[1;32m   3941\u001b[0m         elif (\n\u001b[1;32m   3942\u001b[0m             \u001b[0mis_list_like\u001b[0m\u001b[0;34m(\u001b[0m\u001b[0mvalue\u001b[0m\u001b[0;34m)\u001b[0m\u001b[0;34m\u001b[0m\u001b[0;34m\u001b[0m\u001b[0m\n",
            "\u001b[0;32m/usr/local/lib/python3.10/dist-packages/pandas/core/frame.py\u001b[0m in \u001b[0;36m_set_item_frame_value\u001b[0;34m(self, key, value)\u001b[0m\n\u001b[1;32m   4067\u001b[0m             \u001b[0mlen_cols\u001b[0m \u001b[0;34m=\u001b[0m \u001b[0;36m1\u001b[0m \u001b[0;32mif\u001b[0m \u001b[0mis_scalar\u001b[0m\u001b[0;34m(\u001b[0m\u001b[0mcols\u001b[0m\u001b[0;34m)\u001b[0m \u001b[0;32mor\u001b[0m \u001b[0misinstance\u001b[0m\u001b[0;34m(\u001b[0m\u001b[0mcols\u001b[0m\u001b[0;34m,\u001b[0m \u001b[0mtuple\u001b[0m\u001b[0;34m)\u001b[0m \u001b[0;32melse\u001b[0m \u001b[0mlen\u001b[0m\u001b[0;34m(\u001b[0m\u001b[0mcols\u001b[0m\u001b[0;34m)\u001b[0m\u001b[0;34m\u001b[0m\u001b[0;34m\u001b[0m\u001b[0m\n\u001b[1;32m   4068\u001b[0m             \u001b[0;32mif\u001b[0m \u001b[0mlen_cols\u001b[0m \u001b[0;34m!=\u001b[0m \u001b[0mlen\u001b[0m\u001b[0;34m(\u001b[0m\u001b[0mvalue\u001b[0m\u001b[0;34m.\u001b[0m\u001b[0mcolumns\u001b[0m\u001b[0;34m)\u001b[0m\u001b[0;34m:\u001b[0m\u001b[0;34m\u001b[0m\u001b[0;34m\u001b[0m\u001b[0m\n\u001b[0;32m-> 4069\u001b[0;31m                 \u001b[0;32mraise\u001b[0m \u001b[0mValueError\u001b[0m\u001b[0;34m(\u001b[0m\u001b[0;34m\"Columns must be same length as key\"\u001b[0m\u001b[0;34m)\u001b[0m\u001b[0;34m\u001b[0m\u001b[0;34m\u001b[0m\u001b[0m\n\u001b[0m\u001b[1;32m   4070\u001b[0m \u001b[0;34m\u001b[0m\u001b[0m\n\u001b[1;32m   4071\u001b[0m             \u001b[0;31m# align right-hand-side columns if self.columns\u001b[0m\u001b[0;34m\u001b[0m\u001b[0;34m\u001b[0m\u001b[0m\n",
            "\u001b[0;31mValueError\u001b[0m: Columns must be same length as key"
          ]
        }
      ]
    },
    {
      "cell_type": "code",
      "source": [
        "len(merged_df_copy.columns)"
      ],
      "metadata": {
        "colab": {
          "base_uri": "https://localhost:8080/"
        },
        "id": "VenDCtmt3nnC",
        "outputId": "2e2d99f6-1bb0-4c96-8aed-c0b8f984076a"
      },
      "execution_count": null,
      "outputs": [
        {
          "output_type": "execute_result",
          "data": {
            "text/plain": [
              "128"
            ]
          },
          "metadata": {},
          "execution_count": 232
        }
      ]
    },
    {
      "cell_type": "code",
      "source": [
        "merged_df_copy"
      ],
      "metadata": {
        "colab": {
          "base_uri": "https://localhost:8080/",
          "height": 1000
        },
        "id": "sdLhajoPyFVo",
        "outputId": "f7c6ba49-ffa0-40d1-f22e-ba60f78534e7"
      },
      "execution_count": null,
      "outputs": [
        {
          "output_type": "execute_result",
          "data": {
            "text/plain": [
              "                                                    srcip  sport  \\\n",
              "0         (0, 29)\\t1.0\\n  (0, 59)\\t1.0\\n  (1, 29)\\t1.0...   1390   \n",
              "1         (0, 29)\\t1.0\\n  (0, 59)\\t1.0\\n  (1, 29)\\t1.0...  33661   \n",
              "2         (0, 29)\\t1.0\\n  (0, 59)\\t1.0\\n  (1, 29)\\t1.0...   1464   \n",
              "3         (0, 29)\\t1.0\\n  (0, 59)\\t1.0\\n  (1, 29)\\t1.0...   3593   \n",
              "4         (0, 29)\\t1.0\\n  (0, 59)\\t1.0\\n  (1, 29)\\t1.0...  49664   \n",
              "...                                                   ...    ...   \n",
              "139525    (0, 29)\\t1.0\\n  (0, 59)\\t1.0\\n  (1, 29)\\t1.0...  52708   \n",
              "139526    (0, 29)\\t1.0\\n  (0, 59)\\t1.0\\n  (1, 29)\\t1.0...  40084   \n",
              "139527    (0, 29)\\t1.0\\n  (0, 59)\\t1.0\\n  (1, 29)\\t1.0...   7663   \n",
              "139528    (0, 29)\\t1.0\\n  (0, 59)\\t1.0\\n  (1, 29)\\t1.0...  33662   \n",
              "139529    (0, 29)\\t1.0\\n  (0, 59)\\t1.0\\n  (1, 29)\\t1.0...  62577   \n",
              "\n",
              "                                                    dstip dsport proto state  \\\n",
              "0         (0, 29)\\t1.0\\n  (0, 59)\\t1.0\\n  (1, 29)\\t1.0...     53   udp   CON   \n",
              "1         (0, 29)\\t1.0\\n  (0, 59)\\t1.0\\n  (1, 29)\\t1.0...   1024   udp   CON   \n",
              "2         (0, 29)\\t1.0\\n  (0, 59)\\t1.0\\n  (1, 29)\\t1.0...     53   udp   CON   \n",
              "3         (0, 29)\\t1.0\\n  (0, 59)\\t1.0\\n  (1, 29)\\t1.0...     53   udp   CON   \n",
              "4         (0, 29)\\t1.0\\n  (0, 59)\\t1.0\\n  (1, 29)\\t1.0...     53   udp   CON   \n",
              "...                                                   ...    ...   ...   ...   \n",
              "139525    (0, 29)\\t1.0\\n  (0, 59)\\t1.0\\n  (1, 29)\\t1.0...  50651   tcp   FIN   \n",
              "139526    (0, 29)\\t1.0\\n  (0, 59)\\t1.0\\n  (1, 29)\\t1.0...     22   tcp   FIN   \n",
              "139527    (0, 29)\\t1.0\\n  (0, 59)\\t1.0\\n  (1, 29)\\t1.0...     22   tcp   FIN   \n",
              "139528    (0, 29)\\t1.0\\n  (0, 59)\\t1.0\\n  (1, 29)\\t1.0...  31721   tcp   FIN   \n",
              "139529    (0, 29)\\t1.0\\n  (0, 59)\\t1.0\\n  (1, 29)\\t1.0...     80   tcp   FIN   \n",
              "\n",
              "             dur   sbytes   dbytes  sttl  ...  ct_ftp_cmd  ct_srv_src  \\\n",
              "0       0.001055    132.0    164.0  31.0  ...         0.0         3.0   \n",
              "1       0.036133    528.0    304.0  31.0  ...         0.0         2.0   \n",
              "2       0.001119    146.0    178.0  31.0  ...         0.0        12.0   \n",
              "3       0.001209    132.0    164.0  31.0  ...         0.0         6.0   \n",
              "4       0.001169    146.0    178.0  31.0  ...         0.0         7.0   \n",
              "...          ...      ...      ...   ...  ...         ...         ...   \n",
              "139525  0.020871   3390.0  41676.0  31.0  ...         0.0         7.0   \n",
              "139526  0.126838   3728.0   5474.0  31.0  ...         0.0        10.0   \n",
              "139527  0.094723  14512.0  17134.0  31.0  ...         0.0        10.0   \n",
              "139528  0.020988   3390.0  41676.0  31.0  ...         0.0        10.0   \n",
              "139529  1.008934   1580.0  10168.0  31.0  ...         NaN         NaN   \n",
              "\n",
              "        ct_srv_dst ct_dst_ltm  ct_src_ ltm  ct_src_dport_ltm  \\\n",
              "0              7.0        1.0          3.0               1.0   \n",
              "1              4.0        2.0          3.0               1.0   \n",
              "2              8.0        1.0          2.0               2.0   \n",
              "3              9.0        1.0          1.0               1.0   \n",
              "4              9.0        1.0          1.0               1.0   \n",
              "...            ...        ...          ...               ...   \n",
              "139525        10.0        2.0          2.0               1.0   \n",
              "139526        11.0        5.0          3.0               1.0   \n",
              "139527         7.0        4.0          2.0               1.0   \n",
              "139528         9.0        1.0          6.0               1.0   \n",
              "139529         NaN        NaN          NaN               NaN   \n",
              "\n",
              "        ct_dst_sport_ltm  ct_dst_src_ltm  attack_cat  Label  \n",
              "0                    1.0             1.0      normal    0.0  \n",
              "1                    1.0             2.0      normal    0.0  \n",
              "2                    1.0             1.0      normal    0.0  \n",
              "3                    1.0             1.0      normal    0.0  \n",
              "4                    1.0             1.0      normal    0.0  \n",
              "...                  ...             ...         ...    ...  \n",
              "139525               1.0             2.0      normal    0.0  \n",
              "139526               1.0             3.0      normal    0.0  \n",
              "139527               1.0             1.0      normal    0.0  \n",
              "139528               1.0             1.0      normal    0.0  \n",
              "139529               NaN             NaN      normal    NaN  \n",
              "\n",
              "[139476 rows x 49 columns]"
            ],
            "text/html": [
              "\n",
              "  <div id=\"df-2c3b960a-8b89-4f1f-96e2-f46ff79f5cce\" class=\"colab-df-container\">\n",
              "    <div>\n",
              "<style scoped>\n",
              "    .dataframe tbody tr th:only-of-type {\n",
              "        vertical-align: middle;\n",
              "    }\n",
              "\n",
              "    .dataframe tbody tr th {\n",
              "        vertical-align: top;\n",
              "    }\n",
              "\n",
              "    .dataframe thead th {\n",
              "        text-align: right;\n",
              "    }\n",
              "</style>\n",
              "<table border=\"1\" class=\"dataframe\">\n",
              "  <thead>\n",
              "    <tr style=\"text-align: right;\">\n",
              "      <th></th>\n",
              "      <th>srcip</th>\n",
              "      <th>sport</th>\n",
              "      <th>dstip</th>\n",
              "      <th>dsport</th>\n",
              "      <th>proto</th>\n",
              "      <th>state</th>\n",
              "      <th>dur</th>\n",
              "      <th>sbytes</th>\n",
              "      <th>dbytes</th>\n",
              "      <th>sttl</th>\n",
              "      <th>...</th>\n",
              "      <th>ct_ftp_cmd</th>\n",
              "      <th>ct_srv_src</th>\n",
              "      <th>ct_srv_dst</th>\n",
              "      <th>ct_dst_ltm</th>\n",
              "      <th>ct_src_ ltm</th>\n",
              "      <th>ct_src_dport_ltm</th>\n",
              "      <th>ct_dst_sport_ltm</th>\n",
              "      <th>ct_dst_src_ltm</th>\n",
              "      <th>attack_cat</th>\n",
              "      <th>Label</th>\n",
              "    </tr>\n",
              "  </thead>\n",
              "  <tbody>\n",
              "    <tr>\n",
              "      <th>0</th>\n",
              "      <td>(0, 29)\\t1.0\\n  (0, 59)\\t1.0\\n  (1, 29)\\t1.0...</td>\n",
              "      <td>1390</td>\n",
              "      <td>(0, 29)\\t1.0\\n  (0, 59)\\t1.0\\n  (1, 29)\\t1.0...</td>\n",
              "      <td>53</td>\n",
              "      <td>udp</td>\n",
              "      <td>CON</td>\n",
              "      <td>0.001055</td>\n",
              "      <td>132.0</td>\n",
              "      <td>164.0</td>\n",
              "      <td>31.0</td>\n",
              "      <td>...</td>\n",
              "      <td>0.0</td>\n",
              "      <td>3.0</td>\n",
              "      <td>7.0</td>\n",
              "      <td>1.0</td>\n",
              "      <td>3.0</td>\n",
              "      <td>1.0</td>\n",
              "      <td>1.0</td>\n",
              "      <td>1.0</td>\n",
              "      <td>normal</td>\n",
              "      <td>0.0</td>\n",
              "    </tr>\n",
              "    <tr>\n",
              "      <th>1</th>\n",
              "      <td>(0, 29)\\t1.0\\n  (0, 59)\\t1.0\\n  (1, 29)\\t1.0...</td>\n",
              "      <td>33661</td>\n",
              "      <td>(0, 29)\\t1.0\\n  (0, 59)\\t1.0\\n  (1, 29)\\t1.0...</td>\n",
              "      <td>1024</td>\n",
              "      <td>udp</td>\n",
              "      <td>CON</td>\n",
              "      <td>0.036133</td>\n",
              "      <td>528.0</td>\n",
              "      <td>304.0</td>\n",
              "      <td>31.0</td>\n",
              "      <td>...</td>\n",
              "      <td>0.0</td>\n",
              "      <td>2.0</td>\n",
              "      <td>4.0</td>\n",
              "      <td>2.0</td>\n",
              "      <td>3.0</td>\n",
              "      <td>1.0</td>\n",
              "      <td>1.0</td>\n",
              "      <td>2.0</td>\n",
              "      <td>normal</td>\n",
              "      <td>0.0</td>\n",
              "    </tr>\n",
              "    <tr>\n",
              "      <th>2</th>\n",
              "      <td>(0, 29)\\t1.0\\n  (0, 59)\\t1.0\\n  (1, 29)\\t1.0...</td>\n",
              "      <td>1464</td>\n",
              "      <td>(0, 29)\\t1.0\\n  (0, 59)\\t1.0\\n  (1, 29)\\t1.0...</td>\n",
              "      <td>53</td>\n",
              "      <td>udp</td>\n",
              "      <td>CON</td>\n",
              "      <td>0.001119</td>\n",
              "      <td>146.0</td>\n",
              "      <td>178.0</td>\n",
              "      <td>31.0</td>\n",
              "      <td>...</td>\n",
              "      <td>0.0</td>\n",
              "      <td>12.0</td>\n",
              "      <td>8.0</td>\n",
              "      <td>1.0</td>\n",
              "      <td>2.0</td>\n",
              "      <td>2.0</td>\n",
              "      <td>1.0</td>\n",
              "      <td>1.0</td>\n",
              "      <td>normal</td>\n",
              "      <td>0.0</td>\n",
              "    </tr>\n",
              "    <tr>\n",
              "      <th>3</th>\n",
              "      <td>(0, 29)\\t1.0\\n  (0, 59)\\t1.0\\n  (1, 29)\\t1.0...</td>\n",
              "      <td>3593</td>\n",
              "      <td>(0, 29)\\t1.0\\n  (0, 59)\\t1.0\\n  (1, 29)\\t1.0...</td>\n",
              "      <td>53</td>\n",
              "      <td>udp</td>\n",
              "      <td>CON</td>\n",
              "      <td>0.001209</td>\n",
              "      <td>132.0</td>\n",
              "      <td>164.0</td>\n",
              "      <td>31.0</td>\n",
              "      <td>...</td>\n",
              "      <td>0.0</td>\n",
              "      <td>6.0</td>\n",
              "      <td>9.0</td>\n",
              "      <td>1.0</td>\n",
              "      <td>1.0</td>\n",
              "      <td>1.0</td>\n",
              "      <td>1.0</td>\n",
              "      <td>1.0</td>\n",
              "      <td>normal</td>\n",
              "      <td>0.0</td>\n",
              "    </tr>\n",
              "    <tr>\n",
              "      <th>4</th>\n",
              "      <td>(0, 29)\\t1.0\\n  (0, 59)\\t1.0\\n  (1, 29)\\t1.0...</td>\n",
              "      <td>49664</td>\n",
              "      <td>(0, 29)\\t1.0\\n  (0, 59)\\t1.0\\n  (1, 29)\\t1.0...</td>\n",
              "      <td>53</td>\n",
              "      <td>udp</td>\n",
              "      <td>CON</td>\n",
              "      <td>0.001169</td>\n",
              "      <td>146.0</td>\n",
              "      <td>178.0</td>\n",
              "      <td>31.0</td>\n",
              "      <td>...</td>\n",
              "      <td>0.0</td>\n",
              "      <td>7.0</td>\n",
              "      <td>9.0</td>\n",
              "      <td>1.0</td>\n",
              "      <td>1.0</td>\n",
              "      <td>1.0</td>\n",
              "      <td>1.0</td>\n",
              "      <td>1.0</td>\n",
              "      <td>normal</td>\n",
              "      <td>0.0</td>\n",
              "    </tr>\n",
              "    <tr>\n",
              "      <th>...</th>\n",
              "      <td>...</td>\n",
              "      <td>...</td>\n",
              "      <td>...</td>\n",
              "      <td>...</td>\n",
              "      <td>...</td>\n",
              "      <td>...</td>\n",
              "      <td>...</td>\n",
              "      <td>...</td>\n",
              "      <td>...</td>\n",
              "      <td>...</td>\n",
              "      <td>...</td>\n",
              "      <td>...</td>\n",
              "      <td>...</td>\n",
              "      <td>...</td>\n",
              "      <td>...</td>\n",
              "      <td>...</td>\n",
              "      <td>...</td>\n",
              "      <td>...</td>\n",
              "      <td>...</td>\n",
              "      <td>...</td>\n",
              "      <td>...</td>\n",
              "    </tr>\n",
              "    <tr>\n",
              "      <th>139525</th>\n",
              "      <td>(0, 29)\\t1.0\\n  (0, 59)\\t1.0\\n  (1, 29)\\t1.0...</td>\n",
              "      <td>52708</td>\n",
              "      <td>(0, 29)\\t1.0\\n  (0, 59)\\t1.0\\n  (1, 29)\\t1.0...</td>\n",
              "      <td>50651</td>\n",
              "      <td>tcp</td>\n",
              "      <td>FIN</td>\n",
              "      <td>0.020871</td>\n",
              "      <td>3390.0</td>\n",
              "      <td>41676.0</td>\n",
              "      <td>31.0</td>\n",
              "      <td>...</td>\n",
              "      <td>0.0</td>\n",
              "      <td>7.0</td>\n",
              "      <td>10.0</td>\n",
              "      <td>2.0</td>\n",
              "      <td>2.0</td>\n",
              "      <td>1.0</td>\n",
              "      <td>1.0</td>\n",
              "      <td>2.0</td>\n",
              "      <td>normal</td>\n",
              "      <td>0.0</td>\n",
              "    </tr>\n",
              "    <tr>\n",
              "      <th>139526</th>\n",
              "      <td>(0, 29)\\t1.0\\n  (0, 59)\\t1.0\\n  (1, 29)\\t1.0...</td>\n",
              "      <td>40084</td>\n",
              "      <td>(0, 29)\\t1.0\\n  (0, 59)\\t1.0\\n  (1, 29)\\t1.0...</td>\n",
              "      <td>22</td>\n",
              "      <td>tcp</td>\n",
              "      <td>FIN</td>\n",
              "      <td>0.126838</td>\n",
              "      <td>3728.0</td>\n",
              "      <td>5474.0</td>\n",
              "      <td>31.0</td>\n",
              "      <td>...</td>\n",
              "      <td>0.0</td>\n",
              "      <td>10.0</td>\n",
              "      <td>11.0</td>\n",
              "      <td>5.0</td>\n",
              "      <td>3.0</td>\n",
              "      <td>1.0</td>\n",
              "      <td>1.0</td>\n",
              "      <td>3.0</td>\n",
              "      <td>normal</td>\n",
              "      <td>0.0</td>\n",
              "    </tr>\n",
              "    <tr>\n",
              "      <th>139527</th>\n",
              "      <td>(0, 29)\\t1.0\\n  (0, 59)\\t1.0\\n  (1, 29)\\t1.0...</td>\n",
              "      <td>7663</td>\n",
              "      <td>(0, 29)\\t1.0\\n  (0, 59)\\t1.0\\n  (1, 29)\\t1.0...</td>\n",
              "      <td>22</td>\n",
              "      <td>tcp</td>\n",
              "      <td>FIN</td>\n",
              "      <td>0.094723</td>\n",
              "      <td>14512.0</td>\n",
              "      <td>17134.0</td>\n",
              "      <td>31.0</td>\n",
              "      <td>...</td>\n",
              "      <td>0.0</td>\n",
              "      <td>10.0</td>\n",
              "      <td>7.0</td>\n",
              "      <td>4.0</td>\n",
              "      <td>2.0</td>\n",
              "      <td>1.0</td>\n",
              "      <td>1.0</td>\n",
              "      <td>1.0</td>\n",
              "      <td>normal</td>\n",
              "      <td>0.0</td>\n",
              "    </tr>\n",
              "    <tr>\n",
              "      <th>139528</th>\n",
              "      <td>(0, 29)\\t1.0\\n  (0, 59)\\t1.0\\n  (1, 29)\\t1.0...</td>\n",
              "      <td>33662</td>\n",
              "      <td>(0, 29)\\t1.0\\n  (0, 59)\\t1.0\\n  (1, 29)\\t1.0...</td>\n",
              "      <td>31721</td>\n",
              "      <td>tcp</td>\n",
              "      <td>FIN</td>\n",
              "      <td>0.020988</td>\n",
              "      <td>3390.0</td>\n",
              "      <td>41676.0</td>\n",
              "      <td>31.0</td>\n",
              "      <td>...</td>\n",
              "      <td>0.0</td>\n",
              "      <td>10.0</td>\n",
              "      <td>9.0</td>\n",
              "      <td>1.0</td>\n",
              "      <td>6.0</td>\n",
              "      <td>1.0</td>\n",
              "      <td>1.0</td>\n",
              "      <td>1.0</td>\n",
              "      <td>normal</td>\n",
              "      <td>0.0</td>\n",
              "    </tr>\n",
              "    <tr>\n",
              "      <th>139529</th>\n",
              "      <td>(0, 29)\\t1.0\\n  (0, 59)\\t1.0\\n  (1, 29)\\t1.0...</td>\n",
              "      <td>62577</td>\n",
              "      <td>(0, 29)\\t1.0\\n  (0, 59)\\t1.0\\n  (1, 29)\\t1.0...</td>\n",
              "      <td>80</td>\n",
              "      <td>tcp</td>\n",
              "      <td>FIN</td>\n",
              "      <td>1.008934</td>\n",
              "      <td>1580.0</td>\n",
              "      <td>10168.0</td>\n",
              "      <td>31.0</td>\n",
              "      <td>...</td>\n",
              "      <td>NaN</td>\n",
              "      <td>NaN</td>\n",
              "      <td>NaN</td>\n",
              "      <td>NaN</td>\n",
              "      <td>NaN</td>\n",
              "      <td>NaN</td>\n",
              "      <td>NaN</td>\n",
              "      <td>NaN</td>\n",
              "      <td>normal</td>\n",
              "      <td>NaN</td>\n",
              "    </tr>\n",
              "  </tbody>\n",
              "</table>\n",
              "<p>139476 rows × 49 columns</p>\n",
              "</div>\n",
              "    <div class=\"colab-df-buttons\">\n",
              "\n",
              "  <div class=\"colab-df-container\">\n",
              "    <button class=\"colab-df-convert\" onclick=\"convertToInteractive('df-2c3b960a-8b89-4f1f-96e2-f46ff79f5cce')\"\n",
              "            title=\"Convert this dataframe to an interactive table.\"\n",
              "            style=\"display:none;\">\n",
              "\n",
              "  <svg xmlns=\"http://www.w3.org/2000/svg\" height=\"24px\" viewBox=\"0 -960 960 960\">\n",
              "    <path d=\"M120-120v-720h720v720H120Zm60-500h600v-160H180v160Zm220 220h160v-160H400v160Zm0 220h160v-160H400v160ZM180-400h160v-160H180v160Zm440 0h160v-160H620v160ZM180-180h160v-160H180v160Zm440 0h160v-160H620v160Z\"/>\n",
              "  </svg>\n",
              "    </button>\n",
              "\n",
              "  <style>\n",
              "    .colab-df-container {\n",
              "      display:flex;\n",
              "      gap: 12px;\n",
              "    }\n",
              "\n",
              "    .colab-df-convert {\n",
              "      background-color: #E8F0FE;\n",
              "      border: none;\n",
              "      border-radius: 50%;\n",
              "      cursor: pointer;\n",
              "      display: none;\n",
              "      fill: #1967D2;\n",
              "      height: 32px;\n",
              "      padding: 0 0 0 0;\n",
              "      width: 32px;\n",
              "    }\n",
              "\n",
              "    .colab-df-convert:hover {\n",
              "      background-color: #E2EBFA;\n",
              "      box-shadow: 0px 1px 2px rgba(60, 64, 67, 0.3), 0px 1px 3px 1px rgba(60, 64, 67, 0.15);\n",
              "      fill: #174EA6;\n",
              "    }\n",
              "\n",
              "    .colab-df-buttons div {\n",
              "      margin-bottom: 4px;\n",
              "    }\n",
              "\n",
              "    [theme=dark] .colab-df-convert {\n",
              "      background-color: #3B4455;\n",
              "      fill: #D2E3FC;\n",
              "    }\n",
              "\n",
              "    [theme=dark] .colab-df-convert:hover {\n",
              "      background-color: #434B5C;\n",
              "      box-shadow: 0px 1px 3px 1px rgba(0, 0, 0, 0.15);\n",
              "      filter: drop-shadow(0px 1px 2px rgba(0, 0, 0, 0.3));\n",
              "      fill: #FFFFFF;\n",
              "    }\n",
              "  </style>\n",
              "\n",
              "    <script>\n",
              "      const buttonEl =\n",
              "        document.querySelector('#df-2c3b960a-8b89-4f1f-96e2-f46ff79f5cce button.colab-df-convert');\n",
              "      buttonEl.style.display =\n",
              "        google.colab.kernel.accessAllowed ? 'block' : 'none';\n",
              "\n",
              "      async function convertToInteractive(key) {\n",
              "        const element = document.querySelector('#df-2c3b960a-8b89-4f1f-96e2-f46ff79f5cce');\n",
              "        const dataTable =\n",
              "          await google.colab.kernel.invokeFunction('convertToInteractive',\n",
              "                                                    [key], {});\n",
              "        if (!dataTable) return;\n",
              "\n",
              "        const docLinkHtml = 'Like what you see? Visit the ' +\n",
              "          '<a target=\"_blank\" href=https://colab.research.google.com/notebooks/data_table.ipynb>data table notebook</a>'\n",
              "          + ' to learn more about interactive tables.';\n",
              "        element.innerHTML = '';\n",
              "        dataTable['output_type'] = 'display_data';\n",
              "        await google.colab.output.renderOutput(dataTable, element);\n",
              "        const docLink = document.createElement('div');\n",
              "        docLink.innerHTML = docLinkHtml;\n",
              "        element.appendChild(docLink);\n",
              "      }\n",
              "    </script>\n",
              "  </div>\n",
              "\n",
              "\n",
              "<div id=\"df-15081aa2-28e7-4979-b7bf-88478b287df8\">\n",
              "  <button class=\"colab-df-quickchart\" onclick=\"quickchart('df-15081aa2-28e7-4979-b7bf-88478b287df8')\"\n",
              "            title=\"Suggest charts\"\n",
              "            style=\"display:none;\">\n",
              "\n",
              "<svg xmlns=\"http://www.w3.org/2000/svg\" height=\"24px\"viewBox=\"0 0 24 24\"\n",
              "     width=\"24px\">\n",
              "    <g>\n",
              "        <path d=\"M19 3H5c-1.1 0-2 .9-2 2v14c0 1.1.9 2 2 2h14c1.1 0 2-.9 2-2V5c0-1.1-.9-2-2-2zM9 17H7v-7h2v7zm4 0h-2V7h2v10zm4 0h-2v-4h2v4z\"/>\n",
              "    </g>\n",
              "</svg>\n",
              "  </button>\n",
              "\n",
              "<style>\n",
              "  .colab-df-quickchart {\n",
              "      --bg-color: #E8F0FE;\n",
              "      --fill-color: #1967D2;\n",
              "      --hover-bg-color: #E2EBFA;\n",
              "      --hover-fill-color: #174EA6;\n",
              "      --disabled-fill-color: #AAA;\n",
              "      --disabled-bg-color: #DDD;\n",
              "  }\n",
              "\n",
              "  [theme=dark] .colab-df-quickchart {\n",
              "      --bg-color: #3B4455;\n",
              "      --fill-color: #D2E3FC;\n",
              "      --hover-bg-color: #434B5C;\n",
              "      --hover-fill-color: #FFFFFF;\n",
              "      --disabled-bg-color: #3B4455;\n",
              "      --disabled-fill-color: #666;\n",
              "  }\n",
              "\n",
              "  .colab-df-quickchart {\n",
              "    background-color: var(--bg-color);\n",
              "    border: none;\n",
              "    border-radius: 50%;\n",
              "    cursor: pointer;\n",
              "    display: none;\n",
              "    fill: var(--fill-color);\n",
              "    height: 32px;\n",
              "    padding: 0;\n",
              "    width: 32px;\n",
              "  }\n",
              "\n",
              "  .colab-df-quickchart:hover {\n",
              "    background-color: var(--hover-bg-color);\n",
              "    box-shadow: 0 1px 2px rgba(60, 64, 67, 0.3), 0 1px 3px 1px rgba(60, 64, 67, 0.15);\n",
              "    fill: var(--button-hover-fill-color);\n",
              "  }\n",
              "\n",
              "  .colab-df-quickchart-complete:disabled,\n",
              "  .colab-df-quickchart-complete:disabled:hover {\n",
              "    background-color: var(--disabled-bg-color);\n",
              "    fill: var(--disabled-fill-color);\n",
              "    box-shadow: none;\n",
              "  }\n",
              "\n",
              "  .colab-df-spinner {\n",
              "    border: 2px solid var(--fill-color);\n",
              "    border-color: transparent;\n",
              "    border-bottom-color: var(--fill-color);\n",
              "    animation:\n",
              "      spin 1s steps(1) infinite;\n",
              "  }\n",
              "\n",
              "  @keyframes spin {\n",
              "    0% {\n",
              "      border-color: transparent;\n",
              "      border-bottom-color: var(--fill-color);\n",
              "      border-left-color: var(--fill-color);\n",
              "    }\n",
              "    20% {\n",
              "      border-color: transparent;\n",
              "      border-left-color: var(--fill-color);\n",
              "      border-top-color: var(--fill-color);\n",
              "    }\n",
              "    30% {\n",
              "      border-color: transparent;\n",
              "      border-left-color: var(--fill-color);\n",
              "      border-top-color: var(--fill-color);\n",
              "      border-right-color: var(--fill-color);\n",
              "    }\n",
              "    40% {\n",
              "      border-color: transparent;\n",
              "      border-right-color: var(--fill-color);\n",
              "      border-top-color: var(--fill-color);\n",
              "    }\n",
              "    60% {\n",
              "      border-color: transparent;\n",
              "      border-right-color: var(--fill-color);\n",
              "    }\n",
              "    80% {\n",
              "      border-color: transparent;\n",
              "      border-right-color: var(--fill-color);\n",
              "      border-bottom-color: var(--fill-color);\n",
              "    }\n",
              "    90% {\n",
              "      border-color: transparent;\n",
              "      border-bottom-color: var(--fill-color);\n",
              "    }\n",
              "  }\n",
              "</style>\n",
              "\n",
              "  <script>\n",
              "    async function quickchart(key) {\n",
              "      const quickchartButtonEl =\n",
              "        document.querySelector('#' + key + ' button');\n",
              "      quickchartButtonEl.disabled = true;  // To prevent multiple clicks.\n",
              "      quickchartButtonEl.classList.add('colab-df-spinner');\n",
              "      try {\n",
              "        const charts = await google.colab.kernel.invokeFunction(\n",
              "            'suggestCharts', [key], {});\n",
              "      } catch (error) {\n",
              "        console.error('Error during call to suggestCharts:', error);\n",
              "      }\n",
              "      quickchartButtonEl.classList.remove('colab-df-spinner');\n",
              "      quickchartButtonEl.classList.add('colab-df-quickchart-complete');\n",
              "    }\n",
              "    (() => {\n",
              "      let quickchartButtonEl =\n",
              "        document.querySelector('#df-15081aa2-28e7-4979-b7bf-88478b287df8 button');\n",
              "      quickchartButtonEl.style.display =\n",
              "        google.colab.kernel.accessAllowed ? 'block' : 'none';\n",
              "    })();\n",
              "  </script>\n",
              "</div>\n",
              "    </div>\n",
              "  </div>\n"
            ],
            "application/vnd.google.colaboratory.intrinsic+json": {
              "type": "dataframe",
              "variable_name": "merged_df_copy"
            }
          },
          "metadata": {},
          "execution_count": 214
        }
      ]
    },
    {
      "cell_type": "code",
      "source": [
        "merged_df_copy.columns"
      ],
      "metadata": {
        "colab": {
          "base_uri": "https://localhost:8080/"
        },
        "id": "m_oxwmNwxuNX",
        "outputId": "eb62fde3-5771-4420-8a63-e574b9d9dbf7"
      },
      "execution_count": null,
      "outputs": [
        {
          "output_type": "execute_result",
          "data": {
            "text/plain": [
              "Index(['srcip', 'sport', 'dstip', 'dsport', 'proto', 'state', 'dur', 'sbytes',\n",
              "       'dbytes', 'sttl', 'dttl', 'sloss', 'dloss', 'service', 'Sload', 'Dload',\n",
              "       'Spkts', 'Dpkts', 'swin', 'dwin', 'stcpb', 'dtcpb', 'smeansz',\n",
              "       'dmeansz', 'trans_depth', 'res_bdy_len', 'Sjit', 'Djit', 'Stime',\n",
              "       'Ltime', 'Sintpkt', 'Dintpkt', 'tcprtt', 'synack', 'ackdat',\n",
              "       'is_sm_ips_ports', 'ct_state_ttl', 'ct_flw_http_mthd', 'is_ftp_login',\n",
              "       'ct_ftp_cmd', 'ct_srv_src', 'ct_srv_dst', 'ct_dst_ltm', 'ct_src_ ltm',\n",
              "       'ct_src_dport_ltm', 'ct_dst_sport_ltm', 'ct_dst_src_ltm', 'attack_cat',\n",
              "       'Label'],\n",
              "      dtype='object')"
            ]
          },
          "metadata": {},
          "execution_count": 202
        }
      ]
    },
    {
      "cell_type": "code",
      "source": [
        "type(merged_df_copy.loc[:, ['srcip', 'dstip']])"
      ],
      "metadata": {
        "colab": {
          "base_uri": "https://localhost:8080/",
          "height": 203
        },
        "id": "jYwEqyn6xS8S",
        "outputId": "4bd0adc2-dfc0-4540-985b-289a11f9e650"
      },
      "execution_count": null,
      "outputs": [
        {
          "output_type": "execute_result",
          "data": {
            "text/plain": [
              "pandas.core.frame.DataFrame"
            ],
            "text/html": [
              "<div style=\"max-width:800px; border: 1px solid var(--colab-border-color);\"><style>\n",
              "      pre.function-repr-contents {\n",
              "        overflow-x: auto;\n",
              "        padding: 8px 12px;\n",
              "        max-height: 500px;\n",
              "      }\n",
              "\n",
              "      pre.function-repr-contents.function-repr-contents-collapsed {\n",
              "        cursor: pointer;\n",
              "        max-height: 100px;\n",
              "      }\n",
              "    </style>\n",
              "    <pre style=\"white-space: initial; background:\n",
              "         var(--colab-secondary-surface-color); padding: 8px 12px;\n",
              "         border-bottom: 1px solid var(--colab-border-color);\"><b>pandas.core.frame.DataFrame</b><br/>def __init__(data=None, index: Axes | None=None, columns: Axes | None=None, dtype: Dtype | None=None, copy: bool | None=None) -&gt; None</pre><pre class=\"function-repr-contents function-repr-contents-collapsed\" style=\"\"><a class=\"filepath\" style=\"display:none\" href=\"#\">/usr/local/lib/python3.10/dist-packages/pandas/core/frame.py</a>Two-dimensional, size-mutable, potentially heterogeneous tabular data.\n",
              "\n",
              "Data structure also contains labeled axes (rows and columns).\n",
              "Arithmetic operations align on both row and column labels. Can be\n",
              "thought of as a dict-like container for Series objects. The primary\n",
              "pandas data structure.\n",
              "\n",
              "Parameters\n",
              "----------\n",
              "data : ndarray (structured or homogeneous), Iterable, dict, or DataFrame\n",
              "    Dict can contain Series, arrays, constants, dataclass or list-like objects. If\n",
              "    data is a dict, column order follows insertion-order. If a dict contains Series\n",
              "    which have an index defined, it is aligned by its index. This alignment also\n",
              "    occurs if data is a Series or a DataFrame itself. Alignment is done on\n",
              "    Series/DataFrame inputs.\n",
              "\n",
              "    If data is a list of dicts, column order follows insertion-order.\n",
              "\n",
              "index : Index or array-like\n",
              "    Index to use for resulting frame. Will default to RangeIndex if\n",
              "    no indexing information part of input data and no index provided.\n",
              "columns : Index or array-like\n",
              "    Column labels to use for resulting frame when data does not have them,\n",
              "    defaulting to RangeIndex(0, 1, 2, ..., n). If data contains column labels,\n",
              "    will perform column selection instead.\n",
              "dtype : dtype, default None\n",
              "    Data type to force. Only a single dtype is allowed. If None, infer.\n",
              "copy : bool or None, default None\n",
              "    Copy data from inputs.\n",
              "    For dict data, the default of None behaves like ``copy=True``.  For DataFrame\n",
              "    or 2d ndarray input, the default of None behaves like ``copy=False``.\n",
              "    If data is a dict containing one or more Series (possibly of different dtypes),\n",
              "    ``copy=False`` will ensure that these inputs are not copied.\n",
              "\n",
              "    .. versionchanged:: 1.3.0\n",
              "\n",
              "See Also\n",
              "--------\n",
              "DataFrame.from_records : Constructor from tuples, also record arrays.\n",
              "DataFrame.from_dict : From dicts of Series, arrays, or dicts.\n",
              "read_csv : Read a comma-separated values (csv) file into DataFrame.\n",
              "read_table : Read general delimited file into DataFrame.\n",
              "read_clipboard : Read text from clipboard into DataFrame.\n",
              "\n",
              "Notes\n",
              "-----\n",
              "Please reference the :ref:`User Guide &lt;basics.dataframe&gt;` for more information.\n",
              "\n",
              "Examples\n",
              "--------\n",
              "Constructing DataFrame from a dictionary.\n",
              "\n",
              "&gt;&gt;&gt; d = {&#x27;col1&#x27;: [1, 2], &#x27;col2&#x27;: [3, 4]}\n",
              "&gt;&gt;&gt; df = pd.DataFrame(data=d)\n",
              "&gt;&gt;&gt; df\n",
              "   col1  col2\n",
              "0     1     3\n",
              "1     2     4\n",
              "\n",
              "Notice that the inferred dtype is int64.\n",
              "\n",
              "&gt;&gt;&gt; df.dtypes\n",
              "col1    int64\n",
              "col2    int64\n",
              "dtype: object\n",
              "\n",
              "To enforce a single dtype:\n",
              "\n",
              "&gt;&gt;&gt; df = pd.DataFrame(data=d, dtype=np.int8)\n",
              "&gt;&gt;&gt; df.dtypes\n",
              "col1    int8\n",
              "col2    int8\n",
              "dtype: object\n",
              "\n",
              "Constructing DataFrame from a dictionary including Series:\n",
              "\n",
              "&gt;&gt;&gt; d = {&#x27;col1&#x27;: [0, 1, 2, 3], &#x27;col2&#x27;: pd.Series([2, 3], index=[2, 3])}\n",
              "&gt;&gt;&gt; pd.DataFrame(data=d, index=[0, 1, 2, 3])\n",
              "   col1  col2\n",
              "0     0   NaN\n",
              "1     1   NaN\n",
              "2     2   2.0\n",
              "3     3   3.0\n",
              "\n",
              "Constructing DataFrame from numpy ndarray:\n",
              "\n",
              "&gt;&gt;&gt; df2 = pd.DataFrame(np.array([[1, 2, 3], [4, 5, 6], [7, 8, 9]]),\n",
              "...                    columns=[&#x27;a&#x27;, &#x27;b&#x27;, &#x27;c&#x27;])\n",
              "&gt;&gt;&gt; df2\n",
              "   a  b  c\n",
              "0  1  2  3\n",
              "1  4  5  6\n",
              "2  7  8  9\n",
              "\n",
              "Constructing DataFrame from a numpy ndarray that has labeled columns:\n",
              "\n",
              "&gt;&gt;&gt; data = np.array([(1, 2, 3), (4, 5, 6), (7, 8, 9)],\n",
              "...                 dtype=[(&quot;a&quot;, &quot;i4&quot;), (&quot;b&quot;, &quot;i4&quot;), (&quot;c&quot;, &quot;i4&quot;)])\n",
              "&gt;&gt;&gt; df3 = pd.DataFrame(data, columns=[&#x27;c&#x27;, &#x27;a&#x27;])\n",
              "...\n",
              "&gt;&gt;&gt; df3\n",
              "   c  a\n",
              "0  3  1\n",
              "1  6  4\n",
              "2  9  7\n",
              "\n",
              "Constructing DataFrame from dataclass:\n",
              "\n",
              "&gt;&gt;&gt; from dataclasses import make_dataclass\n",
              "&gt;&gt;&gt; Point = make_dataclass(&quot;Point&quot;, [(&quot;x&quot;, int), (&quot;y&quot;, int)])\n",
              "&gt;&gt;&gt; pd.DataFrame([Point(0, 0), Point(0, 3), Point(2, 3)])\n",
              "   x  y\n",
              "0  0  0\n",
              "1  0  3\n",
              "2  2  3\n",
              "\n",
              "Constructing DataFrame from Series/DataFrame:\n",
              "\n",
              "&gt;&gt;&gt; ser = pd.Series([1, 2, 3], index=[&quot;a&quot;, &quot;b&quot;, &quot;c&quot;])\n",
              "&gt;&gt;&gt; df = pd.DataFrame(data=ser, index=[&quot;a&quot;, &quot;c&quot;])\n",
              "&gt;&gt;&gt; df\n",
              "   0\n",
              "a  1\n",
              "c  3\n",
              "\n",
              "&gt;&gt;&gt; df1 = pd.DataFrame([1, 2, 3], index=[&quot;a&quot;, &quot;b&quot;, &quot;c&quot;], columns=[&quot;x&quot;])\n",
              "&gt;&gt;&gt; df2 = pd.DataFrame(data=df1, index=[&quot;a&quot;, &quot;c&quot;])\n",
              "&gt;&gt;&gt; df2\n",
              "   x\n",
              "a  1\n",
              "c  3</pre>\n",
              "      <script>\n",
              "      if (google.colab.kernel.accessAllowed && google.colab.files && google.colab.files.view) {\n",
              "        for (const element of document.querySelectorAll('.filepath')) {\n",
              "          element.style.display = 'block'\n",
              "          element.onclick = (event) => {\n",
              "            event.preventDefault();\n",
              "            event.stopPropagation();\n",
              "            google.colab.files.view(element.textContent, 490);\n",
              "          };\n",
              "        }\n",
              "      }\n",
              "      for (const element of document.querySelectorAll('.function-repr-contents')) {\n",
              "        element.onclick = (event) => {\n",
              "          event.preventDefault();\n",
              "          event.stopPropagation();\n",
              "          element.classList.toggle('function-repr-contents-collapsed');\n",
              "        };\n",
              "      }\n",
              "      </script>\n",
              "      </div>"
            ]
          },
          "metadata": {},
          "execution_count": 199
        }
      ]
    },
    {
      "cell_type": "code",
      "source": [
        "X[:, 0]"
      ],
      "metadata": {
        "colab": {
          "base_uri": "https://localhost:8080/"
        },
        "id": "ETJ-GbgKPvih",
        "outputId": "583d05ef-1292-4b6e-db19-5350683537b2"
      },
      "execution_count": null,
      "outputs": [
        {
          "output_type": "execute_result",
          "data": {
            "text/plain": [
              "array([0.0, 0.0, 0.0, ..., 0.0, 0.0, 0.0], dtype=object)"
            ]
          },
          "metadata": {},
          "execution_count": 158
        }
      ]
    },
    {
      "cell_type": "code",
      "source": [
        "from sklearn.model_selection import train_test_split\n",
        "X_train, X_test, y_train, y_test = train_test_split(X, y, test_size=0.35, random_state=1)"
      ],
      "metadata": {
        "id": "dFZ5vvGFPvfl"
      },
      "execution_count": null,
      "outputs": []
    },
    {
      "cell_type": "code",
      "source": [
        "X"
      ],
      "metadata": {
        "colab": {
          "base_uri": "https://localhost:8080/"
        },
        "id": "hlPFTL9BoBqM",
        "outputId": "c68230c9-4ee8-4bbb-bbc4-833c08678dc8"
      },
      "execution_count": null,
      "outputs": [
        {
          "output_type": "execute_result",
          "data": {
            "text/plain": [
              "array([[0.0, 0.0, 0.0, ..., 1.0, 9.0, 0.0],\n",
              "       [0.0, 0.0, 0.0, ..., 2.0, 9.0, 0.0],\n",
              "       [0.0, 0.0, 0.0, ..., 1.0, 9.0, 0.0],\n",
              "       ...,\n",
              "       [0.0, 0.0, 0.0, ..., 1.0, 9.0, 0.0],\n",
              "       [0.0, 0.0, 0.0, ..., 1.0, 9.0, 0.0],\n",
              "       [0.0, 0.0, 0.0, ..., nan, 9.0, nan]], dtype=object)"
            ]
          },
          "metadata": {},
          "execution_count": 163
        }
      ]
    },
    {
      "cell_type": "code",
      "source": [
        "y"
      ],
      "metadata": {
        "colab": {
          "base_uri": "https://localhost:8080/"
        },
        "id": "hYMdJoqEoDzH",
        "outputId": "3479399a-be43-43e3-8489-1fd01f862cea"
      },
      "execution_count": null,
      "outputs": [
        {
          "output_type": "execute_result",
          "data": {
            "text/plain": [
              "array([ 0.,  0.,  0., ...,  0.,  0., nan])"
            ]
          },
          "metadata": {},
          "execution_count": 164
        }
      ]
    },
    {
      "cell_type": "code",
      "source": [
        "X.shape"
      ],
      "metadata": {
        "colab": {
          "base_uri": "https://localhost:8080/"
        },
        "id": "DmR7PENToGOA",
        "outputId": "5cbfd1a2-9264-4d2f-b411-4c5c28f4e6e6"
      },
      "execution_count": null,
      "outputs": [
        {
          "output_type": "execute_result",
          "data": {
            "text/plain": [
              "(139476, 128)"
            ]
          },
          "metadata": {},
          "execution_count": 165
        }
      ]
    },
    {
      "cell_type": "code",
      "source": [
        "y.shape"
      ],
      "metadata": {
        "colab": {
          "base_uri": "https://localhost:8080/"
        },
        "id": "QRJ54RX3oII8",
        "outputId": "59d4da5b-5f58-490b-fe16-7caebf1028d0"
      },
      "execution_count": null,
      "outputs": [
        {
          "output_type": "execute_result",
          "data": {
            "text/plain": [
              "(139476,)"
            ]
          },
          "metadata": {},
          "execution_count": 166
        }
      ]
    },
    {
      "cell_type": "code",
      "source": [
        "X_frame = np.concatenate((X, y), axis=0)"
      ],
      "metadata": {
        "colab": {
          "base_uri": "https://localhost:8080/",
          "height": 158
        },
        "id": "1NDH-NKEpeHW",
        "outputId": "dbe11efa-77bc-4a54-a145-5da0ac2316cd"
      },
      "execution_count": null,
      "outputs": [
        {
          "output_type": "error",
          "ename": "ValueError",
          "evalue": "all the input arrays must have same number of dimensions, but the array at index 0 has 2 dimension(s) and the array at index 1 has 1 dimension(s)",
          "traceback": [
            "\u001b[0;31m---------------------------------------------------------------------------\u001b[0m",
            "\u001b[0;31mValueError\u001b[0m                                Traceback (most recent call last)",
            "\u001b[0;32m<ipython-input-176-843c473349cb>\u001b[0m in \u001b[0;36m<cell line: 1>\u001b[0;34m()\u001b[0m\n\u001b[0;32m----> 1\u001b[0;31m \u001b[0mX_frame\u001b[0m \u001b[0;34m=\u001b[0m \u001b[0mnp\u001b[0m\u001b[0;34m.\u001b[0m\u001b[0mconcatenate\u001b[0m\u001b[0;34m(\u001b[0m\u001b[0;34m(\u001b[0m\u001b[0mX\u001b[0m\u001b[0;34m,\u001b[0m \u001b[0my\u001b[0m\u001b[0;34m)\u001b[0m\u001b[0;34m,\u001b[0m \u001b[0maxis\u001b[0m\u001b[0;34m=\u001b[0m\u001b[0;36m0\u001b[0m\u001b[0;34m)\u001b[0m\u001b[0;34m\u001b[0m\u001b[0;34m\u001b[0m\u001b[0m\n\u001b[0m",
            "\u001b[0;31mValueError\u001b[0m: all the input arrays must have same number of dimensions, but the array at index 0 has 2 dimension(s) and the array at index 1 has 1 dimension(s)"
          ]
        }
      ]
    },
    {
      "cell_type": "code",
      "source": [
        "# Assuming X is a 2D array and y is a 1D array\n",
        "# Reshape y to a column vector to match the number of rows in X\n",
        "y_column_vector = y.reshape(-1, 1)\n",
        "\n",
        "# Concatenate X and y_column_vector along axis 1 (columns)\n",
        "X_frame = np.concatenate((X, y_column_vector), axis=1)\n"
      ],
      "metadata": {
        "id": "MckuqomTrC4B"
      },
      "execution_count": null,
      "outputs": []
    },
    {
      "cell_type": "code",
      "source": [
        "len(X.shape)"
      ],
      "metadata": {
        "colab": {
          "base_uri": "https://localhost:8080/"
        },
        "id": "rjhErdMrrFqL",
        "outputId": "8bbfb31e-b129-4813-8632-b4e0b756abfe"
      },
      "execution_count": null,
      "outputs": [
        {
          "output_type": "execute_result",
          "data": {
            "text/plain": [
              "2"
            ]
          },
          "metadata": {},
          "execution_count": 184
        }
      ]
    },
    {
      "cell_type": "code",
      "source": [
        "import pandas as pd\n",
        "\n",
        "# Assuming X_frame is a NumPy array and column_names is a list of column names\n",
        "df = pd.DataFrame(X_frame, columns=[\n",
        "    'srcip', 'sport', 'dstip', 'dsport', 'proto', 'state', 'dur', 'sbytes', 'dbytes',\n",
        "    'sttl', 'dttl', 'sloss', 'dloss', 'service', 'Sload', 'Dload', 'Spkts', 'Dpkts',\n",
        "    'swin', 'dwin', 'stcpb', 'dtcpb', 'smeansz', 'dmeansz', 'trans_depth', 'res_bdy_len',\n",
        "    'Sjit', 'Djit', 'Stime', 'Ltime', 'Sintpkt', 'Dintpkt', 'tcprtt', 'synack', 'ackdat',\n",
        "    'is_sm_ips_ports', 'ct_state_ttl', 'ct_flw_http_mthd', 'is_ftp_login', 'ct_ftp_cmd',\n",
        "    'ct_srv_src', 'ct_srv_dst', 'ct_dst_ltm', 'ct_src_ ltm', 'ct_src_dport_ltm',\n",
        "    'ct_dst_sport_ltm', 'ct_dst_src_ltm', 'attack_cat', 'Label'\n",
        "])\n"
      ],
      "metadata": {
        "colab": {
          "base_uri": "https://localhost:8080/",
          "height": 356
        },
        "id": "jO8qJbs3r5q_",
        "outputId": "c1efd103-aab5-402b-beb1-f8b3b015a093"
      },
      "execution_count": null,
      "outputs": [
        {
          "output_type": "error",
          "ename": "ValueError",
          "evalue": "Shape of passed values is (139476, 129), indices imply (139476, 49)",
          "traceback": [
            "\u001b[0;31m---------------------------------------------------------------------------\u001b[0m",
            "\u001b[0;31mValueError\u001b[0m                                Traceback (most recent call last)",
            "\u001b[0;32m<ipython-input-185-0d1fe4da60ff>\u001b[0m in \u001b[0;36m<cell line: 4>\u001b[0;34m()\u001b[0m\n\u001b[1;32m      2\u001b[0m \u001b[0;34m\u001b[0m\u001b[0m\n\u001b[1;32m      3\u001b[0m \u001b[0;31m# Assuming X_frame is a NumPy array and column_names is a list of column names\u001b[0m\u001b[0;34m\u001b[0m\u001b[0;34m\u001b[0m\u001b[0m\n\u001b[0;32m----> 4\u001b[0;31m df = pd.DataFrame(X_frame, columns=[\n\u001b[0m\u001b[1;32m      5\u001b[0m     \u001b[0;34m'srcip'\u001b[0m\u001b[0;34m,\u001b[0m \u001b[0;34m'sport'\u001b[0m\u001b[0;34m,\u001b[0m \u001b[0;34m'dstip'\u001b[0m\u001b[0;34m,\u001b[0m \u001b[0;34m'dsport'\u001b[0m\u001b[0;34m,\u001b[0m \u001b[0;34m'proto'\u001b[0m\u001b[0;34m,\u001b[0m \u001b[0;34m'state'\u001b[0m\u001b[0;34m,\u001b[0m \u001b[0;34m'dur'\u001b[0m\u001b[0;34m,\u001b[0m \u001b[0;34m'sbytes'\u001b[0m\u001b[0;34m,\u001b[0m \u001b[0;34m'dbytes'\u001b[0m\u001b[0;34m,\u001b[0m\u001b[0;34m\u001b[0m\u001b[0;34m\u001b[0m\u001b[0m\n\u001b[1;32m      6\u001b[0m     \u001b[0;34m'sttl'\u001b[0m\u001b[0;34m,\u001b[0m \u001b[0;34m'dttl'\u001b[0m\u001b[0;34m,\u001b[0m \u001b[0;34m'sloss'\u001b[0m\u001b[0;34m,\u001b[0m \u001b[0;34m'dloss'\u001b[0m\u001b[0;34m,\u001b[0m \u001b[0;34m'service'\u001b[0m\u001b[0;34m,\u001b[0m \u001b[0;34m'Sload'\u001b[0m\u001b[0;34m,\u001b[0m \u001b[0;34m'Dload'\u001b[0m\u001b[0;34m,\u001b[0m \u001b[0;34m'Spkts'\u001b[0m\u001b[0;34m,\u001b[0m \u001b[0;34m'Dpkts'\u001b[0m\u001b[0;34m,\u001b[0m\u001b[0;34m\u001b[0m\u001b[0;34m\u001b[0m\u001b[0m\n",
            "\u001b[0;32m/usr/local/lib/python3.10/dist-packages/pandas/core/frame.py\u001b[0m in \u001b[0;36m__init__\u001b[0;34m(self, data, index, columns, dtype, copy)\u001b[0m\n\u001b[1;32m    756\u001b[0m                 )\n\u001b[1;32m    757\u001b[0m             \u001b[0;32melse\u001b[0m\u001b[0;34m:\u001b[0m\u001b[0;34m\u001b[0m\u001b[0;34m\u001b[0m\u001b[0m\n\u001b[0;32m--> 758\u001b[0;31m                 mgr = ndarray_to_mgr(\n\u001b[0m\u001b[1;32m    759\u001b[0m                     \u001b[0mdata\u001b[0m\u001b[0;34m,\u001b[0m\u001b[0;34m\u001b[0m\u001b[0;34m\u001b[0m\u001b[0m\n\u001b[1;32m    760\u001b[0m                     \u001b[0mindex\u001b[0m\u001b[0;34m,\u001b[0m\u001b[0;34m\u001b[0m\u001b[0;34m\u001b[0m\u001b[0m\n",
            "\u001b[0;32m/usr/local/lib/python3.10/dist-packages/pandas/core/internals/construction.py\u001b[0m in \u001b[0;36mndarray_to_mgr\u001b[0;34m(values, index, columns, dtype, copy, typ)\u001b[0m\n\u001b[1;32m    335\u001b[0m     )\n\u001b[1;32m    336\u001b[0m \u001b[0;34m\u001b[0m\u001b[0m\n\u001b[0;32m--> 337\u001b[0;31m     \u001b[0m_check_values_indices_shape_match\u001b[0m\u001b[0;34m(\u001b[0m\u001b[0mvalues\u001b[0m\u001b[0;34m,\u001b[0m \u001b[0mindex\u001b[0m\u001b[0;34m,\u001b[0m \u001b[0mcolumns\u001b[0m\u001b[0;34m)\u001b[0m\u001b[0;34m\u001b[0m\u001b[0;34m\u001b[0m\u001b[0m\n\u001b[0m\u001b[1;32m    338\u001b[0m \u001b[0;34m\u001b[0m\u001b[0m\n\u001b[1;32m    339\u001b[0m     \u001b[0;32mif\u001b[0m \u001b[0mtyp\u001b[0m \u001b[0;34m==\u001b[0m \u001b[0;34m\"array\"\u001b[0m\u001b[0;34m:\u001b[0m\u001b[0;34m\u001b[0m\u001b[0;34m\u001b[0m\u001b[0m\n",
            "\u001b[0;32m/usr/local/lib/python3.10/dist-packages/pandas/core/internals/construction.py\u001b[0m in \u001b[0;36m_check_values_indices_shape_match\u001b[0;34m(values, index, columns)\u001b[0m\n\u001b[1;32m    406\u001b[0m         \u001b[0mpassed\u001b[0m \u001b[0;34m=\u001b[0m \u001b[0mvalues\u001b[0m\u001b[0;34m.\u001b[0m\u001b[0mshape\u001b[0m\u001b[0;34m\u001b[0m\u001b[0;34m\u001b[0m\u001b[0m\n\u001b[1;32m    407\u001b[0m         \u001b[0mimplied\u001b[0m \u001b[0;34m=\u001b[0m \u001b[0;34m(\u001b[0m\u001b[0mlen\u001b[0m\u001b[0;34m(\u001b[0m\u001b[0mindex\u001b[0m\u001b[0;34m)\u001b[0m\u001b[0;34m,\u001b[0m \u001b[0mlen\u001b[0m\u001b[0;34m(\u001b[0m\u001b[0mcolumns\u001b[0m\u001b[0;34m)\u001b[0m\u001b[0;34m)\u001b[0m\u001b[0;34m\u001b[0m\u001b[0;34m\u001b[0m\u001b[0m\n\u001b[0;32m--> 408\u001b[0;31m         \u001b[0;32mraise\u001b[0m \u001b[0mValueError\u001b[0m\u001b[0;34m(\u001b[0m\u001b[0;34mf\"Shape of passed values is {passed}, indices imply {implied}\"\u001b[0m\u001b[0;34m)\u001b[0m\u001b[0;34m\u001b[0m\u001b[0;34m\u001b[0m\u001b[0m\n\u001b[0m\u001b[1;32m    409\u001b[0m \u001b[0;34m\u001b[0m\u001b[0m\n\u001b[1;32m    410\u001b[0m \u001b[0;34m\u001b[0m\u001b[0m\n",
            "\u001b[0;31mValueError\u001b[0m: Shape of passed values is (139476, 129), indices imply (139476, 49)"
          ]
        }
      ]
    },
    {
      "cell_type": "code",
      "source": [
        "import pandas as pd\n",
        "\n",
        "# Assuming X_frame is a NumPy array\n",
        "df = pd.DataFrame(X_frame)\n",
        "\n",
        "# You might also want to set column names for the DataFrame\n",
        "# Assuming column_names is a list of column names for X_frame\n",
        "df.columns = column_names\n"
      ],
      "metadata": {
        "colab": {
          "base_uri": "https://localhost:8080/",
          "height": 176
        },
        "id": "uyO8DCnrrPqN",
        "outputId": "fa7972af-d3bb-4991-e6ed-ceffc0381084"
      },
      "execution_count": null,
      "outputs": [
        {
          "output_type": "error",
          "ename": "NameError",
          "evalue": "name 'column_names' is not defined",
          "traceback": [
            "\u001b[0;31m---------------------------------------------------------------------------\u001b[0m",
            "\u001b[0;31mNameError\u001b[0m                                 Traceback (most recent call last)",
            "\u001b[0;32m<ipython-input-179-2be754ff581b>\u001b[0m in \u001b[0;36m<cell line: 8>\u001b[0;34m()\u001b[0m\n\u001b[1;32m      6\u001b[0m \u001b[0;31m# You might also want to set column names for the DataFrame\u001b[0m\u001b[0;34m\u001b[0m\u001b[0;34m\u001b[0m\u001b[0m\n\u001b[1;32m      7\u001b[0m \u001b[0;31m# Assuming column_names is a list of column names for X_frame\u001b[0m\u001b[0;34m\u001b[0m\u001b[0;34m\u001b[0m\u001b[0m\n\u001b[0;32m----> 8\u001b[0;31m \u001b[0mdf\u001b[0m\u001b[0;34m.\u001b[0m\u001b[0mcolumns\u001b[0m \u001b[0;34m=\u001b[0m \u001b[0mcolumn_names\u001b[0m\u001b[0;34m\u001b[0m\u001b[0;34m\u001b[0m\u001b[0m\n\u001b[0m",
            "\u001b[0;31mNameError\u001b[0m: name 'column_names' is not defined"
          ]
        }
      ]
    },
    {
      "cell_type": "code",
      "source": [
        "X_frame.columns"
      ],
      "metadata": {
        "colab": {
          "base_uri": "https://localhost:8080/"
        },
        "id": "H_aRaTaVppoD",
        "outputId": "0a723a62-9525-40dd-cb2c-cab7919e22f4"
      },
      "execution_count": null,
      "outputs": [
        {
          "output_type": "execute_result",
          "data": {
            "text/plain": [
              "RangeIndex(start=0, stop=128, step=1)"
            ]
          },
          "metadata": {},
          "execution_count": 174
        }
      ]
    },
    {
      "cell_type": "code",
      "source": [
        "merged_x_y = pd.DataFrame({\n",
        "    'X': X,\n",
        "    'y': y,}, columns=[X.columns])"
      ],
      "metadata": {
        "colab": {
          "base_uri": "https://localhost:8080/",
          "height": 158
        },
        "id": "doR2WXoZPvcU",
        "outputId": "bb7c930c-7011-49cb-c280-a8e14bd755b7"
      },
      "execution_count": null,
      "outputs": [
        {
          "output_type": "error",
          "ename": "ValueError",
          "evalue": "all the input arrays must have same number of dimensions, but the array at index 0 has 2 dimension(s) and the array at index 1 has 1 dimension(s)",
          "traceback": [
            "\u001b[0;31m---------------------------------------------------------------------------\u001b[0m",
            "\u001b[0;31mValueError\u001b[0m                                Traceback (most recent call last)",
            "\u001b[0;32m<ipython-input-171-9be8d163ba1b>\u001b[0m in \u001b[0;36m<cell line: 1>\u001b[0;34m()\u001b[0m\n\u001b[0;32m----> 1\u001b[0;31m \u001b[0mmerged_x_y\u001b[0m \u001b[0;34m=\u001b[0m \u001b[0mnp\u001b[0m\u001b[0;34m.\u001b[0m\u001b[0mconcatenate\u001b[0m\u001b[0;34m(\u001b[0m\u001b[0;34m[\u001b[0m\u001b[0mX\u001b[0m\u001b[0;34m.\u001b[0m\u001b[0mT\u001b[0m\u001b[0;34m,\u001b[0m \u001b[0my\u001b[0m\u001b[0;34m]\u001b[0m\u001b[0;34m,\u001b[0m \u001b[0maxis\u001b[0m\u001b[0;34m=\u001b[0m\u001b[0;36m1\u001b[0m\u001b[0;34m)\u001b[0m\u001b[0;34m\u001b[0m\u001b[0;34m\u001b[0m\u001b[0m\n\u001b[0m",
            "\u001b[0;31mValueError\u001b[0m: all the input arrays must have same number of dimensions, but the array at index 0 has 2 dimension(s) and the array at index 1 has 1 dimension(s)"
          ]
        }
      ]
    },
    {
      "cell_type": "code",
      "source": [
        "merged_x_y"
      ],
      "metadata": {
        "colab": {
          "base_uri": "https://localhost:8080/"
        },
        "id": "7lyiAFNUoYf4",
        "outputId": "be43316b-c682-4436-fbc7-518cfa9b4dd5"
      },
      "execution_count": null,
      "outputs": [
        {
          "output_type": "execute_result",
          "data": {
            "text/plain": [
              "array([0.0, 0.0, 0.0, ..., 0.0, 0.0, nan], dtype=object)"
            ]
          },
          "metadata": {},
          "execution_count": 168
        }
      ]
    },
    {
      "cell_type": "code",
      "source": [
        "# Assuming 'data' is your DataFrame containing the 'attack_cat' column\n",
        "\n",
        "# Get the summary count of each unique value in the 'attack_cat' column\n",
        "attack_cat_counts = data['attack_cat'].value_counts()\n",
        "\n",
        "# Print the summary count\n",
        "print(\"Summary count of each unique value in the 'attack_cat' column:\")\n",
        "print(attack_cat_counts)\n"
      ],
      "metadata": {
        "id": "sO8c51LwNvmC"
      },
      "execution_count": null,
      "outputs": []
    },
    {
      "cell_type": "code",
      "source": [
        "len(data.columns)"
      ],
      "metadata": {
        "id": "Onv7y74xsZTw"
      },
      "execution_count": null,
      "outputs": []
    },
    {
      "cell_type": "code",
      "source": [
        "# Iterate through each column in the DataFrame\n",
        "for column in data.columns:\n",
        "    # Check if the data type of the column is 'object'\n",
        "    if data[column].dtype == 'object':\n",
        "        print(f\"Column '{column}' contains uncoded categorical data.\")\n"
      ],
      "metadata": {
        "id": "TGAnhnwtrtdD"
      },
      "execution_count": null,
      "outputs": []
    },
    {
      "cell_type": "code",
      "source": [
        "# Assuming 'data' is your DataFrame containing the 'dsport column\n",
        "\n",
        "# Get the summary count of each unique value in the 'dsport' column\n",
        "desport_counts = data['dsport'].value_counts()\n",
        "\n",
        "# Print the summary count\n",
        "print(\"Summary count of each unique value in the 'dsport' column:\")\n",
        "print(desport_counts)"
      ],
      "metadata": {
        "id": "TsLNLtcmPw4F"
      },
      "execution_count": null,
      "outputs": []
    },
    {
      "cell_type": "code",
      "source": [
        "# Check the data type of the 'dsport' column\n",
        "print(\"Data type of 'dsport' column:\", data['dsport'].dtype)\n"
      ],
      "metadata": {
        "id": "V8wIsBZHQVXl"
      },
      "execution_count": null,
      "outputs": []
    },
    {
      "cell_type": "code",
      "source": [
        "# Check the data types of all columns in the DataFrame\n",
        "print(\"Data types of all columns:\")\n",
        "print(data.info())\n"
      ],
      "metadata": {
        "id": "NiFir4dIQ5ff"
      },
      "execution_count": null,
      "outputs": []
    },
    {
      "cell_type": "code",
      "source": [
        "# Convert 'dsport' column to numeric data type\n",
        "data['dsport'] = pd.to_numeric(data['dsport'], errors='coerce')\n",
        "\n",
        "# Check the data type of the 'dsport' column after conversion\n",
        "print(\"Data type of 'dsport' column after conversion:\", data['dsport'].dtype)\n"
      ],
      "metadata": {
        "id": "7FG8C7pORTvh"
      },
      "execution_count": null,
      "outputs": []
    },
    {
      "cell_type": "code",
      "source": [
        "# Iterate through each column in the DataFrame\n",
        "for column in data.columns:\n",
        "    # Check if the data type of the column is 'object'\n",
        "    if data[column].dtype == 'object':\n",
        "        print(f\"Column '{column}' contains uncoded categorical data.\")\n"
      ],
      "metadata": {
        "id": "DsjaqprbRri0"
      },
      "execution_count": null,
      "outputs": []
    },
    {
      "cell_type": "code",
      "source": [
        "# double checking for columns or possibilities of the presence of NaN or blank/empty cells\n",
        "\n",
        "# Iterate through each column in the DataFrame\n",
        "for column in data.columns:\n",
        "    # Check for NaN values in the column\n",
        "    if data[column].isnull().any():\n",
        "        print(f\"Column '{column}' contains NaN values.\")\n",
        "\n",
        "    # Check for empty cells (blanks) in the column\n",
        "    if (data[column] == '').any():\n",
        "        print(f\"Column '{column}' contains empty cells.\")\n"
      ],
      "metadata": {
        "id": "PZzOpT1zSNNe"
      },
      "execution_count": null,
      "outputs": []
    },
    {
      "cell_type": "code",
      "source": [
        "# Find the indices of NaN values in the 'dsport' column\n",
        "nan_indices = data[data['dsport'].isnull()].index\n",
        "\n",
        "# Count the occurrences of NaN values in the 'dsport' column\n",
        "nan_count = data['dsport'].isnull().sum()\n",
        "\n",
        "# Print the location and count of NaN values\n",
        "print(\"Indices of NaN values in the 'dsport' column:\", nan_indices)\n",
        "\n"
      ],
      "metadata": {
        "id": "S01Qj0NJSixE"
      },
      "execution_count": null,
      "outputs": []
    },
    {
      "cell_type": "code",
      "source": [
        "print(\"Number of NaN values in the 'dsport' column:\", nan_count)"
      ],
      "metadata": {
        "id": "xF-iR7C_SiuK"
      },
      "execution_count": null,
      "outputs": []
    },
    {
      "cell_type": "code",
      "source": [
        "# Drop rows where 'dsport' column contains NaN values\n",
        "data.dropna(subset=['dsport'], inplace=True)\n"
      ],
      "metadata": {
        "id": "v_kZ6MfgUt3f"
      },
      "execution_count": null,
      "outputs": []
    },
    {
      "cell_type": "code",
      "source": [
        "# Find the indices of NaN values in the 'dsport' column\n",
        "nan_indices = data[data['dsport'].isnull()].index\n",
        "\n",
        "# Count the occurrences of NaN values in the 'dsport' column\n",
        "nan_count = data['dsport'].isnull().sum()\n",
        "\n",
        "# Print the location and count of NaN values\n",
        "print(\"Indices of NaN values in the 'dsport' column:\", nan_indices)\n",
        "\n"
      ],
      "metadata": {
        "id": "RSzNiZikU3-M"
      },
      "execution_count": null,
      "outputs": []
    },
    {
      "cell_type": "code",
      "source": [
        "print(\"Number of NaN values in the 'dsport' column:\", nan_count)"
      ],
      "metadata": {
        "id": "e0D9J7dyU-KT"
      },
      "execution_count": null,
      "outputs": []
    },
    {
      "cell_type": "code",
      "source": [
        "print(data.head)"
      ],
      "metadata": {
        "id": "4Ta1sFPVVAoL"
      },
      "execution_count": null,
      "outputs": []
    },
    {
      "cell_type": "code",
      "source": [
        "# Check for NaN values in the entire DataFrame\n",
        "nan_rows = data.isnull().any(axis=1)\n",
        "\n",
        "# Count the number of rows with NaN values\n",
        "nan_count_total = nan_rows.sum()\n",
        "\n",
        "# Print the count of rows with NaN values\n",
        "print(\"Number of rows with NaN values:\", nan_count_total)\n"
      ],
      "metadata": {
        "id": "BDIys6UhVZs7"
      },
      "execution_count": null,
      "outputs": []
    },
    {
      "cell_type": "code",
      "source": [
        "len((data.columns))"
      ],
      "metadata": {
        "id": "gGkO6uAAVcDt"
      },
      "execution_count": null,
      "outputs": []
    },
    {
      "cell_type": "code",
      "source": [],
      "metadata": {
        "id": "m18GoVrRJN3-"
      },
      "execution_count": null,
      "outputs": []
    },
    {
      "cell_type": "code",
      "source": [],
      "metadata": {
        "id": "_dgVek0pJN1W"
      },
      "execution_count": null,
      "outputs": []
    },
    {
      "cell_type": "code",
      "source": [
        "import pandas as pd\n",
        "import numpy as np\n",
        "\n",
        "# Create a sample DataFrame\n",
        "np.random.seed(0)  # for reproducibility\n",
        "data = {\n",
        "    'ab': np.random.rand(100),\n",
        "    'ac': np.random.choice(['A', 'B', 'C'], size=100),\n",
        "    'ad': np.random.rand(100),\n",
        "    'ae': np.random.rand(100),\n",
        "    'af': np.random.rand(100),\n",
        "    'au': np.random.choice(['X', 'Y', 'Z'], size=100)\n",
        "}\n",
        "df = pd.DataFrame(data)\n",
        "\n",
        "# Display the sample DataFrame\n",
        "print(df.head())\n"
      ],
      "metadata": {
        "colab": {
          "base_uri": "https://localhost:8080/"
        },
        "id": "6FjE93fFJNyG",
        "outputId": "bf8ebe6e-f549-4dfa-a0f7-5bda500683d9"
      },
      "execution_count": null,
      "outputs": [
        {
          "output_type": "stream",
          "name": "stdout",
          "text": [
            "         ab ac        ad        ae        af au\n",
            "0  0.548814  B  0.489549  0.787542  0.580197  Z\n",
            "1  0.715189  C  0.338985  0.606475  0.716244  Y\n",
            "2  0.602763  C  0.179490  0.218403  0.027069  Z\n",
            "3  0.544883  C  0.170987  0.455169  0.731397  Y\n",
            "4  0.423655  B  0.463451  0.878870  0.766964  Z\n"
          ]
        }
      ]
    },
    {
      "cell_type": "code",
      "source": [
        "df['ac'].unique()"
      ],
      "metadata": {
        "colab": {
          "base_uri": "https://localhost:8080/"
        },
        "id": "vJfktRJIJNnN",
        "outputId": "280842ef-72df-482b-bb86-41bfb7720cdf"
      },
      "execution_count": null,
      "outputs": [
        {
          "output_type": "execute_result",
          "data": {
            "text/plain": [
              "array(['B', 'C', 'A'], dtype=object)"
            ]
          },
          "metadata": {},
          "execution_count": 245
        }
      ]
    }
  ],
  "metadata": {
    "accelerator": "GPU",
    "colab": {
      "gpuType": "V100",
      "provenance": [],
      "machine_shape": "hm",
      "include_colab_link": true
    },
    "kernelspec": {
      "display_name": "Python 3",
      "name": "python3"
    },
    "language_info": {
      "name": "python"
    }
  },
  "nbformat": 4,
  "nbformat_minor": 0
}